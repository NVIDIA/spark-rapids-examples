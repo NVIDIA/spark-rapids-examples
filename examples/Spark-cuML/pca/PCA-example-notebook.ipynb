{
 "cells": [
  {
   "cell_type": "code",
   "execution_count": 1,
   "id": "b995b134",
   "metadata": {},
   "outputs": [],
   "source": [
    "import org.apache.spark.ml.linalg._\n",
    "import org.apache.spark.sql.functions._"
   ]
  },
  {
   "cell_type": "markdown",
   "id": "c761cbdd",
   "metadata": {},
   "source": [
    "### Generate dummy data"
   ]
  },
  {
   "cell_type": "code",
   "execution_count": 2,
   "id": "305ae7e0",
   "metadata": {},
   "outputs": [
    {
     "data": {
      "text/plain": [
       "dim = 2048\n",
       "rows = 1000\n",
       "r = scala.util.Random@49299a38\n"
      ]
     },
     "metadata": {},
     "output_type": "display_data"
    },
    {
     "data": {
      "text/plain": [
       "scala.util.Random@49299a38"
      ]
     },
     "execution_count": 2,
     "metadata": {},
     "output_type": "execute_result"
    }
   ],
   "source": [
    "val dim = 2048\n",
    "val rows = 1000\n",
    "val r = new scala.util.Random(0)"
   ]
  },
  {
   "cell_type": "code",
   "execution_count": 3,
   "id": "15cec312",
   "metadata": {},
   "outputs": [
    {
     "data": {
      "text/plain": [
       "Waiting for a Spark session to start..."
      ]
     },
     "metadata": {},
     "output_type": "display_data"
    },
    {
     "data": {
      "text/plain": [
       "dataDf = [feature: array<double>]\n"
      ]
     },
     "metadata": {},
     "output_type": "display_data"
    },
    {
     "data": {
      "text/plain": [
       "[feature: array<double>]"
      ]
     },
     "execution_count": 3,
     "metadata": {},
     "output_type": "execute_result"
    }
   ],
   "source": [
    "val dataDf = spark.createDataFrame(\n",
    "  (0 until rows).map(_ => Tuple1(List.fill(dim)(r.nextDouble)))).withColumnRenamed(\"_1\", \"feature\")"
   ]
  },
  {
   "cell_type": "markdown",
   "id": "71c3aa00",
   "metadata": {},
   "source": [
    "### Convert array content to Vector to fit Spark ML requirement "
   ]
  },
  {
   "cell_type": "code",
   "execution_count": 4,
   "id": "eeeb3cf8",
   "metadata": {},
   "outputs": [
    {
     "data": {
      "text/plain": [
       "convertToVector = SparkUserDefinedFunction($Lambda$3007/784907921@5cc35775,org.apache.spark.ml.linalg.VectorUDT@3bfc3ba7,List(Some(class[value[0]: array<double>])),None,true,true)\n"
      ]
     },
     "metadata": {},
     "output_type": "display_data"
    },
    {
     "data": {
      "text/plain": [
       "SparkUserDefinedFunction($Lambda$3007/784907921@5cc35775,org.apache.spark.ml.linalg.VectorUDT@3bfc3ba7,List(Some(class[value[0]: array<double>])),None,true,true)"
      ]
     },
     "execution_count": 4,
     "metadata": {},
     "output_type": "execute_result"
    }
   ],
   "source": [
    "val convertToVector = udf((array: Seq[Double]) => {\n",
    "  Vectors.dense(array.map(_.toDouble).toArray)\n",
    "})"
   ]
  },
  {
   "cell_type": "code",
   "execution_count": 5,
   "id": "babee644",
   "metadata": {},
   "outputs": [
    {
     "data": {
      "text/plain": [
       "vectorDf = [feature: array<double>, feature_vec: vector]\n"
      ]
     },
     "metadata": {},
     "output_type": "display_data"
    },
    {
     "data": {
      "text/plain": [
       "[feature: array<double>, feature_vec: vector]"
      ]
     },
     "execution_count": 5,
     "metadata": {},
     "output_type": "execute_result"
    }
   ],
   "source": [
    "val vectorDf = dataDf.withColumn(\"feature_vec\", convertToVector(col(\"feature\")))"
   ]
  },
  {
   "cell_type": "markdown",
   "id": "07fdba23",
   "metadata": {},
   "source": [
    "### Use Spark RAPIDS accelerated PCA\n",
    "\n",
    "Comparing to the original PCA training API:\n",
    "\n",
    "```scala\n",
    "val pca = new org.apache.spark.ml.feature.PCA()\n",
    "  .setInputCol(\"feature\")\n",
    "  .setOutputCol(\"feature_value_3d\")\n",
    "  .setK(3)\n",
    "  .fit(vectorDf)\n",
    "```\n",
    "\n",
    "We used a customized class and user will need to do `no code change` to enjoy the GPU acceleration:\n",
    "\n",
    "```scala\n",
    "val pca = new com.nvidia.spark.ml.feature.PCA()\n",
    "...\n",
    "```\n",
    "\n",
    "Besides, we provide some switch APIs to allow users to highly customize their training process:\n",
    "\n",
    "```scala\n",
    "  .useGemm(true) // or false, default: true. Switch to use original BLAS bsr or cuBLAS gemm to compute covariance matrix\n",
    "  .useCuSolverSVD(true) // or false, default: true. Switch to use original LAPack solver or cuSolver to compute SVD\n",
    "  .meanCentering(true) // or false, default: true. Wwitch to do mean centering or not before computing covariance matrix\n",
    "```\n"
   ]
  },
  {
   "cell_type": "code",
   "execution_count": 6,
   "id": "b6e27655",
   "metadata": {},
   "outputs": [
    {
     "data": {
      "text/plain": [
       "pcaGpu = pca_df61aecb5cd7\n"
      ]
     },
     "metadata": {},
     "output_type": "display_data"
    },
    {
     "data": {
      "text/plain": [
       "pca_df61aecb5cd7"
      ]
     },
     "execution_count": 6,
     "metadata": {},
     "output_type": "execute_result"
    }
   ],
   "source": [
    "val pcaGpu = new com.nvidia.spark.ml.feature.PCA().setInputCol(\"feature_vec\").setOutputCol(\"pca_features\").setK(3).setTransformInputCol(\"feature\")"
   ]
  },
  {
   "cell_type": "code",
   "execution_count": 7,
   "id": "eb39f2bb",
   "metadata": {},
   "outputs": [
    {
     "data": {
      "text/plain": [
       "pcaModelGpu = PCAModel: uid=pca_df61aecb5cd7, k=3\n"
      ]
     },
     "metadata": {},
     "output_type": "display_data"
    },
    {
     "name": "stdout",
     "output_type": "stream",
     "text": [
      "Time taken: 7693 ms\n"
     ]
    },
    {
     "data": {
      "text/plain": [
       "PCAModel: uid=pca_df61aecb5cd7, k=3"
      ]
     },
     "execution_count": 7,
     "metadata": {},
     "output_type": "execute_result"
    }
   ],
   "source": [
    "val pcaModelGpu = spark.time(pcaGpu.fit(vectorDf))"
   ]
  },
  {
   "cell_type": "markdown",
   "id": "71218c65",
   "metadata": {},
   "source": [
    "### Note, only training part is accelerated"
   ]
  },
  {
   "cell_type": "code",
   "execution_count": 8,
   "id": "ad81ef62",
   "metadata": {},
   "outputs": [
    {
     "name": "stdout",
     "output_type": "stream",
     "text": [
      "+----------------------------------------------------------------+\n",
      "|pca_features                                                    |\n",
      "+----------------------------------------------------------------+\n",
      "|[0.1571780693548623, -0.23187006467064833, -0.46167188675884646]|\n",
      "|[0.7158627282461565, 0.13153153200956821, -0.4442953928398168]  |\n",
      "|[-1.4731837213812808, 1.0180010259859054, -1.0826638289743056]  |\n",
      "|[-0.7029891385777162, 1.3338918673605578, 0.3923829953456968]   |\n",
      "|[0.20143689500692416, -0.8703548818323712, -0.2432277880072864] |\n",
      "|[0.2754334513628796, 1.33463187048047, -0.4688778170587651]     |\n",
      "|[-0.28874653644571857, 1.6028036414967264, -0.6746504395378097] |\n",
      "|[0.5316489767411673, -0.41619420672435353, 0.37249197134194695] |\n",
      "|[0.006169260868807792, 0.2930315481196259, -0.25062686448625626]|\n",
      "|[0.8957069993141488, -0.0659297400345417, -1.1845525664838452]  |\n",
      "|[-0.25225280829647395, 1.3056536989607161, -0.5279936240446955] |\n",
      "|[0.7076658917620148, 0.9454529189449887, -1.0475310703805158]   |\n",
      "|[0.09759584670277846, 0.09834802339843272, 0.20043376345508443] |\n",
      "|[0.9345230228726426, 0.9140200891188777, -0.5639835352804637]   |\n",
      "|[-0.4992775877185121, 0.18578805569919746, -0.587480213029602]  |\n",
      "|[0.86684101612803, -0.352771860807963, 0.2348459931215971]      |\n",
      "|[-0.2883936417406986, 0.8913857162958366, -0.9559738987749198]  |\n",
      "|[0.00406113510973717, 1.1140514293248025, -0.24875752286949251] |\n",
      "|[0.8153217461825999, 0.6025612670522881, -0.3516621505183684]   |\n",
      "|[0.979093877124785, -0.6245775262304066, -0.6587767227343471]   |\n",
      "+----------------------------------------------------------------+\n",
      "only showing top 20 rows\n",
      "\n"
     ]
    }
   ],
   "source": [
    "pcaModelGpu.transform(vectorDf).select(\"pca_features\").show(false)"
   ]
  },
  {
   "cell_type": "markdown",
   "id": "6b1a4665",
   "metadata": {},
   "source": [
    "### Use original Spark PCA"
   ]
  },
  {
   "cell_type": "code",
   "execution_count": 9,
   "id": "2382f4d6",
   "metadata": {},
   "outputs": [
    {
     "data": {
      "text/plain": [
       "pcaCpu = pca_0e91da90f836\n"
      ]
     },
     "metadata": {},
     "output_type": "display_data"
    },
    {
     "data": {
      "text/plain": [
       "pca_0e91da90f836"
      ]
     },
     "execution_count": 9,
     "metadata": {},
     "output_type": "execute_result"
    }
   ],
   "source": [
    "val pcaCpu = new org.apache.spark.ml.feature.PCA().setInputCol(\"feature_vec\").setOutputCol(\"pca_features\").setK(3)"
   ]
  },
  {
   "cell_type": "code",
   "execution_count": 10,
   "id": "631ace62",
   "metadata": {},
   "outputs": [
    {
     "data": {
      "text/plain": [
       "pcaModelCpu = PCAModel: uid=pca_0e91da90f836, k=3\n"
      ]
     },
     "metadata": {},
     "output_type": "display_data"
    },
    {
     "name": "stdout",
     "output_type": "stream",
     "text": [
      "Time taken: 25938 ms\n"
     ]
    },
    {
     "data": {
      "text/plain": [
       "PCAModel: uid=pca_0e91da90f836, k=3"
      ]
     },
     "execution_count": 10,
     "metadata": {},
     "output_type": "execute_result"
    }
   ],
   "source": [
    "val pcaModelCpu = spark.time(pcaCpu.fit(vectorDf))"
   ]
  },
  {
   "cell_type": "code",
   "execution_count": 11,
   "id": "e524f2aa",
   "metadata": {},
   "outputs": [
    {
     "name": "stdout",
     "output_type": "stream",
     "text": [
      "+--------------------------------------------------------------+\n",
      "|pca_features                                                  |\n",
      "+--------------------------------------------------------------+\n",
      "|[0.15717806935486517,-0.23187006467067675,0.46167188675884124]|\n",
      "|[0.7158627282461498,0.1315315320096182,0.4442953928397998]    |\n",
      "|[-1.4731837213812993,1.0180010259858214,1.0826638289743715]   |\n",
      "|[-0.7029891385777376,1.3338918673605542,-0.39238299534567095] |\n",
      "|[0.2014368950069466,-0.8703548818324696,0.24322778800733796]  |\n",
      "|[0.2754334513628797,1.3346318704803797,0.4688778170588576]    |\n",
      "|[-0.28874653644575704,1.6028036414967575,0.6746504395378663]  |\n",
      "|[0.531648976741172,-0.41619420672430724,-0.3724919713419888]  |\n",
      "|[0.006169260868809271,0.2930315481196483,0.2506268644862148]  |\n",
      "|[0.8957069993141605,-0.06592974003465354,1.1845525664838967]  |\n",
      "|[-0.2522528082964935,1.3056536989607195,0.5279936240447436]   |\n",
      "|[0.7076658917620019,0.9454529189449806,1.0475310703805307]    |\n",
      "|[0.09759584670278604,0.09834802339835391,-0.20043376345501301]|\n",
      "|[0.9345230228726403,0.9140200891187654,0.5639835352805619]    |\n",
      "|[-0.49927758771850855,0.18578805569915113,0.5874802130295961] |\n",
      "|[0.8668410161280375,-0.3527718608079353,-0.23484599312159826] |\n",
      "|[-0.28839364174070725,0.8913857162957618,0.9559738987749735]  |\n",
      "|[0.004061135109729486,1.1140514293248318,0.24875752286946679] |\n",
      "|[0.815321746182585,0.6025612670523555,0.3516621505183628]     |\n",
      "|[0.9790938771247771,-0.6245775262303241,0.6587767227342732]   |\n",
      "+--------------------------------------------------------------+\n",
      "only showing top 20 rows\n",
      "\n"
     ]
    }
   ],
   "source": [
    "pcaModelCpu.transform(vectorDf).select(\"pca_features\").show(false)"
   ]
  },
  {
   "cell_type": "markdown",
   "id": "d1de2f45",
   "metadata": {},
   "source": [
    "### Note\n",
    "\n",
    "Some columns in GPU output have different sign from that in CPU output, this is due to the calculation nature of SVD algorithm which doesn't impact the effectiveness of SVD results. More details could be found in the [wiki](https://en.wikipedia.org/wiki/Singular_value_decomposition#Relation_to_eigenvalue_decomposition)"
   ]
  },
  {
   "cell_type": "code",
   "execution_count": null,
   "id": "2825e94a",
   "metadata": {},
   "outputs": [],
   "source": []
  }
 ],
 "metadata": {
  "kernelspec": {
   "display_name": "spark-rapids-ml-pca - Scala",
   "language": "scala",
   "name": "spark-rapids-ml-pca_scala"
  },
  "language_info": {
   "codemirror_mode": "text/x-scala",
   "file_extension": ".scala",
   "mimetype": "text/x-scala",
   "name": "scala",
   "pygments_lexer": "scala",
   "version": "2.12.12"
  }
 },
 "nbformat": 4,
 "nbformat_minor": 5
}
