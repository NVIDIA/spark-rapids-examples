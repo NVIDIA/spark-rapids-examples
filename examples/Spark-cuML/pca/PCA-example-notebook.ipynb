{
 "cells": [
  {
   "cell_type": "code",
   "execution_count": 1,
   "id": "b995b134",
   "metadata": {},
   "outputs": [],
   "source": [
    "import org.apache.spark.ml.linalg._\n",
    "import org.apache.spark.sql.functions._"
   ]
  },
  {
   "cell_type": "markdown",
   "id": "c761cbdd",
   "metadata": {},
   "source": [
    "### Generate dummy data"
   ]
  },
  {
   "cell_type": "code",
   "execution_count": 2,
   "id": "305ae7e0",
   "metadata": {},
   "outputs": [
    {
     "data": {
      "text/plain": [
       "dim = 2048\n",
       "rows = 1000\n",
       "r = scala.util.Random@69597699\n"
      ]
     },
     "metadata": {},
     "output_type": "display_data"
    },
    {
     "data": {
      "text/plain": [
       "scala.util.Random@69597699"
      ]
     },
     "execution_count": 2,
     "metadata": {},
     "output_type": "execute_result"
    }
   ],
   "source": [
    "val dim = 2048\n",
    "val rows = 1000\n",
    "val r = new scala.util.Random(0)"
   ]
  },
  {
   "cell_type": "code",
   "execution_count": 3,
   "id": "15cec312",
   "metadata": {},
   "outputs": [
    {
     "data": {
      "text/plain": [
       "Waiting for a Spark session to start..."
      ]
     },
     "metadata": {},
     "output_type": "display_data"
    },
    {
     "data": {
      "text/plain": [
       "dataDf = [feature: array<double>]\n"
      ]
     },
     "metadata": {},
     "output_type": "display_data"
    },
    {
     "data": {
      "text/plain": [
       "[feature: array<double>]"
      ]
     },
     "execution_count": 3,
     "metadata": {},
     "output_type": "execute_result"
    }
   ],
   "source": [
    "val dataDf = spark.createDataFrame(\n",
    "  (0 until rows).map(_ => Tuple1(List.fill(dim)(r.nextDouble)))).withColumnRenamed(\"_1\", \"feature\")"
   ]
  },
  {
   "cell_type": "markdown",
   "id": "71c3aa00",
   "metadata": {},
   "source": [
    "### Convert array content to Vector to fit Spark ML requirement "
   ]
  },
  {
   "cell_type": "code",
   "execution_count": 4,
   "id": "eeeb3cf8",
   "metadata": {},
   "outputs": [
    {
     "data": {
      "text/plain": [
       "convertToVector = SparkUserDefinedFunction($Lambda$3074/2079913946@44fcc164,org.apache.spark.ml.linalg.VectorUDT@3bfc3ba7,List(Some(class[value[0]: array<float>])),Some(class[value[0]: vector]),None,true,true)\n"
      ]
     },
     "metadata": {},
     "output_type": "display_data"
    },
    {
     "data": {
      "text/plain": [
       "SparkUserDefinedFunction($Lambda$3074/2079913946@44fcc164,org.apache.spark.ml.linalg.VectorUDT@3bfc3ba7,List(Some(class[value[0]: array<float>])),Some(class[value[0]: vector]),None,true,true)"
      ]
     },
     "execution_count": 4,
     "metadata": {},
     "output_type": "execute_result"
    }
   ],
   "source": [
    "val convertToVector = udf((array: Seq[Float]) => {\n",
    "  Vectors.dense(array.map(_.toDouble).toArray)\n",
    "})"
   ]
  },
  {
   "cell_type": "code",
   "execution_count": 5,
   "id": "babee644",
   "metadata": {},
   "outputs": [
    {
     "data": {
      "text/plain": [
       "vectorDf = [feature: vector]\n"
      ]
     },
     "metadata": {},
     "output_type": "display_data"
    },
    {
     "data": {
      "text/plain": [
       "[feature: vector]"
      ]
     },
     "execution_count": 5,
     "metadata": {},
     "output_type": "execute_result"
    }
   ],
   "source": [
    "val vectorDf = dataDf.withColumn(\"feature\", convertToVector(col(\"feature\")))"
   ]
  },
  {
   "cell_type": "markdown",
   "id": "07fdba23",
   "metadata": {},
   "source": [
    "### Use Spark RAPIDS accelerated PCA\n",
    "\n",
    "Comparing to the original PCA training API:\n",
    "\n",
    "```scala\n",
    "val pca = new org.apache.spark.ml.feature.PCA()\n",
    "  .setInputCol(\"feature\")\n",
    "  .setOutputCol(\"feature_value_3d\")\n",
    "  .setK(3)\n",
    "  .fit(vectorDf)\n",
    "```\n",
    "\n",
    "We used a customized class and user will need to do `no code change` to enjoy the GPU acceleration:\n",
    "\n",
    "```scala\n",
    "val pca = new com.nvidia.spark.ml.feature.PCA()\n",
    "...\n",
    "```\n",
    "\n",
    "Besides, we provide some switch APIs to allow users to highly customize their training process:\n",
    "\n",
    "```scala\n",
    "  .useGemm(true) // or false, default: true. Switch to use original BLAS bsr or cuBLAS gemm to compute covariance matrix\n",
    "  .useCuSolverSVD(true) // or false, default: true. Switch to use original LAPack solver or cuSolver to compute SVD\n",
    "  .meanCentering(true) // or false, default: true. Wwitch to do mean centering or not before computing covariance matrix\n",
    "```\n"
   ]
  },
  {
   "cell_type": "code",
   "execution_count": 6,
   "id": "b6e27655",
   "metadata": {},
   "outputs": [
    {
     "data": {
      "text/plain": [
       "pcaGpu = pca_f193f5312c9c\n"
      ]
     },
     "metadata": {},
     "output_type": "display_data"
    },
    {
     "data": {
      "text/plain": [
       "pca_f193f5312c9c"
      ]
     },
     "execution_count": 6,
     "metadata": {},
     "output_type": "execute_result"
    }
   ],
   "source": [
    "val pcaGpu = new com.nvidia.spark.ml.feature.PCA().setInputCol(\"feature\").setOutputCol(\"pca_features\").setK(3)"
   ]
  },
  {
   "cell_type": "code",
   "execution_count": 7,
   "id": "eb39f2bb",
   "metadata": {},
   "outputs": [
    {
     "data": {
      "text/plain": [
       "pcaModelGpu = PCAModel: uid=pca_f193f5312c9c, k=3\n"
      ]
     },
     "metadata": {},
     "output_type": "display_data"
    },
    {
     "name": "stdout",
     "output_type": "stream",
     "text": [
      "Time taken: 6050 ms\n"
     ]
    },
    {
     "data": {
      "text/plain": [
       "PCAModel: uid=pca_f193f5312c9c, k=3"
      ]
     },
     "execution_count": 7,
     "metadata": {},
     "output_type": "execute_result"
    }
   ],
   "source": [
    "val pcaModelGpu = spark.time(pcaGpu.fit(vectorDf))"
   ]
  },
  {
   "cell_type": "markdown",
   "id": "71218c65",
   "metadata": {},
   "source": [
    "### Note, only training part is accelerated"
   ]
  },
  {
   "cell_type": "code",
   "execution_count": 8,
   "id": "ad81ef62",
   "metadata": {},
   "outputs": [
    {
     "name": "stdout",
     "output_type": "stream",
     "text": [
      "+--------------------------------------------------------------+\n",
      "|pca_features                                                  |\n",
      "+--------------------------------------------------------------+\n",
      "|[0.15717805548068634,-0.2318699999040465,-0.461671909593393]  |\n",
      "|[0.7158627381372129,0.13153154407688541,-0.4442954525503737]  |\n",
      "|[-1.4731836722589815,1.0180008471121302,-1.0826642183281767]  |\n",
      "|[-0.7029890598027423,1.333891775489114,0.39238250798616214]   |\n",
      "|[0.2014369637145508,-0.8703550218640328,-0.24322806294266627] |\n",
      "|[0.275433430680443,1.3346319204901427,-0.4688782254621992]    |\n",
      "|[-0.28874651925511247,1.6028033903235694,-0.6746507493746138] |\n",
      "|[0.5316489646267731,-0.41619400253580746,0.37249197734141415] |\n",
      "|[0.006169252894359221,0.29303167279789405,-0.2506269491180383]|\n",
      "|[0.8957070727996569,-0.06592993750041293,-1.1845527678574415] |\n",
      "|[-0.2522528217443958,1.3056536527087803,-0.5279938298955382]  |\n",
      "|[0.7076659611970204,0.9454528437411879,-1.0475312455277548]   |\n",
      "|[0.09759587288737456,0.09834806846162855,0.20043337755357446] |\n",
      "|[0.9345231164846096,0.9140199642594473,-0.5639839560973257]   |\n",
      "|[-0.4992775860824573,0.18578791437489606,-0.5874802004227876] |\n",
      "|[0.8668410830520021,-0.3527717801265343,0.2348458524880441]   |\n",
      "|[-0.2883935815316728,0.8913855418833322,-0.9559742464175509]  |\n",
      "|[0.004061123476144869,1.114051473835987,-0.24875773323891578] |\n",
      "|[0.8153218177978391,0.6025612591308787,-0.35166226321712135]  |\n",
      "|[0.9790939862551665,-0.6245776930970259,-0.6587765895068712]  |\n",
      "+--------------------------------------------------------------+\n",
      "only showing top 20 rows\n",
      "\n"
     ]
    }
   ],
   "source": [
    "pcaModelGpu.transform(vectorDf).select(\"pca_features\").show(false)"
   ]
  },
  {
   "cell_type": "markdown",
   "id": "6b1a4665",
   "metadata": {},
   "source": [
    "### Use original Spark PCA"
   ]
  },
  {
   "cell_type": "code",
   "execution_count": 9,
   "id": "2382f4d6",
   "metadata": {},
   "outputs": [
    {
     "data": {
      "text/plain": [
       "pcaCpu = pca_f7331970a638\n"
      ]
     },
     "metadata": {},
     "output_type": "display_data"
    },
    {
     "data": {
      "text/plain": [
       "pca_f7331970a638"
      ]
     },
     "execution_count": 9,
     "metadata": {},
     "output_type": "execute_result"
    }
   ],
   "source": [
    "val pcaCpu = new org.apache.spark.ml.feature.PCA().setInputCol(\"feature\").setOutputCol(\"pca_features\").setK(3)"
   ]
  },
  {
   "cell_type": "code",
   "execution_count": 10,
   "id": "631ace62",
   "metadata": {},
   "outputs": [
    {
     "data": {
      "text/plain": [
       "pcaModelCpu = PCAModel: uid=pca_f7331970a638, k=3\n"
      ]
     },
     "metadata": {},
     "output_type": "display_data"
    },
    {
     "name": "stdout",
     "output_type": "stream",
     "text": [
      "Time taken: 26637 ms\n"
     ]
    },
    {
     "data": {
      "text/plain": [
       "PCAModel: uid=pca_f7331970a638, k=3"
      ]
     },
     "execution_count": 10,
     "metadata": {},
     "output_type": "execute_result"
    }
   ],
   "source": [
    "val pcaModelCpu = spark.time(pcaCpu.fit(vectorDf))"
   ]
  },
  {
   "cell_type": "code",
   "execution_count": 11,
   "id": "e524f2aa",
   "metadata": {},
   "outputs": [
    {
     "name": "stdout",
     "output_type": "stream",
     "text": [
      "+--------------------------------------------------------------+\n",
      "|pca_features                                                  |\n",
      "+--------------------------------------------------------------+\n",
      "|[0.1571780554806858,-0.23186999990402402,0.46167190959341087] |\n",
      "|[0.7158627381372131,0.13153154407689774,0.4442954525503689]   |\n",
      "|[-1.4731836722589833,1.018000847112193,1.0826642183281039]    |\n",
      "|[-0.7029890598027354,1.3338917754890973,-0.3923825079861781]  |\n",
      "|[0.20143696371454542,-0.8703550218640007,0.24322806294262717] |\n",
      "|[0.27543343068044335,1.334631920490186,0.46887822546212093]   |\n",
      "|[-0.28874651925511097,1.6028033903236105,0.674650749374526]   |\n",
      "|[0.5316489646267726,-0.41619400253582495,-0.3724919773413851] |\n",
      "|[0.006169252894362159,0.29303167279789005,0.25062694911808425]|\n",
      "|[0.8957070727996495,-0.06592993750035629,1.184552767857375]   |\n",
      "|[-0.25225282174438984,1.3056536527088072,0.5279938298954825]  |\n",
      "|[0.7076659611970186,0.9454528437412306,1.0475312455277326]    |\n",
      "|[0.09759587288736693,0.09834806846164407,-0.20043337755363017]|\n",
      "|[0.9345231164846117,0.9140199642594764,0.563983956097274]     |\n",
      "|[-0.4992775860824528,0.1857879143749122,0.5874802004227885]   |\n",
      "|[0.866841083052003,-0.35277178012653565,-0.23484585248803666] |\n",
      "|[-0.2883935815316784,0.8913855418833774,0.9559742464174804]   |\n",
      "|[0.004061123476142166,1.1140514738359915,0.24875773323888287] |\n",
      "|[0.8153218177978414,0.6025612591309002,0.35166226321710653]   |\n",
      "|[0.979093986255162,-0.6245776930970064,0.65877658950691]      |\n",
      "+--------------------------------------------------------------+\n",
      "only showing top 20 rows\n",
      "\n"
     ]
    }
   ],
   "source": [
    "pcaModelCpu.transform(vectorDf).select(\"pca_features\").show(false)"
   ]
  },
  {
   "cell_type": "markdown",
   "id": "d1de2f45",
   "metadata": {},
   "source": [
    "### Note\n",
    "\n",
    "Some columns in GPU output have different sign from that in CPU output, this is due to the calculation nature of SVD algorithm which doesn't impact the effectiveness of SVD results. More details could be found in the [wiki](https://en.wikipedia.org/wiki/Singular_value_decomposition#Relation_to_eigenvalue_decomposition)"
   ]
  }
 ],
 "metadata": {
  "kernelspec": {
   "display_name": "spark-rapids-ml-pca - Scala",
   "language": "scala",
   "name": "spark-rapids-ml-pca_scala"
  },
  "language_info": {
   "codemirror_mode": "text/x-scala",
   "file_extension": ".scala",
   "mimetype": "text/x-scala",
   "name": "scala",
   "pygments_lexer": "scala",
   "version": "2.12.12"
  }
 },
 "nbformat": 4,
 "nbformat_minor": 5
}
