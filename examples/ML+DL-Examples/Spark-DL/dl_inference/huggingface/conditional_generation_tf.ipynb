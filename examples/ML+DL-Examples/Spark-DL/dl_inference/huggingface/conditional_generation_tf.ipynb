{
 "cells": [
  {
   "cell_type": "markdown",
   "id": "777fc40d",
   "metadata": {},
   "source": [
    "# PySpark Huggingface Inferencing\n",
    "## Conditional generation with Tensorflow\n",
    "\n",
    "From: https://huggingface.co/docs/transformers/model_doc/t5"
   ]
  },
  {
   "cell_type": "markdown",
   "id": "05c79ac4-bf25-421e-b55e-020d6d9e15d5",
   "metadata": {},
   "source": [
    "### Using TensorFlow"
   ]
  },
  {
   "cell_type": "code",
   "execution_count": 2,
   "id": "f6f0dbf3-712b-4c58-85eb-261ce15bb2be",
   "metadata": {},
   "outputs": [
    {
     "name": "stderr",
     "output_type": "stream",
     "text": [
      "2024-10-03 00:58:33.897402: I tensorflow/core/util/port.cc:153] oneDNN custom operations are on. You may see slightly different numerical results due to floating-point round-off errors from different computation orders. To turn them off, set the environment variable `TF_ENABLE_ONEDNN_OPTS=0`.\n",
      "2024-10-03 00:58:33.904044: E external/local_xla/xla/stream_executor/cuda/cuda_fft.cc:485] Unable to register cuFFT factory: Attempting to register factory for plugin cuFFT when one has already been registered\n",
      "2024-10-03 00:58:33.911699: E external/local_xla/xla/stream_executor/cuda/cuda_dnn.cc:8454] Unable to register cuDNN factory: Attempting to register factory for plugin cuDNN when one has already been registered\n",
      "2024-10-03 00:58:33.914094: E external/local_xla/xla/stream_executor/cuda/cuda_blas.cc:1452] Unable to register cuBLAS factory: Attempting to register factory for plugin cuBLAS when one has already been registered\n",
      "2024-10-03 00:58:33.919757: I tensorflow/core/platform/cpu_feature_guard.cc:210] This TensorFlow binary is optimized to use available CPU instructions in performance-critical operations.\n",
      "To enable the following instructions: AVX2 AVX_VNNI FMA, in other operations, rebuild TensorFlow with the appropriate compiler flags.\n",
      "2024-10-03 00:58:34.259847: W tensorflow/compiler/tf2tensorrt/utils/py_utils.cc:38] TF-TRT Warning: Could not find TensorRT\n"
     ]
    }
   ],
   "source": [
    "from transformers import AutoTokenizer, TFT5ForConditionalGeneration"
   ]
  },
  {
   "cell_type": "code",
   "execution_count": 3,
   "id": "275890d7",
   "metadata": {},
   "outputs": [
    {
     "name": "stdout",
     "output_type": "stream",
     "text": [
      "2.17.0\n"
     ]
    }
   ],
   "source": [
    "import tensorflow as tf\n",
    "\n",
    "# Enable GPU memory growth\n",
    "gpus = tf.config.experimental.list_physical_devices('GPU')\n",
    "if gpus:\n",
    "    try:\n",
    "        for gpu in gpus:\n",
    "            tf.config.experimental.set_memory_growth(gpu, True)\n",
    "    except RuntimeError as e:\n",
    "        print(e)\n",
    "        \n",
    "print(tf.__version__)"
   ]
  },
  {
   "cell_type": "code",
   "execution_count": 4,
   "id": "2684fb41-9467-40c0-9d7e-a1cc867c5a3c",
   "metadata": {},
   "outputs": [
    {
     "name": "stderr",
     "output_type": "stream",
     "text": [
      "2024-10-03 00:58:35.458146: I tensorflow/core/common_runtime/gpu/gpu_device.cc:2021] Created device /job:localhost/replica:0/task:0/device:GPU:0 with 46032 MB memory:  -> device: 0, name: NVIDIA RTX A6000, pci bus id: 0000:01:00.0, compute capability: 8.6\n",
      "All PyTorch model weights were used when initializing TFT5ForConditionalGeneration.\n",
      "\n",
      "All the weights of TFT5ForConditionalGeneration were initialized from the PyTorch model.\n",
      "If your task is similar to the task the model of the checkpoint was trained on, you can already use TFT5ForConditionalGeneration for predictions without further training.\n"
     ]
    }
   ],
   "source": [
    "tokenizer = AutoTokenizer.from_pretrained(\"google-t5/t5-small\")\n",
    "model = TFT5ForConditionalGeneration.from_pretrained(\"google-t5/t5-small\")\n",
    "\n",
    "max_source_length = 512\n",
    "max_target_length = 128\n",
    "\n",
    "task_prefix = \"translate English to German: \"\n",
    "\n",
    "lines = [\n",
    "    \"The house is wonderful\",\n",
    "    \"Welcome to NYC\",\n",
    "    \"HuggingFace is a company\"\n",
    "]\n",
    "\n",
    "input_sequences = [task_prefix + l for l in lines]"
   ]
  },
  {
   "cell_type": "code",
   "execution_count": 5,
   "id": "6eb2dfdb-0ad3-4d0f-81a4-268d92c53759",
   "metadata": {},
   "outputs": [
    {
     "name": "stderr",
     "output_type": "stream",
     "text": [
      "/home/rishic/anaconda3/envs/spark-dl-tf/lib/python3.11/site-packages/transformers/generation/tf_utils.py:837: UserWarning: Using the model-agnostic default `max_length` (=20) to control the generation length.  recommend setting `max_new_tokens` to control the maximum length of the generation.\n",
      "  warnings.warn(\n",
      "WARNING: All log messages before absl::InitializeLog() is called are written to STDERR\n",
      "I0000 00:00:1727917116.671968 1211184 service.cc:146] XLA service 0x7598c0002e20 initialized for platform CUDA (this does not guarantee that XLA will be used). Devices:\n",
      "I0000 00:00:1727917116.671985 1211184 service.cc:154]   StreamExecutor device (0): NVIDIA RTX A6000, Compute Capability 8.6\n",
      "2024-10-03 00:58:36.673983: I tensorflow/compiler/mlir/tensorflow/utils/dump_mlir_util.cc:268] disabling MLIR crash reproducer, set env var `MLIR_CRASH_REPRODUCER_DIRECTORY` to enable.\n",
      "2024-10-03 00:58:36.682170: I external/local_xla/xla/stream_executor/cuda/cuda_dnn.cc:531] Loaded cuDNN version 8907\n",
      "I0000 00:00:1727917116.705763 1211184 device_compiler.h:188] Compiled cluster using XLA!  This line is logged at most once for the lifetime of the process.\n"
     ]
    }
   ],
   "source": [
    "input_ids = tokenizer(input_sequences, \n",
    "                      padding=\"longest\", \n",
    "                      max_length=max_source_length,\n",
    "                      return_tensors=\"tf\").input_ids\n",
    "outputs = model.generate(input_ids)"
   ]
  },
  {
   "cell_type": "code",
   "execution_count": 6,
   "id": "720158d4-e0e0-4904-b096-e5aede756afd",
   "metadata": {},
   "outputs": [
    {
     "data": {
      "text/plain": [
       "['Das Haus ist wunderbar',\n",
       " 'Willkommen in NYC',\n",
       " 'HuggingFace ist ein Unternehmen']"
      ]
     },
     "execution_count": 6,
     "metadata": {},
     "output_type": "execute_result"
    }
   ],
   "source": [
    "[tokenizer.decode(o, skip_special_tokens=True) for o in outputs]"
   ]
  },
  {
   "cell_type": "code",
   "execution_count": 7,
   "id": "8d4b364b-13cb-48ea-a97a-ccfc9e408075",
   "metadata": {},
   "outputs": [
    {
     "data": {
      "text/plain": [
       "'tf'"
      ]
     },
     "execution_count": 7,
     "metadata": {},
     "output_type": "execute_result"
    }
   ],
   "source": [
    "model.framework"
   ]
  },
  {
   "cell_type": "markdown",
   "id": "546eabe0",
   "metadata": {},
   "source": [
    "## PySpark"
   ]
  },
  {
   "cell_type": "code",
   "execution_count": 8,
   "id": "2f6db1f0-7d68-4af7-8bd6-c9fa45906c61",
   "metadata": {},
   "outputs": [],
   "source": [
    "import os\n",
    "from pathlib import Path\n",
    "from datasets import load_dataset"
   ]
  },
  {
   "cell_type": "code",
   "execution_count": 9,
   "id": "68121304-f1df-466e-9347-c9d2b36a9b3a",
   "metadata": {},
   "outputs": [],
   "source": [
    "from pyspark.sql.types import *\n",
    "from pyspark.sql import SparkSession\n",
    "from pyspark import SparkConf"
   ]
  },
  {
   "cell_type": "code",
   "execution_count": null,
   "id": "6279a849",
   "metadata": {},
   "outputs": [],
   "source": [
    "conda_env = os.environ.get(\"CONDA_PREFIX\")\n",
    "\n",
    "conf = SparkConf()\n",
    "conf.set(\"spark.task.maxFailures\", \"1\")\n",
    "conf.set(\"spark.driver.memory\", \"8g\")\n",
    "conf.set(\"spark.executor.memory\", \"8g\")\n",
    "conf.set(\"spark.pyspark.python\", f\"{conda_env}/bin/python\")\n",
    "conf.set(\"spark.pyspark.driver.python\", f\"{conda_env}/bin/python\")\n",
    "conf.set(\"spark.sql.execution.pyspark.udf.simplifiedTraceback.enabled\", \"false\")\n",
    "conf.set(\"spark.sql.pyspark.jvmStacktrace.enabled\", \"true\")\n",
    "conf.set(\"spark.sql.execution.arrow.pyspark.enabled\", \"true\")\n",
    "conf.set(\"spark.python.worker.reuse\", \"true\")\n",
    "# Create Spark Session\n",
    "spark = SparkSession.builder.appName(\"spark-dl-examples\").config(conf=conf).getOrCreate()\n",
    "sc = spark.sparkContext"
   ]
  },
  {
   "cell_type": "code",
   "execution_count": 11,
   "id": "b8453111-d068-49bb-ab91-8ae3d8bcdb7a",
   "metadata": {},
   "outputs": [],
   "source": [
    "# load IMDB reviews (test) dataset\n",
    "data = load_dataset(\"imdb\", split=\"test\")"
   ]
  },
  {
   "cell_type": "code",
   "execution_count": 12,
   "id": "7ad01d4a",
   "metadata": {},
   "outputs": [
    {
     "data": {
      "text/plain": [
       "25000"
      ]
     },
     "execution_count": 12,
     "metadata": {},
     "output_type": "execute_result"
    }
   ],
   "source": [
    "lines = []\n",
    "for example in data:\n",
    "    lines.append([example[\"text\"].split(\".\")[0]])\n",
    "\n",
    "len(lines)"
   ]
  },
  {
   "cell_type": "markdown",
   "id": "6fd5b472-47e8-4804-9907-772793fedb2b",
   "metadata": {},
   "source": [
    "### Create PySpark DataFrame"
   ]
  },
  {
   "cell_type": "code",
   "execution_count": 13,
   "id": "d24d9404-0269-476e-a9dd-1842667c915a",
   "metadata": {},
   "outputs": [
    {
     "data": {
      "text/plain": [
       "StructType([StructField('lines', StringType(), True)])"
      ]
     },
     "execution_count": 13,
     "metadata": {},
     "output_type": "execute_result"
    }
   ],
   "source": [
    "df = spark.createDataFrame(lines, ['lines']).repartition(10)\n",
    "df.schema"
   ]
  },
  {
   "cell_type": "code",
   "execution_count": 14,
   "id": "4384c762-1f79-4f60-876c-94b1f552e8fb",
   "metadata": {},
   "outputs": [
    {
     "name": "stderr",
     "output_type": "stream",
     "text": [
      "                                                                                \r"
     ]
    },
    {
     "data": {
      "text/plain": [
       "[Row(lines=\"i do not understand at all why this movie received such good grades from critics - - i've seen tens of documentaries (on TV) about the wine world which were much much better when (if) you watch it, please think of two very annoying aspects of mondovino : first, the filming is just awful and terrible and upsetting : to me, it looked like the guy behind the camera just received the material and was playing with it : plenty of zooms (for no purpose other than pushing the button in/out) for instance - - i almost stopped to watch it because of that ! secondly, the interviewer (the director i think) is not really relevant : he looks like and ask questions like a boy scout, not like a journalist, even if the general idea and themes would have been interesting, too bad conclusion: overrated documentary, maybe only for guys who do not know nothing about wine => not recommended at all (2/10)\")]"
      ]
     },
     "execution_count": 14,
     "metadata": {},
     "output_type": "execute_result"
    }
   ],
   "source": [
    "df.take(1)"
   ]
  },
  {
   "cell_type": "markdown",
   "id": "42ba3513-82dd-47e7-8193-eb4389458757",
   "metadata": {},
   "source": [
    "### Save the test dataset as parquet files"
   ]
  },
  {
   "cell_type": "code",
   "execution_count": 15,
   "id": "e7eec8ec-4126-4890-b957-025809fad67d",
   "metadata": {},
   "outputs": [],
   "source": [
    "df.write.mode(\"overwrite\").parquet(\"imdb_test\")"
   ]
  },
  {
   "cell_type": "markdown",
   "id": "304e1fc8-42a3-47dd-b3c0-47efd5be1040",
   "metadata": {},
   "source": [
    "### Check arrow memory configuration"
   ]
  },
  {
   "cell_type": "code",
   "execution_count": 16,
   "id": "20554ea5-01be-4a30-8607-db5d87786fec",
   "metadata": {},
   "outputs": [],
   "source": [
    "spark.conf.set(\"spark.sql.execution.arrow.maxRecordsPerBatch\", \"512\")\n",
    "# This line will fail if the vectorized reader runs out of memory\n",
    "assert len(df.head()) > 0, \"`df` should not be empty\""
   ]
  },
  {
   "cell_type": "markdown",
   "id": "06a4ecab-c9d9-466f-ba49-902ad1fd5488",
   "metadata": {},
   "source": [
    "## Inference using Spark DL API (PyTorch)\n",
    "Note: you can restart the kernel and run from this point to simulate running in a different node or environment."
   ]
  },
  {
   "cell_type": "code",
   "execution_count": 17,
   "id": "e7a00479-1347-4de8-8431-faa77f8cdf4c",
   "metadata": {
    "tags": []
   },
   "outputs": [],
   "source": [
    "import pandas as pd\n",
    "from pyspark.ml.functions import predict_batch_udf\n",
    "from pyspark.sql.functions import col, pandas_udf, struct\n",
    "from pyspark.sql.types import StringType"
   ]
  },
  {
   "cell_type": "code",
   "execution_count": 18,
   "id": "b9a0889a-35b4-493a-8197-1146fc7efd53",
   "metadata": {},
   "outputs": [],
   "source": [
    "# only use first sentence and add prefix for conditional generation\n",
    "def preprocess(text: pd.Series, prefix: str = \"\") -> pd.Series:\n",
    "    @pandas_udf(\"string\")\n",
    "    def _preprocess(text: pd.Series) -> pd.Series:\n",
    "        return pd.Series([prefix + s.split(\".\")[0] for s in text])\n",
    "    return _preprocess(text)"
   ]
  },
  {
   "cell_type": "code",
   "execution_count": 19,
   "id": "c483e4d4-9ab1-416f-a766-694e17490fd3",
   "metadata": {},
   "outputs": [
    {
     "name": "stdout",
     "output_type": "stream",
     "text": [
      "+------------------------------------------------------------------------------------------------------------------------+\n",
      "|                                                                                                                   lines|\n",
      "+------------------------------------------------------------------------------------------------------------------------+\n",
      "|                                       This is so overly clichéd you'll want to switch it off after the first 45 minutes|\n",
      "|                                                                                   I was very disappointed by this movie|\n",
      "|                                                                             I think vampire movies (usually) are wicked|\n",
      "|                           Though not a complete waste of time, 'Eighteen' really wasn't all sweet as it pretended to be|\n",
      "|This film did well at the box office, and the producers of this mess thought the stars had such good chemistry in thi...|\n",
      "|                                                    Peter Crawford discovers a comet on a collision course with the moon|\n",
      "|This tale of the upper-classes getting their come-uppance and wallowing in their high-class misery is like a contempo...|\n",
      "|Words almost fail me to describe how terrible this Irish vanity project (funded by Canadian taxpayers - both federal ...|\n",
      "|                                                        This was the most uninteresting horror flick I have seen to date|\n",
      "|                                                                                          Heart of Darkness was terrible|\n",
      "|                                                            I saw this movie when it was first released in Pittsburgh Pa|\n",
      "|It was funny because the whole thing was so unrealistic, I mean, come on, like a pop star would just show up at a pub...|\n",
      "|Watching this movie, you just have to ask: What were they thinking? There are so many noticeably bad parts of this mo...|\n",
      "|                                                                In a sense, this movie did not even compare to the novel|\n",
      "|                          Poor Jane Austen ought to be glad she's not around to see this dreadful wreck of an adaptation|\n",
      "|                                                                  I gave this movie a four-star rating for a few reasons|\n",
      "|                                                    It seems that Dee Snyder ran out of ideas halfway through the script|\n",
      "|                 Now, let me see if I have this correct, a lunatic serial killer is going around murdering estate agents|\n",
      "|                                                      Tommy Lee Jones was the best Woodroe and no one can play Woodroe F|\n",
      "|First of all, I would like to say that I am a fan of all of the actors that appear in this film and at the time that ...|\n",
      "+------------------------------------------------------------------------------------------------------------------------+\n",
      "only showing top 20 rows\n",
      "\n"
     ]
    },
    {
     "data": {
      "text/plain": [
       "100"
      ]
     },
     "execution_count": 19,
     "metadata": {},
     "output_type": "execute_result"
    }
   ],
   "source": [
    "# only use first N examples, since this is slow\n",
    "df = spark.read.parquet(\"imdb_test\").limit(100)\n",
    "df.show(truncate=120)\n",
    "df.count()"
   ]
  },
  {
   "cell_type": "code",
   "execution_count": 20,
   "id": "831bc52c-a5c6-4c29-a6da-0566b5167773",
   "metadata": {},
   "outputs": [],
   "source": [
    "# only use first 100 rows, since generation takes a while\n",
    "df1 = df.withColumn(\"input\", preprocess(col(\"lines\"), \"Translate English to German: \")).select(\"input\").limit(100).cache()"
   ]
  },
  {
   "cell_type": "code",
   "execution_count": 21,
   "id": "46dac59c-5a54-4576-91e0-279c8b375b95",
   "metadata": {},
   "outputs": [
    {
     "data": {
      "text/plain": [
       "100"
      ]
     },
     "execution_count": 21,
     "metadata": {},
     "output_type": "execute_result"
    }
   ],
   "source": [
    "df1.count()"
   ]
  },
  {
   "cell_type": "code",
   "execution_count": 22,
   "id": "fef1d846-5852-4762-8527-602f32c0d7cd",
   "metadata": {},
   "outputs": [
    {
     "name": "stdout",
     "output_type": "stream",
     "text": [
      "+------------------------------------------------------------------------------------------------------------------------+\n",
      "|                                                                                                                   input|\n",
      "+------------------------------------------------------------------------------------------------------------------------+\n",
      "|          Translate English to German: This is so overly clichéd you'll want to switch it off after the first 45 minutes|\n",
      "|                                                      Translate English to German: I was very disappointed by this movie|\n",
      "|                                                Translate English to German: I think vampire movies (usually) are wicked|\n",
      "|Translate English to German: Though not a complete waste of time, 'Eighteen' really wasn't all sweet as it pretended ...|\n",
      "|Translate English to German: This film did well at the box office, and the producers of this mess thought the stars h...|\n",
      "|                       Translate English to German: Peter Crawford discovers a comet on a collision course with the moon|\n",
      "|Translate English to German: This tale of the upper-classes getting their come-uppance and wallowing in their high-cl...|\n",
      "|Translate English to German: Words almost fail me to describe how terrible this Irish vanity project (funded by Canad...|\n",
      "|                           Translate English to German: This was the most uninteresting horror flick I have seen to date|\n",
      "|                                                             Translate English to German: Heart of Darkness was terrible|\n",
      "|                               Translate English to German: I saw this movie when it was first released in Pittsburgh Pa|\n",
      "|Translate English to German: It was funny because the whole thing was so unrealistic, I mean, come on, like a pop sta...|\n",
      "|Translate English to German: Watching this movie, you just have to ask: What were they thinking? There are so many no...|\n",
      "|                                   Translate English to German: In a sense, this movie did not even compare to the novel|\n",
      "|Translate English to German: Poor Jane Austen ought to be glad she's not around to see this dreadful wreck of an adap...|\n",
      "|                                     Translate English to German: I gave this movie a four-star rating for a few reasons|\n",
      "|                       Translate English to German: It seems that Dee Snyder ran out of ideas halfway through the script|\n",
      "|Translate English to German: Now, let me see if I have this correct, a lunatic serial killer is going around murderin...|\n",
      "|                         Translate English to German: Tommy Lee Jones was the best Woodroe and no one can play Woodroe F|\n",
      "|Translate English to German: First of all, I would like to say that I am a fan of all of the actors that appear in th...|\n",
      "+------------------------------------------------------------------------------------------------------------------------+\n",
      "only showing top 20 rows\n",
      "\n"
     ]
    }
   ],
   "source": [
    "df1.show(truncate=120)"
   ]
  },
  {
   "cell_type": "code",
   "execution_count": 23,
   "id": "e7ae69d3-70c2-4765-928f-c96a7ba59829",
   "metadata": {},
   "outputs": [],
   "source": [
    "def predict_batch_fn():\n",
    "    import tensorflow as tf\n",
    "    import numpy as np\n",
    "    from transformers import TFT5ForConditionalGeneration, AutoTokenizer\n",
    "\n",
    "    # Enable GPU memory growth\n",
    "    gpus = tf.config.experimental.list_physical_devices('GPU')\n",
    "    if gpus:\n",
    "        try:\n",
    "            for gpu in gpus:\n",
    "                tf.config.experimental.set_memory_growth(gpu, True)\n",
    "        except RuntimeError as e:\n",
    "            print(e)\n",
    "\n",
    "    model = TFT5ForConditionalGeneration.from_pretrained(\"google-t5/t5-small\")\n",
    "    tokenizer = AutoTokenizer.from_pretrained(\"google-t5/t5-small\")\n",
    "\n",
    "    def predict(inputs):\n",
    "        flattened = np.squeeze(inputs).tolist()   # convert 2d numpy array of string into flattened python list\n",
    "        input_ids = tokenizer(flattened, \n",
    "                              padding=\"longest\", \n",
    "                              max_length=128,\n",
    "                              return_tensors=\"tf\").input_ids\n",
    "        output_ids = model.generate(input_ids)\n",
    "        string_outputs = np.array([tokenizer.decode(o, skip_special_tokens=True) for o in output_ids])\n",
    "        print(\"predict: {}\".format(len(flattened)))\n",
    "        return string_outputs\n",
    "    \n",
    "    return predict"
   ]
  },
  {
   "cell_type": "code",
   "execution_count": 24,
   "id": "36684f59-d947-43f8-a2e8-c7a423764e88",
   "metadata": {},
   "outputs": [],
   "source": [
    "generate = predict_batch_udf(predict_batch_fn,\n",
    "                             return_type=StringType(),\n",
    "                             batch_size=10)"
   ]
  },
  {
   "cell_type": "code",
   "execution_count": 25,
   "id": "6a01c855-8fa1-4765-a3a5-2c9dd872df10",
   "metadata": {},
   "outputs": [
    {
     "name": "stderr",
     "output_type": "stream",
     "text": [
      "[Stage 21:>                                                         (0 + 1) / 1]\r"
     ]
    },
    {
     "name": "stdout",
     "output_type": "stream",
     "text": [
      "CPU times: user 8.8 ms, sys: 5.99 ms, total: 14.8 ms\n",
      "Wall time: 11.4 s\n"
     ]
    },
    {
     "name": "stderr",
     "output_type": "stream",
     "text": [
      "                                                                                \r"
     ]
    }
   ],
   "source": [
    "%%time\n",
    "# first pass caches model/fn\n",
    "preds = df1.withColumn(\"preds\", generate(struct(\"input\")))\n",
    "results = preds.collect()"
   ]
  },
  {
   "cell_type": "code",
   "execution_count": 26,
   "id": "d912d4b0-cd0b-44ea-859a-b23455cc2700",
   "metadata": {},
   "outputs": [
    {
     "name": "stderr",
     "output_type": "stream",
     "text": [
      "[Stage 23:>                                                         (0 + 1) / 1]\r"
     ]
    },
    {
     "name": "stdout",
     "output_type": "stream",
     "text": [
      "CPU times: user 6.26 ms, sys: 2.86 ms, total: 9.12 ms\n",
      "Wall time: 11.5 s\n"
     ]
    },
    {
     "name": "stderr",
     "output_type": "stream",
     "text": [
      "                                                                                \r"
     ]
    }
   ],
   "source": [
    "%%time\n",
    "preds = df1.withColumn(\"preds\", generate(\"input\"))\n",
    "results = preds.collect()"
   ]
  },
  {
   "cell_type": "code",
   "execution_count": 27,
   "id": "5fe3d88b-30f7-468f-8db8-1f4118d0f26c",
   "metadata": {},
   "outputs": [
    {
     "name": "stderr",
     "output_type": "stream",
     "text": [
      "[Stage 25:>                                                         (0 + 1) / 1]\r"
     ]
    },
    {
     "name": "stdout",
     "output_type": "stream",
     "text": [
      "CPU times: user 4.97 ms, sys: 5.28 ms, total: 10.2 ms\n",
      "Wall time: 11.3 s\n"
     ]
    },
    {
     "name": "stderr",
     "output_type": "stream",
     "text": [
      "                                                                                \r"
     ]
    }
   ],
   "source": [
    "%%time\n",
    "preds = df1.withColumn(\"preds\", generate(col(\"input\")))\n",
    "results = preds.collect()"
   ]
  },
  {
   "cell_type": "code",
   "execution_count": 28,
   "id": "4ad9b365-4b9a-438e-8fdf-47da55cb1cf4",
   "metadata": {},
   "outputs": [
    {
     "name": "stderr",
     "output_type": "stream",
     "text": [
      "[Stage 27:>                                                         (0 + 1) / 1]\r"
     ]
    },
    {
     "name": "stdout",
     "output_type": "stream",
     "text": [
      "+------------------------------------------------------------+------------------------------------------------------------+\n",
      "|                                                       input|                                                       preds|\n",
      "+------------------------------------------------------------+------------------------------------------------------------+\n",
      "|Translate English to German: This is so overly clichéd yo...|   Das ist so übertrieben klischeehaft, dass Sie es nach den|\n",
      "|Translate English to German: I was very disappointed by t...|                    Ich war sehr enttäuscht über diesen Film|\n",
      "|Translate English to German: I think vampire movies (usua...|Ich denke, dass die Vampire-Filme (normalerweise) schlech...|\n",
      "|Translate English to German: Though not a complete waste ...|Obwohl es sich nicht um eine komplette Verschwendung von ...|\n",
      "|Translate English to German: This film did well at the bo...|Dieser Film hat sich gut an der Boxoffice ereignet, und d...|\n",
      "|Translate English to German: Peter Crawford discovers a c...|Peter Crawford entdeckt ein Komet auf einem Kollisionskur...|\n",
      "|Translate English to German: This tale of the upper-class...|Diese Geschichte, in der die Oberschichten ihren Come-upp...|\n",
      "|Translate English to German: Words almost fail me to desc...|      Ich sage fast nicht, wie schrecklich dieses irische Ei|\n",
      "|Translate English to German: This was the most uninterest...|Dies war der größte Horrorfilm, den ich bisher gesehen habe.|\n",
      "| Translate English to German: Heart of Darkness was terrible|                         Herz der Dunkelheit war schrecklich|\n",
      "|Translate English to German: I saw this movie when it was...| Ich sah diesen Film, als er zum ersten Mal in Pittsburgh Pa|\n",
      "|Translate English to German: It was funny because the who...|        Das Ganze war lustig, denn es war so unrealistisch, |\n",
      "|Translate English to German: Watching this movie, you jus...|Wenn man diesen Film anschaut, muss man einfach fragen: W...|\n",
      "|Translate English to German: In a sense, this movie did n...|In gewisser Weise hat sich dieser Film nicht einmal mit d...|\n",
      "|Translate English to German: Poor Jane Austen ought to be...|Die arme Frau Austen sollte froh sein, dass sie nicht da ...|\n",
      "|Translate English to German: I gave this movie a four-sta...|Ich habe diesen Film aus einigen Gründen vier Sterne bewe...|\n",
      "|Translate English to German: It seems that Dee Snyder ran...|Dee Snyder hat offenbar halb durch das Skript Ideen vermisst|\n",
      "|Translate English to German: Now, let me see if I have th...|Jetzt, lassen Sie mich sehen, ob ich das richtig habe, ei...|\n",
      "|Translate English to German: Tommy Lee Jones was the best...|Tommy Lee Jones war der beste Woodroe und niemand kann Wo...|\n",
      "|Translate English to German: First of all, I would like t...|Zunächst möchte ich sagen, dass ich ein Fan aller Schausp...|\n",
      "+------------------------------------------------------------+------------------------------------------------------------+\n",
      "only showing top 20 rows\n",
      "\n"
     ]
    },
    {
     "name": "stderr",
     "output_type": "stream",
     "text": [
      "                                                                                \r"
     ]
    }
   ],
   "source": [
    "preds.show(truncate=60)"
   ]
  },
  {
   "cell_type": "code",
   "execution_count": 29,
   "id": "1eb0c83b-d91b-4f8c-a5e7-c35f55c88108",
   "metadata": {},
   "outputs": [],
   "source": [
    "# only use first 100 rows, since generation takes a while\n",
    "df2 = df.withColumn(\"input\", preprocess(col(\"lines\"), \"Translate English to French: \")).select(\"input\").limit(100).cache()"
   ]
  },
  {
   "cell_type": "code",
   "execution_count": 30,
   "id": "054f94fd-fe79-41e7-b1c7-6124083acc72",
   "metadata": {},
   "outputs": [
    {
     "name": "stdout",
     "output_type": "stream",
     "text": [
      "+------------------------------------------------------------------------------------------------------------------------+\n",
      "|                                                                                                                   input|\n",
      "+------------------------------------------------------------------------------------------------------------------------+\n",
      "|          Translate English to French: This is so overly clichéd you'll want to switch it off after the first 45 minutes|\n",
      "|                                                      Translate English to French: I was very disappointed by this movie|\n",
      "|                                                Translate English to French: I think vampire movies (usually) are wicked|\n",
      "|Translate English to French: Though not a complete waste of time, 'Eighteen' really wasn't all sweet as it pretended ...|\n",
      "|Translate English to French: This film did well at the box office, and the producers of this mess thought the stars h...|\n",
      "|                       Translate English to French: Peter Crawford discovers a comet on a collision course with the moon|\n",
      "|Translate English to French: This tale of the upper-classes getting their come-uppance and wallowing in their high-cl...|\n",
      "|Translate English to French: Words almost fail me to describe how terrible this Irish vanity project (funded by Canad...|\n",
      "|                           Translate English to French: This was the most uninteresting horror flick I have seen to date|\n",
      "|                                                             Translate English to French: Heart of Darkness was terrible|\n",
      "|                               Translate English to French: I saw this movie when it was first released in Pittsburgh Pa|\n",
      "|Translate English to French: It was funny because the whole thing was so unrealistic, I mean, come on, like a pop sta...|\n",
      "|Translate English to French: Watching this movie, you just have to ask: What were they thinking? There are so many no...|\n",
      "|                                   Translate English to French: In a sense, this movie did not even compare to the novel|\n",
      "|Translate English to French: Poor Jane Austen ought to be glad she's not around to see this dreadful wreck of an adap...|\n",
      "|                                     Translate English to French: I gave this movie a four-star rating for a few reasons|\n",
      "|                       Translate English to French: It seems that Dee Snyder ran out of ideas halfway through the script|\n",
      "|Translate English to French: Now, let me see if I have this correct, a lunatic serial killer is going around murderin...|\n",
      "|                         Translate English to French: Tommy Lee Jones was the best Woodroe and no one can play Woodroe F|\n",
      "|Translate English to French: First of all, I would like to say that I am a fan of all of the actors that appear in th...|\n",
      "+------------------------------------------------------------------------------------------------------------------------+\n",
      "only showing top 20 rows\n",
      "\n"
     ]
    }
   ],
   "source": [
    "df2.show(truncate=120)"
   ]
  },
  {
   "cell_type": "code",
   "execution_count": 31,
   "id": "6f6b70f9-188a-402b-9143-78a5788140e4",
   "metadata": {},
   "outputs": [
    {
     "name": "stderr",
     "output_type": "stream",
     "text": [
      "[Stage 33:>                                                         (0 + 1) / 1]\r"
     ]
    },
    {
     "name": "stdout",
     "output_type": "stream",
     "text": [
      "CPU times: user 3.96 ms, sys: 6.41 ms, total: 10.4 ms\n",
      "Wall time: 11.4 s\n"
     ]
    },
    {
     "name": "stderr",
     "output_type": "stream",
     "text": [
      "                                                                                \r"
     ]
    }
   ],
   "source": [
    "%%time\n",
    "# first pass caches model/fn\n",
    "preds = df2.withColumn(\"preds\", generate(struct(\"input\")))\n",
    "result = preds.collect()"
   ]
  },
  {
   "cell_type": "code",
   "execution_count": 32,
   "id": "031a6a5e-7999-4653-b394-19ed478d8c96",
   "metadata": {},
   "outputs": [
    {
     "name": "stderr",
     "output_type": "stream",
     "text": [
      "[Stage 35:>                                                         (0 + 1) / 1]\r"
     ]
    },
    {
     "name": "stdout",
     "output_type": "stream",
     "text": [
      "CPU times: user 2.52 ms, sys: 5.26 ms, total: 7.78 ms\n",
      "Wall time: 8.34 s\n"
     ]
    },
    {
     "name": "stderr",
     "output_type": "stream",
     "text": [
      "                                                                                \r"
     ]
    }
   ],
   "source": [
    "%%time\n",
    "preds = df2.withColumn(\"preds\", generate(\"input\"))\n",
    "result = preds.collect()"
   ]
  },
  {
   "cell_type": "code",
   "execution_count": 33,
   "id": "229b6515-82f6-4e9c-90f0-a9c3cfb26301",
   "metadata": {},
   "outputs": [
    {
     "name": "stderr",
     "output_type": "stream",
     "text": [
      "[Stage 37:>                                                         (0 + 1) / 1]\r"
     ]
    },
    {
     "name": "stdout",
     "output_type": "stream",
     "text": [
      "CPU times: user 4.62 ms, sys: 2.58 ms, total: 7.2 ms\n",
      "Wall time: 8.29 s\n"
     ]
    },
    {
     "name": "stderr",
     "output_type": "stream",
     "text": [
      "                                                                                \r"
     ]
    }
   ],
   "source": [
    "%%time\n",
    "preds = df2.withColumn(\"preds\", generate(col(\"input\")))\n",
    "result = preds.collect()"
   ]
  },
  {
   "cell_type": "code",
   "execution_count": 34,
   "id": "8be750ac-fa39-452e-bb4c-c2270bc2f70d",
   "metadata": {},
   "outputs": [
    {
     "name": "stderr",
     "output_type": "stream",
     "text": [
      "[Stage 39:>                                                         (0 + 1) / 1]\r"
     ]
    },
    {
     "name": "stdout",
     "output_type": "stream",
     "text": [
      "+------------------------------------------------------------+------------------------------------------------------------+\n",
      "|                                                       input|                                                       preds|\n",
      "+------------------------------------------------------------+------------------------------------------------------------+\n",
      "|Translate English to French: This is so overly clichéd yo...|                 Vous ne pouvez pas en tirer d'un tel cliché|\n",
      "|Translate English to French: I was very disappointed by t...|                               Je suis très déçu par ce film|\n",
      "|Translate English to French: I think vampire movies (usua...|Je pense que les films vampires (habituellement) sont méc...|\n",
      "|Translate English to French: Though not a complete waste ...|    Bien qu'il ne soit pas un gaspillage complet de temps, '|\n",
      "|Translate English to French: This film did well at the bo...|               Ce film a bien avancé à la salle de cinéma et|\n",
      "|Translate English to French: Peter Crawford discovers a c...|Peter Crawford découvre une comète sur un parcours de col...|\n",
      "|Translate English to French: This tale of the upper-class...|Cette histoire des classes supérieures qui prennent leur ...|\n",
      "|Translate English to French: Words almost fail me to desc...|    Les mots ne me permettent presque pas de décrire l'inten|\n",
      "|Translate English to French: This was the most uninterest...|         Ce fut le plus inquiétant et le plus inquiétant d'h|\n",
      "| Translate English to French: Heart of Darkness was terrible|                              Heart of Darkness was terrible|\n",
      "|Translate English to French: I saw this movie when it was...|J'ai vu ce film lorsqu'il a été publié pour la première f...|\n",
      "|Translate English to French: It was funny because the who...|     Il était dommage, car l'ensemble était si irréaliste, c|\n",
      "|Translate English to French: Watching this movie, you jus...|Vous devez simplement vous demander : « Que pense-t-il? » Il|\n",
      "|Translate English to French: In a sense, this movie did n...|                                  l’inverse, il n’y a pas eu|\n",
      "|Translate English to French: Poor Jane Austen ought to be...|                  l'instar de Jane Austen, elle devrait se f|\n",
      "|Translate English to French: I gave this movie a four-sta...|                 Je n'ai pas obtenu de cote de quatre étoile|\n",
      "|Translate English to French: It seems that Dee Snyder ran...|                Il semble que Dee Snyder n’ait pas eu d’idée|\n",
      "|Translate English to French: Now, let me see if I have th...|Je vais maintenant voir si je peux l'avoir correctement, ...|\n",
      "|Translate English to French: Tommy Lee Jones was the best...|Tommy Lee Jones était le meilleur Woodroe et personne ne ...|\n",
      "|Translate English to French: First of all, I would like t...|Je voudrais tout d'abord dire que je suis un fan de tous ...|\n",
      "+------------------------------------------------------------+------------------------------------------------------------+\n",
      "only showing top 20 rows\n",
      "\n"
     ]
    },
    {
     "name": "stderr",
     "output_type": "stream",
     "text": [
      "                                                                                \r"
     ]
    }
   ],
   "source": [
    "preds.show(truncate=60)"
   ]
  },
  {
   "cell_type": "markdown",
   "id": "bcabb2a8-3880-46ec-8e01-5a10f71fe83d",
   "metadata": {},
   "source": [
    "### Using Triton Inference Server\n",
    "\n",
    "Note: you can restart the kernel and run from this point to simulate running in a different node or environment.  \n",
    "While the examples above use Tensorflow, note that inference on the Triton server is run using PyTorch. PyTorch will be included in the tarball below, and no further environment changes are required by the user."
   ]
  },
  {
   "cell_type": "markdown",
   "id": "5d98fa52-7665-49bf-865a-feec86effe23",
   "metadata": {},
   "source": [
    "This notebook uses the [Python backend with a custom execution environment](https://github.com/triton-inference-server/python_backend#creating-custom-execution-environments) with the compatible versions of Python/Numpy for Triton 24.08, using a conda-pack environment created as follows:\n",
    "```\n",
    "conda create -n huggingface-tf -c conda-forge python=3.10.0\n",
    "conda activate huggingface-tf\n",
    "\n",
    "export PYTHONNOUSERSITE=True\n",
    "pip install numpy==1.26.4 tensorflow[and-cuda] tf-keras transformers conda-pack \n",
    "\n",
    "conda-pack  # huggingface-tf.tar.gz\n",
    "```"
   ]
  },
  {
   "cell_type": "code",
   "execution_count": 35,
   "id": "b858cf85-82e6-41ef-905b-d8c5d6fea492",
   "metadata": {},
   "outputs": [],
   "source": [
    "import os"
   ]
  },
  {
   "cell_type": "code",
   "execution_count": 38,
   "id": "05ce7c77-d562-45e8-89bb-cd656aba5a5f",
   "metadata": {},
   "outputs": [],
   "source": [
    "%%bash\n",
    "# copy custom model to expected layout for Triton\n",
    "rm -rf models\n",
    "mkdir -p models\n",
    "cp -r models_config/hf_generation_tf models\n",
    "\n",
    "# add custom execution environment\n",
    "cp huggingface-tf.tar.gz models"
   ]
  },
  {
   "cell_type": "markdown",
   "id": "a552865c-5dad-4f25-8834-f41e253ac2f6",
   "metadata": {
    "tags": []
   },
   "source": [
    "#### Start Triton Server on each executor"
   ]
  },
  {
   "cell_type": "code",
   "execution_count": 39,
   "id": "afd00b7e-8150-4c95-a2e4-037e9c90f92a",
   "metadata": {},
   "outputs": [
    {
     "name": "stderr",
     "output_type": "stream",
     "text": [
      "                                                                                \r"
     ]
    },
    {
     "data": {
      "text/plain": [
       "[True]"
      ]
     },
     "execution_count": 39,
     "metadata": {},
     "output_type": "execute_result"
    }
   ],
   "source": [
    "num_executors = 1\n",
    "triton_models_dir = \"{}/models\".format(os.getcwd())\n",
    "huggingface_cache_dir = \"{}/.cache/huggingface\".format(os.path.expanduser('~'))\n",
    "nodeRDD = sc.parallelize(list(range(num_executors)), num_executors)\n",
    "\n",
    "def start_triton(it):\n",
    "    import docker\n",
    "    import time\n",
    "    import tritonclient.grpc as grpcclient\n",
    "    \n",
    "    client=docker.from_env()\n",
    "    containers=client.containers.list(filters={\"name\": \"spark-triton\"})\n",
    "    if containers:\n",
    "        print(\">>>> containers: {}\".format([c.short_id for c in containers]))\n",
    "    else:\n",
    "        try:\n",
    "            container=client.containers.run(\n",
    "                \"nvcr.io/nvidia/tritonserver:24.08-py3\", \"tritonserver --model-repository=/models\",\n",
    "                detach=True,\n",
    "                device_requests=[docker.types.DeviceRequest(device_ids=[\"0\"], capabilities=[['gpu']])],\n",
    "                environment=[\n",
    "                    \"TRANSFORMERS_CACHE=/cache\"\n",
    "                ],\n",
    "                name=\"spark-triton\",\n",
    "                network_mode=\"host\",\n",
    "                remove=True,\n",
    "                shm_size=\"1G\",\n",
    "                volumes={\n",
    "                    triton_models_dir: {\"bind\": \"/models\", \"mode\": \"ro\"},\n",
    "                    huggingface_cache_dir: {\"bind\": \"/cache\", \"mode\": \"rw\"}\n",
    "                }\n",
    "            )\n",
    "            print(\">>>> starting triton: {}\".format(container.short_id))\n",
    "        except Exception as e:\n",
    "            print(\">>>> failed to start triton: {}\".format(e))\n",
    "        # wait for triton to be running\n",
    "        time.sleep(15)\n",
    "        client = grpcclient.InferenceServerClient(\"localhost:8001\")\n",
    "        ready = False\n",
    "        while not ready:\n",
    "            try:\n",
    "                ready = client.is_server_ready()\n",
    "            except Exception as e:\n",
    "                time.sleep(5)\n",
    "\n",
    "    return [True]\n",
    "\n",
    "nodeRDD.barrier().mapPartitions(start_triton).collect()"
   ]
  },
  {
   "cell_type": "markdown",
   "id": "528d2df6-49fc-4be7-a534-a087dfe31c84",
   "metadata": {},
   "source": [
    "#### Run inference"
   ]
  },
  {
   "cell_type": "code",
   "execution_count": 40,
   "id": "1a997c33-5202-466d-8304-b8c30f32978f",
   "metadata": {
    "tags": []
   },
   "outputs": [],
   "source": [
    "import pandas as pd\n",
    "from functools import partial\n",
    "from pyspark.ml.functions import predict_batch_udf\n",
    "from pyspark.sql.functions import col, pandas_udf, struct\n",
    "from pyspark.sql.types import StringType"
   ]
  },
  {
   "cell_type": "code",
   "execution_count": 41,
   "id": "9dea1875-6b95-4fc0-926d-a625a441b33d",
   "metadata": {},
   "outputs": [],
   "source": [
    "# only use first N examples, since this is slow\n",
    "df = spark.read.parquet(\"imdb_test\").limit(100).cache()"
   ]
  },
  {
   "cell_type": "code",
   "execution_count": 42,
   "id": "5d6c54e7-534d-406f-b8e6-fd592efd0ab2",
   "metadata": {},
   "outputs": [],
   "source": [
    "# only use first sentence and add prefix for conditional generation\n",
    "def preprocess(text: pd.Series, prefix: str = \"\") -> pd.Series:\n",
    "    @pandas_udf(\"string\")\n",
    "    def _preprocess(text: pd.Series) -> pd.Series:\n",
    "        return pd.Series([prefix + s.split(\".\")[0] for s in text])\n",
    "    return _preprocess(text)"
   ]
  },
  {
   "cell_type": "code",
   "execution_count": 43,
   "id": "dc1bbbe3-4232-49e5-80f6-99976524b73b",
   "metadata": {},
   "outputs": [],
   "source": [
    "# only use first 100 rows, since generation takes a while\n",
    "df1 = df.withColumn(\"input\", preprocess(col(\"lines\"), \"Translate English to German: \")).select(\"input\").limit(100)"
   ]
  },
  {
   "cell_type": "code",
   "execution_count": 44,
   "id": "5d10c61c-6102-4d19-8dd6-0c7b5b65343e",
   "metadata": {},
   "outputs": [
    {
     "name": "stdout",
     "output_type": "stream",
     "text": [
      "+------------------------------------------------------------------------------------------------------------------------+\n",
      "|                                                                                                                   input|\n",
      "+------------------------------------------------------------------------------------------------------------------------+\n",
      "|          Translate English to German: This is so overly clichéd you'll want to switch it off after the first 45 minutes|\n",
      "|                                                      Translate English to German: I was very disappointed by this movie|\n",
      "|                                                Translate English to German: I think vampire movies (usually) are wicked|\n",
      "|Translate English to German: Though not a complete waste of time, 'Eighteen' really wasn't all sweet as it pretended ...|\n",
      "|Translate English to German: This film did well at the box office, and the producers of this mess thought the stars h...|\n",
      "|                       Translate English to German: Peter Crawford discovers a comet on a collision course with the moon|\n",
      "|Translate English to German: This tale of the upper-classes getting their come-uppance and wallowing in their high-cl...|\n",
      "|Translate English to German: Words almost fail me to describe how terrible this Irish vanity project (funded by Canad...|\n",
      "|                           Translate English to German: This was the most uninteresting horror flick I have seen to date|\n",
      "|                                                             Translate English to German: Heart of Darkness was terrible|\n",
      "|                               Translate English to German: I saw this movie when it was first released in Pittsburgh Pa|\n",
      "|Translate English to German: It was funny because the whole thing was so unrealistic, I mean, come on, like a pop sta...|\n",
      "|Translate English to German: Watching this movie, you just have to ask: What were they thinking? There are so many no...|\n",
      "|                                   Translate English to German: In a sense, this movie did not even compare to the novel|\n",
      "|Translate English to German: Poor Jane Austen ought to be glad she's not around to see this dreadful wreck of an adap...|\n",
      "|                                     Translate English to German: I gave this movie a four-star rating for a few reasons|\n",
      "|                       Translate English to German: It seems that Dee Snyder ran out of ideas halfway through the script|\n",
      "|Translate English to German: Now, let me see if I have this correct, a lunatic serial killer is going around murderin...|\n",
      "|                         Translate English to German: Tommy Lee Jones was the best Woodroe and no one can play Woodroe F|\n",
      "|Translate English to German: First of all, I would like to say that I am a fan of all of the actors that appear in th...|\n",
      "+------------------------------------------------------------------------------------------------------------------------+\n",
      "only showing top 20 rows\n",
      "\n"
     ]
    }
   ],
   "source": [
    "df1.show(truncate=120)"
   ]
  },
  {
   "cell_type": "code",
   "execution_count": 45,
   "id": "2e0907da-a5d9-4c3b-9db4-ce5e70ca9bb4",
   "metadata": {},
   "outputs": [],
   "source": [
    "def triton_fn(triton_uri, model_name):\n",
    "    import numpy as np\n",
    "    import tritonclient.grpc as grpcclient\n",
    "    \n",
    "    np_types = {\n",
    "      \"BOOL\": np.dtype(np.bool_),\n",
    "      \"INT8\": np.dtype(np.int8),\n",
    "      \"INT16\": np.dtype(np.int16),\n",
    "      \"INT32\": np.dtype(np.int32),\n",
    "      \"INT64\": np.dtype(np.int64),\n",
    "      \"FP16\": np.dtype(np.float16),\n",
    "      \"FP32\": np.dtype(np.float32),\n",
    "      \"FP64\": np.dtype(np.float64),\n",
    "      \"FP64\": np.dtype(np.double),\n",
    "      \"BYTES\": np.dtype(object)\n",
    "    }\n",
    "\n",
    "    client = grpcclient.InferenceServerClient(triton_uri)\n",
    "    model_meta = client.get_model_metadata(model_name)\n",
    "    \n",
    "    def predict(inputs):\n",
    "        if isinstance(inputs, np.ndarray):\n",
    "            # single ndarray input\n",
    "            request = [grpcclient.InferInput(model_meta.inputs[0].name, inputs.shape, model_meta.inputs[0].datatype)]\n",
    "            request[0].set_data_from_numpy(inputs.astype(np_types[model_meta.inputs[0].datatype]))\n",
    "        else:\n",
    "            # dict of multiple ndarray inputs\n",
    "            request = [grpcclient.InferInput(i.name, inputs[i.name].shape, i.datatype) for i in model_meta.inputs]\n",
    "            for i in request:\n",
    "                i.set_data_from_numpy(inputs[i.name()].astype(np_types[i.datatype()]))\n",
    "        \n",
    "        response = client.infer(model_name, inputs=request)\n",
    "        \n",
    "        if len(model_meta.outputs) > 1:\n",
    "            # return dictionary of numpy arrays\n",
    "            return {o.name: response.as_numpy(o.name) for o in model_meta.outputs}\n",
    "        else:\n",
    "            # return single numpy array\n",
    "            return response.as_numpy(model_meta.outputs[0].name)\n",
    "        \n",
    "    return predict"
   ]
  },
  {
   "cell_type": "code",
   "execution_count": 46,
   "id": "9308bdd7-6f67-484d-8b51-dd1e1b2960ba",
   "metadata": {},
   "outputs": [],
   "source": [
    "generate = predict_batch_udf(partial(triton_fn, triton_uri=\"localhost:8001\", model_name=\"hf_generation_tf\"),\n",
    "                             return_type=StringType(),\n",
    "                             input_tensor_shapes=[[1]],\n",
    "                             batch_size=100)"
   ]
  },
  {
   "cell_type": "code",
   "execution_count": 47,
   "id": "38484ffd-370d-492b-8ca4-9eff9f242a9f",
   "metadata": {},
   "outputs": [
    {
     "name": "stderr",
     "output_type": "stream",
     "text": [
      "[Stage 40:>                 (0 + 1) / 1][Stage 46:>                 (0 + 1) / 1]\r"
     ]
    },
    {
     "name": "stdout",
     "output_type": "stream",
     "text": [
      "CPU times: user 9.6 ms, sys: 6.27 ms, total: 15.9 ms\n",
      "Wall time: 3.11 s\n"
     ]
    },
    {
     "name": "stderr",
     "output_type": "stream",
     "text": [
      "                                                                                \r"
     ]
    }
   ],
   "source": [
    "%%time\n",
    "# first pass caches model/fn\n",
    "preds = df1.withColumn(\"preds\", generate(struct(\"input\")))\n",
    "results = preds.collect()"
   ]
  },
  {
   "cell_type": "code",
   "execution_count": 48,
   "id": "ebcb6699-3ac2-4529-ab0f-fab0a5e792da",
   "metadata": {},
   "outputs": [
    {
     "name": "stderr",
     "output_type": "stream",
     "text": [
      "[Stage 40:>                 (0 + 1) / 1][Stage 48:>                 (0 + 1) / 1]\r"
     ]
    },
    {
     "name": "stdout",
     "output_type": "stream",
     "text": [
      "CPU times: user 3.46 ms, sys: 342 μs, total: 3.8 ms\n",
      "Wall time: 990 ms\n"
     ]
    },
    {
     "name": "stderr",
     "output_type": "stream",
     "text": [
      "                                                                                \r"
     ]
    }
   ],
   "source": [
    "%%time\n",
    "preds = df1.withColumn(\"preds\", generate(\"input\"))\n",
    "results = preds.collect()"
   ]
  },
  {
   "cell_type": "code",
   "execution_count": 49,
   "id": "e2ed18ad-d00b-472c-b2c3-047932f2105d",
   "metadata": {},
   "outputs": [
    {
     "name": "stderr",
     "output_type": "stream",
     "text": [
      "[Stage 40:>                 (0 + 1) / 1][Stage 50:>                 (0 + 1) / 1]\r"
     ]
    },
    {
     "name": "stdout",
     "output_type": "stream",
     "text": [
      "CPU times: user 3.44 ms, sys: 522 μs, total: 3.96 ms\n",
      "Wall time: 1.01 s\n"
     ]
    },
    {
     "name": "stderr",
     "output_type": "stream",
     "text": [
      "                                                                                \r"
     ]
    }
   ],
   "source": [
    "%%time\n",
    "preds = df1.withColumn(\"preds\", generate(col(\"input\")))\n",
    "results = preds.collect()"
   ]
  },
  {
   "cell_type": "code",
   "execution_count": 50,
   "id": "0cd64a1c-beb8-47d5-ac6f-e8525bb61176",
   "metadata": {},
   "outputs": [
    {
     "name": "stderr",
     "output_type": "stream",
     "text": [
      "[Stage 40:>                 (0 + 1) / 1][Stage 52:>                 (0 + 1) / 1]\r"
     ]
    },
    {
     "name": "stdout",
     "output_type": "stream",
     "text": [
      "+------------------------------------------------------------+------------------------------------------------------------+\n",
      "|                                                       input|                                                       preds|\n",
      "+------------------------------------------------------------+------------------------------------------------------------+\n",
      "|Translate English to German: This is so overly clichéd yo...|   Das ist so übertrieben klischeehaft, dass Sie es nach den|\n",
      "|Translate English to German: I was very disappointed by t...|                    Ich war sehr enttäuscht über diesen Film|\n",
      "|Translate English to German: I think vampire movies (usua...|Ich denke, dass die Vampire-Filme (normalerweise) schlech...|\n",
      "|Translate English to German: Though not a complete waste ...|Obwohl es sich nicht um eine komplette Verschwendung von ...|\n",
      "|Translate English to German: This film did well at the bo...|Dieser Film hat sich gut an der Boxoffice ereignet, und d...|\n",
      "|Translate English to German: Peter Crawford discovers a c...|Peter Crawford entdeckt ein Komet auf einem Kollisionskur...|\n",
      "|Translate English to German: This tale of the upper-class...|Diese Geschichte, in der die Oberschichten ihren Come-upp...|\n",
      "|Translate English to German: Words almost fail me to desc...|      Ich sage fast nicht, wie schrecklich dieses irische Ei|\n",
      "|Translate English to German: This was the most uninterest...|Dies war der größte Horrorfilm, den ich bisher gesehen habe.|\n",
      "| Translate English to German: Heart of Darkness was terrible|                         Herz der Dunkelheit war schrecklich|\n",
      "|Translate English to German: I saw this movie when it was...| Ich sah diesen Film, als er zum ersten Mal in Pittsburgh Pa|\n",
      "|Translate English to German: It was funny because the who...|        Das Ganze war lustig, denn es war so unrealistisch, |\n",
      "|Translate English to German: Watching this movie, you jus...|Wenn man diesen Film anschaut, muss man einfach fragen: W...|\n",
      "|Translate English to German: In a sense, this movie did n...|In gewisser Weise hat sich dieser Film nicht einmal mit d...|\n",
      "|Translate English to German: Poor Jane Austen ought to be...|Die arme Frau Austen sollte froh sein, dass sie nicht da ...|\n",
      "|Translate English to German: I gave this movie a four-sta...|Ich habe diesen Film aus einigen Gründen vier Sterne bewe...|\n",
      "|Translate English to German: It seems that Dee Snyder ran...|Dee Snyder hat offenbar halb durch das Skript Ideen vermisst|\n",
      "|Translate English to German: Now, let me see if I have th...|Jetzt, lassen Sie mich sehen, ob ich das richtig habe, ei...|\n",
      "|Translate English to German: Tommy Lee Jones was the best...|Tommy Lee Jones war der beste Woodroe und niemand kann Wo...|\n",
      "|Translate English to German: First of all, I would like t...|Zunächst möchte ich sagen, dass ich ein Fan aller Schausp...|\n",
      "+------------------------------------------------------------+------------------------------------------------------------+\n",
      "only showing top 20 rows\n",
      "\n"
     ]
    },
    {
     "name": "stderr",
     "output_type": "stream",
     "text": [
      "                                                                                \r"
     ]
    }
   ],
   "source": [
    "preds.show(truncate=60)"
   ]
  },
  {
   "cell_type": "code",
   "execution_count": 51,
   "id": "af70fed8-0f2b-4ea7-841c-476afdf9b1c0",
   "metadata": {},
   "outputs": [
    {
     "name": "stderr",
     "output_type": "stream",
     "text": [
      "24/10/03 01:09:57 WARN CacheManager: Asked to cache already cached data.\n"
     ]
    }
   ],
   "source": [
    "# only use first 100 rows, since generation takes a while\n",
    "df2 = df.withColumn(\"input\", preprocess(col(\"lines\"), \"Translate English to French: \")).select(\"input\").limit(100).cache()"
   ]
  },
  {
   "cell_type": "code",
   "execution_count": 52,
   "id": "ef075e10-e22c-4236-9e0b-cb47cf2d3d06",
   "metadata": {},
   "outputs": [
    {
     "name": "stdout",
     "output_type": "stream",
     "text": [
      "+------------------------------------------------------------------------------------------------------------------------+\n",
      "|                                                                                                                   input|\n",
      "+------------------------------------------------------------------------------------------------------------------------+\n",
      "|          Translate English to French: This is so overly clichéd you'll want to switch it off after the first 45 minutes|\n",
      "|                                                      Translate English to French: I was very disappointed by this movie|\n",
      "|                                                Translate English to French: I think vampire movies (usually) are wicked|\n",
      "|Translate English to French: Though not a complete waste of time, 'Eighteen' really wasn't all sweet as it pretended ...|\n",
      "|Translate English to French: This film did well at the box office, and the producers of this mess thought the stars h...|\n",
      "|                       Translate English to French: Peter Crawford discovers a comet on a collision course with the moon|\n",
      "|Translate English to French: This tale of the upper-classes getting their come-uppance and wallowing in their high-cl...|\n",
      "|Translate English to French: Words almost fail me to describe how terrible this Irish vanity project (funded by Canad...|\n",
      "|                           Translate English to French: This was the most uninteresting horror flick I have seen to date|\n",
      "|                                                             Translate English to French: Heart of Darkness was terrible|\n",
      "|                               Translate English to French: I saw this movie when it was first released in Pittsburgh Pa|\n",
      "|Translate English to French: It was funny because the whole thing was so unrealistic, I mean, come on, like a pop sta...|\n",
      "|Translate English to French: Watching this movie, you just have to ask: What were they thinking? There are so many no...|\n",
      "|                                   Translate English to French: In a sense, this movie did not even compare to the novel|\n",
      "|Translate English to French: Poor Jane Austen ought to be glad she's not around to see this dreadful wreck of an adap...|\n",
      "|                                     Translate English to French: I gave this movie a four-star rating for a few reasons|\n",
      "|                       Translate English to French: It seems that Dee Snyder ran out of ideas halfway through the script|\n",
      "|Translate English to French: Now, let me see if I have this correct, a lunatic serial killer is going around murderin...|\n",
      "|                         Translate English to French: Tommy Lee Jones was the best Woodroe and no one can play Woodroe F|\n",
      "|Translate English to French: First of all, I would like to say that I am a fan of all of the actors that appear in th...|\n",
      "+------------------------------------------------------------------------------------------------------------------------+\n",
      "only showing top 20 rows\n",
      "\n"
     ]
    },
    {
     "name": "stderr",
     "output_type": "stream",
     "text": [
      "                                                                                \r"
     ]
    }
   ],
   "source": [
    "df2.show(truncate=120)"
   ]
  },
  {
   "cell_type": "code",
   "execution_count": 53,
   "id": "2e7e4af8-b815-4375-b851-8368309ee8e1",
   "metadata": {},
   "outputs": [
    {
     "name": "stderr",
     "output_type": "stream",
     "text": [
      "[Stage 40:>                 (0 + 1) / 1][Stage 56:>                 (0 + 1) / 1]\r"
     ]
    },
    {
     "name": "stdout",
     "output_type": "stream",
     "text": [
      "CPU times: user 2.5 ms, sys: 1.45 ms, total: 3.95 ms\n",
      "Wall time: 1.31 s\n"
     ]
    },
    {
     "name": "stderr",
     "output_type": "stream",
     "text": [
      "                                                                                \r"
     ]
    }
   ],
   "source": [
    "%%time\n",
    "preds = df2.withColumn(\"preds\", generate(struct(\"input\")))\n",
    "results = preds.collect()"
   ]
  },
  {
   "cell_type": "code",
   "execution_count": 54,
   "id": "7b0aefb0-a96b-4791-a23c-1ce9b24eb20c",
   "metadata": {},
   "outputs": [
    {
     "name": "stderr",
     "output_type": "stream",
     "text": [
      "[Stage 40:>                 (0 + 1) / 1][Stage 58:>                 (0 + 1) / 1]\r"
     ]
    },
    {
     "name": "stdout",
     "output_type": "stream",
     "text": [
      "CPU times: user 1.07 ms, sys: 2.05 ms, total: 3.13 ms\n",
      "Wall time: 1.08 s\n"
     ]
    },
    {
     "name": "stderr",
     "output_type": "stream",
     "text": [
      "                                                                                \r"
     ]
    }
   ],
   "source": [
    "%%time\n",
    "preds = df2.withColumn(\"preds\", generate(\"input\"))\n",
    "results = preds.collect()"
   ]
  },
  {
   "cell_type": "code",
   "execution_count": 55,
   "id": "1214b75b-a373-4579-b4c6-0cb8627da776",
   "metadata": {},
   "outputs": [
    {
     "name": "stderr",
     "output_type": "stream",
     "text": [
      "[Stage 40:>                 (0 + 1) / 1][Stage 60:>                 (0 + 1) / 1]\r"
     ]
    },
    {
     "name": "stdout",
     "output_type": "stream",
     "text": [
      "CPU times: user 1.15 ms, sys: 2.72 ms, total: 3.87 ms\n",
      "Wall time: 996 ms\n"
     ]
    },
    {
     "name": "stderr",
     "output_type": "stream",
     "text": [
      "                                                                                \r"
     ]
    }
   ],
   "source": [
    "%%time\n",
    "preds = df2.withColumn(\"preds\", generate(col(\"input\")))\n",
    "results = preds.collect()"
   ]
  },
  {
   "cell_type": "code",
   "execution_count": 56,
   "id": "c9dbd21f-9e37-4221-b765-80ba8c80b884",
   "metadata": {},
   "outputs": [
    {
     "name": "stderr",
     "output_type": "stream",
     "text": [
      "[Stage 40:>                 (0 + 1) / 1][Stage 62:>                 (0 + 1) / 1]\r"
     ]
    },
    {
     "name": "stdout",
     "output_type": "stream",
     "text": [
      "+------------------------------------------------------------+------------------------------------------------------------+\n",
      "|                                                       input|                                                       preds|\n",
      "+------------------------------------------------------------+------------------------------------------------------------+\n",
      "|Translate English to French: This is so overly clichéd yo...|                 Vous ne pouvez pas en tirer d'un tel cliché|\n",
      "|Translate English to French: I was very disappointed by t...|                               Je suis très déçu par ce film|\n",
      "|Translate English to French: I think vampire movies (usua...|Je pense que les films vampires (habituellement) sont méc...|\n",
      "|Translate English to French: Though not a complete waste ...|    Bien qu'il ne soit pas un gaspillage complet de temps, '|\n",
      "|Translate English to French: This film did well at the bo...|               Ce film a bien avancé à la salle de cinéma et|\n",
      "|Translate English to French: Peter Crawford discovers a c...|Peter Crawford découvre une comète sur un parcours de col...|\n",
      "|Translate English to French: This tale of the upper-class...|Cette histoire des classes supérieures qui prennent leur ...|\n",
      "|Translate English to French: Words almost fail me to desc...|    Les mots ne me permettent presque pas de décrire l'inten|\n",
      "|Translate English to French: This was the most uninterest...|         Ce fut le plus inquiétant et le plus inquiétant d'h|\n",
      "| Translate English to French: Heart of Darkness was terrible|                              Heart of Darkness was terrible|\n",
      "|Translate English to French: I saw this movie when it was...|J'ai vu ce film lorsqu'il a été publié pour la première f...|\n",
      "|Translate English to French: It was funny because the who...|     Il était dommage, car l'ensemble était si irréaliste, c|\n",
      "|Translate English to French: Watching this movie, you jus...|Vous devez simplement vous demander : « Que pense-t-il? » Il|\n",
      "|Translate English to French: In a sense, this movie did n...|                                  l’inverse, il n’y a pas eu|\n",
      "|Translate English to French: Poor Jane Austen ought to be...|                  l'instar de Jane Austen, elle devrait se f|\n",
      "|Translate English to French: I gave this movie a four-sta...|                 Je n'ai pas obtenu de cote de quatre étoile|\n",
      "|Translate English to French: It seems that Dee Snyder ran...|                Il semble que Dee Snyder n’ait pas eu d’idée|\n",
      "|Translate English to French: Now, let me see if I have th...|Je vais maintenant voir si je peux l'avoir correctement, ...|\n",
      "|Translate English to French: Tommy Lee Jones was the best...|Tommy Lee Jones était le meilleur Woodroe et personne ne ...|\n",
      "|Translate English to French: First of all, I would like t...|Je voudrais tout d'abord dire que je suis un fan de tous ...|\n",
      "+------------------------------------------------------------+------------------------------------------------------------+\n",
      "only showing top 20 rows\n",
      "\n"
     ]
    },
    {
     "name": "stderr",
     "output_type": "stream",
     "text": [
      "                                                                                \r"
     ]
    }
   ],
   "source": [
    "preds.show(truncate=60)"
   ]
  },
  {
   "cell_type": "markdown",
   "id": "919e3113-64dd-482a-9233-6607b3f63c1e",
   "metadata": {
    "tags": []
   },
   "source": [
    "#### Stop Triton Server on each executor"
   ]
  },
  {
   "cell_type": "code",
   "execution_count": 57,
   "id": "425d3b28-7705-45ba-8a18-ad34fc895219",
   "metadata": {},
   "outputs": [
    {
     "name": "stderr",
     "output_type": "stream",
     "text": [
      "                                                                                \r"
     ]
    },
    {
     "data": {
      "text/plain": [
       "[True]"
      ]
     },
     "execution_count": 57,
     "metadata": {},
     "output_type": "execute_result"
    }
   ],
   "source": [
    "def stop_triton(it):\n",
    "    import docker\n",
    "    import time\n",
    "    \n",
    "    client=docker.from_env()\n",
    "    containers=client.containers.list(filters={\"name\": \"spark-triton\"})\n",
    "    print(\">>>> stopping containers: {}\".format([c.short_id for c in containers]))\n",
    "    if containers:\n",
    "        container=containers[0]\n",
    "        container.stop(timeout=120)\n",
    "\n",
    "    return [True]\n",
    "\n",
    "nodeRDD.barrier().mapPartitions(stop_triton).collect()"
   ]
  },
  {
   "cell_type": "code",
   "execution_count": 58,
   "id": "2dec80ca-7a7c-46a9-97c0-7afb1572f5b9",
   "metadata": {},
   "outputs": [],
   "source": [
    "spark.stop()"
   ]
  },
  {
   "cell_type": "code",
   "execution_count": null,
   "id": "f43118ab-fc0a-4f64-a126-4302e615654a",
   "metadata": {},
   "outputs": [],
   "source": []
  }
 ],
 "metadata": {
  "kernelspec": {
   "display_name": "Python 3 (ipykernel)",
   "language": "python",
   "name": "python3"
  },
  "language_info": {
   "codemirror_mode": {
    "name": "ipython",
    "version": 3
   },
   "file_extension": ".py",
   "mimetype": "text/x-python",
   "name": "python",
   "nbconvert_exporter": "python",
   "pygments_lexer": "ipython3",
   "version": "3.11.9"
  }
 },
 "nbformat": 4,
 "nbformat_minor": 5
}
