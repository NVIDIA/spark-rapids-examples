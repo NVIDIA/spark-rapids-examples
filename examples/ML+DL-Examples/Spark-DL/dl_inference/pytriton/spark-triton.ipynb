{
 "cells": [
  {
   "cell_type": "markdown",
   "metadata": {},
   "source": [
    "## PySpark"
   ]
  },
  {
   "cell_type": "code",
   "execution_count": 1,
   "metadata": {},
   "outputs": [],
   "source": [
    "from pyspark.sql.types import *\n",
    "from pyspark.sql import SparkSession\n",
    "from pyspark.sql.functions import pandas_udf, col, struct\n",
    "from pyspark.ml.functions import predict_batch_udf\n",
    "from pyspark import SparkConf"
   ]
  },
  {
   "cell_type": "code",
   "execution_count": 2,
   "metadata": {},
   "outputs": [],
   "source": [
    "import os\n",
    "import pandas as pd\n",
    "from datasets import load_dataset"
   ]
  },
  {
   "cell_type": "code",
   "execution_count": 3,
   "metadata": {},
   "outputs": [
    {
     "name": "stdout",
     "output_type": "stream",
     "text": [
      "No active Spark session found, initializing manually.\n",
      "File already exists. Skipping download.\n"
     ]
    },
    {
     "name": "stderr",
     "output_type": "stream",
     "text": [
      "24/10/28 21:00:53 WARN Utils: Your hostname, cb4ae00-lcedt resolves to a loopback address: 127.0.1.1; using 10.110.47.100 instead (on interface eno1)\n",
      "24/10/28 21:00:53 WARN Utils: Set SPARK_LOCAL_IP if you need to bind to another address\n",
      "24/10/28 21:00:54 WARN NativeCodeLoader: Unable to load native-hadoop library for your platform... using builtin-java classes where applicable\n",
      "Setting default log level to \"WARN\".\n",
      "To adjust logging level use sc.setLogLevel(newLevel). For SparkR, use setLogLevel(newLevel).\n",
      "24/10/28 21:00:54 WARN RapidsPluginUtils: RAPIDS Accelerator 24.10.0 using cudf 24.10.0, private revision bd4e99e18e20234ee0c54f95f4b0bfce18a6255e\n",
      "24/10/28 21:00:54 WARN RapidsPluginUtils: RAPIDS Accelerator is enabled, to disable GPU support set `spark.rapids.sql.enabled` to false.\n"
     ]
    }
   ],
   "source": [
    "def get_rapids_jar():\n",
    "    import os\n",
    "    import requests\n",
    "\n",
    "    SPARK_RAPIDS_VERSION = \"24.10.0\"\n",
    "    SCALA_VERSION = \"2.12\"\n",
    "    rapids_jar = f\"rapids-4-spark_{SCALA_VERSION}-{SPARK_RAPIDS_VERSION}.jar\"\n",
    "    if not os.path.exists(rapids_jar):\n",
    "        print(\"Downloading spark rapids jar\")\n",
    "        url = f\"https://repo1.maven.org/maven2/com/nvidia/rapids-4-spark_{SCALA_VERSION}/{SPARK_RAPIDS_VERSION}/{rapids_jar}\"\n",
    "        response = requests.get(url)\n",
    "        if response.status_code == 200:\n",
    "            with open(rapids_jar, \"wb\") as f:\n",
    "                f.write(response.content)\n",
    "            print(f\"File '{rapids_jar}' downloaded and saved successfully.\")\n",
    "        else:\n",
    "            print(f\"Failed to download the file. Status code: {response.status_code}\")\n",
    "    else:\n",
    "        print(\"File already exists. Skipping download.\")\n",
    "    return rapids_jar\n",
    "\n",
    "def initialize_spark(rapids_jar: str):\n",
    "    '''\n",
    "    If no active Spark session is found, initialize and configure a new one. \n",
    "    '''\n",
    "    import socket\n",
    "    hostname = socket.gethostname()\n",
    "    conda_env = os.environ.get('CONDA_PREFIX')\n",
    "\n",
    "    conf = SparkConf()\n",
    "    conf.setMaster(f\"spark://{hostname}:7077\") # Assuming master is on host and default port. \n",
    "    conf.set(\"spark.task.maxFailures\", \"1\")\n",
    "    conf.set(\"spark.executor.memory\", \"8g\")\n",
    "    conf.set(\"spark.rpc.message.maxSize\", \"1024\")\n",
    "    conf.set(\"spark.sql.pyspark.jvmStacktrace.enabled\", \"true\")\n",
    "    conf.set(\"spark.sql.execution.pyspark.udf.simplifiedTraceback.enabled\", \"false\")\n",
    "    conf.set(\"spark.sql.execution.arrow.pyspark.enabled\", \"true\")\n",
    "    conf.set(\"spark.python.worker.reuse\", \"true\")\n",
    "    conf.set(\"spark.rapids.ml.uvm.enabled\", \"true\")\n",
    "    conf.set(\"spark.task.resource.gpu.amount\", \"1\")\n",
    "    conf.set(\"spark.executor.resource.gpu.amount\", \"1\")\n",
    "    conf.set(\"spark.jars\", rapids_jar)\n",
    "    conf.set(\"spark.pyspark.python\", f\"{conda_env}/bin/python\")\n",
    "    conf.set(\"spark.pyspark.driver.python\", f\"{conda_env}/bin/python\")\n",
    "    conf.set(\"spark.executorEnv.PYTHONPATH\", rapids_jar)\n",
    "    conf.set(\"spark.executorEnv.LD_LIBRARY_PATH\", f\"{conda_env}/lib:{conda_env}/lib/python3.11/site-packages/nvidia_pytriton.libs:$LD_LIBRARY_PATH\")\n",
    "    conf.set(\"spark.rapids.memory.gpu.minAllocFraction\", \"0.0001\")\n",
    "    conf.set(\"spark.plugins\", \"com.nvidia.spark.SQLPlugin\")\n",
    "    conf.set(\"spark.locality.wait\", \"0s\")\n",
    "    conf.set(\"spark.sql.cache.serializer\", \"com.nvidia.spark.ParquetCachedBatchSerializer\")\n",
    "    conf.set(\"spark.rapids.memory.gpu.pooling.enabled\", \"false\")\n",
    "    conf.set(\"spark.sql.execution.sortBeforeRepartition\", \"false\")\n",
    "    conf.set(\"spark.rapids.sql.format.parquet.reader.type\", \"MULTITHREADED\")\n",
    "    conf.set(\"spark.rapids.sql.format.parquet.multiThreadedRead.maxNumFilesParallel\", \"20\")\n",
    "    conf.set(\"spark.rapids.sql.multiThreadedRead.numThreads\", \"20\")\n",
    "    conf.set(\"spark.rapids.sql.python.gpu.enabled\", \"true\")\n",
    "    conf.set(\"spark.rapids.memory.pinnedPool.size\", \"2G\")\n",
    "    conf.set(\"spark.python.daemon.module\", \"rapids.daemon\")\n",
    "    conf.set(\"spark.rapids.sql.batchSizeBytes\", \"512m\")\n",
    "    conf.set(\"spark.sql.adaptive.enabled\", \"false\")\n",
    "    conf.set(\"spark.sql.files.maxPartitionBytes\", \"512m\")\n",
    "    conf.set(\"spark.rapids.sql.concurrentGpuTasks\", \"4\")\n",
    "    conf.set(\"spark.sql.execution.arrow.maxRecordsPerBatch\", \"1000\")\n",
    "    conf.set(\"spark.rapids.sql.explain\", \"NONE\")\n",
    "    \n",
    "    spark = SparkSession.builder.appName(\"spark-dl-inference\").config(conf=conf).getOrCreate()\n",
    "    return spark\n",
    "\n",
    "# Check if Spark session is already active, if not, initialize it\n",
    "if 'spark' not in globals():\n",
    "    print(\"No active Spark session found, initializing manually.\")\n",
    "    rapids_jar = os.environ.get('RAPIDS_JAR')\n",
    "    if rapids_jar is None:\n",
    "        rapids_jar = get_rapids_jar()\n",
    "    spark = initialize_spark(rapids_jar)\n",
    "else:\n",
    "    print(\"Using existing Spark session.\")"
   ]
  },
  {
   "cell_type": "code",
   "execution_count": 4,
   "metadata": {},
   "outputs": [],
   "source": [
    "dataset = load_dataset(\"imdb\", split=\"test\").to_pandas().drop(columns=\"label\")"
   ]
  },
  {
   "cell_type": "markdown",
   "metadata": {},
   "source": [
    "#### Create PySpark DataFrame"
   ]
  },
  {
   "cell_type": "code",
   "execution_count": 5,
   "metadata": {},
   "outputs": [
    {
     "data": {
      "text/plain": [
       "StructType([StructField('text', StringType(), True)])"
      ]
     },
     "execution_count": 5,
     "metadata": {},
     "output_type": "execute_result"
    }
   ],
   "source": [
    "df = spark.createDataFrame(dataset).repartition(8)\n",
    "df.schema"
   ]
  },
  {
   "cell_type": "code",
   "execution_count": 6,
   "metadata": {},
   "outputs": [
    {
     "name": "stderr",
     "output_type": "stream",
     "text": [
      "24/10/28 21:01:00 WARN TaskSetManager: Stage 0 contains a task of very large size (4021 KiB). The maximum recommended task size is 1000 KiB.\n",
      "                                                                                \r"
     ]
    },
    {
     "data": {
      "text/plain": [
       "[Row(text=\"Isaac Florentine has made some of the best western Martial Arts action movies ever produced. In particular US Seals 2, Cold Harvest, Special Forces and Undisputed 2 are all action classics. You can tell Isaac has a real passion for the genre and his films are always eventful, creative and sharp affairs, with some of the best fight sequences an action fan could hope for. In particular he has found a muse with Scott Adkins, as talented an actor and action performer as you could hope for. This is borne out with Special Forces and Undisputed 2, but unfortunately The Shepherd just doesn't live up to their abilities.<br /><br />There is no doubt that JCVD looks better here fight-wise than he has done in years, especially in the fight he has (for pretty much no reason) in a prison cell, and in the final showdown with Scott, but look in his eyes. JCVD seems to be dead inside. There's nothing in his eyes at all. It's like he just doesn't care about anything throughout the whole film. And this is the leading man.<br /><br />There are other dodgy aspects to the film, script-wise and visually, but the main problem is that you are utterly unable to empathise with the hero of the film. A genuine shame as I know we all wanted this film to be as special as it genuinely could have been. There are some good bits, mostly the action scenes themselves. This film had a terrific director and action choreographer, and an awesome opponent for JCVD to face down. This could have been the one to bring the veteran action star back up to scratch in the balls-out action movie stakes.<br /><br />Sincerely a shame that this didn't happen.\")]"
      ]
     },
     "execution_count": 6,
     "metadata": {},
     "output_type": "execute_result"
    }
   ],
   "source": [
    "df.take(1)"
   ]
  },
  {
   "cell_type": "code",
   "execution_count": 7,
   "metadata": {},
   "outputs": [
    {
     "name": "stderr",
     "output_type": "stream",
     "text": [
      "24/10/28 21:01:01 WARN TaskSetManager: Stage 2 contains a task of very large size (4021 KiB). The maximum recommended task size is 1000 KiB.\n",
      "                                                                                \r"
     ]
    }
   ],
   "source": [
    "df.write.mode(\"overwrite\").parquet(\"imdb_test\")"
   ]
  },
  {
   "cell_type": "markdown",
   "metadata": {},
   "source": [
    "#### Load and preprocess DataFrame"
   ]
  },
  {
   "cell_type": "code",
   "execution_count": 8,
   "metadata": {},
   "outputs": [],
   "source": [
    "def preprocess(text: pd.Series, prefix: str = \"\") -> pd.Series:\n",
    "    @pandas_udf(\"string\")\n",
    "    def _preprocess(text: pd.Series) -> pd.Series:\n",
    "        return pd.Series([prefix + s.split(\".\")[0] for s in text])\n",
    "    return _preprocess(text)"
   ]
  },
  {
   "cell_type": "code",
   "execution_count": 9,
   "metadata": {},
   "outputs": [
    {
     "name": "stdout",
     "output_type": "stream",
     "text": [
      "+------------------------------------------------------------------------------------------------------------------------+\n",
      "|                                                                                                                    text|\n",
      "+------------------------------------------------------------------------------------------------------------------------+\n",
      "|First off let me say, If you haven't enjoyed a Van Damme movie since bloodsport, you probably will not like this movi...|\n",
      "|I first watched this movie back in the mid/late 80's, when I was a kid. We couldn't even get all the way through it. ...|\n",
      "|Low budget horror movie. If you don't raise your expectations too high, you'll probably enjoy this little flick. Begi...|\n",
      "|Four things intrigued me as to this film - firstly, it stars Carly Pope (of \"Popular\" fame), who is always a pleasure...|\n",
      "|Beware, My Lovely (1952) Dir: Harry Horner <br /><br />Production: The Filmmakers/RKO Radio Pictures<br /><br />Credu...|\n",
      "|Now I understand that this took two months to shoot. Really? I'm pretty certain my crew could do it in less than a we...|\n",
      "|This film is about a couple that decides to take a vacation to The Everglades along with another couple and the famil...|\n",
      "|A really very bad movie, with a very few good moments or qualities.<br /><br />It starts off with pregnant Linda Blai...|\n",
      "|Not like I went in expecting a lot out of it, but I was at least hoping for a fun dumb big budget movie. This isn't e...|\n",
      "|One of the last surviving horror screen greats - Conrad Radzoff - dies and has his body placed in a mausoleum with te...|\n",
      "|I was completely bored with this film, melodramatic for no apparent reason. Every thing just becomes so serious and p...|\n",
      "|Maniratnam, who in India, is often compared with prominent world film makers and is regarded a genius in film-making,...|\n",
      "|\"Cover Girl\" is a lacklustre WWII musical with absolutely nothing memorable about it, save for its signature song, \"L...|\n",
      "|This movie cannot be serious because it has a nerdy looking kid named Curtis killing people. The other two psycho kid...|\n",
      "|Julie Andrews satirically prods her own goody-two-shoes image in this overproduced musical comedy-drama, but if she a...|\n",
      "|Wow, another Kevin Costner hero movie. Postman, Tin Cup, Waterworld, Bodyguard, Wyatt Earp, Robin Hood, even that bas...|\n",
      "|This movie should have been billed as three movie-summaries linked together to form a full-length feature film (inclu...|\n",
      "|**SPOILERS** The third and mercifully last of the Aztec Mummy trilogy in the fact that the series major star-besides ...|\n",
      "|First of all, I wasn't sure who this film was aimed at - it seemed like a story for kids but had stuff in it kids wou...|\n",
      "|I saw this only because my 10-yr-old was bored. He and his friend hated it but of course liked being at the movies. T...|\n",
      "+------------------------------------------------------------------------------------------------------------------------+\n",
      "only showing top 20 rows\n",
      "\n"
     ]
    }
   ],
   "source": [
    "df = spark.read.parquet(\"imdb_test\").limit(512)\n",
    "df.show(truncate=120)"
   ]
  },
  {
   "cell_type": "code",
   "execution_count": 10,
   "metadata": {},
   "outputs": [
    {
     "name": "stderr",
     "output_type": "stream",
     "text": [
      "[Stage 7:============================================>              (6 + 1) / 8]\r"
     ]
    },
    {
     "name": "stdout",
     "output_type": "stream",
     "text": [
      "+--------------------------------------------------------------------------------------------------------------------------------+\n",
      "|                                                                                                                           input|\n",
      "+--------------------------------------------------------------------------------------------------------------------------------+\n",
      "|translate English to French: First off let me say, If you haven't enjoyed a Van Damme movie since bloodsport, you probably wi...|\n",
      "|                             translate English to French: I first watched this movie back in the mid/late 80's, when I was a kid|\n",
      "|                                                                            translate English to French: Low budget horror movie|\n",
      "|translate English to French: Four things intrigued me as to this film - firstly, it stars Carly Pope (of \"Popular\" fame), who...|\n",
      "|translate English to French: Beware, My Lovely (1952) Dir: Harry Horner <br /><br />Production: The Filmmakers/RKO Radio Pict...|\n",
      "|                                                translate English to French: Now I understand that this took two months to shoot|\n",
      "|translate English to French: This film is about a couple that decides to take a vacation to The Everglades along with another...|\n",
      "|                                 translate English to French: A really very bad movie, with a very few good moments or qualities|\n",
      "|translate English to French: Not like I went in expecting a lot out of it, but I was at least hoping for a fun dumb big budge...|\n",
      "|translate English to French: One of the last surviving horror screen greats - Conrad Radzoff - dies and has his body placed i...|\n",
      "|                         translate English to French: I was completely bored with this film, melodramatic for no apparent reason|\n",
      "|translate English to French: Maniratnam, who in India, is often compared with prominent world film makers and is regarded a g...|\n",
      "|translate English to French: \"Cover Girl\" is a lacklustre WWII musical with absolutely nothing memorable about it, save for i...|\n",
      "|        translate English to French: This movie cannot be serious because it has a nerdy looking kid named Curtis killing people|\n",
      "|translate English to French: Julie Andrews satirically prods her own goody-two-shoes image in this overproduced musical comed...|\n",
      "|                                                              translate English to French: Wow, another Kevin Costner hero movie|\n",
      "|translate English to French: This movie should have been billed as three movie-summaries linked together to form a full-lengt...|\n",
      "|translate English to French: **SPOILERS** The third and mercifully last of the Aztec Mummy trilogy in the fact that the serie...|\n",
      "|translate English to French: First of all, I wasn't sure who this film was aimed at - it seemed like a story for kids but had...|\n",
      "|                                                     translate English to French: I saw this only because my 10-yr-old was bored|\n",
      "+--------------------------------------------------------------------------------------------------------------------------------+\n",
      "only showing top 20 rows\n",
      "\n"
     ]
    },
    {
     "name": "stderr",
     "output_type": "stream",
     "text": [
      "                                                                                \r"
     ]
    }
   ],
   "source": [
    "input_df = df.select(preprocess(col(\"text\"), \"translate English to French: \").alias(\"input\")).cache()\n",
    "input_df.show(truncate=128)"
   ]
  },
  {
   "cell_type": "markdown",
   "metadata": {},
   "source": [
    "## Inference using Spark DL API"
   ]
  },
  {
   "cell_type": "code",
   "execution_count": 11,
   "metadata": {},
   "outputs": [],
   "source": [
    "def predict_batch_fn():\n",
    "    import numpy as np\n",
    "    import torch\n",
    "    from transformers import T5ForConditionalGeneration, T5Tokenizer\n",
    "    \n",
    "    print(f\"Initializing model.\")\n",
    "    device = torch.device(\"cuda\" if torch.cuda.is_available() else \"cpu\")\n",
    "    print(f\"Using {device} device.\")\n",
    "    model = T5ForConditionalGeneration.from_pretrained(\"t5-small\").to(device)\n",
    "    tokenizer = T5Tokenizer.from_pretrained(\"t5-small\")\n",
    "\n",
    "    def predict(inputs):\n",
    "        flattened = np.squeeze(inputs).tolist()\n",
    "        inputs = tokenizer(flattened, \n",
    "                           padding=True,\n",
    "                           return_tensors=\"pt\").to(device)\n",
    "        outputs = model.generate(input_ids=inputs[\"input_ids\"],\n",
    "                                 attention_mask=inputs[\"attention_mask\"],\n",
    "                                 max_length=128)\n",
    "        string_outputs = np.array([tokenizer.decode(o, skip_special_tokens=True) for o in outputs])\n",
    "        print(\"predict: {}\".format(len(flattened)))\n",
    "        \n",
    "        return string_outputs\n",
    "    \n",
    "    return predict"
   ]
  },
  {
   "cell_type": "code",
   "execution_count": 12,
   "metadata": {},
   "outputs": [],
   "source": [
    "generate = predict_batch_udf(predict_batch_fn,\n",
    "                             return_type=StringType(),\n",
    "                             batch_size=128)"
   ]
  },
  {
   "cell_type": "code",
   "execution_count": 13,
   "metadata": {},
   "outputs": [
    {
     "name": "stderr",
     "output_type": "stream",
     "text": [
      "[Stage 10:>                                                         (0 + 1) / 1]\r"
     ]
    },
    {
     "name": "stdout",
     "output_type": "stream",
     "text": [
      "CPU times: user 5.14 ms, sys: 2.09 ms, total: 7.22 ms\n",
      "Wall time: 5.86 s\n"
     ]
    },
    {
     "name": "stderr",
     "output_type": "stream",
     "text": [
      "                                                                                \r"
     ]
    }
   ],
   "source": [
    "%%time\n",
    "# first pass caches model/fn\n",
    "preds = input_df.withColumn(\"preds\", generate(struct(\"input\")))\n",
    "results = preds.collect()"
   ]
  },
  {
   "cell_type": "code",
   "execution_count": 14,
   "metadata": {},
   "outputs": [
    {
     "name": "stderr",
     "output_type": "stream",
     "text": [
      "[Stage 12:>                                                         (0 + 1) / 1]\r"
     ]
    },
    {
     "name": "stdout",
     "output_type": "stream",
     "text": [
      "CPU times: user 3.5 ms, sys: 1.34 ms, total: 4.84 ms\n",
      "Wall time: 3.79 s\n"
     ]
    },
    {
     "name": "stderr",
     "output_type": "stream",
     "text": [
      "                                                                                \r"
     ]
    }
   ],
   "source": [
    "%%time\n",
    "preds = input_df.withColumn(\"preds\", generate(\"input\"))\n",
    "results = preds.collect()"
   ]
  },
  {
   "cell_type": "code",
   "execution_count": 15,
   "metadata": {},
   "outputs": [
    {
     "name": "stderr",
     "output_type": "stream",
     "text": [
      "[Stage 14:>                                                         (0 + 1) / 1]\r"
     ]
    },
    {
     "name": "stdout",
     "output_type": "stream",
     "text": [
      "CPU times: user 2.87 ms, sys: 1.92 ms, total: 4.79 ms\n",
      "Wall time: 3.94 s\n"
     ]
    },
    {
     "name": "stderr",
     "output_type": "stream",
     "text": [
      "                                                                                \r"
     ]
    }
   ],
   "source": [
    "%%time\n",
    "preds = input_df.withColumn(\"preds\", generate(col(\"input\")))\n",
    "results = preds.collect()"
   ]
  },
  {
   "cell_type": "code",
   "execution_count": 16,
   "metadata": {},
   "outputs": [
    {
     "name": "stdout",
     "output_type": "stream",
     "text": [
      "+--------------------------------------------------------------------------------------------------------------------------------+--------------------------------------------------------------------------------------------------------------------------------+\n",
      "|                                                                                                                           input|                                                                                                                           preds|\n",
      "+--------------------------------------------------------------------------------------------------------------------------------+--------------------------------------------------------------------------------------------------------------------------------+\n",
      "|translate English to French: First off let me say, If you haven't enjoyed a Van Damme movie since bloodsport, you probably wi...|Je voudrais tout d'abord dire que si vous n'avez pas eu d'intérêt pour un film Van Damme depuis le sport de sang, vous n'aime...|\n",
      "|                             translate English to French: I first watched this movie back in the mid/late 80's, when I was a kid|                                                               J'ai vu ce film à la mi-fin des années 80, quand je étais enfant.|\n",
      "|                                                                            translate English to French: Low budget horror movie|                                                                                                  Film d'horreur à faible budget|\n",
      "|translate English to French: Four things intrigued me as to this film - firstly, it stars Carly Pope (of \"Popular\" fame), who...|Quatre choses m'intolérent sur ce film - d'abord, il étoile Carly Pope (de la fame Populaire), qui est toujours un plaisir à ...|\n",
      "|translate English to French: Beware, My Lovely (1952) Dir: Harry Horner <br /><br />Production: The Filmmakers/RKO Radio Pict...|Beware, My Lovely (1952) Dir: Harry Horner br />br />Production: The Filmmakers/RKO Radio Picturesbr />br />Credulity-straini...|\n",
      "|                                                translate English to French: Now I understand that this took two months to shoot|                                                                    Je comprends maintenant que cela a pris deux mois pour tirer|\n",
      "|translate English to French: This film is about a couple that decides to take a vacation to The Everglades along with another...|       Ce film est un couple qui décide de prendre des vacances dans les Everglades, avec un autre couple et le chien de famille|\n",
      "|                                 translate English to French: A really very bad movie, with a very few good moments or qualities|                                                                Un film vraiment très mauvais, avec quelques moments ou qualités|\n",
      "|translate English to French: Not like I went in expecting a lot out of it, but I was at least hoping for a fun dumb big budge...|                Pas comme je m'attendais à en obtenir beaucoup, mais j'espérais au moins un film amusant et bénus à budget grand|\n",
      "|translate English to French: One of the last surviving horror screen greats - Conrad Radzoff - dies and has his body placed i...|L'un des derniers grands écrans d'horreur survivants - Conrad Radzoff - meure et a son corps placé dans un mausoleum avec des...|\n",
      "|                         translate English to French: I was completely bored with this film, melodramatic for no apparent reason|                                                 Je n'ai pas été ennuié par ce film, melodramatique pour aucune raison apparente|\n",
      "|translate English to French: Maniratnam, who in India, is often compared with prominent world film makers and is regarded a g...|Maniratnam, qui, en Inde, est souvent comparé à des réalisateurs de films mondiaux éminents et est considéré comme un génie d...|\n",
      "|translate English to French: \"Cover Girl\" is a lacklustre WWII musical with absolutely nothing memorable about it, save for i...|\"Cover Girl\" est une musique d'une époque de la Deuxième Guerre mondiale et n'est absolument pas mémorable, sauf pour sa chan...|\n",
      "|        translate English to French: This movie cannot be serious because it has a nerdy looking kid named Curtis killing people|                                              Ce film ne peut être sérieux parce qu'il a un enfant nerd et salope tuant des gens|\n",
      "|translate English to French: Julie Andrews satirically prods her own goody-two-shoes image in this overproduced musical comed...|Julie Andrews s'en acquitte de sa propre image de sa sa sa sa sa sa sa sa sa sa sa sa sa sa sa sa sa sa sa sa sa sa sa sa sa ...|\n",
      "|                                                              translate English to French: Wow, another Kevin Costner hero movie|                                                                                          Wow, un autre héros Kevin Costner film|\n",
      "|translate English to French: This movie should have been billed as three movie-summaries linked together to form a full-lengt...|Ce film aurait dû être décrit comme trois sommets de films liés ensemble pour former un long métrage (y compris beaucoup de p...|\n",
      "|translate English to French: **SPOILERS** The third and mercifully last of the Aztec Mummy trilogy in the fact that the serie...|**SPOILERS** La troisième et merciusement dernière de la trilogie Aztec Mummy en le fait que la série principale étoile-outre...|\n",
      "|translate English to French: First of all, I wasn't sure who this film was aimed at - it seemed like a story for kids but had...|Je ne savais pas à qui ce film était destiné - il semblait une histoire pour les enfants mais avait des choses dans elle, les...|\n",
      "|                                                     translate English to French: I saw this only because my 10-yr-old was bored|                                                            Je ne l'ai vu que parce que mon enfant de 10 ans n'était pas ennuyé.|\n",
      "+--------------------------------------------------------------------------------------------------------------------------------+--------------------------------------------------------------------------------------------------------------------------------+\n",
      "only showing top 20 rows\n",
      "\n"
     ]
    }
   ],
   "source": [
    "preds.show(truncate=128)"
   ]
  },
  {
   "cell_type": "markdown",
   "metadata": {},
   "source": [
    "## Using Triton Inference Server"
   ]
  },
  {
   "cell_type": "code",
   "execution_count": 17,
   "metadata": {},
   "outputs": [],
   "source": [
    "from functools import partial"
   ]
  },
  {
   "cell_type": "code",
   "execution_count": 18,
   "metadata": {},
   "outputs": [],
   "source": [
    "num_executors = 1\n",
    "url = \"localhost\"\n",
    "model_name = \"ConditionalGeneration\""
   ]
  },
  {
   "cell_type": "code",
   "execution_count": 19,
   "metadata": {},
   "outputs": [
    {
     "name": "stderr",
     "output_type": "stream",
     "text": [
      "[Stage 17:>                                                         (0 + 1) / 1]\r"
     ]
    },
    {
     "name": "stdout",
     "output_type": "stream",
     "text": [
      "[3908791]\n"
     ]
    },
    {
     "name": "stderr",
     "output_type": "stream",
     "text": [
      "                                                                                \r"
     ]
    }
   ],
   "source": [
    "def triton_server():\n",
    "    import signal\n",
    "    import numpy as np\n",
    "    import torch\n",
    "    from transformers import T5Tokenizer, T5ForConditionalGeneration\n",
    "    from pytriton.decorators import batch\n",
    "    from pytriton.model_config import DynamicBatcher, ModelConfig, Tensor\n",
    "    from pytriton.triton import Triton\n",
    "\n",
    "    with Triton() as triton:\n",
    "        print(\"Loading Conditional Generation model.\")\n",
    "        tokenizer = T5Tokenizer.from_pretrained(\"t5-small\")\n",
    "        model = T5ForConditionalGeneration.from_pretrained(\"t5-small\")\n",
    "        \n",
    "        DEVICE = \"cuda\" if torch.cuda.is_available() else \"cpu\"\n",
    "        print(f\"Using {DEVICE} device.\")\n",
    "        model = model.to(DEVICE)\n",
    "\n",
    "        @batch\n",
    "        def _infer_fn(**inputs):\n",
    "            sentences = np.squeeze(inputs[\"text\"]).tolist()\n",
    "            print(f\"Received batch of size {len(sentences)}\")\n",
    "            decoded_sentences = [s.decode(\"utf-8\") for s in sentences]\n",
    "            inputs = tokenizer(decoded_sentences,\n",
    "                            padding=True,\n",
    "                            return_tensors=\"pt\").to(DEVICE)\n",
    "            output_ids = model.generate(input_ids=inputs[\"input_ids\"],\n",
    "                                        attention_mask=inputs[\"attention_mask\"],\n",
    "                                        max_length=128)\n",
    "            outputs = np.array([[tokenizer.decode(o, skip_special_tokens=True)] for o in output_ids])\n",
    "            return {\n",
    "                \"translations\": outputs,\n",
    "            }\n",
    "\n",
    "        triton.bind(\n",
    "            model_name=\"ConditionalGeneration\",\n",
    "            infer_func=_infer_fn,\n",
    "            inputs=[\n",
    "                Tensor(name=\"text\", dtype=object, shape=(-1,)),\n",
    "            ],\n",
    "            outputs=[\n",
    "                Tensor(name=\"translations\", dtype=object, shape=(-1,)),\n",
    "            ],\n",
    "            config=ModelConfig(\n",
    "                max_batch_size=256,\n",
    "                batcher=DynamicBatcher(max_queue_delay_microseconds=5000),  # 5ms\n",
    "            ),\n",
    "            strict=True,\n",
    "        )\n",
    "\n",
    "        # Handle SIGTERM for graceful process shutdown\n",
    "        def stop_triton(signum, frame):\n",
    "            print(\"Received SIGTERM. Stopping Triton server.\")\n",
    "            triton.stop()\n",
    "\n",
    "        signal.signal(signal.SIGTERM, stop_triton)\n",
    "\n",
    "        print(\"Serving inference\")\n",
    "        triton.serve()\n",
    "\n",
    "def start_triton(url, model_name):\n",
    "    from multiprocessing import Process\n",
    "    from pytriton.client import ModelClient\n",
    "\n",
    "    process = Process(target=triton_server)\n",
    "    process.start()\n",
    "\n",
    "    client = ModelClient(url, model_name)\n",
    "    ready = False\n",
    "    while not ready:\n",
    "        try:\n",
    "            client.wait_for_server(5)\n",
    "            ready = True\n",
    "        except Exception as e:\n",
    "            print(f\"Waiting for server to be ready: {e}\")\n",
    "    \n",
    "    return [process.pid]\n",
    "\n",
    "sc = spark.sparkContext\n",
    "nodeRDD = sc.parallelize(list(range(num_executors)), num_executors)\n",
    "pids = nodeRDD.barrier().mapPartitions(lambda _: start_triton(url, model_name)).collect()\n",
    "print(pids)"
   ]
  },
  {
   "cell_type": "code",
   "execution_count": 20,
   "metadata": {},
   "outputs": [],
   "source": [
    "def triton_fn(url, model_name, init_timeout_s):\n",
    "    import numpy as np\n",
    "    from pytriton.client import ModelClient\n",
    "\n",
    "    print(f\"Connecting to model {model_name} at {url}.\")\n",
    "\n",
    "    def infer_batch(inputs):\n",
    "        with ModelClient(url, model_name, init_timeout_s=init_timeout_s) as client:\n",
    "            flattened = np.squeeze(inputs).tolist() \n",
    "            # Encode batch\n",
    "            encoded_batch = [[text.encode(\"utf-8\")] for text in flattened]\n",
    "            encoded_batch_np = np.array(encoded_batch, dtype=np.bytes_)\n",
    "            # Run inference\n",
    "            result_data = client.infer_batch(encoded_batch_np)\n",
    "            result_data = np.squeeze(result_data[\"translations\"], -1)\n",
    "            return result_data\n",
    "        \n",
    "    return infer_batch"
   ]
  },
  {
   "cell_type": "code",
   "execution_count": 21,
   "metadata": {},
   "outputs": [],
   "source": [
    "def preprocess(text: pd.Series, prefix: str = \"\") -> pd.Series:\n",
    "    @pandas_udf(\"string\")\n",
    "    def _preprocess(text: pd.Series) -> pd.Series:\n",
    "        return pd.Series([prefix + s.split(\".\")[0] for s in text])\n",
    "    return _preprocess(text)"
   ]
  },
  {
   "cell_type": "code",
   "execution_count": 22,
   "metadata": {},
   "outputs": [],
   "source": [
    "df = spark.read.parquet(\"imdb_test\").limit(512)"
   ]
  },
  {
   "cell_type": "code",
   "execution_count": 23,
   "metadata": {},
   "outputs": [],
   "source": [
    "input_df = df.select(preprocess(col(\"text\"), \"Translate English to French: \").alias(\"input\")).cache()"
   ]
  },
  {
   "cell_type": "code",
   "execution_count": 24,
   "metadata": {},
   "outputs": [],
   "source": [
    "generate = predict_batch_udf(partial(triton_fn, url=url, model_name=model_name, init_timeout_s=600),\n",
    "                             return_type=StringType(),\n",
    "                             input_tensor_shapes=[[1]],\n",
    "                             batch_size=128)"
   ]
  },
  {
   "cell_type": "code",
   "execution_count": 25,
   "metadata": {},
   "outputs": [
    {
     "name": "stderr",
     "output_type": "stream",
     "text": [
      "[Stage 20:>                                                         (0 + 1) / 1]\r"
     ]
    },
    {
     "name": "stdout",
     "output_type": "stream",
     "text": [
      "CPU times: user 7.02 ms, sys: 3.49 ms, total: 10.5 ms\n",
      "Wall time: 6.54 s\n"
     ]
    },
    {
     "name": "stderr",
     "output_type": "stream",
     "text": [
      "                                                                                \r"
     ]
    }
   ],
   "source": [
    "%%time\n",
    "# first pass caches model/fn\n",
    "preds = input_df.withColumn(\"preds\", generate(struct(\"input\")))\n",
    "results = preds.collect()"
   ]
  },
  {
   "cell_type": "code",
   "execution_count": 26,
   "metadata": {},
   "outputs": [
    {
     "name": "stderr",
     "output_type": "stream",
     "text": [
      "[Stage 22:>                                                         (0 + 1) / 1]\r"
     ]
    },
    {
     "name": "stdout",
     "output_type": "stream",
     "text": [
      "CPU times: user 3.53 ms, sys: 2.26 ms, total: 5.79 ms\n",
      "Wall time: 3.79 s\n"
     ]
    },
    {
     "name": "stderr",
     "output_type": "stream",
     "text": [
      "                                                                                \r"
     ]
    }
   ],
   "source": [
    "%%time\n",
    "preds = input_df.withColumn(\"preds\", generate(\"input\"))\n",
    "results = preds.collect()"
   ]
  },
  {
   "cell_type": "code",
   "execution_count": 27,
   "metadata": {},
   "outputs": [
    {
     "name": "stderr",
     "output_type": "stream",
     "text": [
      "[Stage 24:>                                                         (0 + 1) / 1]\r"
     ]
    },
    {
     "name": "stdout",
     "output_type": "stream",
     "text": [
      "CPU times: user 2.94 ms, sys: 1.47 ms, total: 4.41 ms\n",
      "Wall time: 3.85 s\n"
     ]
    },
    {
     "name": "stderr",
     "output_type": "stream",
     "text": [
      "                                                                                \r"
     ]
    }
   ],
   "source": [
    "%%time\n",
    "preds = input_df.withColumn(\"preds\", generate(col(\"input\")))\n",
    "results = preds.collect()"
   ]
  },
  {
   "cell_type": "code",
   "execution_count": 28,
   "metadata": {},
   "outputs": [
    {
     "name": "stdout",
     "output_type": "stream",
     "text": [
      "+--------------------------------------------------------------------------------------------------------------------------------+--------------------------------------------------------------------------------------------------------------------------------+\n",
      "|                                                                                                                           input|                                                                                                                           preds|\n",
      "+--------------------------------------------------------------------------------------------------------------------------------+--------------------------------------------------------------------------------------------------------------------------------+\n",
      "|Translate English to French: First off let me say, If you haven't enjoyed a Van Damme movie since bloodsport, you probably wi...|Permettez-moi tout d'abord de dire que si vous n'avez pas joué un film Van Damme depuis le sport de sang, vous n'aimerez prob...|\n",
      "|                             Translate English to French: I first watched this movie back in the mid/late 80's, when I was a kid|                                                              J'ai vu ce film à la mi-fin des années 80, lorsque j'étais enfant.|\n",
      "|                                                                            Translate English to French: Low budget horror movie|                                                                                                  Film d'horreur à faible budget|\n",
      "|Translate English to French: Four things intrigued me as to this film - firstly, it stars Carly Pope (of \"Popular\" fame), who...|Quatre choses m'ont inquiétées en ce qui concerne ce film - d'abord, il étudie Carly Pope (de renommée Populaire), qui est to...|\n",
      "|Translate English to French: Beware, My Lovely (1952) Dir: Harry Horner <br /><br />Production: The Filmmakers/RKO Radio Pict...|Beware, My Lovely (1952) Dir: Harry Horner br />br />Production: The Filmmakers/RKO Radio Picturesbr />br />Credulity-straini...|\n",
      "|                                                Translate English to French: Now I understand that this took two months to shoot|                                                                       Je comprends maintenant que cela a pris deux mois à tirer|\n",
      "|Translate English to French: This film is about a couple that decides to take a vacation to The Everglades along with another...|            Ce film est un couple qui décide de prendre un vacance à The Everglades, avec un autre couple et le chien de famille|\n",
      "|                                 Translate English to French: A really very bad movie, with a very few good moments or qualities|                                                                Un film vraiment très mauvais, avec quelques moments ou qualités|\n",
      "|Translate English to French: Not like I went in expecting a lot out of it, but I was at least hoping for a fun dumb big budge...|                            Pas comme je m'attendais à en tirer beaucoup, mais j'espérais au moins un film à gros budget amusant|\n",
      "|Translate English to French: One of the last surviving horror screen greats - Conrad Radzoff - dies and has his body placed i...|Conrad Radzoff, l'un des derniers écrans d'horreur survivants, meure et a son corps placé dans un mausoleum avec des snippets...|\n",
      "|                         Translate English to French: I was completely bored with this film, melodramatic for no apparent reason|                                                 Je n'ai pas été ennuié par ce film, melodramatique pour aucune raison apparente|\n",
      "|Translate English to French: Maniratnam, who in India, is often compared with prominent world film makers and is regarded a g...|Maniratnam, qui, en Inde, est souvent comparé à des réalisateurs de films mondiaux éminents et est considéré comme un génie d...|\n",
      "|Translate English to French: \"Cover Girl\" is a lacklustre WWII musical with absolutely nothing memorable about it, save for i...|\"Cover Girl\" est une musique d'une époque de la Deuxième Guerre mondiale qui n'a absolument rien à voir avec sa chanson signa...|\n",
      "|        Translate English to French: This movie cannot be serious because it has a nerdy looking kid named Curtis killing people|                                   Ce film ne peut être sérieux parce qu'il a un enfant nerdy et sachant que Curtis tue des gens|\n",
      "|Translate English to French: Julie Andrews satirically prods her own goody-two-shoes image in this overproduced musical comed...|Julie Andrews s'enrôle satiriquement dans cette comédie musicale-drama surproduction, mais si elle aborde son rôle avec aplom...|\n",
      "|                                                              Translate English to French: Wow, another Kevin Costner hero movie|                                                                                           Wow, another Kevin Costner hero movie|\n",
      "|Translate English to French: This movie should have been billed as three movie-summaries linked together to form a full-lengt...|Ce film aurait dû être décrit comme trois sommets de films liés ensemble pour former un long métrage (y compris de nombreuses...|\n",
      "|Translate English to French: **SPOILERS** The third and mercifully last of the Aztec Mummy trilogy in the fact that the serie...|**SPOILERS** La troisième et mercifully dernière de la trilogie Aztec Mummy en le fait que la série principale étoile-outre l...|\n",
      "|Translate English to French: First of all, I wasn't sure who this film was aimed at - it seemed like a story for kids but had...|Tout d'abord, je ne savais pas qui était l'objet de ce film - il semblait d'une histoire pour les enfants mais avait des chos...|\n",
      "|                                                     Translate English to French: I saw this only because my 10-yr-old was bored|                                                                 Je ne l'ai vu que parce que mon enfant de 10 ans n'était ennuyé|\n",
      "+--------------------------------------------------------------------------------------------------------------------------------+--------------------------------------------------------------------------------------------------------------------------------+\n",
      "only showing top 20 rows\n",
      "\n"
     ]
    }
   ],
   "source": [
    "preds.show(truncate=128)"
   ]
  },
  {
   "cell_type": "code",
   "execution_count": 29,
   "metadata": {},
   "outputs": [
    {
     "name": "stderr",
     "output_type": "stream",
     "text": [
      "                                                                                \r"
     ]
    },
    {
     "data": {
      "text/plain": [
       "[True]"
      ]
     },
     "execution_count": 29,
     "metadata": {},
     "output_type": "execute_result"
    }
   ],
   "source": [
    "def stop_triton(index, pids):\n",
    "    import os\n",
    "    import signal\n",
    "    import time \n",
    "\n",
    "    pid = pids[index]\n",
    "    os.kill(pid, signal.SIGTERM)\n",
    "\n",
    "    for _ in range(5):\n",
    "        try:\n",
    "            os.kill(pid, 0)\n",
    "        except ProcessLookupError:\n",
    "            return [True]\n",
    "        time.sleep(5)\n",
    "\n",
    "    return [False]\n",
    "\n",
    "nodeRDD.barrier().mapPartitionsWithIndex(lambda index, _: stop_triton(index, pids)).collect()"
   ]
  },
  {
   "cell_type": "code",
   "execution_count": null,
   "metadata": {},
   "outputs": [],
   "source": []
  }
 ],
 "metadata": {
  "kernelspec": {
   "display_name": "spark-dl-torch",
   "language": "python",
   "name": "python3"
  },
  "language_info": {
   "codemirror_mode": {
    "name": "ipython",
    "version": 3
   },
   "file_extension": ".py",
   "mimetype": "text/x-python",
   "name": "python",
   "nbconvert_exporter": "python",
   "pygments_lexer": "ipython3",
   "version": "3.11.9"
  }
 },
 "nbformat": 4,
 "nbformat_minor": 2
}
