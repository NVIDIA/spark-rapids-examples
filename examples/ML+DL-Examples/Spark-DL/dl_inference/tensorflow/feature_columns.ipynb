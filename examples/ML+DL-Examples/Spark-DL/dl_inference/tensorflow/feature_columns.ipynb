{
 "cells": [
  {
   "cell_type": "markdown",
   "id": "66834048-5285-44a9-a031-e2e6e3347442",
   "metadata": {},
   "source": [
    "From: https://www.tensorflow.org/tutorials/structured_data/preprocessing_layers"
   ]
  },
  {
   "cell_type": "code",
   "execution_count": 1,
   "id": "01162f42-0637-4dfe-8d7d-b577e4ffd017",
   "metadata": {},
   "outputs": [],
   "source": [
    "import numpy as np\n",
    "import pandas as pd\n",
    "import tensorflow as tf\n",
    "\n",
    "from tensorflow.keras import layers"
   ]
  },
  {
   "cell_type": "code",
   "execution_count": 2,
   "id": "9fa3e1b7-58cd-45f9-9fee-85f25a31c3c6",
   "metadata": {},
   "outputs": [
    {
     "data": {
      "text/plain": [
       "'2.12.0'"
      ]
     },
     "execution_count": 2,
     "metadata": {},
     "output_type": "execute_result"
    }
   ],
   "source": [
    "tf.__version__"
   ]
  },
  {
   "cell_type": "code",
   "execution_count": 3,
   "id": "9326b072-a53c-40c4-a6cb-bd4d3d644d03",
   "metadata": {},
   "outputs": [],
   "source": [
    "dataset_url = 'http://storage.googleapis.com/download.tensorflow.org/data/petfinder-mini.zip'\n",
    "csv_file = 'datasets/petfinder-mini/petfinder-mini.csv'\n",
    "\n",
    "tf.keras.utils.get_file('petfinder_mini.zip', dataset_url,\n",
    "                        extract=True, cache_dir='.')\n",
    "dataframe = pd.read_csv(csv_file)"
   ]
  },
  {
   "cell_type": "code",
   "execution_count": 4,
   "id": "e98480ef-d13d-44c0-a227-e9a22f9bf2b0",
   "metadata": {},
   "outputs": [
    {
     "data": {
      "text/html": [
       "<div>\n",
       "<style scoped>\n",
       "    .dataframe tbody tr th:only-of-type {\n",
       "        vertical-align: middle;\n",
       "    }\n",
       "\n",
       "    .dataframe tbody tr th {\n",
       "        vertical-align: top;\n",
       "    }\n",
       "\n",
       "    .dataframe thead th {\n",
       "        text-align: right;\n",
       "    }\n",
       "</style>\n",
       "<table border=\"1\" class=\"dataframe\">\n",
       "  <thead>\n",
       "    <tr style=\"text-align: right;\">\n",
       "      <th></th>\n",
       "      <th>Type</th>\n",
       "      <th>Age</th>\n",
       "      <th>Breed1</th>\n",
       "      <th>Gender</th>\n",
       "      <th>Color1</th>\n",
       "      <th>Color2</th>\n",
       "      <th>MaturitySize</th>\n",
       "      <th>FurLength</th>\n",
       "      <th>Vaccinated</th>\n",
       "      <th>Sterilized</th>\n",
       "      <th>Health</th>\n",
       "      <th>Fee</th>\n",
       "      <th>Description</th>\n",
       "      <th>PhotoAmt</th>\n",
       "      <th>AdoptionSpeed</th>\n",
       "    </tr>\n",
       "  </thead>\n",
       "  <tbody>\n",
       "    <tr>\n",
       "      <th>0</th>\n",
       "      <td>Cat</td>\n",
       "      <td>3</td>\n",
       "      <td>Tabby</td>\n",
       "      <td>Male</td>\n",
       "      <td>Black</td>\n",
       "      <td>White</td>\n",
       "      <td>Small</td>\n",
       "      <td>Short</td>\n",
       "      <td>No</td>\n",
       "      <td>No</td>\n",
       "      <td>Healthy</td>\n",
       "      <td>100</td>\n",
       "      <td>Nibble is a 3+ month old ball of cuteness. He ...</td>\n",
       "      <td>1</td>\n",
       "      <td>2</td>\n",
       "    </tr>\n",
       "    <tr>\n",
       "      <th>1</th>\n",
       "      <td>Cat</td>\n",
       "      <td>1</td>\n",
       "      <td>Domestic Medium Hair</td>\n",
       "      <td>Male</td>\n",
       "      <td>Black</td>\n",
       "      <td>Brown</td>\n",
       "      <td>Medium</td>\n",
       "      <td>Medium</td>\n",
       "      <td>Not Sure</td>\n",
       "      <td>Not Sure</td>\n",
       "      <td>Healthy</td>\n",
       "      <td>0</td>\n",
       "      <td>I just found it alone yesterday near my apartm...</td>\n",
       "      <td>2</td>\n",
       "      <td>0</td>\n",
       "    </tr>\n",
       "    <tr>\n",
       "      <th>2</th>\n",
       "      <td>Dog</td>\n",
       "      <td>1</td>\n",
       "      <td>Mixed Breed</td>\n",
       "      <td>Male</td>\n",
       "      <td>Brown</td>\n",
       "      <td>White</td>\n",
       "      <td>Medium</td>\n",
       "      <td>Medium</td>\n",
       "      <td>Yes</td>\n",
       "      <td>No</td>\n",
       "      <td>Healthy</td>\n",
       "      <td>0</td>\n",
       "      <td>Their pregnant mother was dumped by her irresp...</td>\n",
       "      <td>7</td>\n",
       "      <td>3</td>\n",
       "    </tr>\n",
       "    <tr>\n",
       "      <th>3</th>\n",
       "      <td>Dog</td>\n",
       "      <td>4</td>\n",
       "      <td>Mixed Breed</td>\n",
       "      <td>Female</td>\n",
       "      <td>Black</td>\n",
       "      <td>Brown</td>\n",
       "      <td>Medium</td>\n",
       "      <td>Short</td>\n",
       "      <td>Yes</td>\n",
       "      <td>No</td>\n",
       "      <td>Healthy</td>\n",
       "      <td>150</td>\n",
       "      <td>Good guard dog, very alert, active, obedience ...</td>\n",
       "      <td>8</td>\n",
       "      <td>2</td>\n",
       "    </tr>\n",
       "    <tr>\n",
       "      <th>4</th>\n",
       "      <td>Dog</td>\n",
       "      <td>1</td>\n",
       "      <td>Mixed Breed</td>\n",
       "      <td>Male</td>\n",
       "      <td>Black</td>\n",
       "      <td>No Color</td>\n",
       "      <td>Medium</td>\n",
       "      <td>Short</td>\n",
       "      <td>No</td>\n",
       "      <td>No</td>\n",
       "      <td>Healthy</td>\n",
       "      <td>0</td>\n",
       "      <td>This handsome yet cute boy is up for adoption....</td>\n",
       "      <td>3</td>\n",
       "      <td>2</td>\n",
       "    </tr>\n",
       "  </tbody>\n",
       "</table>\n",
       "</div>"
      ],
      "text/plain": [
       "  Type  Age                Breed1  Gender Color1    Color2 MaturitySize   \n",
       "0  Cat    3                 Tabby    Male  Black     White        Small  \\\n",
       "1  Cat    1  Domestic Medium Hair    Male  Black     Brown       Medium   \n",
       "2  Dog    1           Mixed Breed    Male  Brown     White       Medium   \n",
       "3  Dog    4           Mixed Breed  Female  Black     Brown       Medium   \n",
       "4  Dog    1           Mixed Breed    Male  Black  No Color       Medium   \n",
       "\n",
       "  FurLength Vaccinated Sterilized   Health  Fee   \n",
       "0     Short         No         No  Healthy  100  \\\n",
       "1    Medium   Not Sure   Not Sure  Healthy    0   \n",
       "2    Medium        Yes         No  Healthy    0   \n",
       "3     Short        Yes         No  Healthy  150   \n",
       "4     Short         No         No  Healthy    0   \n",
       "\n",
       "                                         Description  PhotoAmt  AdoptionSpeed  \n",
       "0  Nibble is a 3+ month old ball of cuteness. He ...         1              2  \n",
       "1  I just found it alone yesterday near my apartm...         2              0  \n",
       "2  Their pregnant mother was dumped by her irresp...         7              3  \n",
       "3  Good guard dog, very alert, active, obedience ...         8              2  \n",
       "4  This handsome yet cute boy is up for adoption....         3              2  "
      ]
     },
     "execution_count": 4,
     "metadata": {},
     "output_type": "execute_result"
    }
   ],
   "source": [
    "dataframe.head()"
   ]
  },
  {
   "cell_type": "code",
   "execution_count": 5,
   "id": "e8efce25-a835-4cbd-b8a2-1418ba2c1d31",
   "metadata": {},
   "outputs": [],
   "source": [
    "# In the original dataset, `'AdoptionSpeed'` of `4` indicates\n",
    "# a pet was not adopted.\n",
    "dataframe['target'] = np.where(dataframe['AdoptionSpeed']==4, 0, 1)\n",
    "\n",
    "# Drop unused features.\n",
    "dataframe = dataframe.drop(columns=['AdoptionSpeed', 'Description'])"
   ]
  },
  {
   "cell_type": "code",
   "execution_count": 6,
   "id": "00d403cf-9ae7-4780-9fac-13d920d8b395",
   "metadata": {},
   "outputs": [],
   "source": [
    "train, val, test = np.split(dataframe.sample(frac=1), [int(0.8*len(dataframe)), int(0.9*len(dataframe))])\n"
   ]
  },
  {
   "cell_type": "code",
   "execution_count": 7,
   "id": "4206a56e-5403-42a9-805e-e037044e7995",
   "metadata": {},
   "outputs": [
    {
     "name": "stdout",
     "output_type": "stream",
     "text": [
      "9229 training examples\n",
      "1154 validation examples\n",
      "1154 test examples\n"
     ]
    }
   ],
   "source": [
    "print(len(train), 'training examples')\n",
    "print(len(val), 'validation examples')\n",
    "print(len(test), 'test examples')"
   ]
  },
  {
   "cell_type": "code",
   "execution_count": 8,
   "id": "499ade5f-ac8a-47ca-a021-071239dfe97d",
   "metadata": {},
   "outputs": [],
   "source": [
    "def df_to_dataset(dataframe, shuffle=True, batch_size=32):\n",
    "    df = dataframe.copy()\n",
    "    labels = df.pop('target')\n",
    "    df = {key: np.array(value)[:, tf.newaxis] for key, value in dataframe.items()}\n",
    "    ds = tf.data.Dataset.from_tensor_slices((dict(df), labels))\n",
    "    if shuffle:\n",
    "        ds = ds.shuffle(buffer_size=len(dataframe))\n",
    "    ds = ds.batch(batch_size)\n",
    "    ds = ds.prefetch(batch_size)\n",
    "    return ds"
   ]
  },
  {
   "cell_type": "code",
   "execution_count": 9,
   "id": "b9ec57c9-080e-4626-9e03-acf309cf3736",
   "metadata": {},
   "outputs": [],
   "source": [
    "batch_size = 5\n",
    "train_ds = df_to_dataset(train, batch_size=batch_size)"
   ]
  },
  {
   "cell_type": "code",
   "execution_count": 10,
   "id": "dfcbf268-4508-4eb8-abe1-acf1dbb97bd5",
   "metadata": {},
   "outputs": [
    {
     "name": "stdout",
     "output_type": "stream",
     "text": [
      "Every feature: ['Type', 'Age', 'Breed1', 'Gender', 'Color1', 'Color2', 'MaturitySize', 'FurLength', 'Vaccinated', 'Sterilized', 'Health', 'Fee', 'PhotoAmt', 'target']\n",
      "A batch of ages: tf.Tensor(\n",
      "[[ 2]\n",
      " [15]\n",
      " [ 3]\n",
      " [11]\n",
      " [ 8]], shape=(5, 1), dtype=int64)\n",
      "A batch of targets: tf.Tensor([1 1 1 1 1], shape=(5,), dtype=int64)\n"
     ]
    }
   ],
   "source": [
    "[(train_features, label_batch)] = train_ds.take(1)\n",
    "print('Every feature:', list(train_features.keys()))\n",
    "print('A batch of ages:', train_features['Age'])\n",
    "print('A batch of targets:', label_batch )"
   ]
  },
  {
   "cell_type": "code",
   "execution_count": 11,
   "id": "6c09dc4b-3a2a-44f5-b41c-821ec30b87b1",
   "metadata": {},
   "outputs": [],
   "source": [
    "def get_normalization_layer(name, dataset):\n",
    "    # Create a Normalization layer for the feature.\n",
    "    normalizer = layers.Normalization(axis=None)\n",
    "\n",
    "    # Prepare a Dataset that only yields the feature.\n",
    "    feature_ds = dataset.map(lambda x, y: x[name])\n",
    "\n",
    "    # Learn the statistics of the data.\n",
    "    normalizer.adapt(feature_ds)\n",
    "\n",
    "    return normalizer"
   ]
  },
  {
   "cell_type": "code",
   "execution_count": 12,
   "id": "59bb91dc-360a-4a89-a9ea-bebc1ddbf1b7",
   "metadata": {},
   "outputs": [
    {
     "data": {
      "text/plain": [
       "<tf.Tensor: shape=(5, 1), dtype=float32, numpy=\n",
       "array([[-0.19678606],\n",
       "       [-1.1466511 ],\n",
       "       [ 0.11983565],\n",
       "       [ 0.75307906],\n",
       "       [ 0.43645737]], dtype=float32)>"
      ]
     },
     "execution_count": 12,
     "metadata": {},
     "output_type": "execute_result"
    }
   ],
   "source": [
    "photo_count_col = train_features['PhotoAmt']\n",
    "layer = get_normalization_layer('PhotoAmt', train_ds)\n",
    "layer(photo_count_col)"
   ]
  },
  {
   "cell_type": "code",
   "execution_count": 13,
   "id": "4623b612-e924-472b-9ef4-c7f14f9f53c5",
   "metadata": {},
   "outputs": [],
   "source": [
    "def get_category_encoding_layer(name, dataset, dtype, max_tokens=None):\n",
    "    # Create a layer that turns strings into integer indices.\n",
    "    if dtype == 'string':\n",
    "        index = layers.StringLookup(max_tokens=max_tokens)\n",
    "    # Otherwise, create a layer that turns integer values into integer indices.\n",
    "    else:\n",
    "        index = layers.IntegerLookup(max_tokens=max_tokens)\n",
    "\n",
    "    # Prepare a `tf.data.Dataset` that only yields the feature.\n",
    "    feature_ds = dataset.map(lambda x, y: x[name])\n",
    "\n",
    "    # Learn the set of possible values and assign them a fixed integer index.\n",
    "    index.adapt(feature_ds)\n",
    "\n",
    "    # Encode the integer indices.\n",
    "    encoder = layers.CategoryEncoding(num_tokens=index.vocabulary_size())\n",
    "\n",
    "    # Apply multi-hot encoding to the indices. The lambda function captures the\n",
    "    # layer, so you can use them, or include them in the Keras Functional model later.\n",
    "    return lambda feature: encoder(index(feature))"
   ]
  },
  {
   "cell_type": "code",
   "execution_count": 14,
   "id": "0a40e9ee-20a5-4a42-8543-c267f99af55e",
   "metadata": {},
   "outputs": [
    {
     "data": {
      "text/plain": [
       "<tf.Tensor: shape=(5, 3), dtype=float32, numpy=\n",
       "array([[0., 1., 0.],\n",
       "       [0., 1., 0.],\n",
       "       [0., 1., 0.],\n",
       "       [0., 1., 0.],\n",
       "       [0., 1., 0.]], dtype=float32)>"
      ]
     },
     "execution_count": 14,
     "metadata": {},
     "output_type": "execute_result"
    }
   ],
   "source": [
    "test_type_col = train_features['Type']\n",
    "test_type_layer = get_category_encoding_layer(name='Type',\n",
    "                                              dataset=train_ds,\n",
    "                                              dtype='string')\n",
    "test_type_layer(test_type_col)"
   ]
  },
  {
   "cell_type": "code",
   "execution_count": 15,
   "id": "ff63a5cc-71f4-428e-9299-a8018edc7648",
   "metadata": {},
   "outputs": [
    {
     "data": {
      "text/plain": [
       "<tf.Tensor: shape=(5, 5), dtype=float32, numpy=\n",
       "array([[0., 1., 0., 0., 0.],\n",
       "       [1., 0., 0., 0., 0.],\n",
       "       [0., 0., 1., 0., 0.],\n",
       "       [1., 0., 0., 0., 0.],\n",
       "       [1., 0., 0., 0., 0.]], dtype=float32)>"
      ]
     },
     "execution_count": 15,
     "metadata": {},
     "output_type": "execute_result"
    }
   ],
   "source": [
    "test_age_col = train_features['Age']\n",
    "test_age_layer = get_category_encoding_layer(name='Age',\n",
    "                                             dataset=train_ds,\n",
    "                                             dtype='int64',\n",
    "                                             max_tokens=5)\n",
    "test_age_layer(test_age_col)"
   ]
  },
  {
   "cell_type": "code",
   "execution_count": 16,
   "id": "2b040b0e-d8ca-4cf0-917c-dd9a272e1f0a",
   "metadata": {},
   "outputs": [],
   "source": [
    "batch_size = 256\n",
    "train_ds = df_to_dataset(train, batch_size=batch_size)\n",
    "val_ds = df_to_dataset(val, shuffle=False, batch_size=batch_size)\n",
    "test_ds = df_to_dataset(test, shuffle=False, batch_size=batch_size)"
   ]
  },
  {
   "cell_type": "code",
   "execution_count": 17,
   "id": "19df498e-4dd1-467a-8741-e1f5e15932a5",
   "metadata": {},
   "outputs": [],
   "source": [
    "all_inputs = []\n",
    "encoded_features = []\n",
    "\n",
    "# Numerical features.\n",
    "for header in ['PhotoAmt', 'Fee']:\n",
    "    numeric_col = tf.keras.Input(shape=(1,), name=header)\n",
    "    normalization_layer = get_normalization_layer(header, train_ds)\n",
    "    encoded_numeric_col = normalization_layer(numeric_col)\n",
    "    all_inputs.append(numeric_col)\n",
    "    encoded_features.append(encoded_numeric_col)"
   ]
  },
  {
   "cell_type": "code",
   "execution_count": 18,
   "id": "1d12579f-34fb-40b0-a16a-3e13cfea8178",
   "metadata": {},
   "outputs": [],
   "source": [
    "age_col = tf.keras.Input(shape=(1,), name='Age', dtype='int64')\n",
    "\n",
    "encoding_layer = get_category_encoding_layer(name='Age',\n",
    "                                             dataset=train_ds,\n",
    "                                             dtype='int64',\n",
    "                                             max_tokens=5)\n",
    "encoded_age_col = encoding_layer(age_col)\n",
    "all_inputs.append(age_col)\n",
    "encoded_features.append(encoded_age_col)"
   ]
  },
  {
   "cell_type": "code",
   "execution_count": 19,
   "id": "bff286eb-7ad7-4d3a-8fa4-c729692d1425",
   "metadata": {},
   "outputs": [],
   "source": [
    "categorical_cols = ['Type', 'Color1', 'Color2', 'Gender', 'MaturitySize',\n",
    "                    'FurLength', 'Vaccinated', 'Sterilized', 'Health', 'Breed1']\n",
    "\n",
    "for header in categorical_cols:\n",
    "    categorical_col = tf.keras.Input(shape=(1,), name=header, dtype='string')\n",
    "    encoding_layer = get_category_encoding_layer(name=header,\n",
    "                                                 dataset=train_ds,\n",
    "                                                 dtype='string',\n",
    "                                                 max_tokens=5)\n",
    "\n",
    "    encoded_categorical_col = encoding_layer(categorical_col)\n",
    "    all_inputs.append(categorical_col)\n",
    "    encoded_features.append(encoded_categorical_col)"
   ]
  },
  {
   "cell_type": "code",
   "execution_count": 20,
   "id": "79247436-32d8-4738-a656-3f288c77001c",
   "metadata": {},
   "outputs": [],
   "source": [
    "all_features = tf.keras.layers.concatenate(encoded_features)\n",
    "x = tf.keras.layers.Dense(32, activation=\"relu\")(all_features)\n",
    "x = tf.keras.layers.Dropout(0.5)(x)\n",
    "output = tf.keras.layers.Dense(1)(x)\n",
    "\n",
    "model = tf.keras.Model(all_inputs, output)"
   ]
  },
  {
   "cell_type": "code",
   "execution_count": 21,
   "id": "dbc85d3e-6d1e-4167-9516-b1182e880542",
   "metadata": {},
   "outputs": [],
   "source": [
    "model.compile(optimizer='adam',\n",
    "              loss=tf.keras.losses.BinaryCrossentropy(from_logits=True),\n",
    "              metrics=[\"accuracy\"])"
   ]
  },
  {
   "cell_type": "code",
   "execution_count": 22,
   "id": "03b54d91-26f3-4232-ac33-895599bd6126",
   "metadata": {},
   "outputs": [
    {
     "name": "stdout",
     "output_type": "stream",
     "text": [
      "You must install pydot (`pip install pydot`) and install graphviz (see instructions at https://graphviz.gitlab.io/download/) for plot_model to work.\n"
     ]
    }
   ],
   "source": [
    "# Use `rankdir='LR'` to make the graph horizontal.\n",
    "tf.keras.utils.plot_model(model, show_shapes=True, rankdir=\"LR\")"
   ]
  },
  {
   "cell_type": "code",
   "execution_count": 23,
   "id": "bc9836c8-3c1a-41ad-8833-a946bafcfb00",
   "metadata": {},
   "outputs": [
    {
     "name": "stdout",
     "output_type": "stream",
     "text": [
      "Epoch 1/10\n"
     ]
    },
    {
     "name": "stderr",
     "output_type": "stream",
     "text": [
      "/home/leey/.pyenv/versions/3.9.10/envs/spark_rapids_examples/lib/python3.9/site-packages/keras/engine/functional.py:639: UserWarning: Input dict contained keys ['target'] which did not match any model input. They will be ignored by the model.\n",
      "  inputs = self._flatten_to_reference_inputs(inputs)\n"
     ]
    },
    {
     "name": "stdout",
     "output_type": "stream",
     "text": [
      "37/37 [==============================] - 1s 14ms/step - loss: 0.6070 - accuracy: 0.6274 - val_loss: 0.5371 - val_accuracy: 0.7374\n",
      "Epoch 2/10\n",
      "37/37 [==============================] - 0s 4ms/step - loss: 0.5733 - accuracy: 0.6728 - val_loss: 0.5245 - val_accuracy: 0.7366\n",
      "Epoch 3/10\n",
      "37/37 [==============================] - 0s 5ms/step - loss: 0.5552 - accuracy: 0.6964 - val_loss: 0.5158 - val_accuracy: 0.7409\n",
      "Epoch 4/10\n",
      "37/37 [==============================] - 0s 6ms/step - loss: 0.5469 - accuracy: 0.7025 - val_loss: 0.5116 - val_accuracy: 0.7470\n",
      "Epoch 5/10\n",
      "37/37 [==============================] - 0s 6ms/step - loss: 0.5419 - accuracy: 0.7097 - val_loss: 0.5090 - val_accuracy: 0.7409\n",
      "Epoch 6/10\n",
      "37/37 [==============================] - 0s 5ms/step - loss: 0.5356 - accuracy: 0.7142 - val_loss: 0.5089 - val_accuracy: 0.7461\n",
      "Epoch 7/10\n",
      "37/37 [==============================] - 0s 6ms/step - loss: 0.5327 - accuracy: 0.7073 - val_loss: 0.5056 - val_accuracy: 0.7530\n",
      "Epoch 8/10\n",
      "37/37 [==============================] - 0s 5ms/step - loss: 0.5319 - accuracy: 0.7148 - val_loss: 0.5039 - val_accuracy: 0.7574\n",
      "Epoch 9/10\n",
      "37/37 [==============================] - 0s 6ms/step - loss: 0.5229 - accuracy: 0.7223 - val_loss: 0.5042 - val_accuracy: 0.7565\n",
      "Epoch 10/10\n",
      "37/37 [==============================] - 0s 6ms/step - loss: 0.5242 - accuracy: 0.7200 - val_loss: 0.5023 - val_accuracy: 0.7582\n"
     ]
    },
    {
     "data": {
      "text/plain": [
       "<keras.callbacks.History at 0x7ff82c386310>"
      ]
     },
     "execution_count": 23,
     "metadata": {},
     "output_type": "execute_result"
    }
   ],
   "source": [
    "model.fit(train_ds, epochs=10, validation_data=val_ds)"
   ]
  },
  {
   "cell_type": "code",
   "execution_count": 24,
   "id": "fbccebaa-fc24-4a58-a032-222cef8fdf08",
   "metadata": {},
   "outputs": [
    {
     "name": "stdout",
     "output_type": "stream",
     "text": [
      "5/5 [==============================] - 0s 5ms/step - loss: 0.4920 - accuracy: 0.7504\n",
      "Accuracy 0.7504332661628723\n"
     ]
    }
   ],
   "source": [
    "loss, accuracy = model.evaluate(test_ds)\n",
    "print(\"Accuracy\", accuracy)"
   ]
  },
  {
   "cell_type": "markdown",
   "id": "7534616c-8561-4869-b6e9-7254ebdb2c3f",
   "metadata": {},
   "source": [
    "## Save and Reload Model"
   ]
  },
  {
   "cell_type": "code",
   "execution_count": 25,
   "id": "52425a31-7f21-415e-b166-7682c7eb282c",
   "metadata": {},
   "outputs": [],
   "source": [
    "import tensorflow as tf"
   ]
  },
  {
   "cell_type": "code",
   "execution_count": 26,
   "id": "d1724a4e-fdaa-4169-8740-05bf18cb3153",
   "metadata": {},
   "outputs": [
    {
     "name": "stderr",
     "output_type": "stream",
     "text": [
      "WARNING:absl:Function `_wrapped_model` contains input name(s) PhotoAmt, Fee, Age, Type, Color1, Color2, Gender, MaturitySize, FurLength, Vaccinated, Sterilized, Health, Breed1 with unsupported characters which will be renamed to photoamt, fee, age, type, color1, color2, gender, maturitysize, furlength, vaccinated, sterilized, health, breed1 in the SavedModel.\n",
      "WARNING:absl:Found untraced functions such as _update_step_xla while saving (showing 1 of 1). These functions will not be directly callable after loading.\n"
     ]
    },
    {
     "name": "stdout",
     "output_type": "stream",
     "text": [
      "INFO:tensorflow:Assets written to: my_pet_classifier/assets\n"
     ]
    },
    {
     "name": "stderr",
     "output_type": "stream",
     "text": [
      "INFO:tensorflow:Assets written to: my_pet_classifier/assets\n"
     ]
    }
   ],
   "source": [
    "model.save('my_pet_classifier')"
   ]
  },
  {
   "cell_type": "code",
   "execution_count": 27,
   "id": "d604ca70-e0af-4cdb-8046-53e37f4b6afe",
   "metadata": {},
   "outputs": [],
   "source": [
    "reloaded_model = tf.keras.models.load_model('my_pet_classifier')"
   ]
  },
  {
   "cell_type": "code",
   "execution_count": 28,
   "id": "7b8be0a1-e16b-4509-8cbc-357def8bb282",
   "metadata": {},
   "outputs": [
    {
     "data": {
      "text/plain": [
       "[<KerasTensor: shape=(None, 1) dtype=float32 (created by layer 'PhotoAmt')>,\n",
       " <KerasTensor: shape=(None, 1) dtype=float32 (created by layer 'Fee')>,\n",
       " <KerasTensor: shape=(None, 1) dtype=int64 (created by layer 'Age')>,\n",
       " <KerasTensor: shape=(None, 1) dtype=string (created by layer 'Type')>,\n",
       " <KerasTensor: shape=(None, 1) dtype=string (created by layer 'Color1')>,\n",
       " <KerasTensor: shape=(None, 1) dtype=string (created by layer 'Color2')>,\n",
       " <KerasTensor: shape=(None, 1) dtype=string (created by layer 'Gender')>,\n",
       " <KerasTensor: shape=(None, 1) dtype=string (created by layer 'MaturitySize')>,\n",
       " <KerasTensor: shape=(None, 1) dtype=string (created by layer 'FurLength')>,\n",
       " <KerasTensor: shape=(None, 1) dtype=string (created by layer 'Vaccinated')>,\n",
       " <KerasTensor: shape=(None, 1) dtype=string (created by layer 'Sterilized')>,\n",
       " <KerasTensor: shape=(None, 1) dtype=string (created by layer 'Health')>,\n",
       " <KerasTensor: shape=(None, 1) dtype=string (created by layer 'Breed1')>]"
      ]
     },
     "execution_count": 28,
     "metadata": {},
     "output_type": "execute_result"
    }
   ],
   "source": [
    "reloaded_model.inputs"
   ]
  },
  {
   "cell_type": "code",
   "execution_count": 29,
   "id": "f3d2a2d5-fd4d-4320-bacc-fd4571cec709",
   "metadata": {},
   "outputs": [
    {
     "name": "stdout",
     "output_type": "stream",
     "text": [
      "1/1 [==============================] - 0s 264ms/step\n",
      "This particular pet had a 76.8 percent probability of getting adopted.\n"
     ]
    }
   ],
   "source": [
    "sample = {\n",
    "    'Type': 'Cat',\n",
    "    'Age': 3,\n",
    "    'Breed1': 'Tabby',\n",
    "    'Gender': 'Male',\n",
    "    'Color1': 'Black',\n",
    "    'Color2': 'White',\n",
    "    'MaturitySize': 'Small',\n",
    "    'FurLength': 'Short',\n",
    "    'Vaccinated': 'No',\n",
    "    'Sterilized': 'No',\n",
    "    'Health': 'Healthy',\n",
    "    'Fee': 100,\n",
    "    'PhotoAmt': 2,\n",
    "}\n",
    "\n",
    "input_dict = {name: tf.convert_to_tensor([value]) for name, value in sample.items()}\n",
    "predictions = reloaded_model.predict(input_dict)\n",
    "prob = tf.nn.sigmoid(predictions[0])\n",
    "\n",
    "print(\n",
    "    \"This particular pet had a %.1f percent probability \"\n",
    "    \"of getting adopted.\" % (100 * prob)\n",
    ")"
   ]
  },
  {
   "cell_type": "markdown",
   "id": "f7bbfe69-93ed-4452-8985-c6685e0726c3",
   "metadata": {},
   "source": [
    "## PySpark"
   ]
  },
  {
   "cell_type": "code",
   "execution_count": 30,
   "id": "3c64fd7b-3d1e-40f8-ab64-b5c13f8bbe77",
   "metadata": {},
   "outputs": [],
   "source": [
    "df = spark.createDataFrame(dataframe)"
   ]
  },
  {
   "cell_type": "code",
   "execution_count": 31,
   "id": "1be8215b-5068-41b4-849c-1c3ea7bb108a",
   "metadata": {},
   "outputs": [
    {
     "name": "stderr",
     "output_type": "stream",
     "text": [
      "                                                                                \r"
     ]
    }
   ],
   "source": [
    "df.write.mode(\"overwrite\").parquet(\"datasets/petfinder-mini\")"
   ]
  },
  {
   "cell_type": "code",
   "execution_count": 32,
   "id": "d4dbde99-cf65-4c15-a163-754a0201a48d",
   "metadata": {},
   "outputs": [
    {
     "name": "stdout",
     "output_type": "stream",
     "text": [
      "+----+---+--------------------+------+------+--------+------------+---------+----------+----------+-------+---+--------+------+\n",
      "|Type|Age|              Breed1|Gender|Color1|  Color2|MaturitySize|FurLength|Vaccinated|Sterilized| Health|Fee|PhotoAmt|target|\n",
      "+----+---+--------------------+------+------+--------+------------+---------+----------+----------+-------+---+--------+------+\n",
      "| Cat|  3|               Tabby|  Male| Black|   White|       Small|    Short|        No|        No|Healthy|100|       1|     1|\n",
      "| Cat|  1|Domestic Medium Hair|  Male| Black|   Brown|      Medium|   Medium|  Not Sure|  Not Sure|Healthy|  0|       2|     1|\n",
      "| Dog|  1|         Mixed Breed|  Male| Brown|   White|      Medium|   Medium|       Yes|        No|Healthy|  0|       7|     1|\n",
      "| Dog|  4|         Mixed Breed|Female| Black|   Brown|      Medium|    Short|       Yes|        No|Healthy|150|       8|     1|\n",
      "| Dog|  1|         Mixed Breed|  Male| Black|No Color|      Medium|    Short|        No|        No|Healthy|  0|       3|     1|\n",
      "| Cat|  3| Domestic Short Hair|Female| Cream|    Gray|      Medium|    Short|        No|        No|Healthy|  0|       2|     1|\n",
      "| Cat| 12|  Domestic Long Hair|  Male| Black|No Color|      Medium|     Long|        No|  Not Sure|Healthy|300|       3|     1|\n",
      "| Cat|  2|Domestic Medium Hair|Female|  Gray|No Color|      Medium|   Medium|        No|        No|Healthy|  0|       6|     1|\n",
      "| Cat| 12|Domestic Medium Hair|Female| Black|   White|      Medium|   Medium|  Not Sure|  Not Sure|Healthy|  0|       2|     0|\n",
      "| Dog|  2|         Mixed Breed|  Male| Black|   Brown|      Medium|    Short|        No|        No|Healthy|  0|       7|     1|\n",
      "| Cat|  3|  Domestic Long Hair|Female| Black|   Brown|       Large|     Long|       Yes|        No|Healthy| 50|       2|     1|\n",
      "| Dog|  2|         Mixed Breed|  Male| Brown|   Cream|      Medium|     Long|       Yes|        No|Healthy|  0|       1|     1|\n",
      "| Dog|  3|         Mixed Breed|Female| Brown|   Cream|      Medium|   Medium|  Not Sure|  Not Sure|Healthy|  0|       2|     1|\n",
      "| Dog| 78|             Terrier|  Male| Black|   White|      Medium|   Medium|  Not Sure|  Not Sure|Healthy|  0|       2|     0|\n",
      "| Cat|  6| Domestic Short Hair|Female| Brown|No Color|       Small|    Short|       Yes|       Yes|Healthy|  0|       1|     1|\n",
      "| Dog|  8|         Mixed Breed|Female| Brown|No Color|      Medium|    Short|        No|       Yes|Healthy| 10|       2|     0|\n",
      "| Dog|  2|         Mixed Breed|Female| Black|No Color|      Medium|    Short|        No|        No|Healthy|  0|       8|     1|\n",
      "| Dog| 12|         Mixed Breed|Female| Brown|   White|      Medium|   Medium|        No|       Yes|Healthy|  0|       7|     1|\n",
      "| Dog| 10|         Mixed Breed|Female| Black|   Brown|      Medium|   Medium|       Yes|       Yes|Healthy|  0|       0|     0|\n",
      "| Cat|  3| Domestic Short Hair|  Male| Brown|   White|       Small|    Short|        No|        No|Healthy|  0|      19|     1|\n",
      "+----+---+--------------------+------+------+--------+------------+---------+----------+----------+-------+---+--------+------+\n",
      "only showing top 20 rows\n",
      "\n"
     ]
    }
   ],
   "source": [
    "df.show()"
   ]
  },
  {
   "cell_type": "markdown",
   "id": "efa3e424-2920-44eb-afa0-885e40b620ed",
   "metadata": {},
   "source": [
    "## Inference using Spark DL API"
   ]
  },
  {
   "cell_type": "code",
   "execution_count": 33,
   "id": "4c21296c-20ed-43f8-921a-c85a820d1819",
   "metadata": {},
   "outputs": [],
   "source": [
    "import numpy as np\n",
    "import os\n",
    "\n",
    "from pyspark.ml.functions import predict_batch_udf\n",
    "from pyspark.sql.functions import struct, col\n",
    "from pyspark.sql.types import ArrayType, FloatType"
   ]
  },
  {
   "cell_type": "code",
   "execution_count": 34,
   "id": "04b38f3a-70ea-4746-9f52-c50087401508",
   "metadata": {},
   "outputs": [
    {
     "name": "stdout",
     "output_type": "stream",
     "text": [
      "+----+---+-------------------+------+------+--------+------------+---------+----------+----------+-------+---+--------+------+\n",
      "|Type|Age|             Breed1|Gender|Color1|  Color2|MaturitySize|FurLength|Vaccinated|Sterilized| Health|Fee|PhotoAmt|target|\n",
      "+----+---+-------------------+------+------+--------+------------+---------+----------+----------+-------+---+--------+------+\n",
      "| Dog|  7|              Spitz|  Male| Brown|  Golden|      Medium|   Medium|  Not Sure|        No|Healthy|  0|       2|     0|\n",
      "| Cat|  4|Domestic Short Hair|Female| White|No Color|      Medium|    Short|        No|        No|Healthy|  0|       2|     1|\n",
      "| Cat|  3|Domestic Short Hair|  Male| Brown|No Color|       Small|    Short|        No|        No|Healthy|  0|       2|     1|\n",
      "| Cat| 11|Domestic Short Hair|Female| Brown|  Yellow|      Medium|    Short|       Yes|       Yes|Healthy|100|       1|     0|\n",
      "| Dog|  1|        Mixed Breed|  Male| Black|   Brown|      Medium|   Medium|        No|        No|Healthy|  0|       1|     1|\n",
      "+----+---+-------------------+------+------+--------+------------+---------+----------+----------+-------+---+--------+------+\n",
      "only showing top 5 rows\n",
      "\n"
     ]
    }
   ],
   "source": [
    "df = spark.read.parquet(\"datasets/petfinder-mini\")\n",
    "df.show(5)"
   ]
  },
  {
   "cell_type": "code",
   "execution_count": 35,
   "id": "29c27243-7c74-4045-aaf1-f75a322c0530",
   "metadata": {},
   "outputs": [
    {
     "name": "stdout",
     "output_type": "stream",
     "text": [
      "['Type', 'Age', 'Breed1', 'Gender', 'Color1', 'Color2', 'MaturitySize', 'FurLength', 'Vaccinated', 'Sterilized', 'Health', 'Fee', 'PhotoAmt', 'target']\n"
     ]
    }
   ],
   "source": [
    "columns = df.columns\n",
    "print(columns)"
   ]
  },
  {
   "cell_type": "code",
   "execution_count": 36,
   "id": "47508b14-97fa-42ee-a7d0-6175e6408283",
   "metadata": {
    "tags": []
   },
   "outputs": [
    {
     "name": "stdout",
     "output_type": "stream",
     "text": [
      "['Type', 'Age', 'Breed1', 'Gender', 'Color1', 'Color2', 'MaturitySize', 'FurLength', 'Vaccinated', 'Sterilized', 'Health', 'Fee', 'PhotoAmt']\n"
     ]
    }
   ],
   "source": [
    "# remove label column\n",
    "columns.remove(\"target\")\n",
    "print(columns)"
   ]
  },
  {
   "cell_type": "code",
   "execution_count": 37,
   "id": "d62eb95a-54c6-44d2-9279-38fb65e0e160",
   "metadata": {},
   "outputs": [],
   "source": [
    "# get absolute path to model\n",
    "model_dir = \"{}/my_pet_classifier\".format(os.getcwd())"
   ]
  },
  {
   "cell_type": "code",
   "execution_count": 38,
   "id": "45665acf-50c8-445b-a985-b3dabd734709",
   "metadata": {},
   "outputs": [],
   "source": [
    "def predict_batch_fn():\n",
    "    import tensorflow as tf\n",
    "    import pandas as pd\n",
    "    model = tf.keras.models.load_model(model_dir)\n",
    "\n",
    "    def predict(t, a, b, g, c1, c2, m, f, v, s, h, fee, p):\n",
    "        inputs = {\n",
    "            \"Type\": t,\n",
    "            \"Age\": a,\n",
    "            \"Breed1\": b,\n",
    "            \"Gender\": g,\n",
    "            \"Color1\": c1,\n",
    "            \"Color2\": c2,\n",
    "            \"MaturitySize\": m,\n",
    "            \"FurLength\": f,\n",
    "            \"Vaccinated\": v,\n",
    "            \"Sterilized\": s,\n",
    "            \"Health\": h,\n",
    "            \"Fee\": fee,\n",
    "            \"PhotoAmt\": p\n",
    "        }\n",
    "        # return model.predict(inputs)\n",
    "        return pd.Series(np.squeeze(model.predict(inputs)))\n",
    "\n",
    "    return predict"
   ]
  },
  {
   "cell_type": "code",
   "execution_count": 39,
   "id": "815e3b5f-7914-4235-85fa-50153dcd3d30",
   "metadata": {},
   "outputs": [],
   "source": [
    "# need to pass the list of columns into the model_udf\n",
    "classify = predict_batch_udf(predict_batch_fn,\n",
    "                             return_type=FloatType(),\n",
    "                             batch_size=100)"
   ]
  },
  {
   "cell_type": "code",
   "execution_count": 40,
   "id": "da03a0c6-2d39-425e-a9fa-57c139cca1ed",
   "metadata": {},
   "outputs": [
    {
     "name": "stderr",
     "output_type": "stream",
     "text": [
      "23/05/19 17:53:03 WARN package: Truncated the string representation of a plan since it was too large. This behavior can be adjusted by setting 'spark.sql.debug.maxToStringFields'.\n",
      "                                                                                \r"
     ]
    },
    {
     "name": "stdout",
     "output_type": "stream",
     "text": [
      "CPU times: user 271 ms, sys: 16.3 ms, total: 288 ms\n",
      "Wall time: 7.58 s\n"
     ]
    }
   ],
   "source": [
    "%%time\n",
    "preds = df.withColumn(\"preds\", classify(struct(*columns)))\n",
    "results = preds.collect()"
   ]
  },
  {
   "cell_type": "code",
   "execution_count": 41,
   "id": "03990c76-7198-49a7-bb5d-6870be915fb3",
   "metadata": {},
   "outputs": [
    {
     "name": "stderr",
     "output_type": "stream",
     "text": [
      "[Stage 5:====================================>                      (5 + 3) / 8]\r"
     ]
    },
    {
     "name": "stdout",
     "output_type": "stream",
     "text": [
      "CPU times: user 71.2 ms, sys: 801 µs, total: 72 ms\n",
      "Wall time: 2.41 s\n"
     ]
    },
    {
     "name": "stderr",
     "output_type": "stream",
     "text": [
      "                                                                                \r"
     ]
    }
   ],
   "source": [
    "%%time\n",
    "preds = df.withColumn(\"preds\", classify(*columns))\n",
    "results = preds.collect()"
   ]
  },
  {
   "cell_type": "code",
   "execution_count": 42,
   "id": "edb93cf3-c248-40c9-b8dc-acc8f51786a9",
   "metadata": {},
   "outputs": [
    {
     "name": "stderr",
     "output_type": "stream",
     "text": [
      "[Stage 6:====================================>                      (5 + 3) / 8]\r"
     ]
    },
    {
     "name": "stdout",
     "output_type": "stream",
     "text": [
      "CPU times: user 84.9 ms, sys: 0 ns, total: 84.9 ms\n",
      "Wall time: 2.41 s\n"
     ]
    },
    {
     "name": "stderr",
     "output_type": "stream",
     "text": [
      "                                                                                \r"
     ]
    }
   ],
   "source": [
    "%%time\n",
    "preds = df.withColumn(\"preds\", classify(*[col(c) for c in columns]))\n",
    "results = preds.collect()"
   ]
  },
  {
   "cell_type": "code",
   "execution_count": 43,
   "id": "a91f19cb-f7f1-4669-aff1-be594bea5378",
   "metadata": {
    "scrolled": true
   },
   "outputs": [
    {
     "name": "stdout",
     "output_type": "stream",
     "text": [
      "+----+---+-------------------+------+------+--------+------------+---------+----------+----------+-------+---+--------+------+----------+\n",
      "|Type|Age|             Breed1|Gender|Color1|  Color2|MaturitySize|FurLength|Vaccinated|Sterilized| Health|Fee|PhotoAmt|target|     preds|\n",
      "+----+---+-------------------+------+------+--------+------------+---------+----------+----------+-------+---+--------+------+----------+\n",
      "| Dog|  7|              Spitz|  Male| Brown|  Golden|      Medium|   Medium|  Not Sure|        No|Healthy|  0|       2|     0| 1.2876476|\n",
      "| Cat|  4|Domestic Short Hair|Female| White|No Color|      Medium|    Short|        No|        No|Healthy|  0|       2|     1| 0.8216562|\n",
      "| Cat|  3|Domestic Short Hair|  Male| Brown|No Color|       Small|    Short|        No|        No|Healthy|  0|       2|     1| 1.1362813|\n",
      "| Cat| 11|Domestic Short Hair|Female| Brown|  Yellow|      Medium|    Short|       Yes|       Yes|Healthy|100|       1|     0|-0.5538333|\n",
      "| Dog|  1|        Mixed Breed|  Male| Black|   Brown|      Medium|   Medium|        No|        No|Healthy|  0|       1|     1| 1.8639014|\n",
      "| Dog| 12|German Shepherd Dog|Female| Black|   Brown|       Large|   Medium|  Not Sure|  Not Sure|Healthy|  0|       4|     1|  0.646166|\n",
      "| Cat|  3|Oriental Short Hair|Female| White|No Color|      Medium|    Short|  Not Sure|  Not Sure|Healthy|  0|       3|     1| 1.2250762|\n",
      "| Cat|  6|       Russian Blue|  Male|  Gray|No Color|      Medium|    Short|  Not Sure|        No|Healthy|  0|       3|     1| 1.2427491|\n",
      "| Dog| 13| Miniature Pinscher|Female|Golden|No Color|       Small|    Short|       Yes|       Yes|Healthy|  0|       6|     1| 1.2280617|\n",
      "| Dog|  5|        Mixed Breed|  Male| Black|   White|       Large|   Medium|       Yes|       Yes|Healthy|  0|       6|     1| 0.3791974|\n",
      "| Dog| 62|   Golden Retriever|Female|Golden|   Cream|      Medium|   Medium|       Yes|       Yes|Healthy|  0|       3|     1| 0.9814444|\n",
      "| Cat|  2| Domestic Long Hair|Female| Cream|No Color|      Medium|   Medium|        No|        No|Healthy| 80|       5|     1| 2.7954462|\n",
      "| Cat| 12|Domestic Short Hair|Female| White|No Color|      Medium|    Short|       Yes|       Yes|Healthy|  0|       1|     1|-0.2367835|\n",
      "| Dog|  1|        Mixed Breed|Female| Brown|No Color|      Medium|   Medium|        No|        No|Healthy|  0|       3|     1| 1.8235079|\n",
      "| Dog|  5|        Mixed Breed|Female| Brown|No Color|      Medium|   Medium|       Yes|        No|Healthy|  0|       1|     1|0.16853562|\n",
      "| Dog|  2|        Mixed Breed|Female| Black|   Brown|      Medium|   Medium|       Yes|        No|Healthy|  0|       1|     0| 1.3014978|\n",
      "| Cat|  4|Domestic Short Hair|  Male| Black|No Color|      Medium|    Short|        No|        No|Healthy|  0|       3|     0| 1.0102129|\n",
      "| Dog|  2|        Mixed Breed|  Male| Cream|No Color|      Medium|   Medium|        No|        No|Healthy|  0|       3|     1|  2.032087|\n",
      "| Dog| 24|         Pomeranian|  Male|Yellow|   White|       Small|   Medium|  Not Sure|  Not Sure|Healthy|  0|       9|     1| 1.7647744|\n",
      "| Cat| 36|Domestic Short Hair|Female|  Gray|   White|       Small|    Short|  Not Sure|  Not Sure|Healthy|  0|       2|     1|0.16341272|\n",
      "+----+---+-------------------+------+------+--------+------------+---------+----------+----------+-------+---+--------+------+----------+\n",
      "only showing top 20 rows\n",
      "\n"
     ]
    }
   ],
   "source": [
    "preds.show()"
   ]
  },
  {
   "cell_type": "markdown",
   "id": "467b02a1-9f08-4fe8-a99c-581b7a01b8f6",
   "metadata": {},
   "source": [
    "### Using Triton Inference Server\n",
    "\n",
    "Note: you can restart the kernel and run from this point to simulate running in a different node or environment."
   ]
  },
  {
   "cell_type": "markdown",
   "id": "22d1805b-7cac-4b27-9359-7a25b4ef3f71",
   "metadata": {},
   "source": [
    "This notebook uses the [Python backend with a custom execution environment](https://github.com/triton-inference-server/python_backend#creating-custom-execution-environments), using a conda-pack environment created as follows:\n",
    "```\n",
    "conda create -n tf-gpu -c conda-forge python=3.8\n",
    "conda activate tf-gpu\n",
    "pip install tensorflow\n",
    "pip install conda-pack\n",
    "conda pack  # tf-gpu.tar.gz\n",
    "```"
   ]
  },
  {
   "cell_type": "code",
   "execution_count": 44,
   "id": "2605d134-ef75-4d94-9b16-2c6d85f29bef",
   "metadata": {},
   "outputs": [],
   "source": [
    "import numpy as np\n",
    "import os\n",
    "from pyspark.ml.functions import predict_batch_udf\n",
    "from pyspark.sql.functions import col, struct\n",
    "from pyspark.sql.types import ArrayType, FloatType"
   ]
  },
  {
   "cell_type": "code",
   "execution_count": 45,
   "id": "4666e618-8038-4dc5-9be7-793aedbf4500",
   "metadata": {},
   "outputs": [],
   "source": [
    "%%bash\n",
    "# copy custom model to expected layout for Triton\n",
    "rm -rf models\n",
    "mkdir -p models\n",
    "cp -r models_config/feature_columns models\n",
    "\n",
    "# add custom execution environment\n",
    "cp tf-gpu.tar.gz models"
   ]
  },
  {
   "cell_type": "markdown",
   "id": "91bd1003-46c7-42d1-ab4d-869e52d62146",
   "metadata": {},
   "source": [
    "#### Start Triton Server on each executor"
   ]
  },
  {
   "cell_type": "code",
   "execution_count": 46,
   "id": "a7fb146c-5319-4831-85f7-f2f3c084b042",
   "metadata": {
    "scrolled": true
   },
   "outputs": [
    {
     "name": "stderr",
     "output_type": "stream",
     "text": [
      "                                                                                \r"
     ]
    },
    {
     "data": {
      "text/plain": [
       "[True]"
      ]
     },
     "execution_count": 46,
     "metadata": {},
     "output_type": "execute_result"
    }
   ],
   "source": [
    "num_executors = 1\n",
    "triton_models_dir = \"{}/models\".format(os.getcwd())\n",
    "my_pet_classifier_dir = \"{}/my_pet_classifier\".format(os.getcwd())\n",
    "nodeRDD = sc.parallelize(list(range(num_executors)), num_executors)\n",
    "\n",
    "def start_triton(it):\n",
    "    import docker\n",
    "    import time\n",
    "    import tritonclient.grpc as grpcclient\n",
    "    \n",
    "    client=docker.from_env()\n",
    "    containers=client.containers.list(filters={\"name\": \"spark-triton\"})\n",
    "    if containers:\n",
    "        print(\">>>> containers: {}\".format([c.short_id for c in containers]))\n",
    "    else:\n",
    "        container=client.containers.run(\n",
    "            \"nvcr.io/nvidia/tritonserver:23.04-py3\", \"tritonserver --model-repository=/models\",\n",
    "            detach=True,\n",
    "            device_requests=[docker.types.DeviceRequest(device_ids=[\"0\"], capabilities=[['gpu']])],\n",
    "            name=\"spark-triton\",\n",
    "            network_mode=\"host\",\n",
    "            remove=True,\n",
    "            shm_size=\"128M\",\n",
    "            volumes={\n",
    "                triton_models_dir: {\"bind\": \"/models\", \"mode\": \"ro\"},\n",
    "                my_pet_classifier_dir: {\"bind\": \"/my_pet_classifier\", \"mode\": \"ro\"}\n",
    "            }\n",
    "        )\n",
    "        print(\">>>> starting triton: {}\".format(container.short_id))\n",
    "\n",
    "        # wait for triton to be running\n",
    "        time.sleep(15)\n",
    "        client = grpcclient.InferenceServerClient(\"localhost:8001\")\n",
    "        ready = False\n",
    "        while not ready:\n",
    "            try:\n",
    "                ready = client.is_server_ready()\n",
    "            except Exception as e:\n",
    "                time.sleep(5)\n",
    "            \n",
    "    return [True]\n",
    "\n",
    "nodeRDD.barrier().mapPartitions(start_triton).collect()"
   ]
  },
  {
   "cell_type": "markdown",
   "id": "b75e6f20-f06c-4f4c-ada1-c562e078ed4b",
   "metadata": {},
   "source": [
    "#### Run inference"
   ]
  },
  {
   "cell_type": "code",
   "execution_count": 47,
   "id": "fe8dc3e6-f1b1-4a24-85f4-0a5ecabef4c5",
   "metadata": {},
   "outputs": [],
   "source": [
    "df = spark.read.parquet(\"datasets/petfinder-mini\")"
   ]
  },
  {
   "cell_type": "code",
   "execution_count": 48,
   "id": "ce92f041-930f-48ed-9a03-19f6c249ca27",
   "metadata": {},
   "outputs": [
    {
     "name": "stdout",
     "output_type": "stream",
     "text": [
      "+----+---+-------------------+------+------+--------+------------+---------+----------+----------+-------+---+--------+------+\n",
      "|Type|Age|             Breed1|Gender|Color1|  Color2|MaturitySize|FurLength|Vaccinated|Sterilized| Health|Fee|PhotoAmt|target|\n",
      "+----+---+-------------------+------+------+--------+------------+---------+----------+----------+-------+---+--------+------+\n",
      "| Dog|  7|              Spitz|  Male| Brown|  Golden|      Medium|   Medium|  Not Sure|        No|Healthy|  0|       2|     0|\n",
      "| Cat|  4|Domestic Short Hair|Female| White|No Color|      Medium|    Short|        No|        No|Healthy|  0|       2|     1|\n",
      "| Cat|  3|Domestic Short Hair|  Male| Brown|No Color|       Small|    Short|        No|        No|Healthy|  0|       2|     1|\n",
      "| Cat| 11|Domestic Short Hair|Female| Brown|  Yellow|      Medium|    Short|       Yes|       Yes|Healthy|100|       1|     0|\n",
      "| Dog|  1|        Mixed Breed|  Male| Black|   Brown|      Medium|   Medium|        No|        No|Healthy|  0|       1|     1|\n",
      "+----+---+-------------------+------+------+--------+------------+---------+----------+----------+-------+---+--------+------+\n",
      "only showing top 5 rows\n",
      "\n"
     ]
    }
   ],
   "source": [
    "df.show(5)"
   ]
  },
  {
   "cell_type": "code",
   "execution_count": 49,
   "id": "4cfb3f34-a215-4781-91bf-2bec85e15633",
   "metadata": {},
   "outputs": [
    {
     "name": "stdout",
     "output_type": "stream",
     "text": [
      "['Type', 'Age', 'Breed1', 'Gender', 'Color1', 'Color2', 'MaturitySize', 'FurLength', 'Vaccinated', 'Sterilized', 'Health', 'Fee', 'PhotoAmt', 'target']\n"
     ]
    }
   ],
   "source": [
    "columns = df.columns\n",
    "print(columns)"
   ]
  },
  {
   "cell_type": "code",
   "execution_count": 50,
   "id": "b315ee72-62af-476b-a994-0dba72d5f96e",
   "metadata": {
    "scrolled": true,
    "tags": []
   },
   "outputs": [
    {
     "name": "stdout",
     "output_type": "stream",
     "text": [
      "['Type', 'Age', 'Breed1', 'Gender', 'Color1', 'Color2', 'MaturitySize', 'FurLength', 'Vaccinated', 'Sterilized', 'Health', 'Fee', 'PhotoAmt']\n"
     ]
    }
   ],
   "source": [
    "# remove label column\n",
    "columns.remove(\"target\")\n",
    "print(columns)"
   ]
  },
  {
   "cell_type": "code",
   "execution_count": 51,
   "id": "da004eca-f7ad-4ee3-aa88-a6a20c1b72e5",
   "metadata": {},
   "outputs": [],
   "source": [
    "def triton_fn(triton_uri, model_name):\n",
    "    import numpy as np\n",
    "    import tritonclient.grpc as grpcclient\n",
    "    \n",
    "    np_types = {\n",
    "      \"BOOL\": np.dtype(np.bool8),\n",
    "      \"INT8\": np.dtype(np.int8),\n",
    "      \"INT16\": np.dtype(np.int16),\n",
    "      \"INT32\": np.dtype(np.int32),\n",
    "      \"INT64\": np.dtype(np.int64),\n",
    "      \"FP16\": np.dtype(np.float16),\n",
    "      \"FP32\": np.dtype(np.float32),\n",
    "      \"FP64\": np.dtype(np.float64),\n",
    "      \"FP64\": np.dtype(np.double),\n",
    "      \"BYTES\": np.dtype(object)\n",
    "    }\n",
    "\n",
    "    client = grpcclient.InferenceServerClient(triton_uri)\n",
    "    model_meta = client.get_model_metadata(model_name)\n",
    "    \n",
    "    def predict(t, a, b, g, c1, c2, m, f, v, s, h, fee, p):\n",
    "        # convert input ndarrays into a dictionary of ndarrays\n",
    "        inputs = {\n",
    "            \"Type\": t, \n",
    "            \"Age\": a, \n",
    "            \"Breed1\": b, \n",
    "            \"Gender\": g,\n",
    "            \"Color1\": c1,\n",
    "            \"Color2\": c2,\n",
    "            \"MaturitySize\": m,\n",
    "            \"FurLength\": f,\n",
    "            \"Vaccinated\": v, \n",
    "            \"Sterilized\": s,\n",
    "            \"Health\": h,\n",
    "            \"Fee\": fee,\n",
    "            \"PhotoAmt\": p\n",
    "        }\n",
    "        return _predict(inputs)\n",
    "        \n",
    "    def _predict(inputs):\n",
    "        if isinstance(inputs, np.ndarray):\n",
    "            # single ndarray input\n",
    "            request = [grpcclient.InferInput(model_meta.inputs[0].name, inputs.shape, model_meta.inputs[0].datatype)]\n",
    "            request[0].set_data_from_numpy(inputs.astype(np_types[model_meta.inputs[0].datatype]))\n",
    "        else:\n",
    "            # dict of multiple ndarray inputs\n",
    "            request = [grpcclient.InferInput(i.name, inputs[i.name].shape, i.datatype) for i in model_meta.inputs]\n",
    "            for i in request:\n",
    "                i.set_data_from_numpy(inputs[i.name()].astype(np_types[i.datatype()]))\n",
    "        \n",
    "        response = client.infer(model_name, inputs=request)\n",
    "        \n",
    "        if len(model_meta.outputs) > 1:\n",
    "            # return dictionary of numpy arrays\n",
    "            return {o.name: response.as_numpy(o.name) for o in model_meta.outputs}\n",
    "        else:\n",
    "            # return single numpy array\n",
    "            return response.as_numpy(model_meta.outputs[0].name)\n",
    "        \n",
    "        \n",
    "    return predict"
   ]
  },
  {
   "cell_type": "code",
   "execution_count": 52,
   "id": "2ffb020e-dc93-456b-bee6-405611eee1e1",
   "metadata": {},
   "outputs": [],
   "source": [
    "from functools import partial\n",
    "\n",
    "# need to pass the list of columns into the model_udf\n",
    "classify = predict_batch_udf(partial(triton_fn, triton_uri=\"localhost:8001\", model_name=\"feature_columns\"),\n",
    "                             input_tensor_shapes=[[1]] * len(columns),\n",
    "                             return_type=FloatType(),\n",
    "                             batch_size=1024)"
   ]
  },
  {
   "cell_type": "code",
   "execution_count": 53,
   "id": "7657f820-5ec2-4ac8-a107-4b58773d204a",
   "metadata": {},
   "outputs": [
    {
     "name": "stdout",
     "output_type": "stream",
     "text": [
      "+----+---+----------+------+------+--------+------------+---------+----------+----------+-------+---+--------+------+----------+\n",
      "|Type|Age|    Breed1|Gender|Color1|  Color2|MaturitySize|FurLength|Vaccinated|Sterilized| Health|Fee|PhotoAmt|target|     preds|\n",
      "+----+---+----------+------+------+--------+------------+---------+----------+----------+-------+---+--------+------+----------+\n",
      "| Dog|  7|     Spitz|  Male| Brown|  Golden|      Medium|   Medium|  Not Sure|        No|Healthy|  0|       2|     0| 1.2876476|\n",
      "| Cat|  4|Domesti...|Female| White|No Color|      Medium|    Short|        No|        No|Healthy|  0|       2|     1| 0.8216562|\n",
      "| Cat|  3|Domesti...|  Male| Brown|No Color|       Small|    Short|        No|        No|Healthy|  0|       2|     1| 1.1362813|\n",
      "| Cat| 11|Domesti...|Female| Brown|  Yellow|      Medium|    Short|       Yes|       Yes|Healthy|100|       1|     0|-0.5538333|\n",
      "| Dog|  1|Mixed B...|  Male| Black|   Brown|      Medium|   Medium|        No|        No|Healthy|  0|       1|     1| 1.8639014|\n",
      "| Dog| 12|German ...|Female| Black|   Brown|       Large|   Medium|  Not Sure|  Not Sure|Healthy|  0|       4|     1|  0.646166|\n",
      "| Cat|  3|Orienta...|Female| White|No Color|      Medium|    Short|  Not Sure|  Not Sure|Healthy|  0|       3|     1| 1.2250762|\n",
      "| Cat|  6|Russian...|  Male|  Gray|No Color|      Medium|    Short|  Not Sure|        No|Healthy|  0|       3|     1| 1.2427491|\n",
      "| Dog| 13|Miniatu...|Female|Golden|No Color|       Small|    Short|       Yes|       Yes|Healthy|  0|       6|     1| 1.2280617|\n",
      "| Dog|  5|Mixed B...|  Male| Black|   White|       Large|   Medium|       Yes|       Yes|Healthy|  0|       6|     1| 0.3791974|\n",
      "| Dog| 62|Golden ...|Female|Golden|   Cream|      Medium|   Medium|       Yes|       Yes|Healthy|  0|       3|     1| 0.9814444|\n",
      "| Cat|  2|Domesti...|Female| Cream|No Color|      Medium|   Medium|        No|        No|Healthy| 80|       5|     1| 2.7954462|\n",
      "| Cat| 12|Domesti...|Female| White|No Color|      Medium|    Short|       Yes|       Yes|Healthy|  0|       1|     1|-0.2367835|\n",
      "| Dog|  1|Mixed B...|Female| Brown|No Color|      Medium|   Medium|        No|        No|Healthy|  0|       3|     1| 1.8235079|\n",
      "| Dog|  5|Mixed B...|Female| Brown|No Color|      Medium|   Medium|       Yes|        No|Healthy|  0|       1|     1|0.16853562|\n",
      "| Dog|  2|Mixed B...|Female| Black|   Brown|      Medium|   Medium|       Yes|        No|Healthy|  0|       1|     0| 1.3014978|\n",
      "| Cat|  4|Domesti...|  Male| Black|No Color|      Medium|    Short|        No|        No|Healthy|  0|       3|     0| 1.0102129|\n",
      "| Dog|  2|Mixed B...|  Male| Cream|No Color|      Medium|   Medium|        No|        No|Healthy|  0|       3|     1|  2.032087|\n",
      "| Dog| 24|Pomeranian|  Male|Yellow|   White|       Small|   Medium|  Not Sure|  Not Sure|Healthy|  0|       9|     1| 1.7647744|\n",
      "| Cat| 36|Domesti...|Female|  Gray|   White|       Small|    Short|  Not Sure|  Not Sure|Healthy|  0|       2|     1|0.16341272|\n",
      "+----+---+----------+------+------+--------+------------+---------+----------+----------+-------+---+--------+------+----------+\n",
      "only showing top 20 rows\n",
      "\n"
     ]
    }
   ],
   "source": [
    "# FAILS: Op type not registered 'DenseBincount' WITHOUT custom python backend\n",
    "df.withColumn(\"preds\", classify(struct(*columns))).show(truncate=10)"
   ]
  },
  {
   "cell_type": "code",
   "execution_count": 54,
   "id": "e6ff0356-becd-421f-aebb-272497d5ad6a",
   "metadata": {},
   "outputs": [
    {
     "name": "stderr",
     "output_type": "stream",
     "text": [
      "                                                                                \r"
     ]
    },
    {
     "name": "stdout",
     "output_type": "stream",
     "text": [
      "CPU times: user 62.9 ms, sys: 15.5 ms, total: 78.4 ms\n",
      "Wall time: 2.62 s\n"
     ]
    }
   ],
   "source": [
    "%%time\n",
    "preds = df.withColumn(\"preds\", classify(struct(*columns)))\n",
    "results = preds.collect()"
   ]
  },
  {
   "cell_type": "code",
   "execution_count": 55,
   "id": "ce18ee7c-5958-4986-b200-6d986fcc6243",
   "metadata": {},
   "outputs": [
    {
     "name": "stderr",
     "output_type": "stream",
     "text": [
      "[Stage 13:==================================================>       (7 + 1) / 8]\r"
     ]
    },
    {
     "name": "stdout",
     "output_type": "stream",
     "text": [
      "CPU times: user 70 ms, sys: 6.89 ms, total: 76.9 ms\n",
      "Wall time: 2.51 s\n"
     ]
    },
    {
     "name": "stderr",
     "output_type": "stream",
     "text": [
      "                                                                                \r"
     ]
    }
   ],
   "source": [
    "%%time\n",
    "preds = df.withColumn(\"preds\", classify(*columns))\n",
    "results = preds.collect()"
   ]
  },
  {
   "cell_type": "code",
   "execution_count": 56,
   "id": "0888ce40-b2c4-4aed-8ccb-6a8bcd00abc8",
   "metadata": {
    "tags": []
   },
   "outputs": [
    {
     "name": "stderr",
     "output_type": "stream",
     "text": [
      "[Stage 14:===========================================>              (6 + 2) / 8]\r"
     ]
    },
    {
     "name": "stdout",
     "output_type": "stream",
     "text": [
      "CPU times: user 85.5 ms, sys: 6.85 ms, total: 92.4 ms\n",
      "Wall time: 2.3 s\n"
     ]
    },
    {
     "name": "stderr",
     "output_type": "stream",
     "text": [
      "                                                                                \r"
     ]
    }
   ],
   "source": [
    "%%time\n",
    "preds = df.withColumn(\"preds\", classify(*[col(c) for c in columns]))\n",
    "results = preds.collect()"
   ]
  },
  {
   "cell_type": "code",
   "execution_count": 57,
   "id": "d45812b5-f584-41a4-a821-2b59e065671c",
   "metadata": {},
   "outputs": [
    {
     "name": "stdout",
     "output_type": "stream",
     "text": [
      "+----+---+-------------------+------+------+--------+------------+---------+----------+----------+-------+---+--------+------+----------+\n",
      "|Type|Age|             Breed1|Gender|Color1|  Color2|MaturitySize|FurLength|Vaccinated|Sterilized| Health|Fee|PhotoAmt|target|     preds|\n",
      "+----+---+-------------------+------+------+--------+------------+---------+----------+----------+-------+---+--------+------+----------+\n",
      "| Dog|  7|              Spitz|  Male| Brown|  Golden|      Medium|   Medium|  Not Sure|        No|Healthy|  0|       2|     0| 1.2876476|\n",
      "| Cat|  4|Domestic Short Hair|Female| White|No Color|      Medium|    Short|        No|        No|Healthy|  0|       2|     1| 0.8216562|\n",
      "| Cat|  3|Domestic Short Hair|  Male| Brown|No Color|       Small|    Short|        No|        No|Healthy|  0|       2|     1| 1.1362813|\n",
      "| Cat| 11|Domestic Short Hair|Female| Brown|  Yellow|      Medium|    Short|       Yes|       Yes|Healthy|100|       1|     0|-0.5538333|\n",
      "| Dog|  1|        Mixed Breed|  Male| Black|   Brown|      Medium|   Medium|        No|        No|Healthy|  0|       1|     1| 1.8639014|\n",
      "| Dog| 12|German Shepherd Dog|Female| Black|   Brown|       Large|   Medium|  Not Sure|  Not Sure|Healthy|  0|       4|     1|  0.646166|\n",
      "| Cat|  3|Oriental Short Hair|Female| White|No Color|      Medium|    Short|  Not Sure|  Not Sure|Healthy|  0|       3|     1| 1.2250762|\n",
      "| Cat|  6|       Russian Blue|  Male|  Gray|No Color|      Medium|    Short|  Not Sure|        No|Healthy|  0|       3|     1| 1.2427491|\n",
      "| Dog| 13| Miniature Pinscher|Female|Golden|No Color|       Small|    Short|       Yes|       Yes|Healthy|  0|       6|     1| 1.2280617|\n",
      "| Dog|  5|        Mixed Breed|  Male| Black|   White|       Large|   Medium|       Yes|       Yes|Healthy|  0|       6|     1| 0.3791974|\n",
      "| Dog| 62|   Golden Retriever|Female|Golden|   Cream|      Medium|   Medium|       Yes|       Yes|Healthy|  0|       3|     1| 0.9814444|\n",
      "| Cat|  2| Domestic Long Hair|Female| Cream|No Color|      Medium|   Medium|        No|        No|Healthy| 80|       5|     1| 2.7954462|\n",
      "| Cat| 12|Domestic Short Hair|Female| White|No Color|      Medium|    Short|       Yes|       Yes|Healthy|  0|       1|     1|-0.2367835|\n",
      "| Dog|  1|        Mixed Breed|Female| Brown|No Color|      Medium|   Medium|        No|        No|Healthy|  0|       3|     1| 1.8235079|\n",
      "| Dog|  5|        Mixed Breed|Female| Brown|No Color|      Medium|   Medium|       Yes|        No|Healthy|  0|       1|     1|0.16853562|\n",
      "| Dog|  2|        Mixed Breed|Female| Black|   Brown|      Medium|   Medium|       Yes|        No|Healthy|  0|       1|     0| 1.3014978|\n",
      "| Cat|  4|Domestic Short Hair|  Male| Black|No Color|      Medium|    Short|        No|        No|Healthy|  0|       3|     0| 1.0102129|\n",
      "| Dog|  2|        Mixed Breed|  Male| Cream|No Color|      Medium|   Medium|        No|        No|Healthy|  0|       3|     1|  2.032087|\n",
      "| Dog| 24|         Pomeranian|  Male|Yellow|   White|       Small|   Medium|  Not Sure|  Not Sure|Healthy|  0|       9|     1| 1.7647744|\n",
      "| Cat| 36|Domestic Short Hair|Female|  Gray|   White|       Small|    Short|  Not Sure|  Not Sure|Healthy|  0|       2|     1|0.16341272|\n",
      "+----+---+-------------------+------+------+--------+------------+---------+----------+----------+-------+---+--------+------+----------+\n",
      "only showing top 20 rows\n",
      "\n"
     ]
    }
   ],
   "source": [
    "preds.show()"
   ]
  },
  {
   "cell_type": "markdown",
   "id": "63135aa0-b44c-4dda-8050-8cad320afe88",
   "metadata": {
    "tags": []
   },
   "source": [
    "#### Stop Triton Server on each executor"
   ]
  },
  {
   "cell_type": "code",
   "execution_count": 58,
   "id": "6914f44f-677f-4db3-be09-783df8d11b8a",
   "metadata": {},
   "outputs": [
    {
     "name": "stderr",
     "output_type": "stream",
     "text": [
      "                                                                                \r"
     ]
    },
    {
     "data": {
      "text/plain": [
       "[True]"
      ]
     },
     "execution_count": 58,
     "metadata": {},
     "output_type": "execute_result"
    }
   ],
   "source": [
    "def stop_triton(it):\n",
    "    import docker\n",
    "    import time\n",
    "    \n",
    "    client=docker.from_env()\n",
    "    containers=client.containers.list(filters={\"name\": \"spark-triton\"})\n",
    "    print(\">>>> stopping containers: {}\".format([c.short_id for c in containers]))\n",
    "    if containers:\n",
    "        container=containers[0]\n",
    "        container.stop(timeout=120)\n",
    "\n",
    "    return [True]\n",
    "\n",
    "nodeRDD.barrier().mapPartitions(stop_triton).collect()"
   ]
  },
  {
   "cell_type": "code",
   "execution_count": 59,
   "id": "f8c6ee43-8891-4446-986e-1447c5d48bac",
   "metadata": {},
   "outputs": [],
   "source": [
    "spark.stop()"
   ]
  },
  {
   "cell_type": "code",
   "execution_count": null,
   "id": "e611126e-d8c3-40ac-bf16-b911f6d7b39f",
   "metadata": {},
   "outputs": [],
   "source": []
  }
 ],
 "metadata": {
  "kernelspec": {
   "display_name": "Python 3 (ipykernel)",
   "language": "python",
   "name": "python3"
  },
  "language_info": {
   "codemirror_mode": {
    "name": "ipython",
    "version": 3
   },
   "file_extension": ".py",
   "mimetype": "text/x-python",
   "name": "python",
   "nbconvert_exporter": "python",
   "pygments_lexer": "ipython3",
   "version": "3.9.10"
  }
 },
 "nbformat": 4,
 "nbformat_minor": 5
}
