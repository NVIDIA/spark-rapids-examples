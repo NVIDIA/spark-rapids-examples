{
 "cells": [
  {
   "cell_type": "markdown",
   "metadata": {
    "application/vnd.databricks.v1+cell": {
     "cellMetadata": {
      "byteLimit": 2048000,
      "rowLimit": 10000
     },
     "inputWidgets": {},
     "nuid": "18a99ee7-1b0d-447b-a27c-b46b0903af68",
     "showTitle": false,
     "title": ""
    }
   },
   "source": [
    "# Distributed Training and Inference with Spark 3.4\n",
    "\n",
    "Based on: https://docs.databricks.com/machine-learning/train-model/distributed-training/spark-pytorch-distributor.html#end-to-end-distributed-training-on-databricks-notebook"
   ]
  },
  {
   "cell_type": "markdown",
   "metadata": {
    "application/vnd.databricks.v1+cell": {
     "cellMetadata": {
      "byteLimit": 2048000,
      "rowLimit": 10000
     },
     "inputWidgets": {},
     "nuid": "473535d4-472c-483f-897a-2a696f237989",
     "showTitle": false,
     "title": ""
    }
   },
   "source": [
    "## Setup"
   ]
  },
  {
   "cell_type": "code",
   "execution_count": null,
   "metadata": {
    "application/vnd.databricks.v1+cell": {
     "cellMetadata": {
      "byteLimit": 2048000,
      "rowLimit": 10000
     },
     "inputWidgets": {},
     "nuid": "8abda0c7-147e-4485-afc6-6d16ac84ddb1",
     "showTitle": false,
     "title": ""
    }
   },
   "outputs": [],
   "source": [
    "access_key = dbutils.secrets.get(scope=\"aws-s3\", key = \"aws-access-key\")\n",
    "secret_key = dbutils.secrets.get(scope=\"aws-s3\", key = \"aws-secret-key\")\n",
    "sc._jsc.hadoopConfiguration().set(\"fs.s3a.access.key\", access_key)\n",
    "sc._jsc.hadoopConfiguration().set(\"fs.s3a.secret.key\", secret_key)"
   ]
  },
  {
   "cell_type": "code",
   "execution_count": null,
   "metadata": {
    "application/vnd.databricks.v1+cell": {
     "cellMetadata": {
      "byteLimit": 2048000,
      "rowLimit": 10000
     },
     "inputWidgets": {},
     "nuid": "b0c52671-2deb-4e9f-980d-a321fb586e8d",
     "showTitle": false,
     "title": ""
    }
   },
   "outputs": [],
   "source": [
    "S3_BUCKET=\"s3a://path/to/bucket\""
   ]
  },
  {
   "cell_type": "markdown",
   "metadata": {
    "application/vnd.databricks.v1+cell": {
     "cellMetadata": {
      "byteLimit": 2048000,
      "rowLimit": 10000
     },
     "inputWidgets": {},
     "nuid": "a505372a-d7f5-469c-8f17-15376fecc077",
     "showTitle": false,
     "title": ""
    }
   },
   "source": [
    "### Define Model"
   ]
  },
  {
   "cell_type": "code",
   "execution_count": null,
   "metadata": {
    "application/vnd.databricks.v1+cell": {
     "cellMetadata": {
      "byteLimit": 2048000,
      "rowLimit": 10000
     },
     "inputWidgets": {},
     "nuid": "81ef8262-a624-4f9e-81ea-9f193e224f91",
     "showTitle": false,
     "title": ""
    }
   },
   "outputs": [],
   "source": [
    "import os\n",
    "import torch\n",
    "import torch.nn as nn\n",
    "import torch.nn.functional as F\n",
    "import torch.optim as optim\n",
    "from time import time\n",
    "from torchvision import datasets, transforms\n",
    "\n",
    "PYTORCH_DIR = \"/dbfs/ml/pytorch\"\n",
    "os.environ[\"TORCH_HOME\"] = PYTORCH_DIR\n",
    "\n",
    "batch_size = 100\n",
    "num_epochs = 5\n",
    "momentum = 0.5\n",
    "log_interval = 100\n",
    "learning_rate = 0.001\n",
    "\n",
    "\n",
    "# Model definition\n",
    "class Net(nn.Module):\n",
    "    def __init__(self):\n",
    "        super(Net, self).__init__()\n",
    "        self.conv1 = nn.Conv2d(1, 10, kernel_size=5)\n",
    "        self.conv2 = nn.Conv2d(10, 20, kernel_size=5)\n",
    "        self.conv2_drop = nn.Dropout2d()\n",
    "        self.fc1 = nn.Linear(320, 50)\n",
    "        self.fc2 = nn.Linear(50, 10)\n",
    "\n",
    "    def forward(self, x):\n",
    "        x = F.relu(F.max_pool2d(self.conv1(x), 2))\n",
    "        x = F.relu(F.max_pool2d(self.conv2_drop(self.conv2(x)), 2))\n",
    "        x = x.view(-1, 320)\n",
    "        x = F.relu(self.fc1(x))\n",
    "        x = F.dropout(x, training=self.training)\n",
    "        x = self.fc2(x)\n",
    "        return F.log_softmax(x, dim=-1)\n"
   ]
  },
  {
   "cell_type": "markdown",
   "metadata": {
    "application/vnd.databricks.v1+cell": {
     "cellMetadata": {
      "byteLimit": 2048000,
      "rowLimit": 10000
     },
     "inputWidgets": {},
     "nuid": "8accd126-2ac5-41d6-a53f-18d53ef91e3d",
     "showTitle": false,
     "title": ""
    }
   },
   "source": [
    "### Define Common Functions"
   ]
  },
  {
   "cell_type": "code",
   "execution_count": null,
   "metadata": {
    "application/vnd.databricks.v1+cell": {
     "cellMetadata": {
      "byteLimit": 2048000,
      "rowLimit": 10000
     },
     "inputWidgets": {},
     "nuid": "9aa51c1b-d55e-4718-8e35-0773de29e1f9",
     "showTitle": false,
     "title": ""
    }
   },
   "outputs": [],
   "source": [
    "def prepare_batch(batch):\n",
    "    # shim to allow transforming the output of the data loader in Advanced section below\n",
    "    # pass-through by default\n",
    "    return batch\n",
    "\n",
    "def train_one_epoch(model, device, data_loader, optimizer, epoch, prepare_batch):\n",
    "    model.train()\n",
    "    for batch_idx, batch in enumerate(data_loader):\n",
    "        data, target = prepare_batch(batch)  # added prepare_batch for advanced data loading\n",
    "        data, target = data.to(device), target.to(device)\n",
    "        optimizer.zero_grad()\n",
    "        output = model(data)\n",
    "        loss = F.nll_loss(output, target)\n",
    "        loss.backward()\n",
    "        optimizer.step()\n",
    "        if batch_idx % log_interval == 0:\n",
    "            print(\n",
    "                \"Train Epoch: {} [{}]\\tLoss: {:.6f}\".format(\n",
    "                    epoch,\n",
    "                    batch_idx * len(data),\n",
    "                    loss.item(),\n",
    "                )\n",
    "            )\n",
    "\n",
    "\n",
    "def save_checkpoint(log_dir, model, optimizer, epoch):\n",
    "    filepath = log_dir + \"/checkpoint-{epoch}.pth.tar\".format(epoch=epoch)\n",
    "    state = {\n",
    "        \"model\": model.module.state_dict(),\n",
    "        \"optimizer\": optimizer.state_dict(),\n",
    "    }\n",
    "    torch.save(state, filepath)\n",
    "\n",
    "\n",
    "def load_checkpoint(log_dir, epoch=num_epochs):\n",
    "    filepath = log_dir + \"/checkpoint-{epoch}.pth.tar\".format(epoch=epoch)\n",
    "    return torch.load(filepath)\n",
    "\n",
    "\n",
    "def create_log_dir():\n",
    "    log_dir = os.path.join(PYTORCH_DIR, str(time()))\n",
    "    os.makedirs(log_dir)\n",
    "    return log_dir"
   ]
  },
  {
   "cell_type": "markdown",
   "metadata": {
    "application/vnd.databricks.v1+cell": {
     "cellMetadata": {
      "byteLimit": 2048000,
      "rowLimit": 10000
     },
     "inputWidgets": {},
     "nuid": "3fc950d9-72c4-4b46-a23f-a4912132aa1a",
     "showTitle": false,
     "title": ""
    }
   },
   "source": [
    "## Distributed Training"
   ]
  },
  {
   "cell_type": "markdown",
   "metadata": {
    "application/vnd.databricks.v1+cell": {
     "cellMetadata": {
      "byteLimit": 2048000,
      "rowLimit": 10000
     },
     "inputWidgets": {},
     "nuid": "772ce27d-ed0c-4909-b41f-31f60d0a9d0d",
     "showTitle": false,
     "title": ""
    }
   },
   "source": [
    "### Main Function\n",
    "\n",
    "The [conversion steps](https://pytorch.org/tutorials/intermediate/ddp_series_multinode.html) from single-node to distributed are highlighted in comments below.\n",
    "\n",
    "**Note**: the data loaders have been factored out, so we can swap in different implementations in the \"Advanced\" section below."
   ]
  },
  {
   "cell_type": "code",
   "execution_count": null,
   "metadata": {
    "application/vnd.databricks.v1+cell": {
     "cellMetadata": {
      "byteLimit": 2048000,
      "rowLimit": 10000
     },
     "inputWidgets": {},
     "nuid": "64fef046-c79e-4db0-b413-68d41a487374",
     "showTitle": false,
     "title": ""
    }
   },
   "outputs": [],
   "source": [
    "def main_fn(directory):\n",
    "    #### Added Torch Distributed imports ####\n",
    "    import torch.distributed as dist\n",
    "    from torch.nn.parallel import DistributedDataParallel as DDP\n",
    "\n",
    "    print(\"Running distributed training\")\n",
    "    dist.init_process_group(\"nccl\")\n",
    "\n",
    "    local_rank = int(os.environ[\"LOCAL_RANK\"])\n",
    "    global_rank = int(os.environ[\"RANK\"])\n",
    "    world_size = int(os.environ[\"WORLD_SIZE\"])\n",
    "\n",
    "    #### Adjust batch size per worker ####\n",
    "    adjusted_batch_size = batch_size // world_size\n",
    "    print(f\"{adjusted_batch_size=}\")\n",
    "\n",
    "    if global_rank == 0:\n",
    "        train_parameters = {\n",
    "            \"batch_size\": adjusted_batch_size,\n",
    "            \"epochs\": num_epochs,\n",
    "            \"trainer\": \"TorchDistributor\",\n",
    "        }\n",
    "\n",
    "    model = Net().to(local_rank)\n",
    "    #### Added Distributed Model ####\n",
    "    ddp_model = DDP(model, device_ids=[local_rank], output_device=local_rank)\n",
    "\n",
    "    optimizer = optim.SGD(ddp_model.parameters(), lr=learning_rate, momentum=momentum)\n",
    "    for epoch in range(1, num_epochs + 1):\n",
    "        # train data_loader\n",
    "        data_loader = get_train_dataloader(adjusted_batch_size)\n",
    "\n",
    "        train_one_epoch(ddp_model, local_rank, data_loader, optimizer, epoch, prepare_batch)\n",
    "\n",
    "        if global_rank == 0:\n",
    "            save_checkpoint(directory, ddp_model, optimizer, epoch)\n",
    "\n",
    "    if global_rank == 0:\n",
    "        ddp_model.eval()\n",
    "\n",
    "        # test data_loader\n",
    "        data_loader = get_test_dataloader(batch_size)\n",
    "\n",
    "        test_loss = 0\n",
    "        num_batches = 0\n",
    "        for batch in data_loader:\n",
    "            data, target = prepare_batch(batch)\n",
    "            device = torch.device(\"cuda\")\n",
    "            data, target = data.to(device), target.to(device)\n",
    "            output = ddp_model(data)\n",
    "            test_loss += F.nll_loss(output, target)\n",
    "            num_batches += 1\n",
    "\n",
    "        test_loss /= num_batches\n",
    "        print(\"Average test loss: {}\".format(test_loss.item()))\n",
    "\n",
    "    dist.destroy_process_group()\n",
    "\n",
    "    return \"finished\"  # can return any picklable object"
   ]
  },
  {
   "cell_type": "markdown",
   "metadata": {
    "application/vnd.databricks.v1+cell": {
     "cellMetadata": {
      "byteLimit": 2048000,
      "rowLimit": 10000
     },
     "inputWidgets": {},
     "nuid": "129e940f-3b35-457e-9727-3caa3de34baf",
     "showTitle": false,
     "title": ""
    }
   },
   "source": [
    "### Torch Datasets Data Loader\n",
    "This example just downloads the MNIST dataset to each worker and then uses the Torch DistributedSampler to shard the data.\n",
    "\n",
    "**Note**: that this only works if the dataset is small enough to be downloaded to each worker.  For larger datasets, see the \"Advanced\" section below."
   ]
  },
  {
   "cell_type": "code",
   "execution_count": null,
   "metadata": {
    "application/vnd.databricks.v1+cell": {
     "cellMetadata": {
      "byteLimit": 2048000,
      "rowLimit": 10000
     },
     "inputWidgets": {},
     "nuid": "5def7d8d-69f9-47ca-8a21-ba31a9a4b6a9",
     "showTitle": false,
     "title": ""
    }
   },
   "outputs": [],
   "source": [
    "def get_train_dataloader(batch_size, distributed=True):\n",
    "    if distributed:\n",
    "        from torch.utils.data.distributed import DistributedSampler\n",
    "\n",
    "    train_dataset = datasets.MNIST(\n",
    "        \"data\",\n",
    "        train=True,\n",
    "        download=True,\n",
    "        transform=transforms.Compose(\n",
    "            [transforms.ToTensor(), transforms.Normalize((0.1307,), (0.3081,))]\n",
    "        ),\n",
    "    )\n",
    "    \n",
    "    #### Added Distributed Dataloader ####\n",
    "    train_sampler = DistributedSampler(train_dataset) if distributed else None\n",
    "    data_loader = torch.utils.data.DataLoader(\n",
    "        train_dataset, batch_size=batch_size, sampler=train_sampler\n",
    "    )\n",
    "    return data_loader\n",
    "\n",
    "def get_test_dataloader(batch_size):\n",
    "    test_dataset = datasets.MNIST(\n",
    "        \"data\",\n",
    "        train=False,\n",
    "        download=True,\n",
    "        transform=transforms.Compose(\n",
    "            [transforms.ToTensor(), transforms.Normalize((0.1307,), (0.3081,))]\n",
    "        ),\n",
    "    )\n",
    "    data_loader = torch.utils.data.DataLoader(test_dataset, batch_size=batch_size)  \n",
    "    return data_loader"
   ]
  },
  {
   "cell_type": "markdown",
   "metadata": {
    "application/vnd.databricks.v1+cell": {
     "cellMetadata": {
      "byteLimit": 2048000,
      "rowLimit": 10000
     },
     "inputWidgets": {},
     "nuid": "50af6897-8441-471e-bc76-513008b964f2",
     "showTitle": false,
     "title": ""
    }
   },
   "source": [
    "### Train with TorchDistributor\n",
    "See: https://spark.apache.org/docs/latest//api/python/reference/api/pyspark.ml.torch.distributor.TorchDistributor.html"
   ]
  },
  {
   "cell_type": "code",
   "execution_count": null,
   "metadata": {
    "application/vnd.databricks.v1+cell": {
     "cellMetadata": {
      "byteLimit": 2048000,
      "rowLimit": 10000
     },
     "inputWidgets": {},
     "nuid": "ffee450c-b4b7-4606-8d02-29807a5535e4",
     "showTitle": false,
     "title": ""
    }
   },
   "outputs": [
    {
     "name": "stdout",
     "output_type": "stream",
     "text": [
      "Log directory:  /dbfs/ml/pytorch/1683755013.639396\n"
     ]
    },
    {
     "name": "stderr",
     "output_type": "stream",
     "text": [
      "Started distributed training with 2 executor proceses\n",
      "Running distributed training\n",
      "Running distributed training\n",
      "adjusted_batch_size=50\n",
      "adjusted_batch_size=50\n",
      "Train Epoch: 1 [0]\tLoss: 2.315846\n",
      "Train Epoch: 1 [0]\tLoss: 2.328258\n",
      "Train Epoch: 1 [5000]\tLoss: 2.318942\n",
      "Train Epoch: 1 [5000]\tLoss: 2.305338\n",
      "Train Epoch: 1 [10000]\tLoss: 2.295995\n",
      "Train Epoch: 1 [10000]\tLoss: 2.291051\n",
      "Train Epoch: 1 [15000]\tLoss: 2.282527\n",
      "Train Epoch: 1 [15000]\tLoss: 2.305161\n",
      "Train Epoch: 1 [20000]\tLoss: 2.282576\n",
      "Train Epoch: 1 [20000]\tLoss: 2.280523\n",
      "Train Epoch: 1 [25000]\tLoss: 2.272546\n",
      "Train Epoch: 1 [25000]\tLoss: 2.324517\n",
      "Train Epoch: 2 [0]\tLoss: 2.263000\n",
      "Train Epoch: 2 [0]\tLoss: 2.253219\n",
      "Train Epoch: 2 [5000]\tLoss: 2.269941\n",
      "Train Epoch: 2 [5000]\tLoss: 2.256959\n",
      "Train Epoch: 2 [10000]\tLoss: 2.222101\n",
      "Train Epoch: 2 [10000]\tLoss: 2.250984\n",
      "Train Epoch: 2 [15000]\tLoss: 2.173892\n",
      "Train Epoch: 2 [15000]\tLoss: 2.258744\n",
      "Train Epoch: 2 [20000]\tLoss: 2.161367\n",
      "Train Epoch: 2 [20000]\tLoss: 2.194634\n",
      "Train Epoch: 2 [25000]\tLoss: 2.214464\n",
      "Train Epoch: 2 [25000]\tLoss: 2.104484\n",
      "Train Epoch: 3 [0]\tLoss: 2.073377\n",
      "Train Epoch: 3 [0]\tLoss: 2.065120\n",
      "Train Epoch: 3 [5000]\tLoss: 2.067660\n",
      "Train Epoch: 3 [5000]\tLoss: 2.036174\n",
      "Train Epoch: 3 [10000]\tLoss: 1.958426\n",
      "Train Epoch: 3 [10000]\tLoss: 1.914909\n",
      "Train Epoch: 3 [15000]\tLoss: 1.715065\n",
      "Train Epoch: 3 [15000]\tLoss: 1.934866\n",
      "Train Epoch: 3 [20000]\tLoss: 1.745061\n",
      "Train Epoch: 3 [20000]\tLoss: 1.685388\n",
      "Train Epoch: 3 [25000]\tLoss: 1.668422\n",
      "Train Epoch: 3 [25000]\tLoss: 1.605796\n",
      "Train Epoch: 4 [0]\tLoss: 1.664934\n",
      "Train Epoch: 4 [0]\tLoss: 1.377108\n",
      "Train Epoch: 4 [5000]\tLoss: 1.495357\n",
      "Train Epoch: 4 [5000]\tLoss: 1.586019\n",
      "Train Epoch: 4 [10000]\tLoss: 1.228206\n",
      "Train Epoch: 4 [10000]\tLoss: 1.422787\n",
      "Train Epoch: 4 [15000]\tLoss: 1.213615\n",
      "Train Epoch: 4 [15000]\tLoss: 1.411315\n",
      "Train Epoch: 4 [20000]\tLoss: 1.170620\n",
      "Train Epoch: 4 [20000]\tLoss: 1.348655\n",
      "Train Epoch: 4 [25000]\tLoss: 1.186718\n",
      "Train Epoch: 4 [25000]\tLoss: 1.093435\n",
      "Train Epoch: 5 [0]\tLoss: 1.262350\n",
      "Train Epoch: 5 [0]\tLoss: 1.168563\n",
      "Train Epoch: 5 [5000]\tLoss: 1.026802\n",
      "Train Epoch: 5 [5000]\tLoss: 1.100900\n",
      "Train Epoch: 5 [10000]\tLoss: 1.011708\n",
      "Train Epoch: 5 [10000]\tLoss: 0.810456\n",
      "Train Epoch: 5 [15000]\tLoss: 0.761695\n",
      "Train Epoch: 5 [15000]\tLoss: 0.966266\n",
      "Train Epoch: 5 [20000]\tLoss: 1.110494\n",
      "Train Epoch: 5 [20000]\tLoss: 0.952292\n",
      "Train Epoch: 5 [25000]\tLoss: 0.948426\n",
      "Train Epoch: 5 [25000]\tLoss: 0.963606\n",
      "Average test loss: 0.4790334701538086\n",
      "Finished distributed training with 2 executor proceses\n"
     ]
    }
   ],
   "source": [
    "from pyspark.ml.torch.distributor import TorchDistributor\n",
    "\n",
    "multi_node_multi_gpu_dir = create_log_dir()\n",
    "print(\"Log directory: \", create_log_dir())\n",
    "\n",
    "# Set num_processes = NUM_WORKERS * NUM_GPUS_PER_WORKER\n",
    "output_dist = TorchDistributor(num_processes=2, local_mode=False, use_gpu=True).run(main_fn, multi_node_multi_gpu_dir)\n"
   ]
  },
  {
   "cell_type": "markdown",
   "metadata": {
    "application/vnd.databricks.v1+cell": {
     "cellMetadata": {
      "byteLimit": 2048000,
      "rowLimit": 10000
     },
     "inputWidgets": {},
     "nuid": "a40e7c6d-f486-4142-9954-62a88cfaece8",
     "showTitle": false,
     "title": ""
    }
   },
   "source": [
    "## Distributed Inference"
   ]
  },
  {
   "cell_type": "markdown",
   "metadata": {
    "application/vnd.databricks.v1+cell": {
     "cellMetadata": {
      "byteLimit": 2048000,
      "rowLimit": 10000
     },
     "inputWidgets": {},
     "nuid": "2dbd74bc-523f-4d80-9187-2546eb20063f",
     "showTitle": false,
     "title": ""
    }
   },
   "source": [
    "### Convert Test Data to Parquet\n",
    "\n",
    "To emulate the use case where the dataset resides on a distributed file system, save the dataset as Parquet files to an S3 bucket.\n",
    "\n",
    "**Note**: this only needs to be run once, so you can skip this section if you've already generated the test dataset on S3."
   ]
  },
  {
   "cell_type": "code",
   "execution_count": null,
   "metadata": {
    "application/vnd.databricks.v1+cell": {
     "cellMetadata": {
      "byteLimit": 2048000,
      "rowLimit": 10000
     },
     "inputWidgets": {},
     "nuid": "79573819-64b1-41cb-a6f1-f3dca07f7351",
     "showTitle": false,
     "title": ""
    }
   },
   "outputs": [
    {
     "data": {
      "application/vnd.databricks.v1+bamboolib_hint": "{\"pd.DataFrames\": [], \"version\": \"0.0.1\"}",
      "text/plain": []
     },
     "metadata": {},
     "output_type": "display_data"
    }
   ],
   "source": [
    "import numpy as np\n",
    "import pandas as pd\n",
    "from pyspark.sql.types import StructType, StructField, ArrayType, FloatType, LongType"
   ]
  },
  {
   "cell_type": "code",
   "execution_count": null,
   "metadata": {
    "application/vnd.databricks.v1+cell": {
     "cellMetadata": {
      "byteLimit": 2048000,
      "rowLimit": 10000
     },
     "inputWidgets": {},
     "nuid": "754362a2-ad00-45f7-86bc-4a24e85281c0",
     "showTitle": false,
     "title": ""
    }
   },
   "outputs": [],
   "source": [
    "def save_as_parquet(data_loader, bucket):\n",
    "    data, labels = next(iter(data_loader))\n",
    "\n",
    "    # flatten images\n",
    "    np_data = np.array(data).reshape(-1, 784)\n",
    "\n",
    "    # create pandas dataframe with single array column\n",
    "    pdf = pd.DataFrame(np_data)\n",
    "    pdf1 = pd.DataFrame()\n",
    "    pdf1['data'] = pdf.values.tolist()\n",
    "    pdf1['label'] = labels\n",
    "    \n",
    "    # convert to Spark DataFrame\n",
    "    schema = StructType([\n",
    "        StructField(\"data\",ArrayType(FloatType()), True),\n",
    "        StructField(\"label\", LongType(), True)\n",
    "      ])\n",
    "    df = spark.createDataFrame(pdf1, schema)\n",
    "\n",
    "    # save DataFrame to S3 bucket as parquet\n",
    "    df.write.mode(\"overwrite\").parquet(bucket)"
   ]
  },
  {
   "cell_type": "code",
   "execution_count": null,
   "metadata": {
    "application/vnd.databricks.v1+cell": {
     "cellMetadata": {
      "byteLimit": 2048000,
      "rowLimit": 10000
     },
     "inputWidgets": {},
     "nuid": "de27976f-96de-44c6-931c-7467bc63d16f",
     "showTitle": false,
     "title": ""
    }
   },
   "outputs": [],
   "source": [
    "# save test dataset as parquet to S3\n",
    "test_data_loader = get_test_dataloader(batch_size=10000)\n",
    "save_as_parquet(test_data_loader, f\"{S3_BUCKET}/test\")"
   ]
  },
  {
   "cell_type": "markdown",
   "metadata": {
    "application/vnd.databricks.v1+cell": {
     "cellMetadata": {
      "byteLimit": 2048000,
      "rowLimit": 10000
     },
     "inputWidgets": {},
     "nuid": "3815be25-0e4f-4a6a-8348-50922c75375a",
     "showTitle": false,
     "title": ""
    }
   },
   "source": [
    "### Inference with predict_batch_udf\n",
    "See: https://spark.apache.org/docs/latest//api/python/reference/api/pyspark.ml.functions.predict_batch_udf.html"
   ]
  },
  {
   "cell_type": "code",
   "execution_count": null,
   "metadata": {
    "application/vnd.databricks.v1+cell": {
     "cellMetadata": {
      "byteLimit": 2048000,
      "rowLimit": 10000
     },
     "inputWidgets": {},
     "nuid": "28293bff-2e66-4a16-80d8-1f591a1db981",
     "showTitle": false,
     "title": ""
    }
   },
   "outputs": [],
   "source": [
    "from pyspark.ml.functions import predict_batch_udf\n",
    "from pyspark.sql.functions import struct, col, array\n",
    "from pyspark.sql.types import ArrayType, FloatType, Union, Dict"
   ]
  },
  {
   "cell_type": "code",
   "execution_count": null,
   "metadata": {
    "application/vnd.databricks.v1+cell": {
     "cellMetadata": {
      "byteLimit": 2048000,
      "rowLimit": 10000
     },
     "inputWidgets": {},
     "nuid": "ce0837d6-2b18-4553-8803-f8cb773b3ef7",
     "showTitle": false,
     "title": ""
    }
   },
   "outputs": [],
   "source": [
    "df = spark.read.parquet(\"${S3_BUCKET}/test\")"
   ]
  },
  {
   "cell_type": "code",
   "execution_count": null,
   "metadata": {
    "application/vnd.databricks.v1+cell": {
     "cellMetadata": {
      "byteLimit": 2048000,
      "rowLimit": 10000
     },
     "inputWidgets": {},
     "nuid": "f8d8af05-9cc4-4c30-989a-ab917e56b3e2",
     "showTitle": false,
     "title": ""
    }
   },
   "outputs": [],
   "source": [
    "def predict_batch_fn():\n",
    "    import torch    \n",
    "    device = torch.device(\"cuda\")\n",
    "    model = Net().to(device)\n",
    "    checkpoint = load_checkpoint(multi_node_multi_gpu_dir)\n",
    "    model.load_state_dict(checkpoint['model'])\n",
    "\n",
    "    def predict(inputs):\n",
    "        torch_inputs = torch.from_numpy(inputs).to(device)\n",
    "        outputs = model(torch_inputs)\n",
    "        return outputs.cpu().detach().numpy()\n",
    "    \n",
    "    return predict"
   ]
  },
  {
   "cell_type": "code",
   "execution_count": null,
   "metadata": {
    "application/vnd.databricks.v1+cell": {
     "cellMetadata": {
      "byteLimit": 2048000,
      "rowLimit": 10000
     },
     "inputWidgets": {},
     "nuid": "9f3b8672-7e84-4c7c-8020-3d552e30b934",
     "showTitle": false,
     "title": ""
    }
   },
   "outputs": [],
   "source": [
    "mnist = predict_batch_udf(predict_batch_fn,\n",
    "                          input_tensor_shapes=[[1,28,28]],\n",
    "                          return_type=ArrayType(FloatType()),\n",
    "                          batch_size=1000)"
   ]
  },
  {
   "cell_type": "code",
   "execution_count": null,
   "metadata": {
    "application/vnd.databricks.v1+cell": {
     "cellMetadata": {
      "byteLimit": 2048000,
      "rowLimit": 10000
     },
     "inputWidgets": {},
     "nuid": "7ce2e38c-2dfd-4daa-950b-f928a39cb874",
     "showTitle": false,
     "title": ""
    }
   },
   "outputs": [],
   "source": [
    "preds = df.withColumn(\"preds\", mnist('data')).collect()"
   ]
  },
  {
   "cell_type": "markdown",
   "metadata": {
    "application/vnd.databricks.v1+cell": {
     "cellMetadata": {
      "byteLimit": 2048000,
      "rowLimit": 10000
     },
     "inputWidgets": {},
     "nuid": "a77c5663-c109-403d-a7d9-d1d967f53e25",
     "showTitle": false,
     "title": ""
    }
   },
   "source": [
    "### Check predictions"
   ]
  },
  {
   "cell_type": "code",
   "execution_count": null,
   "metadata": {
    "application/vnd.databricks.v1+cell": {
     "cellMetadata": {
      "byteLimit": 2048000,
      "rowLimit": 10000
     },
     "inputWidgets": {},
     "nuid": "56e06323-5694-4cc6-be8c-ae643c19b30d",
     "showTitle": false,
     "title": ""
    }
   },
   "outputs": [],
   "source": [
    "import matplotlib.pyplot as plt\n",
    "import numpy as np"
   ]
  },
  {
   "cell_type": "code",
   "execution_count": null,
   "metadata": {
    "application/vnd.databricks.v1+cell": {
     "cellMetadata": {
      "byteLimit": 2048000,
      "rowLimit": 10000
     },
     "inputWidgets": {},
     "nuid": "1dbdda94-9726-49da-8734-9bfde8bbb9d0",
     "showTitle": false,
     "title": ""
    }
   },
   "outputs": [
    {
     "data": {
      "image/png": "[encoded data removed]",
      "text/plain": [
       "<Figure size 1200x700 with 10 Axes>"
      ]
     },
     "metadata": {},
     "output_type": "display_data"
    }
   ],
   "source": [
    "fig, ax = plt.subplots(2,5)\n",
    "for i, ax in enumerate(ax.flatten()):\n",
    "    img = np.array(preds[i].data).reshape(28,28)\n",
    "    prediction = np.argmax(preds[i].preds)\n",
    "    ax.set_title(f\"Prediction: {prediction}\")\n",
    "    ax.imshow(img)\n",
    "\n",
    "plt.rcParams[\"figure.figsize\"] = (12,7)\n",
    "plt.show()"
   ]
  },
  {
   "cell_type": "markdown",
   "metadata": {
    "application/vnd.databricks.v1+cell": {
     "cellMetadata": {
      "byteLimit": 2048000,
      "rowLimit": 10000
     },
     "inputWidgets": {},
     "nuid": "883a1bc9-e091-4f11-869d-ef850cacf480",
     "showTitle": false,
     "title": ""
    }
   },
   "source": [
    "## Advanced\n",
    "For most real-world use cases with Spark and DL, the training datasets will generally be much larger than can be hosted on a single box. Instead, they will typically be stored in a distributed filesystem, like HDFS, S3, or GCS.  The following code demonstrates how to access a distributed dataset (hosted in S3) during training.\n",
    "\n",
    "**Note**: For simplicity, we will continue to use the MNIST dataset, but keep in mind that real-world datasets will be several orders of magnitude larger."
   ]
  },
  {
   "cell_type": "markdown",
   "metadata": {
    "application/vnd.databricks.v1+cell": {
     "cellMetadata": {
      "byteLimit": 2048000,
      "rowLimit": 10000
     },
     "inputWidgets": {},
     "nuid": "ae4442ad-1a23-4732-9398-c5b580d85d29",
     "showTitle": false,
     "title": ""
    }
   },
   "source": [
    "### Convert Train Data to Parquet\n",
    "\n",
    "To emulate the use case where the dataset resides on a distributed file system, save the dataset as Parquet files to an S3 bucket.\n",
    "\n",
    "**Note**: this only needs to be run once, so you can skip this section if you've already generated the dataset on S3."
   ]
  },
  {
   "cell_type": "code",
   "execution_count": null,
   "metadata": {
    "application/vnd.databricks.v1+cell": {
     "cellMetadata": {
      "byteLimit": 2048000,
      "rowLimit": 10000
     },
     "inputWidgets": {},
     "nuid": "445a0adf-ba40-4230-a923-cfd0cfe5730d",
     "showTitle": false,
     "title": ""
    }
   },
   "outputs": [],
   "source": [
    "# save train dataset as parquet to S3\n",
    "train_data_loader = get_train_dataloader(batch_size=60000, distributed=False)\n",
    "save_as_parquet(train_data_loader, f\"{S3_BUCKET}/train\")"
   ]
  },
  {
   "cell_type": "markdown",
   "metadata": {
    "application/vnd.databricks.v1+cell": {
     "cellMetadata": {
      "byteLimit": 2048000,
      "rowLimit": 10000
     },
     "inputWidgets": {},
     "nuid": "ef83e46a-a4f9-44d1-9ca2-d9287aaf7f2e",
     "showTitle": false,
     "title": ""
    }
   },
   "source": [
    "### Distributed Data Loader\n",
    "Since the dataset is stored in a distributed filesystem, you will need to use a distributed data loader capable of sharding files across the workers.  Currently, there are two main options (aside from custom data loaders):\n",
    "- Petastorm\n",
    "- NVTabular\n",
    "\n",
    "Since the cluster is already configured with GPUs, we will demonstrate using NVTabular here, since it provides GPU-accelerated data loading with built-in support for S3FS and Parquet files."
   ]
  },
  {
   "cell_type": "code",
   "execution_count": null,
   "metadata": {
    "application/vnd.databricks.v1+cell": {
     "cellMetadata": {
      "byteLimit": 2048000,
      "rowLimit": 10000
     },
     "inputWidgets": {},
     "nuid": "2220bcd9-8cb8-4671-a613-f5f2c1f985bf",
     "showTitle": false,
     "title": ""
    }
   },
   "outputs": [],
   "source": [
    "storage_options={\"key\": access_key, \"secret\": secret_key}\n",
    "\n",
    "def seed_fn():\n",
    "    \"\"\"\n",
    "    Generate consistent dataloader shuffle seeds across workers\n",
    "    Reseeds each worker's dataloader each epoch to get fresh a shuffle\n",
    "    that's consistent across workers.\n",
    "    \"\"\"\n",
    "    return 0\n",
    "\n",
    "def get_train_dataloader(batch_size,):\n",
    "    import nvtabular as nvt\n",
    "    from nvtabular.loader.torch import TorchAsyncItr, DLDataLoader\n",
    "\n",
    "    global_rank = int(os.environ[\"RANK\"])\n",
    "    world_size = int(os.environ[\"WORLD_SIZE\"])\n",
    "\n",
    "    train_dataset = TorchAsyncItr(\n",
    "        nvt.Dataset(f\"{S3_BUCKET}/train\", engine=\"parquet\", storage_options=storage_options),\n",
    "        batch_size=batch_size,\n",
    "        cats=[],\n",
    "        conts=[\"data\"],\n",
    "        labels=[\"label\"],\n",
    "        shuffle=True,\n",
    "        parts_per_chunk=1,\n",
    "        global_size=world_size,\n",
    "        global_rank=global_rank,\n",
    "        seed_fn=seed_fn\n",
    "    )\n",
    "    train_loader = DLDataLoader(\n",
    "        train_dataset, batch_size=None, collate_fn=lambda x: x, pin_memory=False, num_workers=0\n",
    "    )\n",
    "\n",
    "    return train_loader\n",
    "\n",
    "\n",
    "def get_test_dataloader(batch_size):\n",
    "    import nvtabular as nvt\n",
    "    from nvtabular.loader.torch import TorchAsyncItr, DLDataLoader\n",
    "\n",
    "    global_rank = int(os.environ[\"RANK\"])\n",
    "    world_size = int(os.environ[\"WORLD_SIZE\"])\n",
    "\n",
    "    train_dataset = TorchAsyncItr(\n",
    "        nvt.Dataset(f\"{S3_BUCKET}/test\", engine=\"parquet\", storage_options=storage_options),\n",
    "        batch_size=batch_size,\n",
    "        cats=[],\n",
    "        conts=[\"data\"],\n",
    "        labels=[\"label\"],\n",
    "        shuffle=False,\n",
    "        parts_per_chunk=1,\n",
    "        global_size=world_size,\n",
    "        global_rank=global_rank,\n",
    "        seed_fn=seed_fn\n",
    "    )\n",
    "    train_loader = DLDataLoader(\n",
    "        train_dataset, batch_size=None, collate_fn=lambda x: x, pin_memory=False, num_workers=0\n",
    "    )\n",
    "\n",
    "    return train_loader\n",
    "\n",
    "def prepare_batch(batch):\n",
    "    data = batch[0]['data__values'].reshape(-1,1,28,28)\n",
    "    label = batch[1]\n",
    "    return data, label"
   ]
  },
  {
   "cell_type": "markdown",
   "metadata": {
    "application/vnd.databricks.v1+cell": {
     "cellMetadata": {
      "byteLimit": 2048000,
      "rowLimit": 10000
     },
     "inputWidgets": {},
     "nuid": "4b98395c-a662-4d4f-89a2-7837af89a9ec",
     "showTitle": false,
     "title": ""
    }
   },
   "source": [
    "### Train with NVTabular Data Loader"
   ]
  },
  {
   "cell_type": "code",
   "execution_count": null,
   "metadata": {
    "application/vnd.databricks.v1+cell": {
     "cellMetadata": {
      "byteLimit": 2048000,
      "rowLimit": 10000
     },
     "inputWidgets": {},
     "nuid": "2ebb1fb7-f7cc-4601-8e8b-9fb26f4072dc",
     "showTitle": false,
     "title": ""
    }
   },
   "outputs": [
    {
     "name": "stdout",
     "output_type": "stream",
     "text": [
      "Log directory:  /dbfs/ml/pytorch/1683755103.642704\n"
     ]
    },
    {
     "name": "stderr",
     "output_type": "stream",
     "text": [
      "Started distributed training with 2 executor proceses\n",
      "Running distributed training\n",
      "Running distributed training\n",
      "adjusted_batch_size=50\n",
      "adjusted_batch_size=50\n",
      "2023-05-10 21:45:14.407035: I tensorflow/core/platform/cpu_feature_guard.cc:193] This TensorFlow binary is optimized with oneAPI Deep Neural Network Library (oneDNN) to use the following CPU instructions in performance-critical operations:  AVX2 AVX512F AVX512_VNNI FMA\n",
      "To enable them in other operations, rebuild TensorFlow with the appropriate compiler flags.\n",
      "2023-05-10 21:45:14.551173: I tensorflow/core/util/port.cc:104] oneDNN custom operations are on. You may see slightly different numerical results due to floating-point round-off errors from different computation orders. To turn them off, set the environment variable `TF_ENABLE_ONEDNN_OPTS=0`.\n",
      "2023-05-10 21:45:15.573393: I tensorflow/core/platform/cpu_feature_guard.cc:193] This TensorFlow binary is optimized with oneAPI Deep Neural Network Library (oneDNN) to use the following CPU instructions in performance-critical operations:  AVX2 AVX512F AVX512_VNNI FMA\n",
      "To enable them in other operations, rebuild TensorFlow with the appropriate compiler flags.\n",
      "2023-05-10 21:45:15.733816: I tensorflow/core/util/port.cc:104] oneDNN custom operations are on. You may see slightly different numerical results due to floating-point round-off errors from different computation orders. To turn them off, set the environment variable `TF_ENABLE_ONEDNN_OPTS=0`.\n",
      "/databricks/python/lib/python3.10/site-packages/tritonclient/grpc/__init__.py:60: UserWarning: Imported version of grpc is 1.48.1. There is a memory leak in certain Python GRPC versions (1.43.0 to be specific). Please use versions <1.43.0 or >=1.51.1 to avoid leaks (see https://github.com/grpc/grpc/issues/28513).\n",
      "  warnings.warn(\n",
      "2023-05-10 21:45:16.309734: I tensorflow/compiler/xla/stream_executor/cuda/cuda_gpu_executor.cc:981] successful NUMA node read from SysFS had negative value (-1), but there must be at least one NUMA node, so returning NUMA node zero\n",
      "2023-05-10 21:45:16.310694: I tensorflow/compiler/xla/stream_executor/cuda/cuda_gpu_executor.cc:981] successful NUMA node read from SysFS had negative value (-1), but there must be at least one NUMA node, so returning NUMA node zero\n",
      "2023-05-10 21:45:16.311293: I tensorflow/compiler/xla/stream_executor/cuda/cuda_gpu_executor.cc:981] successful NUMA node read from SysFS had negative value (-1), but there must be at least one NUMA node, so returning NUMA node zero\n",
      "/databricks/python/lib/python3.10/site-packages/tritonclient/grpc/__init__.py:60: UserWarning: Imported version of grpc is 1.48.1. There is a memory leak in certain Python GRPC versions (1.43.0 to be specific). Please use versions <1.43.0 or >=1.51.1 to avoid leaks (see https://github.com/grpc/grpc/issues/28513).\n",
      "  warnings.warn(\n",
      "2023-05-10 21:45:17.727073: I tensorflow/compiler/xla/stream_executor/cuda/cuda_gpu_executor.cc:981] successful NUMA node read from SysFS had negative value (-1), but there must be at least one NUMA node, so returning NUMA node zero\n",
      "2023-05-10 21:45:17.728005: I tensorflow/compiler/xla/stream_executor/cuda/cuda_gpu_executor.cc:981] successful NUMA node read from SysFS had negative value (-1), but there must be at least one NUMA node, so returning NUMA node zero\n",
      "2023-05-10 21:45:17.728554: I tensorflow/compiler/xla/stream_executor/cuda/cuda_gpu_executor.cc:981] successful NUMA node read from SysFS had negative value (-1), but there must be at least one NUMA node, so returning NUMA node zero\n",
      "Train Epoch: 1 [0]\tLoss: 2.305805\n",
      "Train Epoch: 1 [0]\tLoss: 2.339357\n",
      "Train Epoch: 1 [5000]\tLoss: 2.280867\n",
      "Train Epoch: 1 [5000]\tLoss: 2.368357\n",
      "Train Epoch: 1 [10000]\tLoss: 2.290627\n",
      "Train Epoch: 1 [10000]\tLoss: 2.271626\n",
      "Train Epoch: 1 [15000]\tLoss: 2.285692\n",
      "Train Epoch: 1 [15000]\tLoss: 2.309556\n",
      "Train Epoch: 1 [20000]\tLoss: 2.291195\n",
      "Train Epoch: 1 [20000]\tLoss: 2.258479\n",
      "Train Epoch: 1 [25000]\tLoss: 2.305413\n",
      "Train Epoch: 1 [25000]\tLoss: 2.257723\n",
      "Train Epoch: 2 [0]\tLoss: 2.235390\n",
      "Train Epoch: 2 [0]\tLoss: 2.198956\n",
      "Train Epoch: 2 [5000]\tLoss: 2.218740\n",
      "Train Epoch: 2 [5000]\tLoss: 2.221195\n",
      "Train Epoch: 2 [10000]\tLoss: 2.187166\n",
      "Train Epoch: 2 [10000]\tLoss: 2.137402\n",
      "Train Epoch: 2 [15000]\tLoss: 2.126111\n",
      "Train Epoch: 2 [15000]\tLoss: 2.073809\n",
      "Train Epoch: 2 [20000]\tLoss: 2.081784\n",
      "Train Epoch: 2 [20000]\tLoss: 1.966479\n",
      "Train Epoch: 2 [25000]\tLoss: 1.930605\n",
      "Train Epoch: 2 [25000]\tLoss: 1.878074\n",
      "Train Epoch: 3 [0]\tLoss: 1.694411\n",
      "Train Epoch: 3 [0]\tLoss: 1.862214\n",
      "Train Epoch: 3 [5000]\tLoss: 1.893949\n",
      "Train Epoch: 3 [5000]\tLoss: 1.882721\n",
      "Train Epoch: 3 [10000]\tLoss: 1.315645\n",
      "Train Epoch: 3 [10000]\tLoss: 1.813671\n",
      "Train Epoch: 3 [15000]\tLoss: 1.548722\n",
      "Train Epoch: 3 [15000]\tLoss: 1.306659\n",
      "Train Epoch: 3 [20000]\tLoss: 1.352624\n",
      "Train Epoch: 3 [20000]\tLoss: 1.249572\n",
      "Train Epoch: 3 [25000]\tLoss: 1.214441\n",
      "Train Epoch: 3 [25000]\tLoss: 1.272143\n",
      "Train Epoch: 4 [0]\tLoss: 1.395404\n",
      "Train Epoch: 4 [0]\tLoss: 1.208001\n",
      "Train Epoch: 4 [5000]\tLoss: 1.393423\n",
      "Train Epoch: 4 [5000]\tLoss: 1.033216\n",
      "Train Epoch: 4 [10000]\tLoss: 1.039255\n",
      "Train Epoch: 4 [10000]\tLoss: 1.147518\n",
      "Train Epoch: 4 [15000]\tLoss: 1.105749\n",
      "Train Epoch: 4 [15000]\tLoss: 0.898317\n",
      "Train Epoch: 4 [20000]\tLoss: 0.889672\n",
      "Train Epoch: 4 [20000]\tLoss: 0.999275\n",
      "Train Epoch: 4 [25000]\tLoss: 0.814816\n",
      "Train Epoch: 4 [25000]\tLoss: 0.955990\n",
      "Train Epoch: 5 [0]\tLoss: 1.236833\n",
      "Train Epoch: 5 [0]\tLoss: 0.852844\n",
      "Train Epoch: 5 [5000]\tLoss: 1.068169\n",
      "Train Epoch: 5 [5000]\tLoss: 0.947117\n",
      "Train Epoch: 5 [10000]\tLoss: 1.434625\n",
      "Train Epoch: 5 [10000]\tLoss: 0.652500\n",
      "Train Epoch: 5 [15000]\tLoss: 0.938174\n",
      "Train Epoch: 5 [15000]\tLoss: 0.902604\n",
      "Train Epoch: 5 [20000]\tLoss: 0.698800\n",
      "Train Epoch: 5 [20000]\tLoss: 0.812113\n",
      "Train Epoch: 5 [25000]\tLoss: 0.591616\n",
      "Train Epoch: 5 [25000]\tLoss: 1.005589\n",
      "Average test loss: 0.5255906581878662\n",
      "Finished distributed training with 2 executor proceses\n"
     ]
    }
   ],
   "source": [
    "from pyspark.ml.torch.distributor import TorchDistributor\n",
    "\n",
    "multi_node_multi_gpu_dir = create_log_dir()\n",
    "print(\"Log directory: \", create_log_dir())\n",
    "\n",
    "# Set num_processes = NUM_WORKERS * NUM_GPUS_PER_WORKER\n",
    "output_dist = TorchDistributor(num_processes=2, local_mode=False, use_gpu=True).run(main_fn, multi_node_multi_gpu_dir)\n"
   ]
  },
  {
   "cell_type": "code",
   "execution_count": null,
   "metadata": {
    "application/vnd.databricks.v1+cell": {
     "cellMetadata": {
      "byteLimit": 2048000,
      "rowLimit": 10000
     },
     "inputWidgets": {},
     "nuid": "7e66fc07-ee69-4cdc-81d6-3130e03df3b2",
     "showTitle": false,
     "title": ""
    }
   },
   "outputs": [],
   "source": []
  }
 ],
 "metadata": {
  "application/vnd.databricks.v1+notebook": {
   "dashboards": [],
   "language": "python",
   "notebookMetadata": {
    "mostRecentlyExecutedCommandWithImplicitDF": {
     "commandId": 2919187681861530,
     "dataframes": [
      "_sqldf"
     ]
    },
    "pythonIndentUnit": 2
   },
   "notebookName": "Spark 3.4 E2E S3",
   "notebookOrigID": 2285149241771137,
   "widgets": {}
  },
  "kernelspec": {
   "display_name": "Python 3 (ipykernel)",
   "language": "python",
   "name": "python3"
  },
  "language_info": {
   "codemirror_mode": {
    "name": "ipython",
    "version": 3
   },
   "file_extension": ".py",
   "mimetype": "text/x-python",
   "name": "python",
   "nbconvert_exporter": "python",
   "pygments_lexer": "ipython3",
   "version": "3.9.16"
  }
 },
 "nbformat": 4,
 "nbformat_minor": 4
}
