{
 "cells": [
  {
   "cell_type": "markdown",
   "id": "9721d66a",
   "metadata": {},
   "source": [
    "# jupyterlab_dashboard on spark-worker jupyter instance exposed \n",
    "\n",
    "This notebook server is not intended to run any real Jupyter Kernel. We use it\n",
    "to visualize CPU and GPU metrics using [JupyterLab NVdashboard](https://github.com/rapidsai/jupyterlab-nvdashboard)\n",
    "during the demo.\n",
    "\n",
    "From the JupyterLab sidebar activate the GPU tab. Watch \"GPU Resources\" and \"Machine Resources\""
   ]
  }
 ],
 "metadata": {
  "language_info": {
   "name": "python"
  }
 },
 "nbformat": 4,
 "nbformat_minor": 5
}
