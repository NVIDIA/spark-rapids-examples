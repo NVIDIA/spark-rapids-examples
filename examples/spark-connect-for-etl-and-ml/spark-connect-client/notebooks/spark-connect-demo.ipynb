{
 "cells": [
  {
   "cell_type": "markdown",
   "metadata": {},
   "source": [
    "# GPU-Accelerated Spark Connect Demo - ETL and ML Pipeline (Spark 4.0+)\n",
    "\n",
    "This notebook demonstrates the latest Spark 4.0+ Connect capabilities with GPU acceleration, showcasing:\n",
    "- **Spark Connect** for remote DataFrame and SQL operations\n",
    "- **MLlib over Spark Connect** (new in Spark 4.0)\n",
    "- **NVIDIA RAPIDS GPU acceleration** for up to 9x performance improvement\n",
    "- **End-to-end ETL and ML workflows** with no code changes required\n",
    "\n",
    "*Based on the Data and AI Summit 2025 session: \"GPU Accelerated Spark Connect\"*\n"
   ]
  },
  {
   "cell_type": "markdown",
   "metadata": {},
   "source": [
    "## 1. Connect to Spark via Spark Connect\n"
   ]
  },
  {
   "cell_type": "code",
   "execution_count": null,
   "metadata": {},
   "outputs": [],
   "source": [
    "from pyspark.sql import SparkSession\n",
    "# Create GPU-accelerated Spark session using Spark Connect 4.0+\n",
    "spark = (\n",
    "    SparkSession.builder\n",
    "        .remote(\"sc://spark-connect-server\")\n",
    "        .appName(\"GPU-Accelerated-ETL-ML-Demo\") \n",
    "        .getOrCreate()\n",
    ")\n",
    "\n",
    "print(f\"Spark version: {spark}\")"
   ]
  },
  {
   "cell_type": "markdown",
   "metadata": {},
   "source": [
    "## 2. GPU-Accelerated Data Processing\n"
   ]
  },
  {
   "cell_type": "code",
   "execution_count": null,
   "metadata": {},
   "outputs": [],
   "source": [
    "# Create large dataset for GPU acceleration demonstration\n",
    "from datetime import datetime, timedelta\n",
    "import random\n",
    "\n",
    "# Generate larger dataset to showcase GPU performance\n",
    "print(\"Creating large dataset for GPU acceleration demo...\")\n",
    "\n",
    "\n"
   ]
  },
  {
   "cell_type": "markdown",
   "metadata": {},
   "source": [
    "## 3. MLlib over Spark Connect (New in Spark 4.0)\n"
   ]
  },
  {
   "cell_type": "code",
   "execution_count": null,
   "metadata": {},
   "outputs": [],
   "source": [
    "# Demonstrate MLlib over Spark Connect (new in Spark 4.0)\n",
    "from pyspark.ml.feature import VectorAssembler, StandardScaler\n",
    "from pyspark.ml.regression import LinearRegression\n",
    "from pyspark.ml.evaluation import RegressionEvaluator\n",
    "from pyspark.ml import Pipeline\n",
    "\n",
    "print(\"🚀 Testing MLlib over Spark Connect (Spark 4.0 feature)...\")\n",
    "\n",
    "# Prepare ML dataset\n",
    "ml_df = df.select(\"id\", \"value\", \"squared\", \"sqrt_val\", \"log_val\")\n",
    "\n",
    "# Create features vector\n",
    "assembler = VectorAssembler(\n",
    "    inputCols=[\"value\", \"sqrt_val\", \"log_val\"],\n",
    "    outputCol=\"features\"\n",
    ")\n",
    "\n",
    "# Scale features\n",
    "scaler = StandardScaler(inputCol=\"features\", outputCol=\"scaled_features\")\n",
    "\n",
    "# Create linear regression model (accelerated via GPU plugins)\n",
    "lr = LinearRegression(\n",
    "    featuresCol=\"scaled_features\", \n",
    "    labelCol=\"squared\",\n",
    "    predictionCol=\"prediction\"\n",
    ")\n",
    "\n",
    "# Build ML pipeline\n",
    "pipeline = Pipeline(stages=[assembler, scaler, lr])\n",
    "\n",
    "# Split data\n",
    "train_df, test_df = ml_df.randomSplit([0.8, 0.2], seed=42)\n",
    "\n",
    "print(f\"Training set: {train_df.count():,} records\")\n",
    "print(f\"Test set: {test_df.count():,} records\")\n",
    "\n",
    "# Train model via Spark Connect\n",
    "print(\"Training model via Spark Connect...\")\n",
    "model = pipeline.fit(train_df)\n",
    "\n",
    "# Make predictions\n",
    "predictions = model.transform(test_df)\n",
    "predictions.select(\"squared\", \"prediction\").show(10)\n",
    "\n",
    "# Evaluate model\n",
    "evaluator = RegressionEvaluator(labelCol=\"squared\", predictionCol=\"prediction\", metricName=\"rmse\")\n",
    "rmse = evaluator.evaluate(predictions)\n",
    "\n",
    "print(f\"Model RMSE: {rmse:.4f}\")\n",
    "print(\"✅ MLlib over Spark Connect working successfully!\")\n"
   ]
  },
  {
   "cell_type": "markdown",
   "metadata": {},
   "source": [
    "## 4. Performance Summary & Cleanup\n"
   ]
  },
  {
   "cell_type": "code",
   "execution_count": null,
   "metadata": {},
   "outputs": [],
   "source": [
    "# Performance summary and cleanup\n",
    "print(\"🎯 Demo Summary:\")\n",
    "print(\"✅ Spark Connect 4.0 with GPU acceleration\")\n",
    "print(\"✅ Large-scale DataFrame operations\")\n",
    "print(\"✅ MLlib training over Spark Connect\")\n",
    "print(\"✅ Transparent GPU acceleration via RAPIDS plugin\")\n",
    "print(\"\")\n",
    "print(\"📊 Expected Performance Benefits:\")\n",
    "print(\"- Up to 9x faster execution on GPU-accelerated operations\")\n",
    "print(\"- 80% cost reduction through improved efficiency\")\n",
    "print(\"- No code changes required for acceleration\")\n",
    "print(\"\")\n",
    "print(\"🔗 Learn more: https://www.databricks.com/dataaisummit/session/gpu-accelerated-spark-connect\")\n",
    "\n",
    "# Stop the Spark session\n",
    "spark.stop()\n",
    "print(\"\\n✅ Spark session stopped successfully.\")\n"
   ]
  },
  {
   "cell_type": "markdown",
   "metadata": {},
   "source": []
  }
 ],
 "metadata": {
  "kernelspec": {
   "display_name": "Python 3 (ipykernel)",
   "language": "python",
   "name": "python3"
  },
  "language_info": {
   "codemirror_mode": {
    "name": "ipython",
    "version": 3
   },
   "file_extension": ".py",
   "mimetype": "text/x-python",
   "name": "python",
   "nbconvert_exporter": "python",
   "pygments_lexer": "ipython3",
   "version": "3.11.6"
  }
 },
 "nbformat": 4,
 "nbformat_minor": 4
}
