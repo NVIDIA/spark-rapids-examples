{
 "cells": [
  {
   "cell_type": "code",
   "execution_count": null,
   "id": "26b29706",
   "metadata": {},
   "outputs": [],
   "source": [
    "from pyspark.sql import SparkSession\n",
    "spark = SparkSession.builder \\\n",
    "    .config(\"spark.jars\", \"/data/cuspatial_data/jars/rapids-4-spark_2.12-22.06.0.jar,/data/cuspatial_data/jars/spark-cuspatial-22.06.0-SNAPSHOT.jar\") \\\n",
    "    .config(\"spark.sql.adaptive.enabled\", \"false\") \\\n",
    "    .config(\"spark.executor.memory\", \"20GB\") \\\n",
    "    .config(\"spark.executor.cores\", \"6\") \\\n",
    "    .config(\"spark.plugins\", \"com.nvidia.spark.SQLPlugin\") \\\n",
    "    .config(\"spark.executor.resource.gpu.amount\", \"1\") \\\n",
    "    .getOrCreate()\n",
    "# register the udf\n",
    "spark.udf.registerJavaFunction(\"point_in_polygon\", \"com.nvidia.spark.rapids.udf.PointInPolygon\", None)"
   ]
  },
  {
   "cell_type": "code",
   "execution_count": null,
   "id": "cce700a8",
   "metadata": {},
   "outputs": [],
   "source": [
    "# prepare shape files\n",
    "spark.sparkContext.addFile(\"/data/cuspatial_data/polygons/polygons.shp\")\n",
    "spark.sparkContext.addFile(\"/data/cuspatial_data/polygons/polygons.shx\")\n",
    "\n",
    "inputPath = \"/data/cuspatial_data/points/\"\n",
    "outputPath = \"/data/cuspatial_data/output/\""
   ]
  },
  {
   "cell_type": "code",
   "execution_count": null,
   "id": "cd26c441",
   "metadata": {},
   "outputs": [],
   "source": [
    "# set its parameters via SQL config for runtime updating\n",
    "spark.conf.set(\"spark.cuspatial.sql.udf.shapeFileName\", \"polygons.shp\")"
   ]
  },
  {
   "cell_type": "code",
   "execution_count": null,
   "id": "6b1016ce",
   "metadata": {},
   "outputs": [],
   "source": [
    "# read the points data\n",
    "df = spark.read.parquet(inputPath)\n",
    "df = df.selectExpr('x', 'y', 'point_in_polygon(x, y) as point_in_polygon')"
   ]
  },
  {
   "cell_type": "code",
   "execution_count": null,
   "id": "09d5e22e",
   "metadata": {},
   "outputs": [],
   "source": [
    "import time\n",
    "begin = time.time()\n",
    "df.write.mode(\"overwrite\").parquet(outputPath)\n",
    "end = time.time()\n",
    "print(\"==> It took {} s\".format(round(end-begin, 2)))"
   ]
  }
 ],
 "metadata": {
  "kernelspec": {
   "display_name": "Python 3",
   "language": "python",
   "name": "python3"
  },
  "language_info": {
   "codemirror_mode": {
    "name": "ipython",
    "version": 3
   },
   "file_extension": ".py",
   "mimetype": "text/x-python",
   "name": "python",
   "nbconvert_exporter": "python",
   "pygments_lexer": "ipython3",
   "version": "3.8.12"
  }
 },
 "nbformat": 4,
 "nbformat_minor": 5
}
