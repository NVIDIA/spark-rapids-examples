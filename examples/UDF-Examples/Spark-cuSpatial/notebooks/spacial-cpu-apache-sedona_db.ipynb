{
 "cells": [
  {
   "cell_type": "code",
   "execution_count": 0,
   "metadata": {
    "application/vnd.databricks.v1+cell": {
     "inputWidgets": {},
     "nuid": "61a74001-716b-4411-aecb-77d07058d200",
     "showTitle": false,
     "title": ""
    }
   },
   "outputs": [
    {
     "data": {
      "text/html": [
       "<style scoped>\n",
       "  .ansiout {\n",
       "    display: block;\n",
       "    unicode-bidi: embed;\n",
       "    white-space: pre-wrap;\n",
       "    word-wrap: break-word;\n",
       "    word-break: break-all;\n",
       "    font-family: \"Source Code Pro\", \"Menlo\", monospace;;\n",
       "    font-size: 13px;\n",
       "    color: #555;\n",
       "    margin-left: 4px;\n",
       "    line-height: 19px;\n",
       "  }\n",
       "</style>\n",
       "<div class=\"ansiout\">Requirement already satisfied: geopandas in /databricks/python3/lib/python3.8/site-packages (0.11.0)\n",
       "Requirement already satisfied: pyproj&gt;=2.6.1.post1 in /databricks/python3/lib/python3.8/site-packages (from geopandas) (3.3.1)\n",
       "Requirement already satisfied: shapely&lt;2,&gt;=1.7 in /databricks/python3/lib/python3.8/site-packages (from geopandas) (1.8.2)\n",
       "Requirement already satisfied: pandas&gt;=1.0.0 in /databricks/python3/lib/python3.8/site-packages (from geopandas) (1.2.4)\n",
       "Requirement already satisfied: packaging in /databricks/python3/lib/python3.8/site-packages (from geopandas) (20.9)\n",
       "Requirement already satisfied: fiona&gt;=1.8 in /databricks/python3/lib/python3.8/site-packages (from geopandas) (1.8.21)\n",
       "Requirement already satisfied: six&gt;=1.7 in /databricks/python3/lib/python3.8/site-packages (from fiona&gt;=1.8-&gt;geopandas) (1.15.0)\n",
       "Requirement already satisfied: setuptools in /usr/local/lib/python3.8/dist-packages (from fiona&gt;=1.8-&gt;geopandas) (52.0.0)\n",
       "Requirement already satisfied: click&gt;=4.0 in /databricks/python3/lib/python3.8/site-packages (from fiona&gt;=1.8-&gt;geopandas) (8.1.3)\n",
       "Requirement already satisfied: certifi in /databricks/python3/lib/python3.8/site-packages (from fiona&gt;=1.8-&gt;geopandas) (2020.12.5)\n",
       "Requirement already satisfied: munch in /databricks/python3/lib/python3.8/site-packages (from fiona&gt;=1.8-&gt;geopandas) (2.5.0)\n",
       "Requirement already satisfied: cligj&gt;=0.5 in /databricks/python3/lib/python3.8/site-packages (from fiona&gt;=1.8-&gt;geopandas) (0.7.2)\n",
       "Requirement already satisfied: click-plugins&gt;=1.0 in /databricks/python3/lib/python3.8/site-packages (from fiona&gt;=1.8-&gt;geopandas) (1.1.1)\n",
       "Requirement already satisfied: attrs&gt;=17 in /databricks/python3/lib/python3.8/site-packages (from fiona&gt;=1.8-&gt;geopandas) (20.3.0)\n",
       "Requirement already satisfied: pytz&gt;=2017.3 in /databricks/python3/lib/python3.8/site-packages (from pandas&gt;=1.0.0-&gt;geopandas) (2020.5)\n",
       "Requirement already satisfied: numpy&gt;=1.16.5 in /databricks/python3/lib/python3.8/site-packages (from pandas&gt;=1.0.0-&gt;geopandas) (1.20.1)\n",
       "Requirement already satisfied: python-dateutil&gt;=2.7.3 in /databricks/python3/lib/python3.8/site-packages (from pandas&gt;=1.0.0-&gt;geopandas) (2.8.1)\n",
       "Requirement already satisfied: pyparsing&gt;=2.0.2 in /databricks/python3/lib/python3.8/site-packages (from packaging-&gt;geopandas) (2.4.7)\n",
       "WARNING: You are using pip version 21.0.1; however, version 22.1.2 is available.\n",
       "You should consider upgrading via the &#39;/databricks/python3/bin/python -m pip install --upgrade pip&#39; command.\n",
       "</div>"
      ]
     },
     "metadata": {
      "application/vnd.databricks.v1+output": {
       "addedWidgets": {},
       "arguments": {},
       "data": "<div class=\"ansiout\">Requirement already satisfied: geopandas in /databricks/python3/lib/python3.8/site-packages (0.11.0)\nRequirement already satisfied: pyproj&gt;=2.6.1.post1 in /databricks/python3/lib/python3.8/site-packages (from geopandas) (3.3.1)\nRequirement already satisfied: shapely&lt;2,&gt;=1.7 in /databricks/python3/lib/python3.8/site-packages (from geopandas) (1.8.2)\nRequirement already satisfied: pandas&gt;=1.0.0 in /databricks/python3/lib/python3.8/site-packages (from geopandas) (1.2.4)\nRequirement already satisfied: packaging in /databricks/python3/lib/python3.8/site-packages (from geopandas) (20.9)\nRequirement already satisfied: fiona&gt;=1.8 in /databricks/python3/lib/python3.8/site-packages (from geopandas) (1.8.21)\nRequirement already satisfied: six&gt;=1.7 in /databricks/python3/lib/python3.8/site-packages (from fiona&gt;=1.8-&gt;geopandas) (1.15.0)\nRequirement already satisfied: setuptools in /usr/local/lib/python3.8/dist-packages (from fiona&gt;=1.8-&gt;geopandas) (52.0.0)\nRequirement already satisfied: click&gt;=4.0 in /databricks/python3/lib/python3.8/site-packages (from fiona&gt;=1.8-&gt;geopandas) (8.1.3)\nRequirement already satisfied: certifi in /databricks/python3/lib/python3.8/site-packages (from fiona&gt;=1.8-&gt;geopandas) (2020.12.5)\nRequirement already satisfied: munch in /databricks/python3/lib/python3.8/site-packages (from fiona&gt;=1.8-&gt;geopandas) (2.5.0)\nRequirement already satisfied: cligj&gt;=0.5 in /databricks/python3/lib/python3.8/site-packages (from fiona&gt;=1.8-&gt;geopandas) (0.7.2)\nRequirement already satisfied: click-plugins&gt;=1.0 in /databricks/python3/lib/python3.8/site-packages (from fiona&gt;=1.8-&gt;geopandas) (1.1.1)\nRequirement already satisfied: attrs&gt;=17 in /databricks/python3/lib/python3.8/site-packages (from fiona&gt;=1.8-&gt;geopandas) (20.3.0)\nRequirement already satisfied: pytz&gt;=2017.3 in /databricks/python3/lib/python3.8/site-packages (from pandas&gt;=1.0.0-&gt;geopandas) (2020.5)\nRequirement already satisfied: numpy&gt;=1.16.5 in /databricks/python3/lib/python3.8/site-packages (from pandas&gt;=1.0.0-&gt;geopandas) (1.20.1)\nRequirement already satisfied: python-dateutil&gt;=2.7.3 in /databricks/python3/lib/python3.8/site-packages (from pandas&gt;=1.0.0-&gt;geopandas) (2.8.1)\nRequirement already satisfied: pyparsing&gt;=2.0.2 in /databricks/python3/lib/python3.8/site-packages (from packaging-&gt;geopandas) (2.4.7)\nWARNING: You are using pip version 21.0.1; however, version 22.1.2 is available.\nYou should consider upgrading via the &#39;/databricks/python3/bin/python -m pip install --upgrade pip&#39; command.\n</div>",
       "datasetInfos": [],
       "metadata": {},
       "removedWidgets": [],
       "type": "html"
      }
     },
     "output_type": "display_data"
    }
   ],
   "source": [
    "%sh \n",
    "pip install geopandas"
   ]
  },
  {
   "cell_type": "code",
   "execution_count": 0,
   "metadata": {
    "application/vnd.databricks.v1+cell": {
     "inputWidgets": {},
     "nuid": "4fd97bf3-dc08-495f-9cfe-e9e551f40e16",
     "showTitle": false,
     "title": ""
    }
   },
   "outputs": [
    {
     "data": {
      "text/html": [
       "<style scoped>\n",
       "  .ansiout {\n",
       "    display: block;\n",
       "    unicode-bidi: embed;\n",
       "    white-space: pre-wrap;\n",
       "    word-wrap: break-word;\n",
       "    word-break: break-all;\n",
       "    font-family: \"Source Code Pro\", \"Menlo\", monospace;;\n",
       "    font-size: 13px;\n",
       "    color: #555;\n",
       "    margin-left: 4px;\n",
       "    line-height: 19px;\n",
       "  }\n",
       "</style>\n",
       "<div class=\"ansiout\"></div>"
      ]
     },
     "metadata": {
      "application/vnd.databricks.v1+output": {
       "addedWidgets": {},
       "arguments": {},
       "data": "<div class=\"ansiout\"></div>",
       "datasetInfos": [],
       "metadata": {},
       "removedWidgets": [],
       "type": "html"
      }
     },
     "output_type": "display_data"
    }
   ],
   "source": [
    "import os\n",
    "import geopandas as gpd\n",
    "from pyspark.sql.functions import col, expr, when\n",
    "from sedona.register import SedonaRegistrator\n",
    "from sedona.utils import SedonaKryoRegistrator, KryoSerializer"
   ]
  },
  {
   "cell_type": "code",
   "execution_count": 0,
   "metadata": {
    "application/vnd.databricks.v1+cell": {
     "inputWidgets": {},
     "nuid": "6b15de34-d411-457b-89fb-7232587ae949",
     "showTitle": false,
     "title": ""
    }
   },
   "outputs": [
    {
     "data": {
      "text/html": [
       "<style scoped>\n",
       "  .ansiout {\n",
       "    display: block;\n",
       "    unicode-bidi: embed;\n",
       "    white-space: pre-wrap;\n",
       "    word-wrap: break-word;\n",
       "    word-break: break-all;\n",
       "    font-family: \"Source Code Pro\", \"Menlo\", monospace;;\n",
       "    font-size: 13px;\n",
       "    color: #555;\n",
       "    margin-left: 4px;\n",
       "    line-height: 19px;\n",
       "  }\n",
       "</style>\n",
       "<div class=\"ansiout\">/databricks/spark/python/pyspark/sql/pandas/conversion.py:340: UserWarning: createDataFrame attempted Arrow optimization because &#39;spark.sql.execution.arrow.pyspark.enabled&#39; is set to true; however, failed by the reason below:\n",
       "  Did not pass numpy.dtype object\n",
       "Attempting non-optimization as &#39;spark.sql.execution.arrow.pyspark.fallback.enabled&#39; is set to true.\n",
       "  warnings.warn(msg)\n",
       "Out[9]: 4</div>"
      ]
     },
     "metadata": {
      "application/vnd.databricks.v1+output": {
       "addedWidgets": {},
       "arguments": {},
       "data": "<div class=\"ansiout\">/databricks/spark/python/pyspark/sql/pandas/conversion.py:340: UserWarning: createDataFrame attempted Arrow optimization because &#39;spark.sql.execution.arrow.pyspark.enabled&#39; is set to true; however, failed by the reason below:\n  Did not pass numpy.dtype object\nAttempting non-optimization as &#39;spark.sql.execution.arrow.pyspark.fallback.enabled&#39; is set to true.\n  warnings.warn(msg)\nOut[9]: 4</div>",
       "datasetInfos": [],
       "metadata": {},
       "removedWidgets": [],
       "type": "html"
      }
     },
     "output_type": "display_data"
    }
   ],
   "source": [
    "# read the shapefile\n",
    "polygons = gpd.read_file(\"/dbfs/data/cuspatial_data/polygons/polygons.shp\")\n",
    "polygons_df = spark.createDataFrame(\n",
    "    polygons\n",
    ")\n",
    "polygons_df.createOrReplaceTempView(\"polygons\")\n",
    "polygons_df.count()"
   ]
  },
  {
   "cell_type": "code",
   "execution_count": 0,
   "metadata": {
    "application/vnd.databricks.v1+cell": {
     "inputWidgets": {},
     "nuid": "3a4d1a80-72e4-490d-8152-f6f231cac37f",
     "showTitle": false,
     "title": ""
    }
   },
   "outputs": [
    {
     "data": {
      "text/html": [
       "<style scoped>\n",
       "  .ansiout {\n",
       "    display: block;\n",
       "    unicode-bidi: embed;\n",
       "    white-space: pre-wrap;\n",
       "    word-wrap: break-word;\n",
       "    word-break: break-all;\n",
       "    font-family: \"Source Code Pro\", \"Menlo\", monospace;;\n",
       "    font-size: 13px;\n",
       "    color: #555;\n",
       "    margin-left: 4px;\n",
       "    line-height: 19px;\n",
       "  }\n",
       "</style>\n",
       "<div class=\"ansiout\">+--------------------+\n",
       "             mypoint|\n",
       "+--------------------+\n",
       "POINT (0.48171647...|\n",
       "POINT (1.25917257...|\n",
       "POINT (0.18952591...|\n",
       "POINT (3.02836214...|\n",
       "POINT (1.38906644...|\n",
       "+--------------------+\n",
       "only showing top 5 rows\n",
       "\n",
       "</div>"
      ]
     },
     "metadata": {
      "application/vnd.databricks.v1+output": {
       "addedWidgets": {},
       "arguments": {},
       "data": "<div class=\"ansiout\">+--------------------+\n|             mypoint|\n+--------------------+\n|POINT (0.48171647...|\n|POINT (1.25917257...|\n|POINT (0.18952591...|\n|POINT (3.02836214...|\n|POINT (1.38906644...|\n+--------------------+\nonly showing top 5 rows\n\n</div>",
       "datasetInfos": [],
       "metadata": {},
       "removedWidgets": [],
       "type": "html"
      }
     },
     "output_type": "display_data"
    }
   ],
   "source": [
    "point_parquet_df = spark.read.format(\"parquet\").\\\n",
    "    load(\"dbfs:/data/cuspatial_data/points\")\n",
    "\n",
    "point_parquet_df.createOrReplaceTempView(\"pointtable\")\n",
    "point_df = spark.sql(\"select ST_Point(x, y) as mypoint from pointtable\")\n",
    "point_df.show(5)"
   ]
  },
  {
   "cell_type": "code",
   "execution_count": 0,
   "metadata": {
    "application/vnd.databricks.v1+cell": {
     "inputWidgets": {},
     "nuid": "8ec977f5-937e-45ce-89d6-46fa3b48cc39",
     "showTitle": false,
     "title": ""
    }
   },
   "outputs": [
    {
     "data": {
      "text/html": [
       "<style scoped>\n",
       "  .ansiout {\n",
       "    display: block;\n",
       "    unicode-bidi: embed;\n",
       "    white-space: pre-wrap;\n",
       "    word-wrap: break-word;\n",
       "    word-break: break-all;\n",
       "    font-family: \"Source Code Pro\", \"Menlo\", monospace;;\n",
       "    font-size: 13px;\n",
       "    color: #555;\n",
       "    margin-left: 4px;\n",
       "    line-height: 19px;\n",
       "  }\n",
       "</style>\n",
       "<div class=\"ansiout\">+--------------------+------------------+------------------+\n",
       "            geometry|                 x|                 y|\n",
       "+--------------------+------------------+------------------+\n",
       "POLYGON ((2.08811...|2.1807636574967466|3.2296461832828114|\n",
       "POLYGON ((2.08811...|2.2006520196663066|3.7672478678985257|\n",
       "POLYGON ((2.08811...|2.5104987015171574|3.0668114607133137|\n",
       "POLYGON ((2.08811...|2.3007438625108882|3.6045900851589048|\n",
       "POLYGON ((2.08811...| 2.566986568683904|3.6607732238530897|\n",
       "POLYGON ((2.08811...| 2.493975723955388|3.3999020934055837|\n",
       "POLYGON ((2.08811...|2.8222482218882474|3.8159308233351266|\n",
       "POLYGON ((2.08811...| 2.241538022180476|3.8812819070357545|\n",
       "POLYGON ((2.08811...|1.8703303641352362| 4.209727933188015|\n",
       "POLYGON ((2.48845...|2.4264509160270813| 5.188939408363776|\n",
       "POLYGON ((5.03982...| 6.291790729917634| 2.983311357415729|\n",
       "POLYGON ((5.03982...| 6.101327777646798|2.5239201807166616|\n",
       "POLYGON ((5.03982...| 6.109985464455084|2.2235950639628523|\n",
       "POLYGON ((5.03982...|6.4274219368674315|2.9754616970668213|\n",
       "POLYGON ((5.03982...|6.0821276168848994|2.5470532680258002|\n",
       "POLYGON ((5.03982...| 6.325158445513714|2.8765450351723674|\n",
       "POLYGON ((5.03982...| 6.444584786789386| 2.174562817047202|\n",
       "POLYGON ((5.03982...|   6.6793884701899|2.5605928243991434|\n",
       "POLYGON ((5.03982...| 7.079453687660189| 3.063690547962938|\n",
       "+--------------------+------------------+------------------+\n",
       "\n",
       "</div>"
      ]
     },
     "metadata": {
      "application/vnd.databricks.v1+output": {
       "addedWidgets": {},
       "arguments": {},
       "data": "<div class=\"ansiout\">+--------------------+------------------+------------------+\n|            geometry|                 x|                 y|\n+--------------------+------------------+------------------+\n|POLYGON ((2.08811...|2.1807636574967466|3.2296461832828114|\n|POLYGON ((2.08811...|2.2006520196663066|3.7672478678985257|\n|POLYGON ((2.08811...|2.5104987015171574|3.0668114607133137|\n|POLYGON ((2.08811...|2.3007438625108882|3.6045900851589048|\n|POLYGON ((2.08811...| 2.566986568683904|3.6607732238530897|\n|POLYGON ((2.08811...| 2.493975723955388|3.3999020934055837|\n|POLYGON ((2.08811...|2.8222482218882474|3.8159308233351266|\n|POLYGON ((2.08811...| 2.241538022180476|3.8812819070357545|\n|POLYGON ((2.08811...|1.8703303641352362| 4.209727933188015|\n|POLYGON ((2.48845...|2.4264509160270813| 5.188939408363776|\n|POLYGON ((5.03982...| 6.291790729917634| 2.983311357415729|\n|POLYGON ((5.03982...| 6.101327777646798|2.5239201807166616|\n|POLYGON ((5.03982...| 6.109985464455084|2.2235950639628523|\n|POLYGON ((5.03982...|6.4274219368674315|2.9754616970668213|\n|POLYGON ((5.03982...|6.0821276168848994|2.5470532680258002|\n|POLYGON ((5.03982...| 6.325158445513714|2.8765450351723674|\n|POLYGON ((5.03982...| 6.444584786789386| 2.174562817047202|\n|POLYGON ((5.03982...|   6.6793884701899|2.5605928243991434|\n|POLYGON ((5.03982...| 7.079453687660189| 3.063690547962938|\n+--------------------+------------------+------------------+\n\n</div>",
       "datasetInfos": [],
       "metadata": {},
       "removedWidgets": [],
       "type": "html"
      }
     },
     "output_type": "display_data"
    }
   ],
   "source": [
    "result = spark.sql(\"\\\n",
    "SELECT polygons.*, pointtable.* FROM polygons ,pointtable \\\n",
    "WHERE ST_Contains(polygons.geometry, ST_Point(pointtable.x, pointtable.y)) \\\n",
    "\")\n",
    "result.show()"
   ]
  }
 ],
 "metadata": {
  "application/vnd.databricks.v1+notebook": {
   "dashboards": [],
   "language": "python",
   "notebookMetadata": {
    "pythonIndentUnit": 2
   },
   "notebookName": "spacial-cpu-apache-sedona",
   "notebookOrigID": 1618423020047086,
   "widgets": {}
  },
  "kernelspec": {
   "display_name": "Python 3",
   "language": "python",
   "name": "python3"
  },
  "language_info": {
   "codemirror_mode": {
    "name": "ipython",
    "version": 3
   },
   "file_extension": ".py",
   "mimetype": "text/x-python",
   "name": "python",
   "nbconvert_exporter": "python",
   "pygments_lexer": "ipython3",
   "version": "3.8.2"
  }
 },
 "nbformat": 4,
 "nbformat_minor": 1
}
