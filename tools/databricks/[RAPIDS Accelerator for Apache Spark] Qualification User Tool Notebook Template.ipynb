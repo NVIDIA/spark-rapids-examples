{
 "cells": [
  {
   "cell_type": "markdown",
   "metadata": {
    "application/vnd.databricks.v1+cell": {
     "cellMetadata": {
      "byteLimit": 2048000,
      "rowLimit": 10000
     },
     "inputWidgets": {},
     "nuid": "df33c614-2ecc-47a0-8600-bc891681997f",
     "showTitle": false,
     "title": ""
    }
   },
   "source": [
    "# Welcome to the Qualification User Tool for the RAPIDS Accelerator for Apache Spark\n",
    "To run the user tool, you need to enter a log path that represents the DBFS location for your Spark CPU event logs.  Then you can select \"Run all\" to execute the notebook.  After the notebook completes, you will see various output tables show up below.  More options for running the qualification user tool can be found here: https://docs.nvidia.com/spark-rapids/user-guide/latest/spark-qualification-tool.html#running-the-qualification-tool-standalone-for-csp-environments-on-spark-event-logs.\n",
    "\n",
    "## Summary Output\n",
    "The report represents the entire app execution, including unsupported operators and non-SQL operations.  By default, the applications and queries are sorted in descending order by the following fields:\n",
    "- Recommendation;\n",
    "- Estimated GPU Speed-up;\n",
    "- Estimated GPU Time Saved; and\n",
    "- End Time.\n",
    "\n",
    "## Stages Output\n",
    "For each stage used in SQL operations, the Qualification tool generates the following information:\n",
    "1. App ID\n",
    "1. Stage ID\n",
    "1. Average Speedup Factor: the average estimated speed-up of all the operators in the given stage.\n",
    "1. Stage Task Duration: amount of time spent in tasks of SQL Dataframe operations for the given stage.\n",
    "1. Unsupported Task Duration: sum of task durations for the unsupported operators. For more details, see Supported Operators.\n",
    "1. Stage Estimated: True or False indicates if we had to estimate the stage duration.\n",
    "\n",
    "## Execs Output\n",
    "The Qualification tool generates a report of the “Exec” in the “SparkPlan” or “Executor Nodes” along with the estimated acceleration on the GPU. Please refer to the Supported Operators guide for more details on limitations on UDFs and unsupported operators.\n",
    "1. App ID\n",
    "1. SQL ID\n",
    "1. Exec Name: example Filter, HashAggregate\n",
    "1. Expression Name\n",
    "1. Task Speedup Factor: it is simply the average acceleration of the operators based on the original CPU duration of the operator divided by the GPU duration. The tool uses historical queries and benchmarks to estimate a speed-up at an individual operator level to calculate how much a specific operator would accelerate on GPU.\n",
    "1. Exec Duration: wall-Clock time measured since the operator starts till it is completed.\n",
    "1. SQL Node Id\n",
    "1. Exec Is Supported: whether the Exec is supported by RAPIDS or not. Please refer to the Supported Operators section.\n",
    "1. Exec Stages: an array of stage IDs\n",
    "1. Exec Children\n",
    "1. Exec Children Node Ids\n",
    "1. Exec Should Remove: whether the Op is removed from the migrated plan."
   ]
  },
  {
   "cell_type": "code",
   "execution_count": 0,
   "metadata": {
    "application/vnd.databricks.v1+cell": {
     "cellMetadata": {
      "byteLimit": 2048000,
      "rowLimit": 10000
     },
     "inputWidgets": {},
     "nuid": "5ed51af2-b7ae-46b1-ba9c-ebbcc23e24f2",
     "showTitle": false,
     "title": ""
    }
   },
   "outputs": [
    {
     "output_type": "stream",
     "name": "stdout",
     "output_type": "stream",
     "text": [
      "\u001B[43mNote: you may need to restart the kernel using dbutils.library.restartPython() to use updated packages.\u001B[0m\n\u001B[43mNote: you may need to restart the kernel using dbutils.library.restartPython() to use updated packages.\u001B[0m\n"
     ]
    }
   ],
   "source": [
    "pip install spark-rapids-user-tools > /dev/null"
   ]
  },
  {
   "cell_type": "code",
   "execution_count": 0,
   "metadata": {
    "application/vnd.databricks.v1+cell": {
     "cellMetadata": {
      "byteLimit": 2048000,
      "rowLimit": 10000
     },
     "inputWidgets": {},
     "nuid": "53b4d770-9db6-4bd7-9b93-d036d375eac5",
     "showTitle": false,
     "title": ""
    }
   },
   "outputs": [],
   "source": [
    "dbutils.library.restartPython() "
   ]
  },
  {
   "cell_type": "code",
   "execution_count": 0,
   "metadata": {
    "application/vnd.databricks.v1+cell": {
     "cellMetadata": {
      "byteLimit": 2048000,
      "rowLimit": 10000
     },
     "inputWidgets": {},
     "nuid": "acf401a3-12d3-4236-a6c5-8fe8990b153a",
     "showTitle": false,
     "title": ""
    }
   },
   "outputs": [],
   "source": [
    "import pandas as pd\n",
    "dbutils.widgets.text(\"log_path\", \"\")\n",
    "eventlog_string=dbutils.widgets.get(\"log_path\")\n",
    "\n",
    "dbutils.widgets.text(\"output_path\", \"\")\n",
    "outputpath_string=dbutils.widgets.get(\"output_path\")\n",
    "\n",
    "dbutils.widgets.dropdown(\"csp\", \"aws\", [\"aws\", \"azure\"])\n",
    "csp_string=dbutils.widgets.get(\"csp\")\n",
    "platform_string=f\"databricks-{csp_string}\""
   ]
  },
  {
   "cell_type": "code",
   "execution_count": 0,
   "metadata": {
    "application/vnd.databricks.v1+cell": {
     "cellMetadata": {
      "byteLimit": 2048000,
      "rowLimit": 10000
     },
     "inputWidgets": {},
     "nuid": "693b5ee0-7500-43f3-b3e2-717fd5468aa8",
     "showTitle": false,
     "title": ""
    }
   },
   "outputs": [
    {
     "output_type": "stream",
     "name": "stdout",
     "output_type": "stream",
     "text": [
      "\r\rProcessing...⣷\rProcessing...⣯\rProcessing...⣟\rProcessing...⡿\rProcessing...⢿\rProcessing...⣻\rProcessing...⣽\rProcessing...⣾\rProcessing...⣷\rProcessing...⣯\rProcessing...⣟\rProcessing...⡿\rProcessing...⢿\rProcessing...⣻\rProcessing...⣽\rProcessing...⣾\rProcessing...⣷\rProcessing...⣯\rProcessing...⣟\rProcessing...⡿\rProcessing...⢿\rProcessing...⣻\rProcessing...⣽\rProcessing...⣾\rProcessing...⣷\rProcessing...⣯\rProcessing...⣟\rProcessing...⡿\rProcessing...⢿\rProcessing...⣻\rProcessing...⣽\rProcessing...⣾\rProcessing...⣷\rProcessing...⣯\rProcessing...⣟\rProcessing...⡿\rProcessing...⢿\rProcessing...⣻\rProcessing...⣽\rProcessing...⣾\rProcessing...⣷\rProcessing...⣯\rProcessing...⣟\rProcessing...⡿\rProcessing...⢿\rProcessing...⣻\rProcessing...⣽\rProcessing...⣾\rProcessing...⣷\rProcessing...⣯\rProcessing...⣟\rProcessing...⡿\rProcessing...⢿\rProcessing...⣻\rProcessing...⣽\rProcessing...⣾\rProcessing...⣷\rProcessing...⣯\rProcessing...⣟\rProcessing...⡿\rProcessing...⢿\rProcessing...⣻\rProcessing...⣽\rProcessing...⣾\rProcessing...⣷\rProcessing...⣯\rProcessing...⣟\rProcessing...⡿\rProcessing...⢿\rProcessing...⣻\rProcessing...⣽\rProcessing...⣾\rProcessing...⣷\rProcessing...⣯\rProcessing...⣟\rProcessing...⡿\rProcessing...⢿\rProcessing...⣻\rProcessing...⣽\rProcessing...⣾\rProcessing...⣷\rProcessing...⣯\rProcessing...⣟\rProcessing...⡿\rProcessing...⢿\rProcessing...⣻\rProcessing...⣽\rProcessing...⣾\rProcessing...⣷\rProcessing...⣯\rProcessing...⣟\rProcessing...⡿\rProcessing...⢿\rProcessing...⣻\rProcessing...⣽\rProcessing...⣾\rProcessing...⣷\rProcessing...⣯\rProcessing...⣟\rProcessing...⡿\rProcessing...⢿\rProcessing...⣻\rProcessing...⣽\rProcessing...⣾\rProcessing...⣷\rProcessing...⣯\rProcessing...⣟\rProcessing...⡿\rProcessing...⢿\rProcessing...⣻\rProcessing...⣽\rProcessing...⣾\rProcessing...⣷\rProcessing...⣯\rProcessing...⣟\rProcessing...⡿\rProcessing...⢿\rProcessing...⣻\rProcessing...⣽\rProcessing...⣾\rProcessing...⣷\rProcessing...⣯\rProcessing...⣟\rProcessing...⡿\rProcessing...⢿\rProcessing...⣻\rProcessing...⣽\rProcessing...⣾\rProcessing...⣷\rProcessing...⣯\rProcessing...⣟\rProcessing...⡿\rProcessing...⢿\rProcessing...⣻\rProcessing...⣽\rProcessing...⣾\rProcessing...⣷\rProcessing...⣯\rProcessing...⣟\rProcessing...⡿\rProcessing...⢿\rProcessing...⣻\rProcessing...⣽\rProcessing...⣾\rProcessing...⣷\rProcessing...⣯\rProcessing...⣟\rProcessing...⡿\rProcessing...⢿\rProcessing...⣻\rProcessing...⣽\rProcessing...⣾\rProcessing...⣷\rProcessing...⣯\rProcessing...⣟\rProcessing...⡿\rProcessing...⢿\rProcessing...⣻\rProcessing...⣽\rProcessing...⣾\rProcessing...⣷\rProcessing...⣯\rProcessing...⣟\rProcessing...⡿\rProcessing...⢿\rProcessing...⣻\rProcessing...⣽\rProcessing...⣾\rProcessing...⣷\rProcessing...⣯\rProcessing...⣟\rProcessing...⡿\rProcessing...⢿\rProcessing...⣻\rProcessing...⣽\rProcessing...⣾\rProcessing...⣷\rProcessing...⣯\rProcessing...⣟\rProcessing...⡿\rProcessing...⢿\rProcessing...⣻\rProcessing...⣽\rProcessing...⣾\rProcessing...⣷\rProcessing...⣯\rProcessing...⣟\rProcessing...⡿\rProcessing...⢿\rProcessing...⣻\rProcessing...⣽\rProcessing...⣾\rProcessing...⣷\rProcessing...⣯\rProcessing...⣟\rProcessing...⡿\rProcessing...⢿\rProcessing...⣻\rProcessing...⣽\rProcessing...⣾\rProcessing...⣷\rProcessing...⣯\rProcessing...⣟\rProcessing...⡿\rProcessing...⢿\rProcessing...⣻\rProcessing...⣽\rProcessing...⣾\rProcessing...⣷\rProcessing...⣯\rProcessing...⣟\rProcessing...⡿\rProcessing...⢿\rProcessing...⣻\rProcessing...⣽\rProcessing...⣾\rProcessing...⣷\rProcessing...⣯\rProcessing...⣟\rProcessing...⡿\rProcessing...⢿\rProcessing...⣻\rProcessing...⣽\rProcessing...⣾\rProcessing...⣷\rProcessing...⣯\rProcessing...⣟\rProcessing...⡿\rProcessing...⢿\rProcessing...⣻\rProcessing...⣽"
     ]
    }
   ],
   "source": [
    "!spark_rapids_user_tools $platform_string qualification --eventlogs $eventlog_string --local_folder $outputpath_string > /tmp/qual_debug.log"
   ]
  },
  {
   "cell_type": "markdown",
   "metadata": {
    "application/vnd.databricks.v1+cell": {
     "cellMetadata": {
      "byteLimit": 2048000,
      "rowLimit": 10000
     },
     "inputWidgets": {},
     "nuid": "bbe50fde-0bd6-4281-95fd-6a1ec6f17ab2",
     "showTitle": false,
     "title": ""
    }
   },
   "source": [
    "## Summary Output"
   ]
  },
  {
   "cell_type": "code",
   "execution_count": 0,
   "metadata": {
    "application/vnd.databricks.v1+cell": {
     "cellMetadata": {
      "byteLimit": 2048000,
      "rowLimit": 10000
     },
     "inputWidgets": {},
     "nuid": "fb8edb26-e173-47ff-92a1-463baec7c06b",
     "showTitle": false,
     "title": ""
    }
   },
   "outputs": [
    {
     "output_type": "display_data",
     "data": {
      "text/html": [
       "<style scoped>\n",
       "  .table-result-container {\n",
       "    max-height: 300px;\n",
       "    overflow: auto;\n",
       "  }\n",
       "  table, th, td {\n",
       "    border: 1px solid black;\n",
       "    border-collapse: collapse;\n",
       "  }\n",
       "  th, td {\n",
       "    padding: 5px;\n",
       "  }\n",
       "  th {\n",
       "    text-align: left;\n",
       "  }\n",
       "</style><div class='table-result-container'><table class='table-result'><thead style='background-color: white'><tr><th>App Name</th><th>App ID</th><th>Recommendation</th><th>Estimated GPU Speedup</th><th>Estimated GPU Duration</th><th>Estimated GPU Time Saved</th><th>SQL DF Duration</th><th>SQL Dataframe Task Duration</th><th>App Duration</th><th>GPU Opportunity</th><th>Executor CPU Time Percent</th><th>SQL Ids with Failures</th><th>Unsupported Read File Formats and Types</th><th>Unsupported Write Data Format</th><th>Complex Types</th><th>Nested Complex Types</th><th>Potential Problems</th><th>Longest SQL Duration</th><th>NONSQL Task Duration Plus Overhead</th><th>Unsupported Task Duration</th><th>Supported SQL DF Task Duration</th><th>Task Speedup Factor</th><th>App Duration Estimated</th><th>Unsupported Execs</th><th>Unsupported Expressions</th><th>Estimated Job Frequency (monthly)</th></tr></thead><tbody><tr><td>TPC-DS Like Bench q4</td><td>app-20220209224316-0007</td><td>Strongly Recommended</td><td>2.78</td><td>40078.11</td><td>71498.88</td><td>90167</td><td>85324700</td><td>111577</td><td>90167</td><td>65.09</td><td>null</td><td>null</td><td>null</td><td>null</td><td>null</td><td>null</td><td>90163</td><td>3086516</td><td>0</td><td>85324700</td><td>4.83</td><td>false</td><td>Execute CreateViewCommand</td><td>null</td><td>30</td></tr></tbody></table></div>"
      ]
     },
     "metadata": {
      "application/vnd.databricks.v1+output": {
       "addedWidgets": {},
       "aggData": [],
       "aggError": "",
       "aggOverflow": false,
       "aggSchema": [],
       "aggSeriesLimitReached": false,
       "aggType": "",
       "arguments": {},
       "columnCustomDisplayInfos": {},
       "data": [
        [
         "TPC-DS Like Bench q4",
         "app-20220209224316-0007",
         "Strongly Recommended",
         2.78,
         40078.11,
         71498.88,
         90167,
         85324700,
         111577,
         90167,
         65.09,
         null,
         null,
         null,
         null,
         null,
         null,
         90163,
         3086516,
         0,
         85324700,
         4.83,
         false,
         "Execute CreateViewCommand",
         null,
         30
        ]
       ],
       "datasetInfos": [],
       "dbfsResultPath": null,
       "isJsonSchema": true,
       "metadata": {},
       "overflow": false,
       "plotOptions": {
        "customPlotOptions": {},
        "displayType": "table",
        "pivotAggregation": null,
        "pivotColumns": null,
        "xColumns": null,
        "yColumns": null
       },
       "removedWidgets": [],
       "schema": [
        {
         "metadata": "{}",
         "name": "App Name",
         "type": "\"string\""
        },
        {
         "metadata": "{}",
         "name": "App ID",
         "type": "\"string\""
        },
        {
         "metadata": "{}",
         "name": "Recommendation",
         "type": "\"string\""
        },
        {
         "metadata": "{}",
         "name": "Estimated GPU Speedup",
         "type": "\"double\""
        },
        {
         "metadata": "{}",
         "name": "Estimated GPU Duration",
         "type": "\"double\""
        },
        {
         "metadata": "{}",
         "name": "Estimated GPU Time Saved",
         "type": "\"double\""
        },
        {
         "metadata": "{}",
         "name": "SQL DF Duration",
         "type": "\"long\""
        },
        {
         "metadata": "{}",
         "name": "SQL Dataframe Task Duration",
         "type": "\"long\""
        },
        {
         "metadata": "{}",
         "name": "App Duration",
         "type": "\"long\""
        },
        {
         "metadata": "{}",
         "name": "GPU Opportunity",
         "type": "\"long\""
        },
        {
         "metadata": "{}",
         "name": "Executor CPU Time Percent",
         "type": "\"double\""
        },
        {
         "metadata": "{}",
         "name": "SQL Ids with Failures",
         "type": "\"double\""
        },
        {
         "metadata": "{}",
         "name": "Unsupported Read File Formats and Types",
         "type": "\"double\""
        },
        {
         "metadata": "{}",
         "name": "Unsupported Write Data Format",
         "type": "\"double\""
        },
        {
         "metadata": "{}",
         "name": "Complex Types",
         "type": "\"double\""
        },
        {
         "metadata": "{}",
         "name": "Nested Complex Types",
         "type": "\"double\""
        },
        {
         "metadata": "{}",
         "name": "Potential Problems",
         "type": "\"double\""
        },
        {
         "metadata": "{}",
         "name": "Longest SQL Duration",
         "type": "\"long\""
        },
        {
         "metadata": "{}",
         "name": "NONSQL Task Duration Plus Overhead",
         "type": "\"long\""
        },
        {
         "metadata": "{}",
         "name": "Unsupported Task Duration",
         "type": "\"long\""
        },
        {
         "metadata": "{}",
         "name": "Supported SQL DF Task Duration",
         "type": "\"long\""
        },
        {
         "metadata": "{}",
         "name": "Task Speedup Factor",
         "type": "\"double\""
        },
        {
         "metadata": "{}",
         "name": "App Duration Estimated",
         "type": "\"boolean\""
        },
        {
         "metadata": "{}",
         "name": "Unsupported Execs",
         "type": "\"string\""
        },
        {
         "metadata": "{}",
         "name": "Unsupported Expressions",
         "type": "\"double\""
        },
        {
         "metadata": "{}",
         "name": "Estimated Job Frequency (monthly)",
         "type": "\"long\""
        }
       ],
       "type": "table"
      }
     },
     "output_type": "display_data"
    }
   ],
   "source": [
    "summary_output=pd.read_csv(outputpath_string + \"/rapids_4_spark_qualification_output/rapids_4_spark_qualification_output.csv\")\n",
    "display(summary_output)"
   ]
  },
  {
   "cell_type": "markdown",
   "metadata": {
    "application/vnd.databricks.v1+cell": {
     "cellMetadata": {
      "byteLimit": 2048000,
      "rowLimit": 10000
     },
     "inputWidgets": {},
     "nuid": "6756159b-30ca-407a-ab6b-9c29ced01ea6",
     "showTitle": false,
     "title": ""
    }
   },
   "source": [
    "## Stages Output"
   ]
  },
  {
   "cell_type": "code",
   "execution_count": 0,
   "metadata": {
    "application/vnd.databricks.v1+cell": {
     "cellMetadata": {
      "byteLimit": 2048000,
      "rowLimit": 10000
     },
     "inputWidgets": {},
     "nuid": "cdde6177-db5f-434a-995b-776678a64a3a",
     "showTitle": false,
     "title": ""
    }
   },
   "outputs": [
    {
     "output_type": "display_data",
     "data": {
      "text/html": [
       "<style scoped>\n",
       "  .table-result-container {\n",
       "    max-height: 300px;\n",
       "    overflow: auto;\n",
       "  }\n",
       "  table, th, td {\n",
       "    border: 1px solid black;\n",
       "    border-collapse: collapse;\n",
       "  }\n",
       "  th, td {\n",
       "    padding: 5px;\n",
       "  }\n",
       "  th {\n",
       "    text-align: left;\n",
       "  }\n",
       "</style><div class='table-result-container'><table class='table-result'><thead style='background-color: white'><tr><th>App ID</th><th>Stage ID</th><th>Average Speedup Factor</th><th>Stage Task Duration</th><th>Unsupported Task Duration</th><th>Stage Estimated</th><th>Number of transitions from or to GPU</th></tr></thead><tbody><tr><td>app-20220209224316-0007</td><td>45</td><td>5.91</td><td>13349286</td><td>0</td><td>false</td><td>0</td></tr><tr><td>app-20220209224316-0007</td><td>36</td><td>4.13</td><td>805680</td><td>0</td><td>false</td><td>0</td></tr><tr><td>app-20220209224316-0007</td><td>42</td><td>4.13</td><td>393456</td><td>0</td><td>false</td><td>0</td></tr><tr><td>app-20220209224316-0007</td><td>48</td><td>4.74</td><td>487756</td><td>0</td><td>false</td><td>0</td></tr><tr><td>app-20220209224316-0007</td><td>41</td><td>5.91</td><td>9850301</td><td>0</td><td>false</td><td>0</td></tr><tr><td>app-20220209224316-0007</td><td>31</td><td>3.76</td><td>1186</td><td>0</td><td>false</td><td>0</td></tr><tr><td>app-20220209224316-0007</td><td>49</td><td>4.75</td><td>567023</td><td>0</td><td>false</td><td>0</td></tr><tr><td>app-20220209224316-0007</td><td>40</td><td>4.13</td><td>733210</td><td>0</td><td>false</td><td>0</td></tr><tr><td>app-20220209224316-0007</td><td>32</td><td>3.76</td><td>707</td><td>0</td><td>false</td><td>0</td></tr><tr><td>app-20220209224316-0007</td><td>52</td><td>8.07</td><td>2747585</td><td>0</td><td>false</td><td>0</td></tr><tr><td>app-20220209224316-0007</td><td>34</td><td>4.13</td><td>279385</td><td>0</td><td>false</td><td>0</td></tr><tr><td>app-20220209224316-0007</td><td>33</td><td>4.13</td><td>1830306</td><td>0</td><td>false</td><td>0</td></tr><tr><td>app-20220209224316-0007</td><td>38</td><td>4.13</td><td>1127786</td><td>0</td><td>false</td><td>0</td></tr><tr><td>app-20220209224316-0007</td><td>44</td><td>4.13</td><td>2478797</td><td>0</td><td>false</td><td>0</td></tr><tr><td>app-20220209224316-0007</td><td>47</td><td>4.59</td><td>431055</td><td>0</td><td>false</td><td>0</td></tr><tr><td>app-20220209224316-0007</td><td>43</td><td>5.91</td><td>5018114</td><td>0</td><td>false</td><td>0</td></tr><tr><td>app-20220209224316-0007</td><td>37</td><td>5.91</td><td>5448378</td><td>0</td><td>false</td><td>0</td></tr><tr><td>app-20220209224316-0007</td><td>53</td><td>3.0</td><td>241</td><td>0</td><td>false</td><td>0</td></tr><tr><td>app-20220209224316-0007</td><td>35</td><td>5.91</td><td>19573046</td><td>0</td><td>false</td><td>0</td></tr><tr><td>app-20220209224316-0007</td><td>51</td><td>4.74</td><td>515369</td><td>0</td><td>false</td><td>0</td></tr><tr><td>app-20220209224316-0007</td><td>39</td><td>5.91</td><td>18402446</td><td>0</td><td>false</td><td>0</td></tr><tr><td>app-20220209224316-0007</td><td>50</td><td>4.74</td><td>512640</td><td>0</td><td>false</td><td>0</td></tr><tr><td>app-20220209224316-0007</td><td>46</td><td>4.59</td><td>770947</td><td>0</td><td>false</td><td>0</td></tr></tbody></table></div>"
      ]
     },
     "metadata": {
      "application/vnd.databricks.v1+output": {
       "addedWidgets": {},
       "aggData": [],
       "aggError": "",
       "aggOverflow": false,
       "aggSchema": [],
       "aggSeriesLimitReached": false,
       "aggType": "",
       "arguments": {},
       "columnCustomDisplayInfos": {},
       "data": [
        [
         "app-20220209224316-0007",
         45,
         5.91,
         13349286,
         0,
         false,
         0
        ],
        [
         "app-20220209224316-0007",
         36,
         4.13,
         805680,
         0,
         false,
         0
        ],
        [
         "app-20220209224316-0007",
         42,
         4.13,
         393456,
         0,
         false,
         0
        ],
        [
         "app-20220209224316-0007",
         48,
         4.74,
         487756,
         0,
         false,
         0
        ],
        [
         "app-20220209224316-0007",
         41,
         5.91,
         9850301,
         0,
         false,
         0
        ],
        [
         "app-20220209224316-0007",
         31,
         3.76,
         1186,
         0,
         false,
         0
        ],
        [
         "app-20220209224316-0007",
         49,
         4.75,
         567023,
         0,
         false,
         0
        ],
        [
         "app-20220209224316-0007",
         40,
         4.13,
         733210,
         0,
         false,
         0
        ],
        [
         "app-20220209224316-0007",
         32,
         3.76,
         707,
         0,
         false,
         0
        ],
        [
         "app-20220209224316-0007",
         52,
         8.07,
         2747585,
         0,
         false,
         0
        ],
        [
         "app-20220209224316-0007",
         34,
         4.13,
         279385,
         0,
         false,
         0
        ],
        [
         "app-20220209224316-0007",
         33,
         4.13,
         1830306,
         0,
         false,
         0
        ],
        [
         "app-20220209224316-0007",
         38,
         4.13,
         1127786,
         0,
         false,
         0
        ],
        [
         "app-20220209224316-0007",
         44,
         4.13,
         2478797,
         0,
         false,
         0
        ],
        [
         "app-20220209224316-0007",
         47,
         4.59,
         431055,
         0,
         false,
         0
        ],
        [
         "app-20220209224316-0007",
         43,
         5.91,
         5018114,
         0,
         false,
         0
        ],
        [
         "app-20220209224316-0007",
         37,
         5.91,
         5448378,
         0,
         false,
         0
        ],
        [
         "app-20220209224316-0007",
         53,
         3.0,
         241,
         0,
         false,
         0
        ],
        [
         "app-20220209224316-0007",
         35,
         5.91,
         19573046,
         0,
         false,
         0
        ],
        [
         "app-20220209224316-0007",
         51,
         4.74,
         515369,
         0,
         false,
         0
        ],
        [
         "app-20220209224316-0007",
         39,
         5.91,
         18402446,
         0,
         false,
         0
        ],
        [
         "app-20220209224316-0007",
         50,
         4.74,
         512640,
         0,
         false,
         0
        ],
        [
         "app-20220209224316-0007",
         46,
         4.59,
         770947,
         0,
         false,
         0
        ]
       ],
       "datasetInfos": [],
       "dbfsResultPath": null,
       "isJsonSchema": true,
       "metadata": {},
       "overflow": false,
       "plotOptions": {
        "customPlotOptions": {},
        "displayType": "table",
        "pivotAggregation": null,
        "pivotColumns": null,
        "xColumns": null,
        "yColumns": null
       },
       "removedWidgets": [],
       "schema": [
        {
         "metadata": "{}",
         "name": "App ID",
         "type": "\"string\""
        },
        {
         "metadata": "{}",
         "name": "Stage ID",
         "type": "\"long\""
        },
        {
         "metadata": "{}",
         "name": "Average Speedup Factor",
         "type": "\"double\""
        },
        {
         "metadata": "{}",
         "name": "Stage Task Duration",
         "type": "\"long\""
        },
        {
         "metadata": "{}",
         "name": "Unsupported Task Duration",
         "type": "\"long\""
        },
        {
         "metadata": "{}",
         "name": "Stage Estimated",
         "type": "\"boolean\""
        },
        {
         "metadata": "{}",
         "name": "Number of transitions from or to GPU",
         "type": "\"long\""
        }
       ],
       "type": "table"
      }
     },
     "output_type": "display_data"
    }
   ],
   "source": [
    "stages_output=pd.read_csv(outputpath_string + \"/rapids_4_spark_qualification_output/rapids_4_spark_qualification_output_stages.csv\")\n",
    "display(stages_output)"
   ]
  },
  {
   "cell_type": "markdown",
   "metadata": {
    "application/vnd.databricks.v1+cell": {
     "cellMetadata": {
      "byteLimit": 2048000,
      "rowLimit": 10000
     },
     "inputWidgets": {},
     "nuid": "4d7ce219-ae75-4a0c-a78c-4e7f25b8cd6f",
     "showTitle": false,
     "title": ""
    }
   },
   "source": [
    "## Execs Output"
   ]
  },
  {
   "cell_type": "code",
   "execution_count": 0,
   "metadata": {
    "application/vnd.databricks.v1+cell": {
     "cellMetadata": {
      "byteLimit": 2048000,
      "rowLimit": 10000
     },
     "inputWidgets": {},
     "nuid": "998b0c51-0cb6-408e-a01a-d1f5b1a61e1f",
     "showTitle": false,
     "title": ""
    }
   },
   "outputs": [
    {
     "output_type": "display_data",
     "data": {
      "text/html": [
       "<style scoped>\n",
       "  .table-result-container {\n",
       "    max-height: 300px;\n",
       "    overflow: auto;\n",
       "  }\n",
       "  table, th, td {\n",
       "    border: 1px solid black;\n",
       "    border-collapse: collapse;\n",
       "  }\n",
       "  th, td {\n",
       "    padding: 5px;\n",
       "  }\n",
       "  th {\n",
       "    text-align: left;\n",
       "  }\n",
       "</style><div class='table-result-container'><table class='table-result'><thead style='background-color: white'><tr><th>App ID</th><th>SQL ID</th><th>Exec Name</th><th>Expression Name</th><th>Task Speedup Factor</th><th>Exec Duration</th><th>SQL Node Id</th><th>Exec Is Supported</th><th>Exec Stages</th><th>Exec Children</th><th>Exec Children Node Ids</th><th>Exec Should Remove</th></tr></thead><tbody><tr><td>app-20220209224316-0007</td><td>24</td><td>SortMergeJoin</td><td>null</td><td>22.33</td><td>0</td><td>101</td><td>true</td><td>45</td><td>null</td><td>null</td><td>false</td></tr><tr><td>app-20220209224316-0007</td><td>24</td><td>WholeStageCodegen (14)</td><td>WholeStageCodegen (14)</td><td>7.49</td><td>18790937</td><td>61</td><td>true</td><td>35</td><td>HashAggregate:Project:BroadcastHashJoin:Project:SortMergeJoin</td><td>62:63:64:65:66</td><td>false</td></tr><tr><td>app-20220209224316-0007</td><td>24</td><td>SubqueryBroadcast</td><td>null</td><td>3.0</td><td>976</td><td>43</td><td>true</td><td>null</td><td>null</td><td>null</td><td>false</td></tr><tr><td>app-20220209224316-0007</td><td>24</td><td>Exchange</td><td>null</td><td>4.9</td><td>12696</td><td>160</td><td>true</td><td>50:52</td><td>null</td><td>null</td><td>false</td></tr><tr><td>app-20220209224316-0007</td><td>24</td><td>WholeStageCodegen (2)</td><td>WholeStageCodegen (2)</td><td>6.64</td><td>17508276</td><td>29</td><td>true</td><td>39</td><td>Sort</td><td>30</td><td>false</td></tr><tr><td>app-20220209224316-0007</td><td>24</td><td>HashAggregate</td><td>null</td><td>4.41</td><td>0</td><td>24</td><td>true</td><td>39</td><td>null</td><td>null</td><td>false</td></tr><tr><td>app-20220209224316-0007</td><td>24</td><td>Sort</td><td>null</td><td>6.64</td><td>0</td><td>113</td><td>true</td><td>52</td><td>null</td><td>null</td><td>false</td></tr><tr><td>app-20220209224316-0007</td><td>24</td><td>WholeStageCodegen (10)</td><td>WholeStageCodegen (10)</td><td>6.64</td><td>18772156</td><td>67</td><td>true</td><td>35</td><td>Sort</td><td>68</td><td>false</td></tr><tr><td>app-20220209224316-0007</td><td>24</td><td>ReusedExchange</td><td>null</td><td>1.0</td><td>0</td><td>77</td><td>true</td><td>null</td><td>null</td><td>null</td><td>true</td></tr><tr><td>app-20220209224316-0007</td><td>24</td><td>HashAggregate</td><td>null</td><td>4.41</td><td>0</td><td>165</td><td>true</td><td>37</td><td>null</td><td>null</td><td>false</td></tr><tr><td>app-20220209224316-0007</td><td>24</td><td>WholeStageCodegen (12)</td><td>WholeStageCodegen (12)</td><td>6.64</td><td>19313426</td><td>69</td><td>true</td><td>35</td><td>Sort</td><td>70</td><td>false</td></tr><tr><td>app-20220209224316-0007</td><td>24</td><td>SortMergeJoin</td><td>null</td><td>22.33</td><td>0</td><td>169</td><td>true</td><td>37</td><td>null</td><td>null</td><td>false</td></tr><tr><td>app-20220209224316-0007</td><td>24</td><td>WholeStageCodegen (15)</td><td>WholeStageCodegen (15)</td><td>4.41</td><td>363596</td><td>58</td><td>true</td><td>51</td><td>HashAggregate</td><td>59</td><td>false</td></tr><tr><td>app-20220209224316-0007</td><td>24</td><td>Sort</td><td>null</td><td>6.64</td><td>0</td><td>149</td><td>true</td><td>43</td><td>null</td><td>null</td><td>false</td></tr><tr><td>app-20220209224316-0007</td><td>24</td><td>Scan parquet</td><td>null</td><td>3.0</td><td>301</td><td>54</td><td>true</td><td>32</td><td>null</td><td>null</td><td>false</td></tr><tr><td>app-20220209224316-0007</td><td>4</td><td>Execute CreateViewCommand</td><td>null</td><td>1.0</td><td>0</td><td>0</td><td>false</td><td>null</td><td>null</td><td>null</td><td>false</td></tr><tr><td>app-20220209224316-0007</td><td>24</td><td>WholeStageCodegen (26)</td><td>WholeStageCodegen (26)</td><td>12.67</td><td>1569321</td><td>11</td><td>true</td><td>52</td><td>Project:SortMergeJoin</td><td>12:13</td><td>false</td></tr><tr><td>app-20220209224316-0007</td><td>24</td><td>Exchange</td><td>null</td><td>4.9</td><td>31434</td><td>106</td><td>true</td><td>44:45</td><td>null</td><td>null</td><td>false</td></tr><tr><td>app-20220209224316-0007</td><td>24</td><td>WholeStageCodegen (21)</td><td>WholeStageCodegen (21)</td><td>6.64</td><td>13059736</td><td>104</td><td>true</td><td>45</td><td>Sort</td><td>105</td><td>false</td></tr><tr><td>app-20220209224316-0007</td><td>24</td><td>Project</td><td>null</td><td>3.0</td><td>0</td><td>6</td><td>true</td><td>null</td><td>null</td><td>null</td><td>false</td></tr><tr><td>app-20220209224316-0007</td><td>24</td><td>BroadcastExchange</td><td>null</td><td>3.0</td><td>1385</td><td>78</td><td>true</td><td>null</td><td>null</td><td>null</td><td>true</td></tr><tr><td>app-20220209224316-0007</td><td>24</td><td>SortMergeJoin</td><td>null</td><td>22.33</td><td>0</td><td>123</td><td>true</td><td>41</td><td>null</td><td>null</td><td>false</td></tr><tr><td>app-20220209224316-0007</td><td>24</td><td>ColumnarToRow</td><td>null</td><td>1.0</td><td>0</td><td>109</td><td>false</td><td>44</td><td>null</td><td>null</td><td>true</td></tr><tr><td>app-20220209224316-0007</td><td>24</td><td>Scan parquet</td><td>null</td><td>3.0</td><td>545</td><td>82</td><td>true</td><td>31</td><td>null</td><td>null</td><td>true</td></tr><tr><td>app-20220209224316-0007</td><td>24</td><td>Exchange</td><td>null</td><td>4.9</td><td>32062</td><td>174</td><td>true</td><td>36:37</td><td>null</td><td>null</td><td>false</td></tr><tr><td>app-20220209224316-0007</td><td>24</td><td>WholeStageCodegen (42)</td><td>WholeStageCodegen (42)</td><td>3.97</td><td>322554</td><td>137</td><td>true</td><td>47</td><td>Project:Filter:HashAggregate</td><td>138:139:140</td><td>false</td></tr><tr><td>app-20220209224316-0007</td><td>24</td><td>WholeStageCodegen (23)</td><td>WholeStageCodegen (23)</td><td>7.49</td><td>12134149</td><td>96</td><td>true</td><td>45</td><td>HashAggregate:Project:BroadcastHashJoin:Project:SortMergeJoin</td><td>97:98:99:100:101</td><td>false</td></tr><tr><td>app-20220209224316-0007</td><td>20</td><td>Execute CreateViewCommand</td><td>null</td><td>1.0</td><td>0</td><td>0</td><td>false</td><td>null</td><td>null</td><td>null</td><td>false</td></tr><tr><td>app-20220209224316-0007</td><td>24</td><td>WholeStageCodegen (24)</td><td>WholeStageCodegen (24)</td><td>3.97</td><td>490690</td><td>91</td><td>true</td><td>46</td><td>Project:Filter:HashAggregate</td><td>92:93:94</td><td>false</td></tr><tr><td>app-20220209224316-0007</td><td>24</td><td>WholeStageCodegen (35)</td><td>WholeStageCodegen (35)</td><td>12.67</td><td>1637837</td><td>8</td><td>true</td><td>52</td><td>Project:SortMergeJoin</td><td>9:10</td><td>false</td></tr><tr><td>app-20220209224316-0007</td><td>17</td><td>Execute CreateViewCommand</td><td>null</td><td>1.0</td><td>0</td><td>0</td><td>false</td><td>null</td><td>null</td><td>null</td><td>false</td></tr><tr><td>app-20220209224316-0007</td><td>24</td><td>BroadcastExchange</td><td>null</td><td>3.0</td><td>947</td><td>50</td><td>true</td><td>null</td><td>null</td><td>null</td><td>false</td></tr><tr><td>app-20220209224316-0007</td><td>24</td><td>Project</td><td>null</td><td>3.0</td><td>0</td><td>144</td><td>true</td><td>null</td><td>null</td><td>null</td><td>false</td></tr><tr><td>app-20220209224316-0007</td><td>24</td><td>SubqueryBroadcast</td><td>null</td><td>3.0</td><td>976</td><td>111</td><td>true</td><td>null</td><td>null</td><td>null</td><td>false</td></tr><tr><td>app-20220209224316-0007</td><td>24</td><td>Sort</td><td>null</td><td>6.64</td><td>0</td><td>127</td><td>true</td><td>41</td><td>null</td><td>null</td><td>false</td></tr><tr><td>app-20220209224316-0007</td><td>24</td><td>WholeStageCodegen (52)</td><td>WholeStageCodegen (52)</td><td>6.64</td><td>836330</td><td>158</td><td>true</td><td>52</td><td>Sort</td><td>159</td><td>false</td></tr><tr><td>app-20220209224316-0007</td><td>24</td><td>BroadcastHashJoin</td><td>null</td><td>4.72</td><td>0</td><td>121</td><td>true</td><td>41</td><td>null</td><td>null</td><td>false</td></tr><tr><td>app-20220209224316-0007</td><td>24</td><td>Project</td><td>null</td><td>3.0</td><td>0</td><td>146</td><td>true</td><td>null</td><td>null</td><td>null</td><td>false</td></tr><tr><td>app-20220209224316-0007</td><td>24</td><td>TakeOrderedAndProject</td><td>null</td><td>3.0</td><td>0</td><td>1</td><td>true</td><td>52:53</td><td>null</td><td>null</td><td>false</td></tr><tr><td>app-20220209224316-0007</td><td>24</td><td>Sort</td><td>null</td><td>6.64</td><td>0</td><td>125</td><td>true</td><td>41</td><td>null</td><td>null</td><td>false</td></tr><tr><td>app-20220209224316-0007</td><td>24</td><td>SubqueryBroadcast</td><td>null</td><td>3.0</td><td>976</td><td>157</td><td>true</td><td>null</td><td>null</td><td>null</td><td>false</td></tr><tr><td>app-20220209224316-0007</td><td>24</td><td>WholeStageCodegen (7)</td><td>WholeStageCodegen (7)</td><td>4.46</td><td>352448</td><td>19</td><td>true</td><td>49</td><td>Filter:HashAggregate</td><td>20:21</td><td>false</td></tr><tr><td>app-20220209224316-0007</td><td>24</td><td>Scan parquet</td><td>null</td><td>3.0</td><td>193671</td><td>178</td><td>true</td><td>36</td><td>null</td><td>null</td><td>false</td></tr><tr><td>app-20220209224316-0007</td><td>24</td><td>ColumnarToRow</td><td>null</td><td>1.0</td><td>0</td><td>86</td><td>false</td><td>31</td><td>null</td><td>null</td><td>true</td></tr><tr><td>app-20220209224316-0007</td><td>21</td><td>Execute CreateViewCommand</td><td>null</td><td>1.0</td><td>0</td><td>0</td><td>false</td><td>null</td><td>null</td><td>null</td><td>false</td></tr><tr><td>app-20220209224316-0007</td><td>1</td><td>Execute CreateViewCommand</td><td>null</td><td>1.0</td><td>0</td><td>0</td><td>false</td><td>null</td><td>null</td><td>null</td><td>false</td></tr><tr><td>app-20220209224316-0007</td><td>24</td><td>Filter</td><td>null</td><td>4.51</td><td>0</td><td>52</td><td>true</td><td>32</td><td>null</td><td>null</td><td>false</td></tr><tr><td>app-20220209224316-0007</td><td>24</td><td>WholeStageCodegen (5)</td><td>WholeStageCodegen (5)</td><td>4.51</td><td>320</td><td>51</td><td>true</td><td>32</td><td>Filter:ColumnarToRow</td><td>52:53</td><td>false</td></tr><tr><td>app-20220209224316-0007</td><td>24</td><td>WholeStageCodegen (53)</td><td>WholeStageCodegen (53)</td><td>12.67</td><td>2091634</td><td>2</td><td>true</td><td>52</td><td>Project:SortMergeJoin</td><td>3:4</td><td>false</td></tr><tr><td>app-20220209224316-0007</td><td>24</td><td>Sort</td><td>null</td><td>6.64</td><td>0</td><td>89</td><td>true</td><td>52</td><td>null</td><td>null</td><td>false</td></tr><tr><td>app-20220209224316-0007</td><td>24</td><td>Scan parquet</td><td>null</td><td>3.0</td><td>389222</td><td>75</td><td>true</td><td>33</td><td>null</td><td>null</td><td>false</td></tr><tr><td>app-20220209224316-0007</td><td>24</td><td>BroadcastHashJoin</td><td>null</td><td>4.72</td><td>0</td><td>167</td><td>true</td><td>37</td><td>null</td><td>null</td><td>false</td></tr><tr><td>app-20220209224316-0007</td><td>24</td><td>BroadcastExchange</td><td>null</td><td>3.0</td><td>1385</td><td>83</td><td>true</td><td>null</td><td>null</td><td>null</td><td>false</td></tr><tr><td>app-20220209224316-0007</td><td>24</td><td>BroadcastHashJoin</td><td>null</td><td>4.72</td><td>0</td><td>99</td><td>true</td><td>45</td><td>null</td><td>null</td><td>false</td></tr><tr><td>app-20220209224316-0007</td><td>24</td><td>WholeStageCodegen (19)</td><td>WholeStageCodegen (19)</td><td>6.64</td><td>11861853</td><td>102</td><td>true</td><td>45</td><td>Sort</td><td>103</td><td>false</td></tr><tr><td>app-20220209224316-0007</td><td>24</td><td>Sort</td><td>null</td><td>6.64</td><td>0</td><td>105</td><td>true</td><td>45</td><td>null</td><td>null</td><td>false</td></tr><tr><td>app-20220209224316-0007</td><td>24</td><td>Exchange</td><td>null</td><td>4.9</td><td>156049</td><td>117</td><td>true</td><td>41:48</td><td>null</td><td>null</td><td>false</td></tr><tr><td>app-20220209224316-0007</td><td>24</td><td>Project</td><td>null</td><td>3.0</td><td>0</td><td>168</td><td>true</td><td>null</td><td>null</td><td>null</td><td>false</td></tr><tr><td>app-20220209224316-0007</td><td>24</td><td>Exchange</td><td>null</td><td>4.9</td><td>209240</td><td>60</td><td>true</td><td>35:51</td><td>null</td><td>null</td><td>false</td></tr><tr><td>app-20220209224316-0007</td><td>24</td><td>SubqueryBroadcast</td><td>null</td><td>3.0</td><td>1388</td><td>179</td><td>true</td><td>null</td><td>null</td><td>null</td><td>false</td></tr><tr><td>app-20220209224316-0007</td><td>24</td><td>Project</td><td>null</td><td>3.0</td><td>0</td><td>138</td><td>true</td><td>null</td><td>null</td><td>null</td><td>false</td></tr><tr><td>app-20220209224316-0007</td><td>24</td><td>Scan parquet</td><td>null</td><td>3.0</td><td>545</td><td>87</td><td>true</td><td>31</td><td>null</td><td>null</td><td>false</td></tr><tr><td>app-20220209224316-0007</td><td>24</td><td>Sort</td><td>null</td><td>6.64</td><td>0</td><td>68</td><td>true</td><td>35</td><td>null</td><td>null</td><td>false</td></tr><tr><td>app-20220209224316-0007</td><td>24</td><td>HashAggregate</td><td>null</td><td>4.41</td><td>0</td><td>21</td><td>true</td><td>49</td><td>null</td><td>null</td><td>false</td></tr><tr><td>app-20220209224316-0007</td><td>24</td><td>Exchange</td><td>null</td><td>4.9</td><td>8460</td><td>136</td><td>true</td><td>47:52</td><td>null</td><td>null</td><td>false</td></tr><tr><td>app-20220209224316-0007</td><td>24</td><td>WholeStageCodegen (51)</td><td>WholeStageCodegen (51)</td><td>4.41</td><td>314233</td><td>161</td><td>true</td><td>50</td><td>HashAggregate</td><td>162</td><td>false</td></tr><tr><td>app-20220209224316-0007</td><td>24</td><td>Project</td><td>null</td><td>3.0</td><td>0</td><td>166</td><td>true</td><td>null</td><td>null</td><td>null</td><td>false</td></tr><tr><td>app-20220209224316-0007</td><td>24</td><td>ColumnarToRow</td><td>null</td><td>1.0</td><td>0</td><td>131</td><td>false</td><td>40</td><td>null</td><td>null</td><td>true</td></tr><tr><td>app-20220209224316-0007</td><td>3</td><td>Execute CreateViewCommand</td><td>null</td><td>1.0</td><td>0</td><td>0</td><td>false</td><td>null</td><td>null</td><td>null</td><td>false</td></tr><tr><td>app-20220209224316-0007</td><td>24</td><td>ColumnarToRow</td><td>null</td><td>1.0</td><td>0</td><td>34</td><td>false</td><td>34</td><td>null</td><td>null</td><td>true</td></tr><tr><td>app-20220209224316-0007</td><td>24</td><td>Filter</td><td>null</td><td>4.51</td><td>0</td><td>20</td><td>true</td><td>49</td><td>null</td><td>null</td><td>false</td></tr><tr><td>app-20220209224316-0007</td><td>8</td><td>Execute CreateViewCommand</td><td>null</td><td>1.0</td><td>0</td><td>0</td><td>false</td><td>null</td><td>null</td><td>null</td><td>false</td></tr><tr><td>app-20220209224316-0007</td><td>24</td><td>WholeStageCodegen (11)</td><td>WholeStageCodegen (11)</td><td>4.51</td><td>1353077</td><td>72</td><td>true</td><td>33</td><td>Filter:ColumnarToRow</td><td>73:74</td><td>false</td></tr><tr><td>app-20220209224316-0007</td><td>24</td><td>ReusedExchange</td><td>null</td><td>1.0</td><td>0</td><td>44</td><td>true</td><td>null</td><td>null</td><td>null</td><td>true</td></tr><tr><td>app-20220209224316-0007</td><td>24</td><td>Execute InsertIntoHadoopFsRelationCommand parquet</td><td>null</td><td>3.0</td><td>0</td><td>0</td><td>true</td><td>null</td><td>null</td><td>null</td><td>false</td></tr><tr><td>app-20220209224316-0007</td><td>24</td><td>ColumnarToRow</td><td>null</td><td>1.0</td><td>0</td><td>41</td><td>false</td><td>38</td><td>null</td><td>null</td><td>true</td></tr><tr><td>app-20220209224316-0007</td><td>24</td><td>HashAggregate</td><td>null</td><td>4.41</td><td>0</td><td>143</td><td>true</td><td>43</td><td>null</td><td>null</td><td>false</td></tr><tr><td>app-20220209224316-0007</td><td>24</td><td>Exchange</td><td>null</td><td>4.9</td><td>61235</td><td>57</td><td>true</td><td>51:52</td><td>null</td><td>null</td><td>false</td></tr><tr><td>app-20220209224316-0007</td><td>24</td><td>SortMergeJoin</td><td>null</td><td>22.33</td><td>0</td><td>13</td><td>true</td><td>52</td><td>null</td><td>null</td><td>false</td></tr><tr><td>app-20220209224316-0007</td><td>24</td><td>Filter</td><td>null</td><td>4.51</td><td>0</td><td>108</td><td>true</td><td>44</td><td>null</td><td>null</td><td>false</td></tr><tr><td>app-20220209224316-0007</td><td>12</td><td>Execute CreateViewCommand</td><td>null</td><td>1.0</td><td>0</td><td>0</td><td>false</td><td>null</td><td>null</td><td>null</td><td>false</td></tr><tr><td>app-20220209224316-0007</td><td>24</td><td>WholeStageCodegen (33)</td><td>WholeStageCodegen (33)</td><td>4.41</td><td>311678</td><td>115</td><td>true</td><td>48</td><td>HashAggregate</td><td>116</td><td>false</td></tr><tr><td>app-20220209224316-0007</td><td>24</td><td>ColumnarToRow</td><td>null</td><td>1.0</td><td>0</td><td>81</td><td>false</td><td>31</td><td>null</td><td>null</td><td>true</td></tr><tr><td>app-20220209224316-0007</td><td>24</td><td>WholeStageCodegen (32)</td><td>WholeStageCodegen (32)</td><td>7.49</td><td>9334072</td><td>118</td><td>true</td><td>41</td><td>HashAggregate:Project:BroadcastHashJoin:Project:SortMergeJoin</td><td>119:120:121:122:123</td><td>false</td></tr><tr><td>app-20220209224316-0007</td><td>24</td><td>WholeStageCodegen (20)</td><td>WholeStageCodegen (20)</td><td>4.51</td><td>1602599</td><td>107</td><td>true</td><td>44</td><td>Filter:ColumnarToRow</td><td>108:109</td><td>false</td></tr><tr><td>app-20220209224316-0007</td><td>24</td><td>Scan parquet</td><td>null</td><td>3.0</td><td>271493</td><td>42</td><td>true</td><td>38</td><td>null</td><td>null</td><td>false</td></tr><tr><td>app-20220209224316-0007</td><td>24</td><td>Sort</td><td>null</td><td>6.64</td><td>0</td><td>70</td><td>true</td><td>35</td><td>null</td><td>null</td><td>false</td></tr><tr><td>app-20220209224316-0007</td><td>24</td><td>HashAggregate</td><td>null</td><td>4.41</td><td>0</td><td>119</td><td>true</td><td>41</td><td>null</td><td>null</td><td>false</td></tr><tr><td>app-20220209224316-0007</td><td>24</td><td>WholeStageCodegen (44)</td><td>WholeStageCodegen (44)</td><td>12.67</td><td>1930487</td><td>5</td><td>true</td><td>52</td><td>Project:SortMergeJoin</td><td>6:7</td><td>false</td></tr><tr><td>app-20220209224316-0007</td><td>24</td><td>Exchange</td><td>null</td><td>4.9</td><td>15288</td><td>114</td><td>true</td><td>48:52</td><td>null</td><td>null</td><td>false</td></tr><tr><td>app-20220209224316-0007</td><td>24</td><td>WholeStageCodegen (47)</td><td>WholeStageCodegen (47)</td><td>4.51</td><td>531329</td><td>175</td><td>true</td><td>36</td><td>Filter:ColumnarToRow</td><td>176:177</td><td>false</td></tr><tr><td>app-20220209224316-0007</td><td>24</td><td>WholeStageCodegen (8)</td><td>WholeStageCodegen (8)</td><td>6.64</td><td>1494431</td><td>16</td><td>true</td><td>52</td><td>Sort</td><td>17</td><td>false</td></tr><tr><td>app-20220209224316-0007</td><td>24</td><td>HashAggregate</td><td>null</td><td>4.41</td><td>0</td><td>59</td><td>true</td><td>51</td><td>null</td><td>null</td><td>false</td></tr><tr><td>app-20220209224316-0007</td><td>24</td><td>Project</td><td>null</td><td>3.0</td><td>0</td><td>98</td><td>true</td><td>null</td><td>null</td><td>null</td><td>false</td></tr><tr><td>app-20220209224316-0007</td><td>22</td><td>Execute CreateViewCommand</td><td>null</td><td>1.0</td><td>0</td><td>0</td><td>false</td><td>null</td><td>null</td><td>null</td><td>false</td></tr><tr><td>app-20220209224316-0007</td><td>24</td><td>Exchange</td><td>null</td><td>4.9</td><td>35176</td><td>90</td><td>true</td><td>46:52</td><td>null</td><td>null</td><td>false</td></tr><tr><td>app-20220209224316-0007</td><td>24</td><td>WholeStageCodegen (43)</td><td>WholeStageCodegen (43)</td><td>6.64</td><td>1250915</td><td>134</td><td>true</td><td>52</td><td>Sort</td><td>135</td><td>false</td></tr><tr><td>app-20220209224316-0007</td><td>24</td><td>Filter</td><td>null</td><td>4.51</td><td>0</td><td>176</td><td>true</td><td>36</td><td>null</td><td>null</td><td>false</td></tr><tr><td>app-20220209224316-0007</td><td>24</td><td>HashAggregate</td><td>null</td><td>4.41</td><td>0</td><td>140</td><td>true</td><td>47</td><td>null</td><td>null</td><td>false</td></tr><tr><td>app-20220209224316-0007</td><td>24</td><td>Exchange</td><td>null</td><td>4.9</td><td>212516</td><td>71</td><td>true</td><td>33:35</td><td>null</td><td>null</td><td>false</td></tr><tr><td>app-20220209224316-0007</td><td>24</td><td>Exchange</td><td>null</td><td>4.9</td><td>20686</td><td>128</td><td>true</td><td>40:41</td><td>null</td><td>null</td><td>false</td></tr><tr><td>app-20220209224316-0007</td><td>24</td><td>Scan parquet</td><td>null</td><td>3.0</td><td>832627</td><td>110</td><td>true</td><td>44</td><td>null</td><td>null</td><td>false</td></tr><tr><td>app-20220209224316-0007</td><td>24</td><td>Sort</td><td>null</td><td>6.64</td><td>0</td><td>30</td><td>true</td><td>39</td><td>null</td><td>null</td><td>false</td></tr><tr><td>app-20220209224316-0007</td><td>24</td><td>WholeStageCodegen (1)</td><td>WholeStageCodegen (1)</td><td>4.51</td><td>155644</td><td>32</td><td>true</td><td>34</td><td>Filter:ColumnarToRow</td><td>33:34</td><td>false</td></tr><tr><td>app-20220209224316-0007</td><td>24</td><td>BroadcastHashJoin</td><td>null</td><td>4.72</td><td>0</td><td>26</td><td>true</td><td>39</td><td>null</td><td>null</td><td>false</td></tr><tr><td>app-20220209224316-0007</td><td>24</td><td>Scan parquet</td><td>null</td><td>3.0</td><td>102650</td><td>35</td><td>true</td><td>34</td><td>null</td><td>null</td><td>false</td></tr><tr><td>app-20220209224316-0007</td><td>24</td><td>Exchange</td><td>null</td><td>4.9</td><td>162543</td><td>163</td><td>true</td><td>37:50</td><td>null</td><td>null</td><td>false</td></tr><tr><td>app-20220209224316-0007</td><td>24</td><td>WholeStageCodegen (29)</td><td>WholeStageCodegen (29)</td><td>4.51</td><td>530409</td><td>129</td><td>true</td><td>40</td><td>Filter:ColumnarToRow</td><td>130:131</td><td>false</td></tr><tr><td>app-20220209224316-0007</td><td>24</td><td>Sort</td><td>null</td><td>6.64</td><td>0</td><td>159</td><td>true</td><td>52</td><td>null</td><td>null</td><td>false</td></tr><tr><td>app-20220209224316-0007</td><td>6</td><td>Execute CreateViewCommand</td><td>null</td><td>1.0</td><td>0</td><td>0</td><td>false</td><td>null</td><td>null</td><td>null</td><td>false</td></tr><tr><td>app-20220209224316-0007</td><td>24</td><td>Filter</td><td>null</td><td>4.51</td><td>0</td><td>93</td><td>true</td><td>46</td><td>null</td><td>null</td><td>false</td></tr><tr><td>app-20220209224316-0007</td><td>24</td><td>SortMergeJoin</td><td>null</td><td>22.33</td><td>0</td><td>15</td><td>true</td><td>52</td><td>null</td><td>null</td><td>false</td></tr><tr><td>app-20220209224316-0007</td><td>24</td><td>Project</td><td>null</td><td>3.0</td><td>0</td><td>63</td><td>true</td><td>null</td><td>null</td><td>null</td><td>false</td></tr><tr><td>app-20220209224316-0007</td><td>24</td><td>WholeStageCodegen (16)</td><td>WholeStageCodegen (16)</td><td>6.64</td><td>2197268</td><td>55</td><td>true</td><td>52</td><td>Sort</td><td>56</td><td>false</td></tr><tr><td>app-20220209224316-0007</td><td>24</td><td>Scan parquet</td><td>null</td><td>3.0</td><td>301</td><td>49</td><td>true</td><td>32</td><td>null</td><td>null</td><td>true</td></tr><tr><td>app-20220209224316-0007</td><td>24</td><td>WholeStageCodegen (50)</td><td>WholeStageCodegen (50)</td><td>7.49</td><td>4913238</td><td>164</td><td>true</td><td>37</td><td>HashAggregate:Project:BroadcastHashJoin:Project:SortMergeJoin</td><td>165:166:167:168:169</td><td>false</td></tr><tr><td>app-20220209224316-0007</td><td>24</td><td>WholeStageCodegen (13)</td><td>WholeStageCodegen (13)</td><td>4.51</td><td>565</td><td>84</td><td>true</td><td>31</td><td>Filter:ColumnarToRow</td><td>85:86</td><td>false</td></tr><tr><td>app-20220209224316-0007</td><td>24</td><td>Project</td><td>null</td><td>3.0</td><td>0</td><td>12</td><td>true</td><td>null</td><td>null</td><td>null</td><td>false</td></tr><tr><td>app-20220209224316-0007</td><td>24</td><td>WholeStageCodegen (28)</td><td>WholeStageCodegen (28)</td><td>6.64</td><td>8723134</td><td>124</td><td>true</td><td>41</td><td>Sort</td><td>125</td><td>false</td></tr><tr><td>app-20220209224316-0007</td><td>0</td><td>Execute CreateViewCommand</td><td>null</td><td>1.0</td><td>0</td><td>0</td><td>false</td><td>null</td><td>null</td><td>null</td><td>false</td></tr><tr><td>app-20220209224316-0007</td><td>24</td><td>HashAggregate</td><td>null</td><td>4.41</td><td>0</td><td>62</td><td>true</td><td>35</td><td>null</td><td>null</td><td>false</td></tr><tr><td>app-20220209224316-0007</td><td>24</td><td>Exchange</td><td>null</td><td>4.9</td><td>200753</td><td>141</td><td>true</td><td>43:47</td><td>null</td><td>null</td><td>false</td></tr><tr><td>app-20220209224316-0007</td><td>24</td><td>Filter</td><td>null</td><td>4.51</td><td>0</td><td>40</td><td>true</td><td>38</td><td>null</td><td>null</td><td>false</td></tr><tr><td>app-20220209224316-0007</td><td>24</td><td>HashAggregate</td><td>null</td><td>4.41</td><td>0</td><td>116</td><td>true</td><td>48</td><td>null</td><td>null</td><td>false</td></tr><tr><td>app-20220209224316-0007</td><td>24</td><td>BroadcastHashJoin</td><td>null</td><td>4.72</td><td>0</td><td>64</td><td>true</td><td>35</td><td>null</td><td>null</td><td>false</td></tr><tr><td>app-20220209224316-0007</td><td>24</td><td>SortMergeJoin</td><td>null</td><td>22.33</td><td>0</td><td>4</td><td>true</td><td>52</td><td>null</td><td>null</td><td>false</td></tr><tr><td>app-20220209224316-0007</td><td>24</td><td>Exchange</td><td>null</td><td>4.9</td><td>209353</td><td>95</td><td>true</td><td>45:46</td><td>null</td><td>null</td><td>false</td></tr><tr><td>app-20220209224316-0007</td><td>24</td><td>SubqueryBroadcast</td><td>null</td><td>3.0</td><td>1388</td><td>76</td><td>true</td><td>null</td><td>null</td><td>null</td><td>false</td></tr><tr><td>app-20220209224316-0007</td><td>24</td><td>WholeStageCodegen (17)</td><td>WholeStageCodegen (17)</td><td>22.33</td><td>1446800</td><td>14</td><td>true</td><td>52</td><td>SortMergeJoin</td><td>15</td><td>false</td></tr><tr><td>app-20220209224316-0007</td><td>24</td><td>Exchange</td><td>null</td><td>4.9</td><td>146085</td><td>22</td><td>true</td><td>39:49</td><td>null</td><td>null</td><td>false</td></tr><tr><td>app-20220209224316-0007</td><td>24</td><td>HashAggregate</td><td>null</td><td>4.41</td><td>0</td><td>94</td><td>true</td><td>46</td><td>null</td><td>null</td><td>false</td></tr><tr><td>app-20220209224316-0007</td><td>24</td><td>Sort</td><td>null</td><td>6.64</td><td>0</td><td>173</td><td>true</td><td>37</td><td>null</td><td>null</td><td>false</td></tr><tr><td>app-20220209224316-0007</td><td>24</td><td>Project</td><td>null</td><td>3.0</td><td>0</td><td>25</td><td>true</td><td>null</td><td>null</td><td>null</td><td>false</td></tr><tr><td>app-20220209224316-0007</td><td>24</td><td>Project</td><td>null</td><td>3.0</td><td>0</td><td>3</td><td>true</td><td>null</td><td>null</td><td>null</td><td>false</td></tr><tr><td>app-20220209224316-0007</td><td>24</td><td>HashAggregate</td><td>null</td><td>4.41</td><td>0</td><td>162</td><td>true</td><td>50</td><td>null</td><td>null</td><td>false</td></tr><tr><td>app-20220209224316-0007</td><td>24</td><td>Project</td><td>null</td><td>3.0</td><td>0</td><td>122</td><td>true</td><td>null</td><td>null</td><td>null</td><td>false</td></tr><tr><td>app-20220209224316-0007</td><td>24</td><td>ColumnarToRow</td><td>null</td><td>1.0</td><td>0</td><td>155</td><td>false</td><td>42</td><td>null</td><td>null</td><td>true</td></tr><tr><td>app-20220209224316-0007</td><td>24</td><td>Scan parquet</td><td>null</td><td>3.0</td><td>216336</td><td>132</td><td>true</td><td>40</td><td>null</td><td>null</td><td>false</td></tr><tr><td>app-20220209224316-0007</td><td>24</td><td>Project</td><td>null</td><td>3.0</td><td>0</td><td>65</td><td>true</td><td>null</td><td>null</td><td>null</td><td>false</td></tr><tr><td>app-20220209224316-0007</td><td>24</td><td>WholeStageCodegen (46)</td><td>WholeStageCodegen (46)</td><td>6.64</td><td>3372368</td><td>170</td><td>true</td><td>37</td><td>Sort</td><td>171</td><td>false</td></tr><tr><td>app-20220209224316-0007</td><td>24</td><td>Project</td><td>null</td><td>3.0</td><td>0</td><td>100</td><td>true</td><td>null</td><td>null</td><td>null</td><td>false</td></tr><tr><td>app-20220209224316-0007</td><td>24</td><td>SubqueryBroadcast</td><td>null</td><td>3.0</td><td>1388</td><td>133</td><td>true</td><td>null</td><td>null</td><td>null</td><td>false</td></tr><tr><td>app-20220209224316-0007</td><td>15</td><td>Execute CreateViewCommand</td><td>null</td><td>1.0</td><td>0</td><td>0</td><td>false</td><td>null</td><td>null</td><td>null</td><td>false</td></tr><tr><td>app-20220209224316-0007</td><td>24</td><td>WholeStageCodegen (6)</td><td>WholeStageCodegen (6)</td><td>7.49</td><td>17778089</td><td>23</td><td>true</td><td>39</td><td>HashAggregate:Project:BroadcastHashJoin:Project:SortMergeJoin</td><td>24:25:26:27:28</td><td>false</td></tr><tr><td>app-20220209224316-0007</td><td>24</td><td>Filter</td><td>null</td><td>4.51</td><td>0</td><td>33</td><td>true</td><td>34</td><td>null</td><td>null</td><td>false</td></tr><tr><td>app-20220209224316-0007</td><td>14</td><td>Execute CreateViewCommand</td><td>null</td><td>1.0</td><td>0</td><td>0</td><td>false</td><td>null</td><td>null</td><td>null</td><td>false</td></tr><tr><td>app-20220209224316-0007</td><td>24</td><td>Sort</td><td>null</td><td>6.64</td><td>0</td><td>37</td><td>true</td><td>39</td><td>null</td><td>null</td><td>false</td></tr><tr><td>app-20220209224316-0007</td><td>16</td><td>Execute CreateViewCommand</td><td>null</td><td>1.0</td><td>0</td><td>0</td><td>false</td><td>null</td><td>null</td><td>null</td><td>false</td></tr><tr><td>app-20220209224316-0007</td><td>24</td><td>Filter</td><td>null</td><td>4.51</td><td>0</td><td>47</td><td>true</td><td>32</td><td>null</td><td>null</td><td>true</td></tr><tr><td>app-20220209224316-0007</td><td>24</td><td>BroadcastExchange</td><td>null</td><td>3.0</td><td>947</td><td>45</td><td>true</td><td>null</td><td>null</td><td>null</td><td>true</td></tr><tr><td>app-20220209224316-0007</td><td>24</td><td>ColumnarToRow</td><td>null</td><td>1.0</td><td>0</td><td>74</td><td>false</td><td>33</td><td>null</td><td>null</td><td>true</td></tr><tr><td>app-20220209224316-0007</td><td>24</td><td>HashAggregate</td><td>null</td><td>4.41</td><td>0</td><td>97</td><td>true</td><td>45</td><td>null</td><td>null</td><td>false</td></tr><tr><td>app-20220209224316-0007</td><td>24</td><td>Exchange</td><td>null</td><td>4.9</td><td>23981</td><td>152</td><td>true</td><td>42:43</td><td>null</td><td>null</td><td>false</td></tr><tr><td>app-20220209224316-0007</td><td>24</td><td>Filter</td><td>null</td><td>4.51</td><td>0</td><td>139</td><td>true</td><td>47</td><td>null</td><td>null</td><td>false</td></tr><tr><td>app-20220209224316-0007</td><td>5</td><td>Execute CreateViewCommand</td><td>null</td><td>1.0</td><td>0</td><td>0</td><td>false</td><td>null</td><td>null</td><td>null</td><td>false</td></tr><tr><td>app-20220209224316-0007</td><td>24</td><td>Sort</td><td>null</td><td>6.64</td><td>0</td><td>17</td><td>true</td><td>52</td><td>null</td><td>null</td><td>false</td></tr><tr><td>app-20220209224316-0007</td><td>24</td><td>WholeStageCodegen (41)</td><td>WholeStageCodegen (41)</td><td>7.49</td><td>4639507</td><td>142</td><td>true</td><td>43</td><td>HashAggregate:Project:BroadcastHashJoin:Project:SortMergeJoin</td><td>143:144:145:146:147</td><td>false</td></tr><tr><td>app-20220209224316-0007</td><td>24</td><td>WholeStageCodegen (48)</td><td>WholeStageCodegen (48)</td><td>6.64</td><td>6648471</td><td>172</td><td>true</td><td>37</td><td>Sort</td><td>173</td><td>false</td></tr><tr><td>app-20220209224316-0007</td><td>24</td><td>WholeStageCodegen (37)</td><td>WholeStageCodegen (37)</td><td>6.64</td><td>2909792</td><td>148</td><td>true</td><td>43</td><td>Sort</td><td>149</td><td>false</td></tr><tr><td>app-20220209224316-0007</td><td>24</td><td>Sort</td><td>null</td><td>6.64</td><td>0</td><td>103</td><td>true</td><td>45</td><td>null</td><td>null</td><td>false</td></tr><tr><td>app-20220209224316-0007</td><td>24</td><td>BroadcastHashJoin</td><td>null</td><td>4.72</td><td>0</td><td>145</td><td>true</td><td>43</td><td>null</td><td>null</td><td>false</td></tr><tr><td>app-20220209224316-0007</td><td>24</td><td>Project</td><td>null</td><td>3.0</td><td>0</td><td>27</td><td>true</td><td>null</td><td>null</td><td>null</td><td>false</td></tr><tr><td>app-20220209224316-0007</td><td>24</td><td>SortMergeJoin</td><td>null</td><td>22.33</td><td>0</td><td>10</td><td>true</td><td>52</td><td>null</td><td>null</td><td>false</td></tr><tr><td>app-20220209224316-0007</td><td>24</td><td>WholeStageCodegen (34)</td><td>WholeStageCodegen (34)</td><td>6.64</td><td>1990423</td><td>112</td><td>true</td><td>52</td><td>Sort</td><td>113</td><td>false</td></tr><tr><td>app-20220209224316-0007</td><td>2</td><td>Execute CreateViewCommand</td><td>null</td><td>1.0</td><td>0</td><td>0</td><td>false</td><td>null</td><td>null</td><td>null</td><td>false</td></tr><tr><td>app-20220209224316-0007</td><td>7</td><td>Execute CreateViewCommand</td><td>null</td><td>1.0</td><td>0</td><td>0</td><td>false</td><td>null</td><td>null</td><td>null</td><td>false</td></tr><tr><td>app-20220209224316-0007</td><td>24</td><td>WholeStageCodegen (5)</td><td>WholeStageCodegen (5)</td><td>1.0</td><td>320</td><td>46</td><td>true</td><td>32</td><td>Filter:ColumnarToRow</td><td>47:48</td><td>true</td></tr><tr><td>app-20220209224316-0007</td><td>24</td><td>WholeStageCodegen (13)</td><td>WholeStageCodegen (13)</td><td>1.0</td><td>565</td><td>79</td><td>true</td><td>31</td><td>Filter:ColumnarToRow</td><td>80:81</td><td>true</td></tr><tr><td>app-20220209224316-0007</td><td>24</td><td>WholeStageCodegen (25)</td><td>WholeStageCodegen (25)</td><td>6.64</td><td>2262152</td><td>88</td><td>true</td><td>52</td><td>Sort</td><td>89</td><td>false</td></tr><tr><td>app-20220209224316-0007</td><td>24</td><td>ColumnarToRow</td><td>null</td><td>1.0</td><td>0</td><td>177</td><td>false</td><td>36</td><td>null</td><td>null</td><td>true</td></tr><tr><td>app-20220209224316-0007</td><td>24</td><td>WholeStageCodegen (30)</td><td>WholeStageCodegen (30)</td><td>6.64</td><td>10069460</td><td>126</td><td>true</td><td>41</td><td>Sort</td><td>127</td><td>false</td></tr><tr><td>app-20220209224316-0007</td><td>24</td><td>ColumnarToRow</td><td>null</td><td>1.0</td><td>0</td><td>48</td><td>false</td><td>32</td><td>null</td><td>null</td><td>true</td></tr><tr><td>app-20220209224316-0007</td><td>24</td><td>SortMergeJoin</td><td>null</td><td>22.33</td><td>0</td><td>28</td><td>true</td><td>39</td><td>null</td><td>null</td><td>false</td></tr><tr><td>app-20220209224316-0007</td><td>24</td><td>Exchange</td><td>null</td><td>4.9</td><td>68864</td><td>18</td><td>true</td><td>49:52</td><td>null</td><td>null</td><td>false</td></tr><tr><td>app-20220209224316-0007</td><td>9</td><td>Execute CreateViewCommand</td><td>null</td><td>1.0</td><td>0</td><td>0</td><td>false</td><td>null</td><td>null</td><td>null</td><td>false</td></tr><tr><td>app-20220209224316-0007</td><td>24</td><td>Sort</td><td>null</td><td>6.64</td><td>0</td><td>135</td><td>true</td><td>52</td><td>null</td><td>null</td><td>false</td></tr><tr><td>app-20220209224316-0007</td><td>24</td><td>ColumnarToRow</td><td>null</td><td>1.0</td><td>0</td><td>53</td><td>false</td><td>32</td><td>null</td><td>null</td><td>true</td></tr><tr><td>app-20220209224316-0007</td><td>24</td><td>Exchange</td><td>null</td><td>4.9</td><td>29878</td><td>38</td><td>true</td><td>38:39</td><td>null</td><td>null</td><td>false</td></tr><tr><td>app-20220209224316-0007</td><td>10</td><td>Execute CreateViewCommand</td><td>null</td><td>1.0</td><td>0</td><td>0</td><td>false</td><td>null</td><td>null</td><td>null</td><td>false</td></tr><tr><td>app-20220209224316-0007</td><td>24</td><td>Filter</td><td>null</td><td>4.51</td><td>0</td><td>130</td><td>true</td><td>40</td><td>null</td><td>null</td><td>false</td></tr><tr><td>app-20220209224316-0007</td><td>24</td><td>SortMergeJoin</td><td>null</td><td>22.33</td><td>0</td><td>66</td><td>true</td><td>35</td><td>null</td><td>null</td><td>false</td></tr><tr><td>app-20220209224316-0007</td><td>24</td><td>Project</td><td>null</td><td>3.0</td><td>0</td><td>120</td><td>true</td><td>null</td><td>null</td><td>null</td><td>false</td></tr><tr><td>app-20220209224316-0007</td><td>24</td><td>WholeStageCodegen (4)</td><td>WholeStageCodegen (4)</td><td>6.64</td><td>18251001</td><td>36</td><td>true</td><td>39</td><td>Sort</td><td>37</td><td>false</td></tr><tr><td>app-20220209224316-0007</td><td>24</td><td>Exchange</td><td>null</td><td>4.9</td><td>38489</td><td>31</td><td>true</td><td>37:41:34:45:39:35:43</td><td>null</td><td>null</td><td>false</td></tr><tr><td>app-20220209224316-0007</td><td>24</td><td>Scan parquet</td><td>null</td><td>3.0</td><td>118333</td><td>156</td><td>true</td><td>42</td><td>null</td><td>null</td><td>false</td></tr><tr><td>app-20220209224316-0007</td><td>18</td><td>Execute CreateViewCommand</td><td>null</td><td>1.0</td><td>0</td><td>0</td><td>false</td><td>null</td><td>null</td><td>null</td><td>false</td></tr><tr><td>app-20220209224316-0007</td><td>24</td><td>Sort</td><td>null</td><td>6.64</td><td>0</td><td>171</td><td>true</td><td>37</td><td>null</td><td>null</td><td>false</td></tr><tr><td>app-20220209224316-0007</td><td>24</td><td>Filter</td><td>null</td><td>4.51</td><td>0</td><td>154</td><td>true</td><td>42</td><td>null</td><td>null</td><td>false</td></tr><tr><td>app-20220209224316-0007</td><td>23</td><td>Execute CreateViewCommand</td><td>null</td><td>1.0</td><td>0</td><td>0</td><td>false</td><td>null</td><td>null</td><td>null</td><td>false</td></tr><tr><td>app-20220209224316-0007</td><td>24</td><td>Filter</td><td>null</td><td>4.51</td><td>0</td><td>80</td><td>true</td><td>31</td><td>null</td><td>null</td><td>true</td></tr><tr><td>app-20220209224316-0007</td><td>24</td><td>WholeStageCodegen (39)</td><td>WholeStageCodegen (39)</td><td>6.64</td><td>6477320</td><td>150</td><td>true</td><td>43</td><td>Sort</td><td>151</td><td>false</td></tr><tr><td>app-20220209224316-0007</td><td>24</td><td>Sort</td><td>null</td><td>6.64</td><td>0</td><td>56</td><td>true</td><td>52</td><td>null</td><td>null</td><td>false</td></tr><tr><td>app-20220209224316-0007</td><td>19</td><td>Execute CreateViewCommand</td><td>null</td><td>1.0</td><td>0</td><td>0</td><td>false</td><td>null</td><td>null</td><td>null</td><td>false</td></tr><tr><td>app-20220209224316-0007</td><td>24</td><td>Filter</td><td>null</td><td>4.51</td><td>0</td><td>73</td><td>true</td><td>33</td><td>null</td><td>null</td><td>false</td></tr><tr><td>app-20220209224316-0007</td><td>24</td><td>Project</td><td>null</td><td>3.0</td><td>0</td><td>9</td><td>true</td><td>null</td><td>null</td><td>null</td><td>false</td></tr><tr><td>app-20220209224316-0007</td><td>24</td><td>WholeStageCodegen (3)</td><td>WholeStageCodegen (3)</td><td>4.51</td><td>833296</td><td>39</td><td>true</td><td>38</td><td>Filter:ColumnarToRow</td><td>40:41</td><td>false</td></tr><tr><td>app-20220209224316-0007</td><td>24</td><td>Filter</td><td>null</td><td>4.51</td><td>0</td><td>85</td><td>true</td><td>31</td><td>null</td><td>null</td><td>false</td></tr><tr><td>app-20220209224316-0007</td><td>24</td><td>Project</td><td>null</td><td>3.0</td><td>0</td><td>92</td><td>true</td><td>null</td><td>null</td><td>null</td><td>false</td></tr><tr><td>app-20220209224316-0007</td><td>24</td><td>Sort</td><td>null</td><td>6.64</td><td>0</td><td>151</td><td>true</td><td>43</td><td>null</td><td>null</td><td>false</td></tr><tr><td>app-20220209224316-0007</td><td>24</td><td>WholeStageCodegen (38)</td><td>WholeStageCodegen (38)</td><td>4.51</td><td>289863</td><td>153</td><td>true</td><td>42</td><td>Filter:ColumnarToRow</td><td>154:155</td><td>false</td></tr><tr><td>app-20220209224316-0007</td><td>11</td><td>Execute CreateViewCommand</td><td>null</td><td>1.0</td><td>0</td><td>0</td><td>false</td><td>null</td><td>null</td><td>null</td><td>false</td></tr><tr><td>app-20220209224316-0007</td><td>24</td><td>SortMergeJoin</td><td>null</td><td>22.33</td><td>0</td><td>147</td><td>true</td><td>43</td><td>null</td><td>null</td><td>false</td></tr><tr><td>app-20220209224316-0007</td><td>13</td><td>Execute CreateViewCommand</td><td>null</td><td>1.0</td><td>0</td><td>0</td><td>false</td><td>null</td><td>null</td><td>null</td><td>false</td></tr><tr><td>app-20220209224316-0007</td><td>24</td><td>SortMergeJoin</td><td>null</td><td>22.33</td><td>0</td><td>7</td><td>true</td><td>52</td><td>null</td><td>null</td><td>false</td></tr></tbody></table></div>"
      ]
     },
     "metadata": {
      "application/vnd.databricks.v1+output": {
       "addedWidgets": {},
       "aggData": [],
       "aggError": "",
       "aggOverflow": false,
       "aggSchema": [],
       "aggSeriesLimitReached": false,
       "aggType": "",
       "arguments": {},
       "columnCustomDisplayInfos": {},
       "data": [
        [
         "app-20220209224316-0007",
         24,
         "SortMergeJoin",
         null,
         22.33,
         0,
         101,
         true,
         "45",
         null,
         null,
         false
        ],
        [
         "app-20220209224316-0007",
         24,
         "WholeStageCodegen (14)",
         "WholeStageCodegen (14)",
         7.49,
         18790937,
         61,
         true,
         "35",
         "HashAggregate:Project:BroadcastHashJoin:Project:SortMergeJoin",
         "62:63:64:65:66",
         false
        ],
        [
         "app-20220209224316-0007",
         24,
         "SubqueryBroadcast",
         null,
         3.0,
         976,
         43,
         true,
         null,
         null,
         null,
         false
        ],
        [
         "app-20220209224316-0007",
         24,
         "Exchange",
         null,
         4.9,
         12696,
         160,
         true,
         "50:52",
         null,
         null,
         false
        ],
        [
         "app-20220209224316-0007",
         24,
         "WholeStageCodegen (2)",
         "WholeStageCodegen (2)",
         6.64,
         17508276,
         29,
         true,
         "39",
         "Sort",
         "30",
         false
        ],
        [
         "app-20220209224316-0007",
         24,
         "HashAggregate",
         null,
         4.41,
         0,
         24,
         true,
         "39",
         null,
         null,
         false
        ],
        [
         "app-20220209224316-0007",
         24,
         "Sort",
         null,
         6.64,
         0,
         113,
         true,
         "52",
         null,
         null,
         false
        ],
        [
         "app-20220209224316-0007",
         24,
         "WholeStageCodegen (10)",
         "WholeStageCodegen (10)",
         6.64,
         18772156,
         67,
         true,
         "35",
         "Sort",
         "68",
         false
        ],
        [
         "app-20220209224316-0007",
         24,
         "ReusedExchange",
         null,
         1.0,
         0,
         77,
         true,
         null,
         null,
         null,
         true
        ],
        [
         "app-20220209224316-0007",
         24,
         "HashAggregate",
         null,
         4.41,
         0,
         165,
         true,
         "37",
         null,
         null,
         false
        ],
        [
         "app-20220209224316-0007",
         24,
         "WholeStageCodegen (12)",
         "WholeStageCodegen (12)",
         6.64,
         19313426,
         69,
         true,
         "35",
         "Sort",
         "70",
         false
        ],
        [
         "app-20220209224316-0007",
         24,
         "SortMergeJoin",
         null,
         22.33,
         0,
         169,
         true,
         "37",
         null,
         null,
         false
        ],
        [
         "app-20220209224316-0007",
         24,
         "WholeStageCodegen (15)",
         "WholeStageCodegen (15)",
         4.41,
         363596,
         58,
         true,
         "51",
         "HashAggregate",
         "59",
         false
        ],
        [
         "app-20220209224316-0007",
         24,
         "Sort",
         null,
         6.64,
         0,
         149,
         true,
         "43",
         null,
         null,
         false
        ],
        [
         "app-20220209224316-0007",
         24,
         "Scan parquet",
         null,
         3.0,
         301,
         54,
         true,
         "32",
         null,
         null,
         false
        ],
        [
         "app-20220209224316-0007",
         4,
         "Execute CreateViewCommand",
         null,
         1.0,
         0,
         0,
         false,
         null,
         null,
         null,
         false
        ],
        [
         "app-20220209224316-0007",
         24,
         "WholeStageCodegen (26)",
         "WholeStageCodegen (26)",
         12.67,
         1569321,
         11,
         true,
         "52",
         "Project:SortMergeJoin",
         "12:13",
         false
        ],
        [
         "app-20220209224316-0007",
         24,
         "Exchange",
         null,
         4.9,
         31434,
         106,
         true,
         "44:45",
         null,
         null,
         false
        ],
        [
         "app-20220209224316-0007",
         24,
         "WholeStageCodegen (21)",
         "WholeStageCodegen (21)",
         6.64,
         13059736,
         104,
         true,
         "45",
         "Sort",
         "105",
         false
        ],
        [
         "app-20220209224316-0007",
         24,
         "Project",
         null,
         3.0,
         0,
         6,
         true,
         null,
         null,
         null,
         false
        ],
        [
         "app-20220209224316-0007",
         24,
         "BroadcastExchange",
         null,
         3.0,
         1385,
         78,
         true,
         null,
         null,
         null,
         true
        ],
        [
         "app-20220209224316-0007",
         24,
         "SortMergeJoin",
         null,
         22.33,
         0,
         123,
         true,
         "41",
         null,
         null,
         false
        ],
        [
         "app-20220209224316-0007",
         24,
         "ColumnarToRow",
         null,
         1.0,
         0,
         109,
         false,
         "44",
         null,
         null,
         true
        ],
        [
         "app-20220209224316-0007",
         24,
         "Scan parquet",
         null,
         3.0,
         545,
         82,
         true,
         "31",
         null,
         null,
         true
        ],
        [
         "app-20220209224316-0007",
         24,
         "Exchange",
         null,
         4.9,
         32062,
         174,
         true,
         "36:37",
         null,
         null,
         false
        ],
        [
         "app-20220209224316-0007",
         24,
         "WholeStageCodegen (42)",
         "WholeStageCodegen (42)",
         3.97,
         322554,
         137,
         true,
         "47",
         "Project:Filter:HashAggregate",
         "138:139:140",
         false
        ],
        [
         "app-20220209224316-0007",
         24,
         "WholeStageCodegen (23)",
         "WholeStageCodegen (23)",
         7.49,
         12134149,
         96,
         true,
         "45",
         "HashAggregate:Project:BroadcastHashJoin:Project:SortMergeJoin",
         "97:98:99:100:101",
         false
        ],
        [
         "app-20220209224316-0007",
         20,
         "Execute CreateViewCommand",
         null,
         1.0,
         0,
         0,
         false,
         null,
         null,
         null,
         false
        ],
        [
         "app-20220209224316-0007",
         24,
         "WholeStageCodegen (24)",
         "WholeStageCodegen (24)",
         3.97,
         490690,
         91,
         true,
         "46",
         "Project:Filter:HashAggregate",
         "92:93:94",
         false
        ],
        [
         "app-20220209224316-0007",
         24,
         "WholeStageCodegen (35)",
         "WholeStageCodegen (35)",
         12.67,
         1637837,
         8,
         true,
         "52",
         "Project:SortMergeJoin",
         "9:10",
         false
        ],
        [
         "app-20220209224316-0007",
         17,
         "Execute CreateViewCommand",
         null,
         1.0,
         0,
         0,
         false,
         null,
         null,
         null,
         false
        ],
        [
         "app-20220209224316-0007",
         24,
         "BroadcastExchange",
         null,
         3.0,
         947,
         50,
         true,
         null,
         null,
         null,
         false
        ],
        [
         "app-20220209224316-0007",
         24,
         "Project",
         null,
         3.0,
         0,
         144,
         true,
         null,
         null,
         null,
         false
        ],
        [
         "app-20220209224316-0007",
         24,
         "SubqueryBroadcast",
         null,
         3.0,
         976,
         111,
         true,
         null,
         null,
         null,
         false
        ],
        [
         "app-20220209224316-0007",
         24,
         "Sort",
         null,
         6.64,
         0,
         127,
         true,
         "41",
         null,
         null,
         false
        ],
        [
         "app-20220209224316-0007",
         24,
         "WholeStageCodegen (52)",
         "WholeStageCodegen (52)",
         6.64,
         836330,
         158,
         true,
         "52",
         "Sort",
         "159",
         false
        ],
        [
         "app-20220209224316-0007",
         24,
         "BroadcastHashJoin",
         null,
         4.72,
         0,
         121,
         true,
         "41",
         null,
         null,
         false
        ],
        [
         "app-20220209224316-0007",
         24,
         "Project",
         null,
         3.0,
         0,
         146,
         true,
         null,
         null,
         null,
         false
        ],
        [
         "app-20220209224316-0007",
         24,
         "TakeOrderedAndProject",
         null,
         3.0,
         0,
         1,
         true,
         "52:53",
         null,
         null,
         false
        ],
        [
         "app-20220209224316-0007",
         24,
         "Sort",
         null,
         6.64,
         0,
         125,
         true,
         "41",
         null,
         null,
         false
        ],
        [
         "app-20220209224316-0007",
         24,
         "SubqueryBroadcast",
         null,
         3.0,
         976,
         157,
         true,
         null,
         null,
         null,
         false
        ],
        [
         "app-20220209224316-0007",
         24,
         "WholeStageCodegen (7)",
         "WholeStageCodegen (7)",
         4.46,
         352448,
         19,
         true,
         "49",
         "Filter:HashAggregate",
         "20:21",
         false
        ],
        [
         "app-20220209224316-0007",
         24,
         "Scan parquet",
         null,
         3.0,
         193671,
         178,
         true,
         "36",
         null,
         null,
         false
        ],
        [
         "app-20220209224316-0007",
         24,
         "ColumnarToRow",
         null,
         1.0,
         0,
         86,
         false,
         "31",
         null,
         null,
         true
        ],
        [
         "app-20220209224316-0007",
         21,
         "Execute CreateViewCommand",
         null,
         1.0,
         0,
         0,
         false,
         null,
         null,
         null,
         false
        ],
        [
         "app-20220209224316-0007",
         1,
         "Execute CreateViewCommand",
         null,
         1.0,
         0,
         0,
         false,
         null,
         null,
         null,
         false
        ],
        [
         "app-20220209224316-0007",
         24,
         "Filter",
         null,
         4.51,
         0,
         52,
         true,
         "32",
         null,
         null,
         false
        ],
        [
         "app-20220209224316-0007",
         24,
         "WholeStageCodegen (5)",
         "WholeStageCodegen (5)",
         4.51,
         320,
         51,
         true,
         "32",
         "Filter:ColumnarToRow",
         "52:53",
         false
        ],
        [
         "app-20220209224316-0007",
         24,
         "WholeStageCodegen (53)",
         "WholeStageCodegen (53)",
         12.67,
         2091634,
         2,
         true,
         "52",
         "Project:SortMergeJoin",
         "3:4",
         false
        ],
        [
         "app-20220209224316-0007",
         24,
         "Sort",
         null,
         6.64,
         0,
         89,
         true,
         "52",
         null,
         null,
         false
        ],
        [
         "app-20220209224316-0007",
         24,
         "Scan parquet",
         null,
         3.0,
         389222,
         75,
         true,
         "33",
         null,
         null,
         false
        ],
        [
         "app-20220209224316-0007",
         24,
         "BroadcastHashJoin",
         null,
         4.72,
         0,
         167,
         true,
         "37",
         null,
         null,
         false
        ],
        [
         "app-20220209224316-0007",
         24,
         "BroadcastExchange",
         null,
         3.0,
         1385,
         83,
         true,
         null,
         null,
         null,
         false
        ],
        [
         "app-20220209224316-0007",
         24,
         "BroadcastHashJoin",
         null,
         4.72,
         0,
         99,
         true,
         "45",
         null,
         null,
         false
        ],
        [
         "app-20220209224316-0007",
         24,
         "WholeStageCodegen (19)",
         "WholeStageCodegen (19)",
         6.64,
         11861853,
         102,
         true,
         "45",
         "Sort",
         "103",
         false
        ],
        [
         "app-20220209224316-0007",
         24,
         "Sort",
         null,
         6.64,
         0,
         105,
         true,
         "45",
         null,
         null,
         false
        ],
        [
         "app-20220209224316-0007",
         24,
         "Exchange",
         null,
         4.9,
         156049,
         117,
         true,
         "41:48",
         null,
         null,
         false
        ],
        [
         "app-20220209224316-0007",
         24,
         "Project",
         null,
         3.0,
         0,
         168,
         true,
         null,
         null,
         null,
         false
        ],
        [
         "app-20220209224316-0007",
         24,
         "Exchange",
         null,
         4.9,
         209240,
         60,
         true,
         "35:51",
         null,
         null,
         false
        ],
        [
         "app-20220209224316-0007",
         24,
         "SubqueryBroadcast",
         null,
         3.0,
         1388,
         179,
         true,
         null,
         null,
         null,
         false
        ],
        [
         "app-20220209224316-0007",
         24,
         "Project",
         null,
         3.0,
         0,
         138,
         true,
         null,
         null,
         null,
         false
        ],
        [
         "app-20220209224316-0007",
         24,
         "Scan parquet",
         null,
         3.0,
         545,
         87,
         true,
         "31",
         null,
         null,
         false
        ],
        [
         "app-20220209224316-0007",
         24,
         "Sort",
         null,
         6.64,
         0,
         68,
         true,
         "35",
         null,
         null,
         false
        ],
        [
         "app-20220209224316-0007",
         24,
         "HashAggregate",
         null,
         4.41,
         0,
         21,
         true,
         "49",
         null,
         null,
         false
        ],
        [
         "app-20220209224316-0007",
         24,
         "Exchange",
         null,
         4.9,
         8460,
         136,
         true,
         "47:52",
         null,
         null,
         false
        ],
        [
         "app-20220209224316-0007",
         24,
         "WholeStageCodegen (51)",
         "WholeStageCodegen (51)",
         4.41,
         314233,
         161,
         true,
         "50",
         "HashAggregate",
         "162",
         false
        ],
        [
         "app-20220209224316-0007",
         24,
         "Project",
         null,
         3.0,
         0,
         166,
         true,
         null,
         null,
         null,
         false
        ],
        [
         "app-20220209224316-0007",
         24,
         "ColumnarToRow",
         null,
         1.0,
         0,
         131,
         false,
         "40",
         null,
         null,
         true
        ],
        [
         "app-20220209224316-0007",
         3,
         "Execute CreateViewCommand",
         null,
         1.0,
         0,
         0,
         false,
         null,
         null,
         null,
         false
        ],
        [
         "app-20220209224316-0007",
         24,
         "ColumnarToRow",
         null,
         1.0,
         0,
         34,
         false,
         "34",
         null,
         null,
         true
        ],
        [
         "app-20220209224316-0007",
         24,
         "Filter",
         null,
         4.51,
         0,
         20,
         true,
         "49",
         null,
         null,
         false
        ],
        [
         "app-20220209224316-0007",
         8,
         "Execute CreateViewCommand",
         null,
         1.0,
         0,
         0,
         false,
         null,
         null,
         null,
         false
        ],
        [
         "app-20220209224316-0007",
         24,
         "WholeStageCodegen (11)",
         "WholeStageCodegen (11)",
         4.51,
         1353077,
         72,
         true,
         "33",
         "Filter:ColumnarToRow",
         "73:74",
         false
        ],
        [
         "app-20220209224316-0007",
         24,
         "ReusedExchange",
         null,
         1.0,
         0,
         44,
         true,
         null,
         null,
         null,
         true
        ],
        [
         "app-20220209224316-0007",
         24,
         "Execute InsertIntoHadoopFsRelationCommand parquet",
         null,
         3.0,
         0,
         0,
         true,
         null,
         null,
         null,
         false
        ],
        [
         "app-20220209224316-0007",
         24,
         "ColumnarToRow",
         null,
         1.0,
         0,
         41,
         false,
         "38",
         null,
         null,
         true
        ],
        [
         "app-20220209224316-0007",
         24,
         "HashAggregate",
         null,
         4.41,
         0,
         143,
         true,
         "43",
         null,
         null,
         false
        ],
        [
         "app-20220209224316-0007",
         24,
         "Exchange",
         null,
         4.9,
         61235,
         57,
         true,
         "51:52",
         null,
         null,
         false
        ],
        [
         "app-20220209224316-0007",
         24,
         "SortMergeJoin",
         null,
         22.33,
         0,
         13,
         true,
         "52",
         null,
         null,
         false
        ],
        [
         "app-20220209224316-0007",
         24,
         "Filter",
         null,
         4.51,
         0,
         108,
         true,
         "44",
         null,
         null,
         false
        ],
        [
         "app-20220209224316-0007",
         12,
         "Execute CreateViewCommand",
         null,
         1.0,
         0,
         0,
         false,
         null,
         null,
         null,
         false
        ],
        [
         "app-20220209224316-0007",
         24,
         "WholeStageCodegen (33)",
         "WholeStageCodegen (33)",
         4.41,
         311678,
         115,
         true,
         "48",
         "HashAggregate",
         "116",
         false
        ],
        [
         "app-20220209224316-0007",
         24,
         "ColumnarToRow",
         null,
         1.0,
         0,
         81,
         false,
         "31",
         null,
         null,
         true
        ],
        [
         "app-20220209224316-0007",
         24,
         "WholeStageCodegen (32)",
         "WholeStageCodegen (32)",
         7.49,
         9334072,
         118,
         true,
         "41",
         "HashAggregate:Project:BroadcastHashJoin:Project:SortMergeJoin",
         "119:120:121:122:123",
         false
        ],
        [
         "app-20220209224316-0007",
         24,
         "WholeStageCodegen (20)",
         "WholeStageCodegen (20)",
         4.51,
         1602599,
         107,
         true,
         "44",
         "Filter:ColumnarToRow",
         "108:109",
         false
        ],
        [
         "app-20220209224316-0007",
         24,
         "Scan parquet",
         null,
         3.0,
         271493,
         42,
         true,
         "38",
         null,
         null,
         false
        ],
        [
         "app-20220209224316-0007",
         24,
         "Sort",
         null,
         6.64,
         0,
         70,
         true,
         "35",
         null,
         null,
         false
        ],
        [
         "app-20220209224316-0007",
         24,
         "HashAggregate",
         null,
         4.41,
         0,
         119,
         true,
         "41",
         null,
         null,
         false
        ],
        [
         "app-20220209224316-0007",
         24,
         "WholeStageCodegen (44)",
         "WholeStageCodegen (44)",
         12.67,
         1930487,
         5,
         true,
         "52",
         "Project:SortMergeJoin",
         "6:7",
         false
        ],
        [
         "app-20220209224316-0007",
         24,
         "Exchange",
         null,
         4.9,
         15288,
         114,
         true,
         "48:52",
         null,
         null,
         false
        ],
        [
         "app-20220209224316-0007",
         24,
         "WholeStageCodegen (47)",
         "WholeStageCodegen (47)",
         4.51,
         531329,
         175,
         true,
         "36",
         "Filter:ColumnarToRow",
         "176:177",
         false
        ],
        [
         "app-20220209224316-0007",
         24,
         "WholeStageCodegen (8)",
         "WholeStageCodegen (8)",
         6.64,
         1494431,
         16,
         true,
         "52",
         "Sort",
         "17",
         false
        ],
        [
         "app-20220209224316-0007",
         24,
         "HashAggregate",
         null,
         4.41,
         0,
         59,
         true,
         "51",
         null,
         null,
         false
        ],
        [
         "app-20220209224316-0007",
         24,
         "Project",
         null,
         3.0,
         0,
         98,
         true,
         null,
         null,
         null,
         false
        ],
        [
         "app-20220209224316-0007",
         22,
         "Execute CreateViewCommand",
         null,
         1.0,
         0,
         0,
         false,
         null,
         null,
         null,
         false
        ],
        [
         "app-20220209224316-0007",
         24,
         "Exchange",
         null,
         4.9,
         35176,
         90,
         true,
         "46:52",
         null,
         null,
         false
        ],
        [
         "app-20220209224316-0007",
         24,
         "WholeStageCodegen (43)",
         "WholeStageCodegen (43)",
         6.64,
         1250915,
         134,
         true,
         "52",
         "Sort",
         "135",
         false
        ],
        [
         "app-20220209224316-0007",
         24,
         "Filter",
         null,
         4.51,
         0,
         176,
         true,
         "36",
         null,
         null,
         false
        ],
        [
         "app-20220209224316-0007",
         24,
         "HashAggregate",
         null,
         4.41,
         0,
         140,
         true,
         "47",
         null,
         null,
         false
        ],
        [
         "app-20220209224316-0007",
         24,
         "Exchange",
         null,
         4.9,
         212516,
         71,
         true,
         "33:35",
         null,
         null,
         false
        ],
        [
         "app-20220209224316-0007",
         24,
         "Exchange",
         null,
         4.9,
         20686,
         128,
         true,
         "40:41",
         null,
         null,
         false
        ],
        [
         "app-20220209224316-0007",
         24,
         "Scan parquet",
         null,
         3.0,
         832627,
         110,
         true,
         "44",
         null,
         null,
         false
        ],
        [
         "app-20220209224316-0007",
         24,
         "Sort",
         null,
         6.64,
         0,
         30,
         true,
         "39",
         null,
         null,
         false
        ],
        [
         "app-20220209224316-0007",
         24,
         "WholeStageCodegen (1)",
         "WholeStageCodegen (1)",
         4.51,
         155644,
         32,
         true,
         "34",
         "Filter:ColumnarToRow",
         "33:34",
         false
        ],
        [
         "app-20220209224316-0007",
         24,
         "BroadcastHashJoin",
         null,
         4.72,
         0,
         26,
         true,
         "39",
         null,
         null,
         false
        ],
        [
         "app-20220209224316-0007",
         24,
         "Scan parquet",
         null,
         3.0,
         102650,
         35,
         true,
         "34",
         null,
         null,
         false
        ],
        [
         "app-20220209224316-0007",
         24,
         "Exchange",
         null,
         4.9,
         162543,
         163,
         true,
         "37:50",
         null,
         null,
         false
        ],
        [
         "app-20220209224316-0007",
         24,
         "WholeStageCodegen (29)",
         "WholeStageCodegen (29)",
         4.51,
         530409,
         129,
         true,
         "40",
         "Filter:ColumnarToRow",
         "130:131",
         false
        ],
        [
         "app-20220209224316-0007",
         24,
         "Sort",
         null,
         6.64,
         0,
         159,
         true,
         "52",
         null,
         null,
         false
        ],
        [
         "app-20220209224316-0007",
         6,
         "Execute CreateViewCommand",
         null,
         1.0,
         0,
         0,
         false,
         null,
         null,
         null,
         false
        ],
        [
         "app-20220209224316-0007",
         24,
         "Filter",
         null,
         4.51,
         0,
         93,
         true,
         "46",
         null,
         null,
         false
        ],
        [
         "app-20220209224316-0007",
         24,
         "SortMergeJoin",
         null,
         22.33,
         0,
         15,
         true,
         "52",
         null,
         null,
         false
        ],
        [
         "app-20220209224316-0007",
         24,
         "Project",
         null,
         3.0,
         0,
         63,
         true,
         null,
         null,
         null,
         false
        ],
        [
         "app-20220209224316-0007",
         24,
         "WholeStageCodegen (16)",
         "WholeStageCodegen (16)",
         6.64,
         2197268,
         55,
         true,
         "52",
         "Sort",
         "56",
         false
        ],
        [
         "app-20220209224316-0007",
         24,
         "Scan parquet",
         null,
         3.0,
         301,
         49,
         true,
         "32",
         null,
         null,
         true
        ],
        [
         "app-20220209224316-0007",
         24,
         "WholeStageCodegen (50)",
         "WholeStageCodegen (50)",
         7.49,
         4913238,
         164,
         true,
         "37",
         "HashAggregate:Project:BroadcastHashJoin:Project:SortMergeJoin",
         "165:166:167:168:169",
         false
        ],
        [
         "app-20220209224316-0007",
         24,
         "WholeStageCodegen (13)",
         "WholeStageCodegen (13)",
         4.51,
         565,
         84,
         true,
         "31",
         "Filter:ColumnarToRow",
         "85:86",
         false
        ],
        [
         "app-20220209224316-0007",
         24,
         "Project",
         null,
         3.0,
         0,
         12,
         true,
         null,
         null,
         null,
         false
        ],
        [
         "app-20220209224316-0007",
         24,
         "WholeStageCodegen (28)",
         "WholeStageCodegen (28)",
         6.64,
         8723134,
         124,
         true,
         "41",
         "Sort",
         "125",
         false
        ],
        [
         "app-20220209224316-0007",
         0,
         "Execute CreateViewCommand",
         null,
         1.0,
         0,
         0,
         false,
         null,
         null,
         null,
         false
        ],
        [
         "app-20220209224316-0007",
         24,
         "HashAggregate",
         null,
         4.41,
         0,
         62,
         true,
         "35",
         null,
         null,
         false
        ],
        [
         "app-20220209224316-0007",
         24,
         "Exchange",
         null,
         4.9,
         200753,
         141,
         true,
         "43:47",
         null,
         null,
         false
        ],
        [
         "app-20220209224316-0007",
         24,
         "Filter",
         null,
         4.51,
         0,
         40,
         true,
         "38",
         null,
         null,
         false
        ],
        [
         "app-20220209224316-0007",
         24,
         "HashAggregate",
         null,
         4.41,
         0,
         116,
         true,
         "48",
         null,
         null,
         false
        ],
        [
         "app-20220209224316-0007",
         24,
         "BroadcastHashJoin",
         null,
         4.72,
         0,
         64,
         true,
         "35",
         null,
         null,
         false
        ],
        [
         "app-20220209224316-0007",
         24,
         "SortMergeJoin",
         null,
         22.33,
         0,
         4,
         true,
         "52",
         null,
         null,
         false
        ],
        [
         "app-20220209224316-0007",
         24,
         "Exchange",
         null,
         4.9,
         209353,
         95,
         true,
         "45:46",
         null,
         null,
         false
        ],
        [
         "app-20220209224316-0007",
         24,
         "SubqueryBroadcast",
         null,
         3.0,
         1388,
         76,
         true,
         null,
         null,
         null,
         false
        ],
        [
         "app-20220209224316-0007",
         24,
         "WholeStageCodegen (17)",
         "WholeStageCodegen (17)",
         22.33,
         1446800,
         14,
         true,
         "52",
         "SortMergeJoin",
         "15",
         false
        ],
        [
         "app-20220209224316-0007",
         24,
         "Exchange",
         null,
         4.9,
         146085,
         22,
         true,
         "39:49",
         null,
         null,
         false
        ],
        [
         "app-20220209224316-0007",
         24,
         "HashAggregate",
         null,
         4.41,
         0,
         94,
         true,
         "46",
         null,
         null,
         false
        ],
        [
         "app-20220209224316-0007",
         24,
         "Sort",
         null,
         6.64,
         0,
         173,
         true,
         "37",
         null,
         null,
         false
        ],
        [
         "app-20220209224316-0007",
         24,
         "Project",
         null,
         3.0,
         0,
         25,
         true,
         null,
         null,
         null,
         false
        ],
        [
         "app-20220209224316-0007",
         24,
         "Project",
         null,
         3.0,
         0,
         3,
         true,
         null,
         null,
         null,
         false
        ],
        [
         "app-20220209224316-0007",
         24,
         "HashAggregate",
         null,
         4.41,
         0,
         162,
         true,
         "50",
         null,
         null,
         false
        ],
        [
         "app-20220209224316-0007",
         24,
         "Project",
         null,
         3.0,
         0,
         122,
         true,
         null,
         null,
         null,
         false
        ],
        [
         "app-20220209224316-0007",
         24,
         "ColumnarToRow",
         null,
         1.0,
         0,
         155,
         false,
         "42",
         null,
         null,
         true
        ],
        [
         "app-20220209224316-0007",
         24,
         "Scan parquet",
         null,
         3.0,
         216336,
         132,
         true,
         "40",
         null,
         null,
         false
        ],
        [
         "app-20220209224316-0007",
         24,
         "Project",
         null,
         3.0,
         0,
         65,
         true,
         null,
         null,
         null,
         false
        ],
        [
         "app-20220209224316-0007",
         24,
         "WholeStageCodegen (46)",
         "WholeStageCodegen (46)",
         6.64,
         3372368,
         170,
         true,
         "37",
         "Sort",
         "171",
         false
        ],
        [
         "app-20220209224316-0007",
         24,
         "Project",
         null,
         3.0,
         0,
         100,
         true,
         null,
         null,
         null,
         false
        ],
        [
         "app-20220209224316-0007",
         24,
         "SubqueryBroadcast",
         null,
         3.0,
         1388,
         133,
         true,
         null,
         null,
         null,
         false
        ],
        [
         "app-20220209224316-0007",
         15,
         "Execute CreateViewCommand",
         null,
         1.0,
         0,
         0,
         false,
         null,
         null,
         null,
         false
        ],
        [
         "app-20220209224316-0007",
         24,
         "WholeStageCodegen (6)",
         "WholeStageCodegen (6)",
         7.49,
         17778089,
         23,
         true,
         "39",
         "HashAggregate:Project:BroadcastHashJoin:Project:SortMergeJoin",
         "24:25:26:27:28",
         false
        ],
        [
         "app-20220209224316-0007",
         24,
         "Filter",
         null,
         4.51,
         0,
         33,
         true,
         "34",
         null,
         null,
         false
        ],
        [
         "app-20220209224316-0007",
         14,
         "Execute CreateViewCommand",
         null,
         1.0,
         0,
         0,
         false,
         null,
         null,
         null,
         false
        ],
        [
         "app-20220209224316-0007",
         24,
         "Sort",
         null,
         6.64,
         0,
         37,
         true,
         "39",
         null,
         null,
         false
        ],
        [
         "app-20220209224316-0007",
         16,
         "Execute CreateViewCommand",
         null,
         1.0,
         0,
         0,
         false,
         null,
         null,
         null,
         false
        ],
        [
         "app-20220209224316-0007",
         24,
         "Filter",
         null,
         4.51,
         0,
         47,
         true,
         "32",
         null,
         null,
         true
        ],
        [
         "app-20220209224316-0007",
         24,
         "BroadcastExchange",
         null,
         3.0,
         947,
         45,
         true,
         null,
         null,
         null,
         true
        ],
        [
         "app-20220209224316-0007",
         24,
         "ColumnarToRow",
         null,
         1.0,
         0,
         74,
         false,
         "33",
         null,
         null,
         true
        ],
        [
         "app-20220209224316-0007",
         24,
         "HashAggregate",
         null,
         4.41,
         0,
         97,
         true,
         "45",
         null,
         null,
         false
        ],
        [
         "app-20220209224316-0007",
         24,
         "Exchange",
         null,
         4.9,
         23981,
         152,
         true,
         "42:43",
         null,
         null,
         false
        ],
        [
         "app-20220209224316-0007",
         24,
         "Filter",
         null,
         4.51,
         0,
         139,
         true,
         "47",
         null,
         null,
         false
        ],
        [
         "app-20220209224316-0007",
         5,
         "Execute CreateViewCommand",
         null,
         1.0,
         0,
         0,
         false,
         null,
         null,
         null,
         false
        ],
        [
         "app-20220209224316-0007",
         24,
         "Sort",
         null,
         6.64,
         0,
         17,
         true,
         "52",
         null,
         null,
         false
        ],
        [
         "app-20220209224316-0007",
         24,
         "WholeStageCodegen (41)",
         "WholeStageCodegen (41)",
         7.49,
         4639507,
         142,
         true,
         "43",
         "HashAggregate:Project:BroadcastHashJoin:Project:SortMergeJoin",
         "143:144:145:146:147",
         false
        ],
        [
         "app-20220209224316-0007",
         24,
         "WholeStageCodegen (48)",
         "WholeStageCodegen (48)",
         6.64,
         6648471,
         172,
         true,
         "37",
         "Sort",
         "173",
         false
        ],
        [
         "app-20220209224316-0007",
         24,
         "WholeStageCodegen (37)",
         "WholeStageCodegen (37)",
         6.64,
         2909792,
         148,
         true,
         "43",
         "Sort",
         "149",
         false
        ],
        [
         "app-20220209224316-0007",
         24,
         "Sort",
         null,
         6.64,
         0,
         103,
         true,
         "45",
         null,
         null,
         false
        ],
        [
         "app-20220209224316-0007",
         24,
         "BroadcastHashJoin",
         null,
         4.72,
         0,
         145,
         true,
         "43",
         null,
         null,
         false
        ],
        [
         "app-20220209224316-0007",
         24,
         "Project",
         null,
         3.0,
         0,
         27,
         true,
         null,
         null,
         null,
         false
        ],
        [
         "app-20220209224316-0007",
         24,
         "SortMergeJoin",
         null,
         22.33,
         0,
         10,
         true,
         "52",
         null,
         null,
         false
        ],
        [
         "app-20220209224316-0007",
         24,
         "WholeStageCodegen (34)",
         "WholeStageCodegen (34)",
         6.64,
         1990423,
         112,
         true,
         "52",
         "Sort",
         "113",
         false
        ],
        [
         "app-20220209224316-0007",
         2,
         "Execute CreateViewCommand",
         null,
         1.0,
         0,
         0,
         false,
         null,
         null,
         null,
         false
        ],
        [
         "app-20220209224316-0007",
         7,
         "Execute CreateViewCommand",
         null,
         1.0,
         0,
         0,
         false,
         null,
         null,
         null,
         false
        ],
        [
         "app-20220209224316-0007",
         24,
         "WholeStageCodegen (5)",
         "WholeStageCodegen (5)",
         1.0,
         320,
         46,
         true,
         "32",
         "Filter:ColumnarToRow",
         "47:48",
         true
        ],
        [
         "app-20220209224316-0007",
         24,
         "WholeStageCodegen (13)",
         "WholeStageCodegen (13)",
         1.0,
         565,
         79,
         true,
         "31",
         "Filter:ColumnarToRow",
         "80:81",
         true
        ],
        [
         "app-20220209224316-0007",
         24,
         "WholeStageCodegen (25)",
         "WholeStageCodegen (25)",
         6.64,
         2262152,
         88,
         true,
         "52",
         "Sort",
         "89",
         false
        ],
        [
         "app-20220209224316-0007",
         24,
         "ColumnarToRow",
         null,
         1.0,
         0,
         177,
         false,
         "36",
         null,
         null,
         true
        ],
        [
         "app-20220209224316-0007",
         24,
         "WholeStageCodegen (30)",
         "WholeStageCodegen (30)",
         6.64,
         10069460,
         126,
         true,
         "41",
         "Sort",
         "127",
         false
        ],
        [
         "app-20220209224316-0007",
         24,
         "ColumnarToRow",
         null,
         1.0,
         0,
         48,
         false,
         "32",
         null,
         null,
         true
        ],
        [
         "app-20220209224316-0007",
         24,
         "SortMergeJoin",
         null,
         22.33,
         0,
         28,
         true,
         "39",
         null,
         null,
         false
        ],
        [
         "app-20220209224316-0007",
         24,
         "Exchange",
         null,
         4.9,
         68864,
         18,
         true,
         "49:52",
         null,
         null,
         false
        ],
        [
         "app-20220209224316-0007",
         9,
         "Execute CreateViewCommand",
         null,
         1.0,
         0,
         0,
         false,
         null,
         null,
         null,
         false
        ],
        [
         "app-20220209224316-0007",
         24,
         "Sort",
         null,
         6.64,
         0,
         135,
         true,
         "52",
         null,
         null,
         false
        ],
        [
         "app-20220209224316-0007",
         24,
         "ColumnarToRow",
         null,
         1.0,
         0,
         53,
         false,
         "32",
         null,
         null,
         true
        ],
        [
         "app-20220209224316-0007",
         24,
         "Exchange",
         null,
         4.9,
         29878,
         38,
         true,
         "38:39",
         null,
         null,
         false
        ],
        [
         "app-20220209224316-0007",
         10,
         "Execute CreateViewCommand",
         null,
         1.0,
         0,
         0,
         false,
         null,
         null,
         null,
         false
        ],
        [
         "app-20220209224316-0007",
         24,
         "Filter",
         null,
         4.51,
         0,
         130,
         true,
         "40",
         null,
         null,
         false
        ],
        [
         "app-20220209224316-0007",
         24,
         "SortMergeJoin",
         null,
         22.33,
         0,
         66,
         true,
         "35",
         null,
         null,
         false
        ],
        [
         "app-20220209224316-0007",
         24,
         "Project",
         null,
         3.0,
         0,
         120,
         true,
         null,
         null,
         null,
         false
        ],
        [
         "app-20220209224316-0007",
         24,
         "WholeStageCodegen (4)",
         "WholeStageCodegen (4)",
         6.64,
         18251001,
         36,
         true,
         "39",
         "Sort",
         "37",
         false
        ],
        [
         "app-20220209224316-0007",
         24,
         "Exchange",
         null,
         4.9,
         38489,
         31,
         true,
         "37:41:34:45:39:35:43",
         null,
         null,
         false
        ],
        [
         "app-20220209224316-0007",
         24,
         "Scan parquet",
         null,
         3.0,
         118333,
         156,
         true,
         "42",
         null,
         null,
         false
        ],
        [
         "app-20220209224316-0007",
         18,
         "Execute CreateViewCommand",
         null,
         1.0,
         0,
         0,
         false,
         null,
         null,
         null,
         false
        ],
        [
         "app-20220209224316-0007",
         24,
         "Sort",
         null,
         6.64,
         0,
         171,
         true,
         "37",
         null,
         null,
         false
        ],
        [
         "app-20220209224316-0007",
         24,
         "Filter",
         null,
         4.51,
         0,
         154,
         true,
         "42",
         null,
         null,
         false
        ],
        [
         "app-20220209224316-0007",
         23,
         "Execute CreateViewCommand",
         null,
         1.0,
         0,
         0,
         false,
         null,
         null,
         null,
         false
        ],
        [
         "app-20220209224316-0007",
         24,
         "Filter",
         null,
         4.51,
         0,
         80,
         true,
         "31",
         null,
         null,
         true
        ],
        [
         "app-20220209224316-0007",
         24,
         "WholeStageCodegen (39)",
         "WholeStageCodegen (39)",
         6.64,
         6477320,
         150,
         true,
         "43",
         "Sort",
         "151",
         false
        ],
        [
         "app-20220209224316-0007",
         24,
         "Sort",
         null,
         6.64,
         0,
         56,
         true,
         "52",
         null,
         null,
         false
        ],
        [
         "app-20220209224316-0007",
         19,
         "Execute CreateViewCommand",
         null,
         1.0,
         0,
         0,
         false,
         null,
         null,
         null,
         false
        ],
        [
         "app-20220209224316-0007",
         24,
         "Filter",
         null,
         4.51,
         0,
         73,
         true,
         "33",
         null,
         null,
         false
        ],
        [
         "app-20220209224316-0007",
         24,
         "Project",
         null,
         3.0,
         0,
         9,
         true,
         null,
         null,
         null,
         false
        ],
        [
         "app-20220209224316-0007",
         24,
         "WholeStageCodegen (3)",
         "WholeStageCodegen (3)",
         4.51,
         833296,
         39,
         true,
         "38",
         "Filter:ColumnarToRow",
         "40:41",
         false
        ],
        [
         "app-20220209224316-0007",
         24,
         "Filter",
         null,
         4.51,
         0,
         85,
         true,
         "31",
         null,
         null,
         false
        ],
        [
         "app-20220209224316-0007",
         24,
         "Project",
         null,
         3.0,
         0,
         92,
         true,
         null,
         null,
         null,
         false
        ],
        [
         "app-20220209224316-0007",
         24,
         "Sort",
         null,
         6.64,
         0,
         151,
         true,
         "43",
         null,
         null,
         false
        ],
        [
         "app-20220209224316-0007",
         24,
         "WholeStageCodegen (38)",
         "WholeStageCodegen (38)",
         4.51,
         289863,
         153,
         true,
         "42",
         "Filter:ColumnarToRow",
         "154:155",
         false
        ],
        [
         "app-20220209224316-0007",
         11,
         "Execute CreateViewCommand",
         null,
         1.0,
         0,
         0,
         false,
         null,
         null,
         null,
         false
        ],
        [
         "app-20220209224316-0007",
         24,
         "SortMergeJoin",
         null,
         22.33,
         0,
         147,
         true,
         "43",
         null,
         null,
         false
        ],
        [
         "app-20220209224316-0007",
         13,
         "Execute CreateViewCommand",
         null,
         1.0,
         0,
         0,
         false,
         null,
         null,
         null,
         false
        ],
        [
         "app-20220209224316-0007",
         24,
         "SortMergeJoin",
         null,
         22.33,
         0,
         7,
         true,
         "52",
         null,
         null,
         false
        ]
       ],
       "datasetInfos": [],
       "dbfsResultPath": null,
       "isJsonSchema": true,
       "metadata": {},
       "overflow": false,
       "plotOptions": {
        "customPlotOptions": {},
        "displayType": "table",
        "pivotAggregation": null,
        "pivotColumns": null,
        "xColumns": null,
        "yColumns": null
       },
       "removedWidgets": [],
       "schema": [
        {
         "metadata": "{}",
         "name": "App ID",
         "type": "\"string\""
        },
        {
         "metadata": "{}",
         "name": "SQL ID",
         "type": "\"long\""
        },
        {
         "metadata": "{}",
         "name": "Exec Name",
         "type": "\"string\""
        },
        {
         "metadata": "{}",
         "name": "Expression Name",
         "type": "\"string\""
        },
        {
         "metadata": "{}",
         "name": "Task Speedup Factor",
         "type": "\"double\""
        },
        {
         "metadata": "{}",
         "name": "Exec Duration",
         "type": "\"long\""
        },
        {
         "metadata": "{}",
         "name": "SQL Node Id",
         "type": "\"long\""
        },
        {
         "metadata": "{}",
         "name": "Exec Is Supported",
         "type": "\"boolean\""
        },
        {
         "metadata": "{}",
         "name": "Exec Stages",
         "type": "\"string\""
        },
        {
         "metadata": "{}",
         "name": "Exec Children",
         "type": "\"string\""
        },
        {
         "metadata": "{}",
         "name": "Exec Children Node Ids",
         "type": "\"string\""
        },
        {
         "metadata": "{}",
         "name": "Exec Should Remove",
         "type": "\"boolean\""
        }
       ],
       "type": "table"
      }
     },
     "output_type": "display_data"
    }
   ],
   "source": [
    "execs_output=pd.read_csv(outputpath_string + \"/rapids_4_spark_qualification_output/rapids_4_spark_qualification_output_execs.csv\")\n",
    "display(execs_output)"
   ]
  }
 ],
 "metadata": {
  "application/vnd.databricks.v1+notebook": {
   "dashboards": [
    {
     "elements": [],
     "globalVars": {},
     "guid": "",
     "layoutOption": {
      "grid": true,
      "stack": true
     },
     "nuid": "91c1bfb2-695a-4e5c-8a25-848a433108dc",
     "origId": 556902937009666,
     "title": "Executive View",
     "version": "DashboardViewV1",
     "width": 1600
    },
    {
     "elements": [],
     "globalVars": {},
     "guid": "",
     "layoutOption": {
      "grid": true,
      "stack": true
     },
     "nuid": "62243296-4562-4f06-90ac-d7a609f19c16",
     "origId": 556902937009667,
     "title": "App View",
     "version": "DashboardViewV1",
     "width": 1920
    }
   ],
   "language": "python",
   "notebookMetadata": {
    "pythonIndentUnit": 2,
    "widgetLayout": [
     {
      "breakBefore": false,
      "name": "log_path",
      "width": 551
     },
     {
      "breakBefore": false,
      "name": "output_path",
      "width": 551
     }
    ]
   },
   "notebookName": "[RAPIDS Accelerator for Apache Spark] Qualification User Tool Notebook Template",
   "widgets": {
    "csp": {
     "currentValue": "aws",
     "nuid": "c75636ae-f875-4022-98b5-14dbe4ac9957",
     "widgetInfo": {
      "widgetType": "dropdown",
      "defaultValue": "aws",
      "label": null,
      "name": "csp",
      "options": {
       "widgetType": "dropdown",
       "choices": [
        "aws",
        "azure"
       ]
      }
     }
    },
    "log_path": {
     "currentValue": "/dbfs/mahrens/qualification_logs/app_20220209224316_0007",
     "nuid": "88986aa6-6e67-4d09-aeeb-7c96ea1ea8f1",
     "widgetInfo": {
      "widgetType": "text",
      "defaultValue": "",
      "label": null,
      "name": "log_path",
      "options": {
       "widgetType": "text",
       "validationRegex": null
      }
     }
    },
    "output_path": {
     "currentValue": "/tmp",
     "nuid": "0b9846bd-5c3e-4ae2-ba00-80bb9da1ee32",
     "widgetInfo": {
      "widgetType": "text",
      "defaultValue": "",
      "label": null,
      "name": "output_path",
      "options": {
       "widgetType": "text",
       "validationRegex": null
      }
     }
    }
   }
  },
  "language_info": {
   "name": "python"
  }
 },
 "nbformat": 4,
 "nbformat_minor": 0
}
