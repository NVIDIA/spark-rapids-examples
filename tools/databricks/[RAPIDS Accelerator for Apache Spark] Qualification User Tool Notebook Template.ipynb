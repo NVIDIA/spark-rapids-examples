{
 "cells": [
  {
   "cell_type": "markdown",
   "metadata": {
    "application/vnd.databricks.v1+cell": {
     "cellMetadata": {
      "byteLimit": 2048000,
      "rowLimit": 10000
     },
     "inputWidgets": {},
     "nuid": "df33c614-2ecc-47a0-8600-bc891681997f",
     "showTitle": false,
     "title": ""
    }
   },
   "source": [
    "# Welcome to the Qualification User Tool for the RAPIDS Accelerator for Apache Spark\n",
    "To run the user tool, you need to enter a log path that represents the DBFS location for your Spark CPU event logs.  Then you can select \"Run all\" to execute the notebook.  After the notebook completes, you will see various output tables show up below.  More options for running the qualification user tool can be found here: https://docs.nvidia.com/spark-rapids/user-guide/latest/spark-qualification-tool.html#running-the-qualification-tool-standalone-for-csp-environments-on-spark-event-logs.\n",
    "\n",
    "## Summary Output\n",
    "The report represents the entire app execution, including unsupported operators and non-SQL operations.  By default, the applications and queries are sorted in descending order by the following fields:\n",
    "- Recommendation;\n",
    "- Estimated GPU Speed-up;\n",
    "- Estimated GPU Time Saved; and\n",
    "- End Time.\n",
    "\n",
    "## Stages Output\n",
    "For each stage used in SQL operations, the Qualification tool generates the following information:\n",
    "1. App ID\n",
    "1. Stage ID\n",
    "1. Average Speedup Factor: the average estimated speed-up of all the operators in the given stage.\n",
    "1. Stage Task Duration: amount of time spent in tasks of SQL Dataframe operations for the given stage.\n",
    "1. Unsupported Task Duration: sum of task durations for the unsupported operators. For more details, see Supported Operators.\n",
    "1. Stage Estimated: True or False indicates if we had to estimate the stage duration.\n",
    "\n",
    "## Execs Output\n",
    "The Qualification tool generates a report of the “Exec” in the “SparkPlan” or “Executor Nodes” along with the estimated acceleration on the GPU. Please refer to the Supported Operators guide for more details on limitations on UDFs and unsupported operators.\n",
    "1. App ID\n",
    "1. SQL ID\n",
    "1. Exec Name: example Filter, HashAggregate\n",
    "1. Expression Name\n",
    "1. Task Speedup Factor: it is simply the average acceleration of the operators based on the original CPU duration of the operator divided by the GPU duration. The tool uses historical queries and benchmarks to estimate a speed-up at an individual operator level to calculate how much a specific operator would accelerate on GPU.\n",
    "1. Exec Duration: wall-Clock time measured since the operator starts till it is completed.\n",
    "1. SQL Node Id\n",
    "1. Exec Is Supported: whether the Exec is supported by RAPIDS or not. Please refer to the Supported Operators section.\n",
    "1. Exec Stages: an array of stage IDs\n",
    "1. Exec Children\n",
    "1. Exec Children Node Ids\n",
    "1. Exec Should Remove: whether the Op is removed from the migrated plan."
   ]
  },
  {
   "cell_type": "code",
   "execution_count": 0,
   "metadata": {
    "application/vnd.databricks.v1+cell": {
     "cellMetadata": {
      "byteLimit": 2048000,
      "rowLimit": 10000
     },
     "inputWidgets": {},
     "nuid": "811645aa-ec72-4bd9-8b79-fb1cadf768f8",
     "showTitle": true,
     "title": "Environment Setup"
    },
    "jupyter": {
     "source_hidden": true
    }
   },
   "outputs": [
    {
     "output_type": "stream",
     "name": "stdout",
     "output_type": "stream",
     "text": [
      "Setting up the virtual environment 'databricks_venv'.\nSpark Rapids User Tools installed successfully.\n"
     ]
    }
   ],
   "source": [
    "%sh\n",
    "VENV=\"databricks_venv\"\n",
    "echo \"Setting up the virtual environment '$VENV'.\"\n",
    "(apt update && \\\n",
    "apt install -y python3-venv && \\\n",
    "python3 -m venv $VENV && \\\n",
    "source $VENV/bin/activate && \\\n",
    "echo \"Installing Spark Rapids User Tools\"\n",
    "pip install spark-rapids-user-tools)  > /dev/null 2>&1 || \\\n",
    "{ echo \"Error: Failed to install Spark Rapids User Tools\"; exit 1; }\n",
    "echo \"Spark Rapids User Tools installed successfully.\"\n"
   ]
  },
  {
   "cell_type": "code",
   "execution_count": 0,
   "metadata": {
    "application/vnd.databricks.v1+cell": {
     "cellMetadata": {
      "byteLimit": 2048000,
      "rowLimit": 10000
     },
     "inputWidgets": {},
     "nuid": "acf401a3-12d3-4236-a6c5-8fe8990b153a",
     "showTitle": false,
     "title": ""
    }
   },
   "outputs": [],
   "source": [
    "import os\n",
    "import pandas as pd\n",
    "dbutils.widgets.text(\"log_path\", \"\")\n",
    "eventlog_string=dbutils.widgets.get(\"log_path\")\n",
    "\n",
    "dbutils.widgets.text(\"output_path\", \"\")\n",
    "outputpath_string=dbutils.widgets.get(\"output_path\")\n",
    "\n",
    "dbutils.widgets.dropdown(\"csp\", \"aws\", [\"aws\", \"azure\"])\n",
    "csp_string=dbutils.widgets.get(\"csp\")\n",
    "\n",
    "os.environ[\"EVENTLOG_PATH\"] = eventlog_string\n",
    "os.environ[\"OUTPUT_PATH\"] = outputpath_string\n",
    "os.environ[\"PLATFORM\"] = f\"databricks-{csp_string}\""
   ]
  },
  {
   "cell_type": "code",
   "execution_count": 0,
   "metadata": {
    "application/vnd.databricks.v1+cell": {
     "cellMetadata": {
      "byteLimit": 2048000,
      "rowLimit": 10000
     },
     "inputWidgets": {},
     "nuid": "693b5ee0-7500-43f3-b3e2-717fd5468aa8",
     "showTitle": false,
     "title": ""
    }
   },
   "outputs": [],
   "source": [
    "%sh\n",
    "source databricks_venv/bin/activate\n",
    "spark_rapids_user_tools $PLATFORM qualification --eventlogs $EVENTLOG_PATH --local_folder $OUTPUT_PATH --verbose &> $OUTPUT_PATH/qual_debug.log"
   ]
  },
  {
   "cell_type": "code",
   "execution_count": 0,
   "metadata": {
    "application/vnd.databricks.v1+cell": {
     "cellMetadata": {
      "byteLimit": 2048000,
      "rowLimit": 10000
     },
     "inputWidgets": {},
     "nuid": "05f96ca1-1b08-494c-a12b-7e6cc3dcc546",
     "showTitle": true,
     "title": "Parse Output"
    },
    "jupyter": {
     "source_hidden": true
    }
   },
   "outputs": [],
   "source": [
    "log_path = os.path.join(outputpath_string, \"qual_debug.log\")\n",
    "\n",
    "try:\n",
    "    with open(log_path, 'r') as file:\n",
    "        output_folder = next((line.split(\":\", 1)[1].strip() for line in file if line.startswith(\"Qualification tool output: \")), None)\n",
    "        if output_folder is None:\n",
    "            raise ValueError(f\"Cannot find output folder. See logs: {log_path}\")\n",
    "except FileNotFoundError:\n",
    "    print(f\"File not found: {log_path}\")"
   ]
  },
  {
   "cell_type": "markdown",
   "metadata": {
    "application/vnd.databricks.v1+cell": {
     "cellMetadata": {
      "byteLimit": 2048000,
      "rowLimit": 10000
     },
     "inputWidgets": {},
     "nuid": "bbe50fde-0bd6-4281-95fd-6a1ec6f17ab2",
     "showTitle": false,
     "title": ""
    }
   },
   "source": [
    "## Summary Output"
   ]
  },
  {
   "cell_type": "code",
   "execution_count": 0,
   "metadata": {
    "application/vnd.databricks.v1+cell": {
     "cellMetadata": {
      "byteLimit": 2048000,
      "rowLimit": 10000
     },
     "inputWidgets": {},
     "nuid": "fb8edb26-e173-47ff-92a1-463baec7c06b",
     "showTitle": false,
     "title": ""
    }
   },
   "outputs": [
    {
     "output_type": "display_data",
     "data": {
      "text/html": [
       "<style scoped>\n",
       "  .table-result-container {\n",
       "    max-height: 300px;\n",
       "    overflow: auto;\n",
       "  }\n",
       "  table, th, td {\n",
       "    border: 1px solid black;\n",
       "    border-collapse: collapse;\n",
       "  }\n",
       "  th, td {\n",
       "    padding: 5px;\n",
       "  }\n",
       "  th {\n",
       "    text-align: left;\n",
       "  }\n",
       "</style><div class='table-result-container'><table class='table-result'><thead style='background-color: white'><tr><th>App Name</th><th>App ID</th><th>Recommendation</th><th>Estimated GPU Speedup</th><th>Estimated GPU Duration</th><th>Estimated GPU Time Saved</th><th>SQL DF Duration</th><th>SQL Dataframe Task Duration</th><th>App Duration</th><th>GPU Opportunity</th><th>Executor CPU Time Percent</th><th>SQL Ids with Failures</th><th>Unsupported Read File Formats and Types</th><th>Unsupported Write Data Format</th><th>Complex Types</th><th>Nested Complex Types</th><th>Potential Problems</th><th>Longest SQL Duration</th><th>NONSQL Task Duration Plus Overhead</th><th>Unsupported Task Duration</th><th>Supported SQL DF Task Duration</th><th>Task Speedup Factor</th><th>App Duration Estimated</th><th>Unsupported Execs</th><th>Unsupported Expressions</th><th>Estimated Job Frequency (monthly)</th></tr></thead><tbody><tr><td>TPC-DS Like Bench q1</td><td>app-20220209224147-0004</td><td>Recommended</td><td>1.4</td><td>22476.58</td><td>9130.41</td><td>13417</td><td>7598550</td><td>31607</td><td>13417</td><td>37.09</td><td>null</td><td>null</td><td>null</td><td>null</td><td>null</td><td>null</td><td>13412</td><td>3012015</td><td>0</td><td>7598550</td><td>3.13</td><td>false</td><td>Execute CreateViewCommand</td><td>null</td><td>30</td></tr></tbody></table></div>"
      ]
     },
     "metadata": {
      "application/vnd.databricks.v1+output": {
       "addedWidgets": {},
       "aggData": [],
       "aggError": "",
       "aggOverflow": false,
       "aggSchema": [],
       "aggSeriesLimitReached": false,
       "aggType": "",
       "arguments": {},
       "columnCustomDisplayInfos": {},
       "data": [
        [
         "TPC-DS Like Bench q1",
         "app-20220209224147-0004",
         "Recommended",
         1.4,
         22476.58,
         9130.41,
         13417,
         7598550,
         31607,
         13417,
         37.09,
         null,
         null,
         null,
         null,
         null,
         null,
         13412,
         3012015,
         0,
         7598550,
         3.13,
         false,
         "Execute CreateViewCommand",
         null,
         30
        ]
       ],
       "datasetInfos": [],
       "dbfsResultPath": null,
       "isJsonSchema": true,
       "metadata": {},
       "overflow": false,
       "plotOptions": {
        "customPlotOptions": {},
        "displayType": "table",
        "pivotAggregation": null,
        "pivotColumns": null,
        "xColumns": null,
        "yColumns": null
       },
       "removedWidgets": [],
       "schema": [
        {
         "metadata": "{}",
         "name": "App Name",
         "type": "\"string\""
        },
        {
         "metadata": "{}",
         "name": "App ID",
         "type": "\"string\""
        },
        {
         "metadata": "{}",
         "name": "Recommendation",
         "type": "\"string\""
        },
        {
         "metadata": "{}",
         "name": "Estimated GPU Speedup",
         "type": "\"double\""
        },
        {
         "metadata": "{}",
         "name": "Estimated GPU Duration",
         "type": "\"double\""
        },
        {
         "metadata": "{}",
         "name": "Estimated GPU Time Saved",
         "type": "\"double\""
        },
        {
         "metadata": "{}",
         "name": "SQL DF Duration",
         "type": "\"long\""
        },
        {
         "metadata": "{}",
         "name": "SQL Dataframe Task Duration",
         "type": "\"long\""
        },
        {
         "metadata": "{}",
         "name": "App Duration",
         "type": "\"long\""
        },
        {
         "metadata": "{}",
         "name": "GPU Opportunity",
         "type": "\"long\""
        },
        {
         "metadata": "{}",
         "name": "Executor CPU Time Percent",
         "type": "\"double\""
        },
        {
         "metadata": "{}",
         "name": "SQL Ids with Failures",
         "type": "\"double\""
        },
        {
         "metadata": "{}",
         "name": "Unsupported Read File Formats and Types",
         "type": "\"double\""
        },
        {
         "metadata": "{}",
         "name": "Unsupported Write Data Format",
         "type": "\"double\""
        },
        {
         "metadata": "{}",
         "name": "Complex Types",
         "type": "\"double\""
        },
        {
         "metadata": "{}",
         "name": "Nested Complex Types",
         "type": "\"double\""
        },
        {
         "metadata": "{}",
         "name": "Potential Problems",
         "type": "\"double\""
        },
        {
         "metadata": "{}",
         "name": "Longest SQL Duration",
         "type": "\"long\""
        },
        {
         "metadata": "{}",
         "name": "NONSQL Task Duration Plus Overhead",
         "type": "\"long\""
        },
        {
         "metadata": "{}",
         "name": "Unsupported Task Duration",
         "type": "\"long\""
        },
        {
         "metadata": "{}",
         "name": "Supported SQL DF Task Duration",
         "type": "\"long\""
        },
        {
         "metadata": "{}",
         "name": "Task Speedup Factor",
         "type": "\"double\""
        },
        {
         "metadata": "{}",
         "name": "App Duration Estimated",
         "type": "\"boolean\""
        },
        {
         "metadata": "{}",
         "name": "Unsupported Execs",
         "type": "\"string\""
        },
        {
         "metadata": "{}",
         "name": "Unsupported Expressions",
         "type": "\"double\""
        },
        {
         "metadata": "{}",
         "name": "Estimated Job Frequency (monthly)",
         "type": "\"long\""
        }
       ],
       "type": "table"
      }
     },
     "output_type": "display_data"
    }
   ],
   "source": [
    "summary_output=pd.read_csv(os.path.join(output_folder, \"rapids_4_spark_qualification_output.csv\"))\n",
    "display(summary_output)"
   ]
  },
  {
   "cell_type": "markdown",
   "metadata": {
    "application/vnd.databricks.v1+cell": {
     "cellMetadata": {
      "byteLimit": 2048000,
      "rowLimit": 10000
     },
     "inputWidgets": {},
     "nuid": "6756159b-30ca-407a-ab6b-9c29ced01ea6",
     "showTitle": false,
     "title": ""
    }
   },
   "source": [
    "## Stages Output"
   ]
  },
  {
   "cell_type": "code",
   "execution_count": 0,
   "metadata": {
    "application/vnd.databricks.v1+cell": {
     "cellMetadata": {
      "byteLimit": 2048000,
      "rowLimit": 10000
     },
     "inputWidgets": {},
     "nuid": "cdde6177-db5f-434a-995b-776678a64a3a",
     "showTitle": false,
     "title": ""
    }
   },
   "outputs": [
    {
     "output_type": "display_data",
     "data": {
      "text/html": [
       "<style scoped>\n",
       "  .table-result-container {\n",
       "    max-height: 300px;\n",
       "    overflow: auto;\n",
       "  }\n",
       "  table, th, td {\n",
       "    border: 1px solid black;\n",
       "    border-collapse: collapse;\n",
       "  }\n",
       "  th, td {\n",
       "    padding: 5px;\n",
       "  }\n",
       "  th {\n",
       "    text-align: left;\n",
       "  }\n",
       "</style><div class='table-result-container'><table class='table-result'><thead style='background-color: white'><tr><th>App ID</th><th>Stage ID</th><th>Average Speedup Factor</th><th>Stage Task Duration</th><th>Unsupported Task Duration</th><th>Stage Estimated</th><th>Number of transitions from or to GPU</th></tr></thead><tbody><tr><td>app-20220209224147-0004</td><td>37</td><td>4.3</td><td>595309</td><td>0</td><td>false</td><td>0</td></tr><tr><td>app-20220209224147-0004</td><td>32</td><td>2.67</td><td>969</td><td>0</td><td>false</td><td>0</td></tr><tr><td>app-20220209224147-0004</td><td>36</td><td>3.02</td><td>1631076</td><td>0</td><td>false</td><td>0</td></tr><tr><td>app-20220209224147-0004</td><td>39</td><td>4.88</td><td>379029</td><td>0</td><td>false</td><td>0</td></tr><tr><td>app-20220209224147-0004</td><td>33</td><td>2.69</td><td>1141311</td><td>0</td><td>false</td><td>0</td></tr><tr><td>app-20220209224147-0004</td><td>40</td><td>2.45</td><td>218</td><td>0</td><td>false</td><td>0</td></tr><tr><td>app-20220209224147-0004</td><td>31</td><td>2.67</td><td>914</td><td>0</td><td>false</td><td>0</td></tr><tr><td>app-20220209224147-0004</td><td>34</td><td>2.69</td><td>2625437</td><td>0</td><td>false</td><td>0</td></tr><tr><td>app-20220209224147-0004</td><td>35</td><td>2.93</td><td>1166672</td><td>0</td><td>false</td><td>0</td></tr><tr><td>app-20220209224147-0004</td><td>38</td><td>2.99</td><td>57615</td><td>0</td><td>false</td><td>0</td></tr></tbody></table></div>"
      ]
     },
     "metadata": {
      "application/vnd.databricks.v1+output": {
       "addedWidgets": {},
       "aggData": [],
       "aggError": "",
       "aggOverflow": false,
       "aggSchema": [],
       "aggSeriesLimitReached": false,
       "aggType": "",
       "arguments": {},
       "columnCustomDisplayInfos": {},
       "data": [
        [
         "app-20220209224147-0004",
         37,
         4.3,
         595309,
         0,
         false,
         0
        ],
        [
         "app-20220209224147-0004",
         32,
         2.67,
         969,
         0,
         false,
         0
        ],
        [
         "app-20220209224147-0004",
         36,
         3.02,
         1631076,
         0,
         false,
         0
        ],
        [
         "app-20220209224147-0004",
         39,
         4.88,
         379029,
         0,
         false,
         0
        ],
        [
         "app-20220209224147-0004",
         33,
         2.69,
         1141311,
         0,
         false,
         0
        ],
        [
         "app-20220209224147-0004",
         40,
         2.45,
         218,
         0,
         false,
         0
        ],
        [
         "app-20220209224147-0004",
         31,
         2.67,
         914,
         0,
         false,
         0
        ],
        [
         "app-20220209224147-0004",
         34,
         2.69,
         2625437,
         0,
         false,
         0
        ],
        [
         "app-20220209224147-0004",
         35,
         2.93,
         1166672,
         0,
         false,
         0
        ],
        [
         "app-20220209224147-0004",
         38,
         2.99,
         57615,
         0,
         false,
         0
        ]
       ],
       "datasetInfos": [],
       "dbfsResultPath": null,
       "isJsonSchema": true,
       "metadata": {},
       "overflow": false,
       "plotOptions": {
        "customPlotOptions": {},
        "displayType": "table",
        "pivotAggregation": null,
        "pivotColumns": null,
        "xColumns": null,
        "yColumns": null
       },
       "removedWidgets": [],
       "schema": [
        {
         "metadata": "{}",
         "name": "App ID",
         "type": "\"string\""
        },
        {
         "metadata": "{}",
         "name": "Stage ID",
         "type": "\"long\""
        },
        {
         "metadata": "{}",
         "name": "Average Speedup Factor",
         "type": "\"double\""
        },
        {
         "metadata": "{}",
         "name": "Stage Task Duration",
         "type": "\"long\""
        },
        {
         "metadata": "{}",
         "name": "Unsupported Task Duration",
         "type": "\"long\""
        },
        {
         "metadata": "{}",
         "name": "Stage Estimated",
         "type": "\"boolean\""
        },
        {
         "metadata": "{}",
         "name": "Number of transitions from or to GPU",
         "type": "\"long\""
        }
       ],
       "type": "table"
      }
     },
     "output_type": "display_data"
    }
   ],
   "source": [
    "stages_output=pd.read_csv(os.path.join(output_folder, \"rapids_4_spark_qualification_output_stages.csv\"))\n",
    "display(stages_output)"
   ]
  },
  {
   "cell_type": "markdown",
   "metadata": {
    "application/vnd.databricks.v1+cell": {
     "cellMetadata": {
      "byteLimit": 2048000,
      "rowLimit": 10000
     },
     "inputWidgets": {},
     "nuid": "4d7ce219-ae75-4a0c-a78c-4e7f25b8cd6f",
     "showTitle": false,
     "title": ""
    }
   },
   "source": [
    "## Execs Output"
   ]
  },
  {
   "cell_type": "code",
   "execution_count": 0,
   "metadata": {
    "application/vnd.databricks.v1+cell": {
     "cellMetadata": {
      "byteLimit": 2048000,
      "rowLimit": 10000
     },
     "inputWidgets": {},
     "nuid": "998b0c51-0cb6-408e-a01a-d1f5b1a61e1f",
     "showTitle": false,
     "title": ""
    }
   },
   "outputs": [
    {
     "output_type": "display_data",
     "data": {
      "text/html": [
       "<style scoped>\n",
       "  .table-result-container {\n",
       "    max-height: 300px;\n",
       "    overflow: auto;\n",
       "  }\n",
       "  table, th, td {\n",
       "    border: 1px solid black;\n",
       "    border-collapse: collapse;\n",
       "  }\n",
       "  th, td {\n",
       "    padding: 5px;\n",
       "  }\n",
       "  th {\n",
       "    text-align: left;\n",
       "  }\n",
       "</style><div class='table-result-container'><table class='table-result'><thead style='background-color: white'><tr><th>App ID</th><th>SQL ID</th><th>Exec Name</th><th>Expression Name</th><th>Task Speedup Factor</th><th>Exec Duration</th><th>SQL Node Id</th><th>Exec Is Supported</th><th>Exec Stages</th><th>Exec Children</th><th>Exec Children Node Ids</th><th>Exec Should Remove</th></tr></thead><tbody><tr><td>app-20220209224147-0004</td><td>8</td><td>Execute CreateViewCommand</td><td>null</td><td>1.0</td><td>0</td><td>0</td><td>false</td><td>null</td><td>null</td><td>null</td><td>false</td></tr><tr><td>app-20220209224147-0004</td><td>24</td><td>WholeStageCodegen (7)</td><td>WholeStageCodegen (7)</td><td>3.23</td><td>858100</td><td>46</td><td>true</td><td>35</td><td>HashAggregate:HashAggregate</td><td>47:48</td><td>false</td></tr><tr><td>app-20220209224147-0004</td><td>24</td><td>TakeOrderedAndProject</td><td>null</td><td>2.45</td><td>0</td><td>1</td><td>true</td><td>39:40</td><td>null</td><td>null</td><td>false</td></tr><tr><td>app-20220209224147-0004</td><td>24</td><td>WholeStageCodegen (9)</td><td>WholeStageCodegen (9)</td><td>3.1</td><td>510</td><td>59</td><td>true</td><td>31</td><td>Project:Filter:ColumnarToRow</td><td>60:61:62</td><td>false</td></tr><tr><td>app-20220209224147-0004</td><td>24</td><td>Execute InsertIntoHadoopFsRelationCommand parquet</td><td>null</td><td>2.45</td><td>0</td><td>0</td><td>true</td><td>null</td><td>null</td><td>null</td><td>false</td></tr><tr><td>app-20220209224147-0004</td><td>24</td><td>SortMergeJoin</td><td>null</td><td>20.57</td><td>0</td><td>12</td><td>true</td><td>37</td><td>null</td><td>null</td><td>false</td></tr><tr><td>app-20220209224147-0004</td><td>5</td><td>Execute CreateViewCommand</td><td>null</td><td>1.0</td><td>0</td><td>0</td><td>false</td><td>null</td><td>null</td><td>null</td><td>false</td></tr><tr><td>app-20220209224147-0004</td><td>24</td><td>Filter</td><td>null</td><td>3.75</td><td>0</td><td>38</td><td>true</td><td>32</td><td>null</td><td>null</td><td>false</td></tr><tr><td>app-20220209224147-0004</td><td>24</td><td>Scan parquet</td><td>null</td><td>2.45</td><td>19429</td><td>70</td><td>true</td><td>38</td><td>null</td><td>null</td><td>false</td></tr><tr><td>app-20220209224147-0004</td><td>24</td><td>Exchange</td><td>null</td><td>2.78</td><td>2423</td><td>45</td><td>true</td><td>35:37</td><td>null</td><td>null</td><td>false</td></tr><tr><td>app-20220209224147-0004</td><td>10</td><td>Execute CreateViewCommand</td><td>null</td><td>1.0</td><td>0</td><td>0</td><td>false</td><td>null</td><td>null</td><td>null</td><td>false</td></tr><tr><td>app-20220209224147-0004</td><td>24</td><td>Filter</td><td>null</td><td>3.75</td><td>0</td><td>32</td><td>true</td><td>32</td><td>null</td><td>null</td><td>true</td></tr><tr><td>app-20220209224147-0004</td><td>24</td><td>WholeStageCodegen (6)</td><td>WholeStageCodegen (6)</td><td>3.06</td><td>1579384</td><td>50</td><td>true</td><td>34</td><td>HashAggregate:Project:BroadcastHashJoin:Filter:ColumnarToRow</td><td>51:52:53:54:55</td><td>false</td></tr><tr><td>app-20220209224147-0004</td><td>24</td><td>HashAggregate</td><td>null</td><td>3.23</td><td>0</td><td>47</td><td>true</td><td>35</td><td>null</td><td>null</td><td>false</td></tr><tr><td>app-20220209224147-0004</td><td>24</td><td>ColumnarToRow</td><td>null</td><td>1.0</td><td>0</td><td>39</td><td>false</td><td>32</td><td>null</td><td>null</td><td>true</td></tr><tr><td>app-20220209224147-0004</td><td>24</td><td>Project</td><td>null</td><td>2.45</td><td>0</td><td>3</td><td>true</td><td>null</td><td>null</td><td>null</td><td>false</td></tr><tr><td>app-20220209224147-0004</td><td>2</td><td>Execute CreateViewCommand</td><td>null</td><td>1.0</td><td>0</td><td>0</td><td>false</td><td>null</td><td>null</td><td>null</td><td>false</td></tr><tr><td>app-20220209224147-0004</td><td>12</td><td>Execute CreateViewCommand</td><td>null</td><td>1.0</td><td>0</td><td>0</td><td>false</td><td>null</td><td>null</td><td>null</td><td>false</td></tr><tr><td>app-20220209224147-0004</td><td>24</td><td>ColumnarToRow</td><td>null</td><td>1.0</td><td>0</td><td>62</td><td>false</td><td>31</td><td>null</td><td>null</td><td>true</td></tr><tr><td>app-20220209224147-0004</td><td>9</td><td>Execute CreateViewCommand</td><td>null</td><td>1.0</td><td>0</td><td>0</td><td>false</td><td>null</td><td>null</td><td>null</td><td>false</td></tr><tr><td>app-20220209224147-0004</td><td>24</td><td>Exchange</td><td>null</td><td>2.78</td><td>34</td><td>7</td><td>true</td><td>37:39</td><td>null</td><td>null</td><td>false</td></tr><tr><td>app-20220209224147-0004</td><td>1</td><td>Execute CreateViewCommand</td><td>null</td><td>1.0</td><td>0</td><td>0</td><td>false</td><td>null</td><td>null</td><td>null</td><td>false</td></tr><tr><td>app-20220209224147-0004</td><td>24</td><td>Project</td><td>null</td><td>2.45</td><td>0</td><td>37</td><td>true</td><td>null</td><td>null</td><td>null</td><td>false</td></tr><tr><td>app-20220209224147-0004</td><td>16</td><td>Execute CreateViewCommand</td><td>null</td><td>1.0</td><td>0</td><td>0</td><td>false</td><td>null</td><td>null</td><td>null</td><td>false</td></tr><tr><td>app-20220209224147-0004</td><td>24</td><td>WholeStageCodegen (13)</td><td>WholeStageCodegen (13)</td><td>6.11</td><td>5791</td><td>64</td><td>true</td><td>39</td><td>Sort</td><td>65</td><td>false</td></tr><tr><td>app-20220209224147-0004</td><td>24</td><td>SortMergeJoin</td><td>null</td><td>20.57</td><td>0</td><td>4</td><td>true</td><td>39</td><td>null</td><td>null</td><td>false</td></tr><tr><td>app-20220209224147-0004</td><td>24</td><td>WholeStageCodegen (8)</td><td>WholeStageCodegen (8)</td><td>4.36</td><td>116341</td><td>41</td><td>true</td><td>37</td><td>Sort:Filter:HashAggregate</td><td>42:43:44</td><td>false</td></tr><tr><td>app-20220209224147-0004</td><td>24</td><td>Scan parquet</td><td>null</td><td>2.45</td><td>548</td><td>40</td><td>true</td><td>32</td><td>null</td><td>null</td><td>false</td></tr><tr><td>app-20220209224147-0004</td><td>24</td><td>HashAggregate</td><td>null</td><td>3.23</td><td>0</td><td>44</td><td>true</td><td>37</td><td>null</td><td>null</td><td>false</td></tr><tr><td>app-20220209224147-0004</td><td>24</td><td>WholeStageCodegen (10)</td><td>WholeStageCodegen (10)</td><td>7.07</td><td>179415</td><td>8</td><td>true</td><td>37</td><td>Project:BroadcastHashJoin:Project:SortMergeJoin</td><td>9:10:11:12</td><td>false</td></tr><tr><td>app-20220209224147-0004</td><td>24</td><td>HashAggregate</td><td>null</td><td>3.23</td><td>0</td><td>48</td><td>true</td><td>35</td><td>null</td><td>null</td><td>false</td></tr><tr><td>app-20220209224147-0004</td><td>24</td><td>Filter</td><td>null</td><td>3.75</td><td>0</td><td>68</td><td>true</td><td>38</td><td>null</td><td>null</td><td>false</td></tr><tr><td>app-20220209224147-0004</td><td>24</td><td>Scan parquet</td><td>null</td><td>2.45</td><td>774464</td><td>56</td><td>true</td><td>34</td><td>null</td><td>null</td><td>false</td></tr><tr><td>app-20220209224147-0004</td><td>24</td><td>WholeStageCodegen (1)</td><td>WholeStageCodegen (1)</td><td>3.1</td><td>567</td><td>36</td><td>true</td><td>32</td><td>Project:Filter:ColumnarToRow</td><td>37:38:39</td><td>false</td></tr><tr><td>app-20220209224147-0004</td><td>13</td><td>Execute CreateViewCommand</td><td>null</td><td>1.0</td><td>0</td><td>0</td><td>false</td><td>null</td><td>null</td><td>null</td><td>false</td></tr><tr><td>app-20220209224147-0004</td><td>24</td><td>BroadcastHashJoin</td><td>null</td><td>2.82</td><td>0</td><td>23</td><td>true</td><td>33</td><td>null</td><td>null</td><td>false</td></tr><tr><td>app-20220209224147-0004</td><td>24</td><td>Filter</td><td>null</td><td>3.75</td><td>0</td><td>43</td><td>true</td><td>37</td><td>null</td><td>null</td><td>false</td></tr><tr><td>app-20220209224147-0004</td><td>24</td><td>ColumnarToRow</td><td>null</td><td>1.0</td><td>0</td><td>33</td><td>false</td><td>32</td><td>null</td><td>null</td><td>true</td></tr><tr><td>app-20220209224147-0004</td><td>17</td><td>Execute CreateViewCommand</td><td>null</td><td>1.0</td><td>0</td><td>0</td><td>false</td><td>null</td><td>null</td><td>null</td><td>false</td></tr><tr><td>app-20220209224147-0004</td><td>24</td><td>Filter</td><td>null</td><td>3.75</td><td>0</td><td>24</td><td>true</td><td>33</td><td>null</td><td>null</td><td>false</td></tr><tr><td>app-20220209224147-0004</td><td>24</td><td>WholeStageCodegen (12)</td><td>WholeStageCodegen (12)</td><td>3.75</td><td>31944</td><td>67</td><td>true</td><td>38</td><td>Filter:ColumnarToRow</td><td>68:69</td><td>false</td></tr><tr><td>app-20220209224147-0004</td><td>24</td><td>Scan parquet</td><td>null</td><td>2.45</td><td>282864</td><td>26</td><td>true</td><td>33</td><td>null</td><td>null</td><td>false</td></tr><tr><td>app-20220209224147-0004</td><td>18</td><td>Execute CreateViewCommand</td><td>null</td><td>1.0</td><td>0</td><td>0</td><td>false</td><td>null</td><td>null</td><td>null</td><td>false</td></tr><tr><td>app-20220209224147-0004</td><td>24</td><td>HashAggregate</td><td>null</td><td>3.23</td><td>0</td><td>51</td><td>true</td><td>34</td><td>null</td><td>null</td><td>false</td></tr><tr><td>app-20220209224147-0004</td><td>24</td><td>BroadcastHashJoin</td><td>null</td><td>2.82</td><td>0</td><td>10</td><td>true</td><td>37</td><td>null</td><td>null</td><td>false</td></tr><tr><td>app-20220209224147-0004</td><td>24</td><td>Sort</td><td>null</td><td>6.11</td><td>0</td><td>65</td><td>true</td><td>39</td><td>null</td><td>null</td><td>false</td></tr><tr><td>app-20220209224147-0004</td><td>24</td><td>WholeStageCodegen (2)</td><td>WholeStageCodegen (2)</td><td>3.06</td><td>833727</td><td>20</td><td>true</td><td>33</td><td>HashAggregate:Project:BroadcastHashJoin:Filter:ColumnarToRow</td><td>21:22:23:24:25</td><td>false</td></tr><tr><td>app-20220209224147-0004</td><td>24</td><td>WholeStageCodegen (3)</td><td>WholeStageCodegen (3)</td><td>3.49</td><td>758269</td><td>16</td><td>true</td><td>36</td><td>Filter:HashAggregate</td><td>17:18</td><td>false</td></tr><tr><td>app-20220209224147-0004</td><td>24</td><td>BroadcastExchange</td><td>null</td><td>2.45</td><td>1463</td><td>35</td><td>true</td><td>null</td><td>null</td><td>null</td><td>false</td></tr><tr><td>app-20220209224147-0004</td><td>24</td><td>SubqueryBroadcast</td><td>null</td><td>2.45</td><td>1486</td><td>27</td><td>true</td><td>null</td><td>null</td><td>null</td><td>false</td></tr><tr><td>app-20220209224147-0004</td><td>21</td><td>Execute CreateViewCommand</td><td>null</td><td>1.0</td><td>0</td><td>0</td><td>false</td><td>null</td><td>null</td><td>null</td><td>false</td></tr><tr><td>app-20220209224147-0004</td><td>24</td><td>HashAggregate</td><td>null</td><td>3.23</td><td>0</td><td>18</td><td>true</td><td>36</td><td>null</td><td>null</td><td>false</td></tr><tr><td>app-20220209224147-0004</td><td>19</td><td>Execute CreateViewCommand</td><td>null</td><td>1.0</td><td>0</td><td>0</td><td>false</td><td>null</td><td>null</td><td>null</td><td>false</td></tr><tr><td>app-20220209224147-0004</td><td>24</td><td>Project</td><td>null</td><td>2.45</td><td>0</td><td>9</td><td>true</td><td>null</td><td>null</td><td>null</td><td>false</td></tr><tr><td>app-20220209224147-0004</td><td>24</td><td>Project</td><td>null</td><td>2.45</td><td>0</td><td>52</td><td>true</td><td>null</td><td>null</td><td>null</td><td>false</td></tr><tr><td>app-20220209224147-0004</td><td>24</td><td>Filter</td><td>null</td><td>3.75</td><td>0</td><td>54</td><td>true</td><td>34</td><td>null</td><td>null</td><td>false</td></tr><tr><td>app-20220209224147-0004</td><td>24</td><td>HashAggregate</td><td>null</td><td>3.23</td><td>0</td><td>21</td><td>true</td><td>33</td><td>null</td><td>null</td><td>false</td></tr><tr><td>app-20220209224147-0004</td><td>24</td><td>ColumnarToRow</td><td>null</td><td>1.0</td><td>0</td><td>25</td><td>false</td><td>33</td><td>null</td><td>null</td><td>true</td></tr><tr><td>app-20220209224147-0004</td><td>24</td><td>BroadcastHashJoin</td><td>null</td><td>2.82</td><td>0</td><td>53</td><td>true</td><td>34</td><td>null</td><td>null</td><td>false</td></tr><tr><td>app-20220209224147-0004</td><td>24</td><td>BroadcastExchange</td><td>null</td><td>2.45</td><td>1424</td><td>58</td><td>true</td><td>null</td><td>null</td><td>null</td><td>false</td></tr><tr><td>app-20220209224147-0004</td><td>4</td><td>Execute CreateViewCommand</td><td>null</td><td>1.0</td><td>0</td><td>0</td><td>false</td><td>null</td><td>null</td><td>null</td><td>false</td></tr><tr><td>app-20220209224147-0004</td><td>24</td><td>ColumnarToRow</td><td>null</td><td>1.0</td><td>0</td><td>69</td><td>false</td><td>38</td><td>null</td><td>null</td><td>true</td></tr><tr><td>app-20220209224147-0004</td><td>22</td><td>Execute CreateViewCommand</td><td>null</td><td>1.0</td><td>0</td><td>0</td><td>false</td><td>null</td><td>null</td><td>null</td><td>false</td></tr><tr><td>app-20220209224147-0004</td><td>15</td><td>Execute CreateViewCommand</td><td>null</td><td>1.0</td><td>0</td><td>0</td><td>false</td><td>null</td><td>null</td><td>null</td><td>false</td></tr><tr><td>app-20220209224147-0004</td><td>24</td><td>Project</td><td>null</td><td>2.45</td><td>0</td><td>11</td><td>true</td><td>null</td><td>null</td><td>null</td><td>false</td></tr><tr><td>app-20220209224147-0004</td><td>24</td><td>WholeStageCodegen (1)</td><td>WholeStageCodegen (1)</td><td>1.0</td><td>567</td><td>30</td><td>true</td><td>32</td><td>Project:Filter:ColumnarToRow</td><td>31:32:33</td><td>true</td></tr><tr><td>app-20220209224147-0004</td><td>24</td><td>ReusedExchange</td><td>null</td><td>1.0</td><td>0</td><td>28</td><td>true</td><td>null</td><td>null</td><td>null</td><td>true</td></tr><tr><td>app-20220209224147-0004</td><td>23</td><td>Execute CreateViewCommand</td><td>null</td><td>1.0</td><td>0</td><td>0</td><td>false</td><td>null</td><td>null</td><td>null</td><td>false</td></tr><tr><td>app-20220209224147-0004</td><td>24</td><td>Scan parquet</td><td>null</td><td>2.45</td><td>506</td><td>63</td><td>true</td><td>31</td><td>null</td><td>null</td><td>false</td></tr><tr><td>app-20220209224147-0004</td><td>24</td><td>Project</td><td>null</td><td>2.45</td><td>0</td><td>31</td><td>true</td><td>null</td><td>null</td><td>null</td><td>true</td></tr><tr><td>app-20220209224147-0004</td><td>24</td><td>Exchange</td><td>null</td><td>2.78</td><td>7940</td><td>15</td><td>true</td><td>36:37</td><td>null</td><td>null</td><td>false</td></tr><tr><td>app-20220209224147-0004</td><td>24</td><td>WholeStageCodegen (14)</td><td>WholeStageCodegen (14)</td><td>11.51</td><td>172810</td><td>2</td><td>true</td><td>39</td><td>Project:SortMergeJoin</td><td>3:4</td><td>false</td></tr><tr><td>app-20220209224147-0004</td><td>6</td><td>Execute CreateViewCommand</td><td>null</td><td>1.0</td><td>0</td><td>0</td><td>false</td><td>null</td><td>null</td><td>null</td><td>false</td></tr><tr><td>app-20220209224147-0004</td><td>24</td><td>ColumnarToRow</td><td>null</td><td>1.0</td><td>0</td><td>55</td><td>false</td><td>34</td><td>null</td><td>null</td><td>true</td></tr><tr><td>app-20220209224147-0004</td><td>24</td><td>Sort</td><td>null</td><td>6.11</td><td>0</td><td>42</td><td>true</td><td>37</td><td>null</td><td>null</td><td>false</td></tr><tr><td>app-20220209224147-0004</td><td>24</td><td>Scan parquet</td><td>null</td><td>2.45</td><td>548</td><td>34</td><td>true</td><td>32</td><td>null</td><td>null</td><td>true</td></tr><tr><td>app-20220209224147-0004</td><td>24</td><td>Project</td><td>null</td><td>2.45</td><td>0</td><td>22</td><td>true</td><td>null</td><td>null</td><td>null</td><td>false</td></tr><tr><td>app-20220209224147-0004</td><td>11</td><td>Execute CreateViewCommand</td><td>null</td><td>1.0</td><td>0</td><td>0</td><td>false</td><td>null</td><td>null</td><td>null</td><td>false</td></tr><tr><td>app-20220209224147-0004</td><td>24</td><td>WholeStageCodegen (4)</td><td>WholeStageCodegen (4)</td><td>6.11</td><td>412380</td><td>13</td><td>true</td><td>37</td><td>Sort</td><td>14</td><td>false</td></tr><tr><td>app-20220209224147-0004</td><td>7</td><td>Execute CreateViewCommand</td><td>null</td><td>1.0</td><td>0</td><td>0</td><td>false</td><td>null</td><td>null</td><td>null</td><td>false</td></tr><tr><td>app-20220209224147-0004</td><td>20</td><td>Execute CreateViewCommand</td><td>null</td><td>1.0</td><td>0</td><td>0</td><td>false</td><td>null</td><td>null</td><td>null</td><td>false</td></tr><tr><td>app-20220209224147-0004</td><td>24</td><td>Filter</td><td>null</td><td>3.75</td><td>0</td><td>17</td><td>true</td><td>36</td><td>null</td><td>null</td><td>false</td></tr><tr><td>app-20220209224147-0004</td><td>24</td><td>BroadcastExchange</td><td>null</td><td>2.45</td><td>1463</td><td>29</td><td>true</td><td>null</td><td>null</td><td>null</td><td>true</td></tr><tr><td>app-20220209224147-0004</td><td>24</td><td>Exchange</td><td>null</td><td>2.78</td><td>10244</td><td>49</td><td>true</td><td>34:35</td><td>null</td><td>null</td><td>false</td></tr><tr><td>app-20220209224147-0004</td><td>14</td><td>Execute CreateViewCommand</td><td>null</td><td>1.0</td><td>0</td><td>0</td><td>false</td><td>null</td><td>null</td><td>null</td><td>false</td></tr><tr><td>app-20220209224147-0004</td><td>0</td><td>Execute CreateViewCommand</td><td>null</td><td>1.0</td><td>0</td><td>0</td><td>false</td><td>null</td><td>null</td><td>null</td><td>false</td></tr><tr><td>app-20220209224147-0004</td><td>24</td><td>Sort</td><td>null</td><td>6.11</td><td>0</td><td>14</td><td>true</td><td>37</td><td>null</td><td>null</td><td>false</td></tr><tr><td>app-20220209224147-0004</td><td>3</td><td>Execute CreateViewCommand</td><td>null</td><td>1.0</td><td>0</td><td>0</td><td>false</td><td>null</td><td>null</td><td>null</td><td>false</td></tr><tr><td>app-20220209224147-0004</td><td>24</td><td>Exchange</td><td>null</td><td>2.78</td><td>130</td><td>66</td><td>true</td><td>38:39</td><td>null</td><td>null</td><td>false</td></tr><tr><td>app-20220209224147-0004</td><td>24</td><td>Filter</td><td>null</td><td>3.75</td><td>0</td><td>61</td><td>true</td><td>31</td><td>null</td><td>null</td><td>false</td></tr><tr><td>app-20220209224147-0004</td><td>24</td><td>Sort</td><td>null</td><td>6.11</td><td>0</td><td>6</td><td>true</td><td>39</td><td>null</td><td>null</td><td>false</td></tr><tr><td>app-20220209224147-0004</td><td>24</td><td>Project</td><td>null</td><td>2.45</td><td>0</td><td>60</td><td>true</td><td>null</td><td>null</td><td>null</td><td>false</td></tr><tr><td>app-20220209224147-0004</td><td>24</td><td>WholeStageCodegen (11)</td><td>WholeStageCodegen (11)</td><td>6.11</td><td>260804</td><td>5</td><td>true</td><td>39</td><td>Sort</td><td>6</td><td>false</td></tr><tr><td>app-20220209224147-0004</td><td>24</td><td>SubqueryBroadcast</td><td>null</td><td>2.45</td><td>1486</td><td>57</td><td>true</td><td>null</td><td>null</td><td>null</td><td>false</td></tr><tr><td>app-20220209224147-0004</td><td>24</td><td>Exchange</td><td>null</td><td>2.78</td><td>16148</td><td>19</td><td>true</td><td>33:36</td><td>null</td><td>null</td><td>false</td></tr></tbody></table></div>"
      ]
     },
     "metadata": {
      "application/vnd.databricks.v1+output": {
       "addedWidgets": {},
       "aggData": [],
       "aggError": "",
       "aggOverflow": false,
       "aggSchema": [],
       "aggSeriesLimitReached": false,
       "aggType": "",
       "arguments": {},
       "columnCustomDisplayInfos": {},
       "data": [
        [
         "app-20220209224147-0004",
         8,
         "Execute CreateViewCommand",
         null,
         1.0,
         0,
         0,
         false,
         null,
         null,
         null,
         false
        ],
        [
         "app-20220209224147-0004",
         24,
         "WholeStageCodegen (7)",
         "WholeStageCodegen (7)",
         3.23,
         858100,
         46,
         true,
         "35",
         "HashAggregate:HashAggregate",
         "47:48",
         false
        ],
        [
         "app-20220209224147-0004",
         24,
         "TakeOrderedAndProject",
         null,
         2.45,
         0,
         1,
         true,
         "39:40",
         null,
         null,
         false
        ],
        [
         "app-20220209224147-0004",
         24,
         "WholeStageCodegen (9)",
         "WholeStageCodegen (9)",
         3.1,
         510,
         59,
         true,
         "31",
         "Project:Filter:ColumnarToRow",
         "60:61:62",
         false
        ],
        [
         "app-20220209224147-0004",
         24,
         "Execute InsertIntoHadoopFsRelationCommand parquet",
         null,
         2.45,
         0,
         0,
         true,
         null,
         null,
         null,
         false
        ],
        [
         "app-20220209224147-0004",
         24,
         "SortMergeJoin",
         null,
         20.57,
         0,
         12,
         true,
         "37",
         null,
         null,
         false
        ],
        [
         "app-20220209224147-0004",
         5,
         "Execute CreateViewCommand",
         null,
         1.0,
         0,
         0,
         false,
         null,
         null,
         null,
         false
        ],
        [
         "app-20220209224147-0004",
         24,
         "Filter",
         null,
         3.75,
         0,
         38,
         true,
         "32",
         null,
         null,
         false
        ],
        [
         "app-20220209224147-0004",
         24,
         "Scan parquet",
         null,
         2.45,
         19429,
         70,
         true,
         "38",
         null,
         null,
         false
        ],
        [
         "app-20220209224147-0004",
         24,
         "Exchange",
         null,
         2.78,
         2423,
         45,
         true,
         "35:37",
         null,
         null,
         false
        ],
        [
         "app-20220209224147-0004",
         10,
         "Execute CreateViewCommand",
         null,
         1.0,
         0,
         0,
         false,
         null,
         null,
         null,
         false
        ],
        [
         "app-20220209224147-0004",
         24,
         "Filter",
         null,
         3.75,
         0,
         32,
         true,
         "32",
         null,
         null,
         true
        ],
        [
         "app-20220209224147-0004",
         24,
         "WholeStageCodegen (6)",
         "WholeStageCodegen (6)",
         3.06,
         1579384,
         50,
         true,
         "34",
         "HashAggregate:Project:BroadcastHashJoin:Filter:ColumnarToRow",
         "51:52:53:54:55",
         false
        ],
        [
         "app-20220209224147-0004",
         24,
         "HashAggregate",
         null,
         3.23,
         0,
         47,
         true,
         "35",
         null,
         null,
         false
        ],
        [
         "app-20220209224147-0004",
         24,
         "ColumnarToRow",
         null,
         1.0,
         0,
         39,
         false,
         "32",
         null,
         null,
         true
        ],
        [
         "app-20220209224147-0004",
         24,
         "Project",
         null,
         2.45,
         0,
         3,
         true,
         null,
         null,
         null,
         false
        ],
        [
         "app-20220209224147-0004",
         2,
         "Execute CreateViewCommand",
         null,
         1.0,
         0,
         0,
         false,
         null,
         null,
         null,
         false
        ],
        [
         "app-20220209224147-0004",
         12,
         "Execute CreateViewCommand",
         null,
         1.0,
         0,
         0,
         false,
         null,
         null,
         null,
         false
        ],
        [
         "app-20220209224147-0004",
         24,
         "ColumnarToRow",
         null,
         1.0,
         0,
         62,
         false,
         "31",
         null,
         null,
         true
        ],
        [
         "app-20220209224147-0004",
         9,
         "Execute CreateViewCommand",
         null,
         1.0,
         0,
         0,
         false,
         null,
         null,
         null,
         false
        ],
        [
         "app-20220209224147-0004",
         24,
         "Exchange",
         null,
         2.78,
         34,
         7,
         true,
         "37:39",
         null,
         null,
         false
        ],
        [
         "app-20220209224147-0004",
         1,
         "Execute CreateViewCommand",
         null,
         1.0,
         0,
         0,
         false,
         null,
         null,
         null,
         false
        ],
        [
         "app-20220209224147-0004",
         24,
         "Project",
         null,
         2.45,
         0,
         37,
         true,
         null,
         null,
         null,
         false
        ],
        [
         "app-20220209224147-0004",
         16,
         "Execute CreateViewCommand",
         null,
         1.0,
         0,
         0,
         false,
         null,
         null,
         null,
         false
        ],
        [
         "app-20220209224147-0004",
         24,
         "WholeStageCodegen (13)",
         "WholeStageCodegen (13)",
         6.11,
         5791,
         64,
         true,
         "39",
         "Sort",
         "65",
         false
        ],
        [
         "app-20220209224147-0004",
         24,
         "SortMergeJoin",
         null,
         20.57,
         0,
         4,
         true,
         "39",
         null,
         null,
         false
        ],
        [
         "app-20220209224147-0004",
         24,
         "WholeStageCodegen (8)",
         "WholeStageCodegen (8)",
         4.36,
         116341,
         41,
         true,
         "37",
         "Sort:Filter:HashAggregate",
         "42:43:44",
         false
        ],
        [
         "app-20220209224147-0004",
         24,
         "Scan parquet",
         null,
         2.45,
         548,
         40,
         true,
         "32",
         null,
         null,
         false
        ],
        [
         "app-20220209224147-0004",
         24,
         "HashAggregate",
         null,
         3.23,
         0,
         44,
         true,
         "37",
         null,
         null,
         false
        ],
        [
         "app-20220209224147-0004",
         24,
         "WholeStageCodegen (10)",
         "WholeStageCodegen (10)",
         7.07,
         179415,
         8,
         true,
         "37",
         "Project:BroadcastHashJoin:Project:SortMergeJoin",
         "9:10:11:12",
         false
        ],
        [
         "app-20220209224147-0004",
         24,
         "HashAggregate",
         null,
         3.23,
         0,
         48,
         true,
         "35",
         null,
         null,
         false
        ],
        [
         "app-20220209224147-0004",
         24,
         "Filter",
         null,
         3.75,
         0,
         68,
         true,
         "38",
         null,
         null,
         false
        ],
        [
         "app-20220209224147-0004",
         24,
         "Scan parquet",
         null,
         2.45,
         774464,
         56,
         true,
         "34",
         null,
         null,
         false
        ],
        [
         "app-20220209224147-0004",
         24,
         "WholeStageCodegen (1)",
         "WholeStageCodegen (1)",
         3.1,
         567,
         36,
         true,
         "32",
         "Project:Filter:ColumnarToRow",
         "37:38:39",
         false
        ],
        [
         "app-20220209224147-0004",
         13,
         "Execute CreateViewCommand",
         null,
         1.0,
         0,
         0,
         false,
         null,
         null,
         null,
         false
        ],
        [
         "app-20220209224147-0004",
         24,
         "BroadcastHashJoin",
         null,
         2.82,
         0,
         23,
         true,
         "33",
         null,
         null,
         false
        ],
        [
         "app-20220209224147-0004",
         24,
         "Filter",
         null,
         3.75,
         0,
         43,
         true,
         "37",
         null,
         null,
         false
        ],
        [
         "app-20220209224147-0004",
         24,
         "ColumnarToRow",
         null,
         1.0,
         0,
         33,
         false,
         "32",
         null,
         null,
         true
        ],
        [
         "app-20220209224147-0004",
         17,
         "Execute CreateViewCommand",
         null,
         1.0,
         0,
         0,
         false,
         null,
         null,
         null,
         false
        ],
        [
         "app-20220209224147-0004",
         24,
         "Filter",
         null,
         3.75,
         0,
         24,
         true,
         "33",
         null,
         null,
         false
        ],
        [
         "app-20220209224147-0004",
         24,
         "WholeStageCodegen (12)",
         "WholeStageCodegen (12)",
         3.75,
         31944,
         67,
         true,
         "38",
         "Filter:ColumnarToRow",
         "68:69",
         false
        ],
        [
         "app-20220209224147-0004",
         24,
         "Scan parquet",
         null,
         2.45,
         282864,
         26,
         true,
         "33",
         null,
         null,
         false
        ],
        [
         "app-20220209224147-0004",
         18,
         "Execute CreateViewCommand",
         null,
         1.0,
         0,
         0,
         false,
         null,
         null,
         null,
         false
        ],
        [
         "app-20220209224147-0004",
         24,
         "HashAggregate",
         null,
         3.23,
         0,
         51,
         true,
         "34",
         null,
         null,
         false
        ],
        [
         "app-20220209224147-0004",
         24,
         "BroadcastHashJoin",
         null,
         2.82,
         0,
         10,
         true,
         "37",
         null,
         null,
         false
        ],
        [
         "app-20220209224147-0004",
         24,
         "Sort",
         null,
         6.11,
         0,
         65,
         true,
         "39",
         null,
         null,
         false
        ],
        [
         "app-20220209224147-0004",
         24,
         "WholeStageCodegen (2)",
         "WholeStageCodegen (2)",
         3.06,
         833727,
         20,
         true,
         "33",
         "HashAggregate:Project:BroadcastHashJoin:Filter:ColumnarToRow",
         "21:22:23:24:25",
         false
        ],
        [
         "app-20220209224147-0004",
         24,
         "WholeStageCodegen (3)",
         "WholeStageCodegen (3)",
         3.49,
         758269,
         16,
         true,
         "36",
         "Filter:HashAggregate",
         "17:18",
         false
        ],
        [
         "app-20220209224147-0004",
         24,
         "BroadcastExchange",
         null,
         2.45,
         1463,
         35,
         true,
         null,
         null,
         null,
         false
        ],
        [
         "app-20220209224147-0004",
         24,
         "SubqueryBroadcast",
         null,
         2.45,
         1486,
         27,
         true,
         null,
         null,
         null,
         false
        ],
        [
         "app-20220209224147-0004",
         21,
         "Execute CreateViewCommand",
         null,
         1.0,
         0,
         0,
         false,
         null,
         null,
         null,
         false
        ],
        [
         "app-20220209224147-0004",
         24,
         "HashAggregate",
         null,
         3.23,
         0,
         18,
         true,
         "36",
         null,
         null,
         false
        ],
        [
         "app-20220209224147-0004",
         19,
         "Execute CreateViewCommand",
         null,
         1.0,
         0,
         0,
         false,
         null,
         null,
         null,
         false
        ],
        [
         "app-20220209224147-0004",
         24,
         "Project",
         null,
         2.45,
         0,
         9,
         true,
         null,
         null,
         null,
         false
        ],
        [
         "app-20220209224147-0004",
         24,
         "Project",
         null,
         2.45,
         0,
         52,
         true,
         null,
         null,
         null,
         false
        ],
        [
         "app-20220209224147-0004",
         24,
         "Filter",
         null,
         3.75,
         0,
         54,
         true,
         "34",
         null,
         null,
         false
        ],
        [
         "app-20220209224147-0004",
         24,
         "HashAggregate",
         null,
         3.23,
         0,
         21,
         true,
         "33",
         null,
         null,
         false
        ],
        [
         "app-20220209224147-0004",
         24,
         "ColumnarToRow",
         null,
         1.0,
         0,
         25,
         false,
         "33",
         null,
         null,
         true
        ],
        [
         "app-20220209224147-0004",
         24,
         "BroadcastHashJoin",
         null,
         2.82,
         0,
         53,
         true,
         "34",
         null,
         null,
         false
        ],
        [
         "app-20220209224147-0004",
         24,
         "BroadcastExchange",
         null,
         2.45,
         1424,
         58,
         true,
         null,
         null,
         null,
         false
        ],
        [
         "app-20220209224147-0004",
         4,
         "Execute CreateViewCommand",
         null,
         1.0,
         0,
         0,
         false,
         null,
         null,
         null,
         false
        ],
        [
         "app-20220209224147-0004",
         24,
         "ColumnarToRow",
         null,
         1.0,
         0,
         69,
         false,
         "38",
         null,
         null,
         true
        ],
        [
         "app-20220209224147-0004",
         22,
         "Execute CreateViewCommand",
         null,
         1.0,
         0,
         0,
         false,
         null,
         null,
         null,
         false
        ],
        [
         "app-20220209224147-0004",
         15,
         "Execute CreateViewCommand",
         null,
         1.0,
         0,
         0,
         false,
         null,
         null,
         null,
         false
        ],
        [
         "app-20220209224147-0004",
         24,
         "Project",
         null,
         2.45,
         0,
         11,
         true,
         null,
         null,
         null,
         false
        ],
        [
         "app-20220209224147-0004",
         24,
         "WholeStageCodegen (1)",
         "WholeStageCodegen (1)",
         1.0,
         567,
         30,
         true,
         "32",
         "Project:Filter:ColumnarToRow",
         "31:32:33",
         true
        ],
        [
         "app-20220209224147-0004",
         24,
         "ReusedExchange",
         null,
         1.0,
         0,
         28,
         true,
         null,
         null,
         null,
         true
        ],
        [
         "app-20220209224147-0004",
         23,
         "Execute CreateViewCommand",
         null,
         1.0,
         0,
         0,
         false,
         null,
         null,
         null,
         false
        ],
        [
         "app-20220209224147-0004",
         24,
         "Scan parquet",
         null,
         2.45,
         506,
         63,
         true,
         "31",
         null,
         null,
         false
        ],
        [
         "app-20220209224147-0004",
         24,
         "Project",
         null,
         2.45,
         0,
         31,
         true,
         null,
         null,
         null,
         true
        ],
        [
         "app-20220209224147-0004",
         24,
         "Exchange",
         null,
         2.78,
         7940,
         15,
         true,
         "36:37",
         null,
         null,
         false
        ],
        [
         "app-20220209224147-0004",
         24,
         "WholeStageCodegen (14)",
         "WholeStageCodegen (14)",
         11.51,
         172810,
         2,
         true,
         "39",
         "Project:SortMergeJoin",
         "3:4",
         false
        ],
        [
         "app-20220209224147-0004",
         6,
         "Execute CreateViewCommand",
         null,
         1.0,
         0,
         0,
         false,
         null,
         null,
         null,
         false
        ],
        [
         "app-20220209224147-0004",
         24,
         "ColumnarToRow",
         null,
         1.0,
         0,
         55,
         false,
         "34",
         null,
         null,
         true
        ],
        [
         "app-20220209224147-0004",
         24,
         "Sort",
         null,
         6.11,
         0,
         42,
         true,
         "37",
         null,
         null,
         false
        ],
        [
         "app-20220209224147-0004",
         24,
         "Scan parquet",
         null,
         2.45,
         548,
         34,
         true,
         "32",
         null,
         null,
         true
        ],
        [
         "app-20220209224147-0004",
         24,
         "Project",
         null,
         2.45,
         0,
         22,
         true,
         null,
         null,
         null,
         false
        ],
        [
         "app-20220209224147-0004",
         11,
         "Execute CreateViewCommand",
         null,
         1.0,
         0,
         0,
         false,
         null,
         null,
         null,
         false
        ],
        [
         "app-20220209224147-0004",
         24,
         "WholeStageCodegen (4)",
         "WholeStageCodegen (4)",
         6.11,
         412380,
         13,
         true,
         "37",
         "Sort",
         "14",
         false
        ],
        [
         "app-20220209224147-0004",
         7,
         "Execute CreateViewCommand",
         null,
         1.0,
         0,
         0,
         false,
         null,
         null,
         null,
         false
        ],
        [
         "app-20220209224147-0004",
         20,
         "Execute CreateViewCommand",
         null,
         1.0,
         0,
         0,
         false,
         null,
         null,
         null,
         false
        ],
        [
         "app-20220209224147-0004",
         24,
         "Filter",
         null,
         3.75,
         0,
         17,
         true,
         "36",
         null,
         null,
         false
        ],
        [
         "app-20220209224147-0004",
         24,
         "BroadcastExchange",
         null,
         2.45,
         1463,
         29,
         true,
         null,
         null,
         null,
         true
        ],
        [
         "app-20220209224147-0004",
         24,
         "Exchange",
         null,
         2.78,
         10244,
         49,
         true,
         "34:35",
         null,
         null,
         false
        ],
        [
         "app-20220209224147-0004",
         14,
         "Execute CreateViewCommand",
         null,
         1.0,
         0,
         0,
         false,
         null,
         null,
         null,
         false
        ],
        [
         "app-20220209224147-0004",
         0,
         "Execute CreateViewCommand",
         null,
         1.0,
         0,
         0,
         false,
         null,
         null,
         null,
         false
        ],
        [
         "app-20220209224147-0004",
         24,
         "Sort",
         null,
         6.11,
         0,
         14,
         true,
         "37",
         null,
         null,
         false
        ],
        [
         "app-20220209224147-0004",
         3,
         "Execute CreateViewCommand",
         null,
         1.0,
         0,
         0,
         false,
         null,
         null,
         null,
         false
        ],
        [
         "app-20220209224147-0004",
         24,
         "Exchange",
         null,
         2.78,
         130,
         66,
         true,
         "38:39",
         null,
         null,
         false
        ],
        [
         "app-20220209224147-0004",
         24,
         "Filter",
         null,
         3.75,
         0,
         61,
         true,
         "31",
         null,
         null,
         false
        ],
        [
         "app-20220209224147-0004",
         24,
         "Sort",
         null,
         6.11,
         0,
         6,
         true,
         "39",
         null,
         null,
         false
        ],
        [
         "app-20220209224147-0004",
         24,
         "Project",
         null,
         2.45,
         0,
         60,
         true,
         null,
         null,
         null,
         false
        ],
        [
         "app-20220209224147-0004",
         24,
         "WholeStageCodegen (11)",
         "WholeStageCodegen (11)",
         6.11,
         260804,
         5,
         true,
         "39",
         "Sort",
         "6",
         false
        ],
        [
         "app-20220209224147-0004",
         24,
         "SubqueryBroadcast",
         null,
         2.45,
         1486,
         57,
         true,
         null,
         null,
         null,
         false
        ],
        [
         "app-20220209224147-0004",
         24,
         "Exchange",
         null,
         2.78,
         16148,
         19,
         true,
         "33:36",
         null,
         null,
         false
        ]
       ],
       "datasetInfos": [],
       "dbfsResultPath": null,
       "isJsonSchema": true,
       "metadata": {},
       "overflow": false,
       "plotOptions": {
        "customPlotOptions": {},
        "displayType": "table",
        "pivotAggregation": null,
        "pivotColumns": null,
        "xColumns": null,
        "yColumns": null
       },
       "removedWidgets": [],
       "schema": [
        {
         "metadata": "{}",
         "name": "App ID",
         "type": "\"string\""
        },
        {
         "metadata": "{}",
         "name": "SQL ID",
         "type": "\"long\""
        },
        {
         "metadata": "{}",
         "name": "Exec Name",
         "type": "\"string\""
        },
        {
         "metadata": "{}",
         "name": "Expression Name",
         "type": "\"string\""
        },
        {
         "metadata": "{}",
         "name": "Task Speedup Factor",
         "type": "\"double\""
        },
        {
         "metadata": "{}",
         "name": "Exec Duration",
         "type": "\"long\""
        },
        {
         "metadata": "{}",
         "name": "SQL Node Id",
         "type": "\"long\""
        },
        {
         "metadata": "{}",
         "name": "Exec Is Supported",
         "type": "\"boolean\""
        },
        {
         "metadata": "{}",
         "name": "Exec Stages",
         "type": "\"string\""
        },
        {
         "metadata": "{}",
         "name": "Exec Children",
         "type": "\"string\""
        },
        {
         "metadata": "{}",
         "name": "Exec Children Node Ids",
         "type": "\"string\""
        },
        {
         "metadata": "{}",
         "name": "Exec Should Remove",
         "type": "\"boolean\""
        }
       ],
       "type": "table"
      }
     },
     "output_type": "display_data"
    }
   ],
   "source": [
    "execs_output=pd.read_csv(os.path.join(output_folder, \"rapids_4_spark_qualification_output_execs.csv\"))\n",
    "display(execs_output)"
   ]
  }
 ],
 "metadata": {
  "application/vnd.databricks.v1+notebook": {
   "dashboards": [
    {
     "elements": [],
     "globalVars": {},
     "guid": "",
     "layoutOption": {
      "grid": true,
      "stack": true
     },
     "nuid": "91c1bfb2-695a-4e5c-8a25-848a433108dc",
     "origId": 556902937009666,
     "title": "Executive View",
     "version": "DashboardViewV1",
     "width": 1600
    },
    {
     "elements": [],
     "globalVars": {},
     "guid": "",
     "layoutOption": {
      "grid": true,
      "stack": true
     },
     "nuid": "62243296-4562-4f06-90ac-d7a609f19c16",
     "origId": 556902937009667,
     "title": "App View",
     "version": "DashboardViewV1",
     "width": 1920
    }
   ],
   "language": "python",
   "notebookMetadata": {
    "mostRecentlyExecutedCommandWithImplicitDF": {
     "commandId": 556902937009671,
     "dataframes": [
      "_sqldf"
     ]
    },
    "pythonIndentUnit": 2,
    "widgetLayout": [
     {
      "breakBefore": false,
      "name": "log_path",
      "width": 551
     },
     {
      "breakBefore": false,
      "name": "output_path",
      "width": 551
     }
    ]
   },
   "notebookName": "[RAPIDS Accelerator for Apache Spark] Qualification User Tool Notebook Template",
   "widgets": {
    "csp": {
     "currentValue": "aws",
     "nuid": "c75636ae-f875-4022-98b5-14dbe4ac9957",
     "widgetInfo": {
      "widgetType": "dropdown",
      "defaultValue": "aws",
      "label": null,
      "name": "csp",
      "options": {
       "widgetType": "dropdown",
       "choices": [
        "aws",
        "azure"
       ]
      }
     }
    },
    "log_path": {
     "currentValue": "/dbfs/user1/qualification_logs",
     "nuid": "88986aa6-6e67-4d09-aeeb-7c96ea1ea8f1",
     "widgetInfo": {
      "widgetType": "text",
      "defaultValue": "",
      "label": null,
      "name": "log_path",
      "options": {
       "widgetType": "text",
       "validationRegex": null
      }
     }
    },
    "output_path": {
     "currentValue": "/tmp",
     "nuid": "0b9846bd-5c3e-4ae2-ba00-80bb9da1ee32",
     "widgetInfo": {
      "widgetType": "text",
      "defaultValue": "",
      "label": null,
      "name": "output_path",
      "options": {
       "widgetType": "text",
       "validationRegex": null
      }
     }
    }
   }
  },
  "language_info": {
   "name": "python"
  }
 },
 "nbformat": 4,
 "nbformat_minor": 0
}
